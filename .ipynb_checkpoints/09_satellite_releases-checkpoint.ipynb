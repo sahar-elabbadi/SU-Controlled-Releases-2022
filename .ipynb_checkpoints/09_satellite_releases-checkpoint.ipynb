{
 "cells": [
  {
   "cell_type": "markdown",
   "metadata": {},
   "source": [
    "# Notebook for Evan - Generating Satellite Releases\n",
    "Code Author: Sahar El Abbadi\n",
    "Date: 2023-04-04\n"
   ]
  },
  {
   "cell_type": "code",
   "execution_count": 1,
   "metadata": {},
   "outputs": [],
   "source": [
    "# Setup\n",
    "\n",
    "# imports\n",
    "import pandas as pd\n",
    "import datetime\n",
    "from methods_source import calc_average_release"
   ]
  },
  {
   "cell_type": "markdown",
   "metadata": {},
   "source": [
    "## Satellite release dataframe\n",
    "Create satellite release summary file with timestamps as datetime objects in UTC. The start and stop times of the relases will be used as inputs to the calc_average_releases function.\n",
    "\n",
    "Dummy dataset includes one example time period when we have no release record (e.g. satellite release occurred on a weekend, and there is no meter file for the date in question), and one release where we have a metered data file for the time period in question."
   ]
  },
  {
   "cell_type": "code",
   "execution_count": 2,
   "metadata": {},
   "outputs": [],
   "source": [
    "# Dummy dataframe to be filled with satellite data\n",
    "# Use UTC for start and end timestamps\n",
    "satellite_timestamps = pd.DataFrame({\n",
    "    'release_id': [1, 2],\n",
    "    'satellite': ['Test1', 'Test2'],\n",
    "    'team_analyzing': ['Luis', 'Maxar']\n",
    "    'start_release':[datetime.datetime(2022, 10, 15, 18, 16, 10), datetime.datetime(2022, 10, 25, 17, 44, 22)],\n",
    "    'end_release': [datetime.datetime(2022, 10, 15, 18, 36, 00), datetime.datetime(2022, 10, 25, 18, 10, 00)],\n",
    "})"
   ]
  },
  {
   "cell_type": "markdown",
   "metadata": {},
   "source": [
    "## Calculate the gas flow rate during release periods\n",
    "\n",
    "Use calc_average_releases function to generate gas flow profile for each time period of interest. Here, I apply the function to each row in the satellite_releases dataframe, although other methods may be used as well.\n",
    "\n",
    "Function inputs:\n",
    "- start_t: datetime object in UTC\n",
    "- stop_t: datetime object in UTC\n",
    "\n",
    "Notes:\n",
    "- Function will return an error message if start_t and stop_t are on different dates (ie you cannot calculate the average flow rate if they straddle different days of testing)\n",
    "- Function will return an error message if start_t is chronologically after stop_t\n",
    "- If start_t and end_t occur on a date for which we do not have metered data, function will output values for a zero release (flow rate of 0 kgh, uncertainty of 0, meter and gas composition of np.nan)\n",
    "\n",
    "Function outputs a Python dictionary with the following keys:\n",
    "- gas_kgh_mean: mean gas flow rate over the time period of interest, as whole gas\n",
    "- gas_kgh_sigma: standard deviation of the meter reading over the period of interest, as whole gas. This value represents the physical variability in the flow rate.\n",
    "- meter_sigma: the standard deviation calculated based on the uncertainty in the meter reading for the flow rate during the period in question. Emerson reports uncertainty as a percentage of flow rate, and the function converts this value to a sigma value with units of kgh whole gas\n",
    "- ch4_fraction_{gas_comp_source}: the fraction methane based on the input source for gas composition. Gas composition can be 'su_normalized', 'su_raw', or 'km'. See other documentation for additional details. This value is averaged over the time period of interest, although unless the trailer was changed mid-release, value is expected to be constant\n",
    "- ch4_fraction{gas_comp_source}_sigma: the sigma value associated with the gas composition, representative of the uncertainty associated with measurements of methane mole fraction.\n",
    "- ch4_kgh_mean: mean methane flow rate, calculated from the gas flow rate and methane mole fraction\n",
    "- cg4_kgh_sigma: total uncertainty in the methane flow rate. This value combines physical variability in gas flow rate (gas_kgh_sigma) with uncertainty in the meter reading (meter_sigma) and uncertainty in gas composition (ch4_fraction_{gas_comp_source}_sigma."
   ]
  },
  {
   "cell_type": "code",
   "execution_count": 3,
   "metadata": {},
   "outputs": [
    {
     "name": "stdout",
     "output_type": "stream",
     "text": [
      "   release_id satellite       start_release         end_release  gas_kgh_mean  \\\n",
      "0           1     Test1 2022-10-15 18:16:10 2022-10-15 18:36:00      0.000000   \n",
      "1           2     Test2 2022-10-25 17:44:22 2022-10-25 18:10:00   1025.589677   \n",
      "\n",
      "   gas_kgh_sigma  meter_sigma  ch4_fraction_km  ch4_fraction_km_sigma  \\\n",
      "0       0.000000          NaN              NaN                    NaN   \n",
      "1      99.868814     1.310053         0.950644               0.001366   \n",
      "\n",
      "   ch4_kgh_mean  ch4_kgh_sigma  \n",
      "0           NaN            NaN  \n",
      "1    974.970673      94.958189  \n"
     ]
    }
   ],
   "source": [
    "# Run function to determine flow rates for each release\n",
    "\n",
    "release_rates =[]\n",
    "\n",
    "for index, release in satellite_timestamps.iterrows():\n",
    "    start_t = release.start_release\n",
    "    end_t = release.end_release\n",
    "    release_details = calc_average_release(start_t, end_t)\n",
    "    release_rates.append(release_details)\n",
    "\n",
    "final_releases = pd.DataFrame(release_rates)\n",
    "summary = pd.concat([satellite_timestamps, final_releases], axis=1)\n",
    "\n",
    "print(summary)"
   ]
  },
  {
   "cell_type": "code",
   "execution_count": 3,
   "metadata": {},
   "outputs": [],
   "source": []
  }
 ],
 "metadata": {
  "kernelspec": {
   "display_name": "Python 3 (ipykernel)",
   "language": "python",
   "name": "python3"
  },
  "language_info": {
   "codemirror_mode": {
    "name": "ipython",
    "version": 3
   },
   "file_extension": ".py",
   "mimetype": "text/x-python",
   "name": "python",
   "nbconvert_exporter": "python",
   "pygments_lexer": "ipython3",
   "version": "3.10.10"
  }
 },
 "nbformat": 4,
 "nbformat_minor": 1
}
