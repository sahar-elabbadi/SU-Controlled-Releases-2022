{
 "cells": [
  {
   "cell_type": "markdown",
   "source": [
    "# Process Measurement Station meter data\n",
    "\n",
    "- Code Author: Sahar H El Abbadi\n",
    "- Date Created: 2023-03-29\n",
    "- Last Edited: 2023-03-29\n",
    "\n",
    "Code to extract select Kinder Morgan pipeline data and calculated associated uncertainty\n"
   ],
   "metadata": {
    "collapsed": false
   }
  },
  {
   "cell_type": "code",
   "execution_count": 1,
   "outputs": [],
   "source": [
    "# Imports\n",
    "import pandas as pd\n",
    "import pathlib\n",
    "import datetime\n",
    "\n",
    "# Load data\n",
    "km_df = pd.read_csv (pathlib.PurePath('02_meter_data', 'km_gas_comp_all_days.csv'), parse_dates=['datetime'])\n",
    "\n",
    "# Load gas composition spreadsheet that contains refill dates and the su_raw and su_normalized values\n",
    "import_cols = ['refill_no', 'rawhide_refill_date', 'start_utc', 'end_utc', 'notes', 'su_notes', 'km_composition_date', 'su_raw', 'su_normalized']\n",
    "gas_comp_summary = pd.read_csv(pathlib.PurePath('02_meter_data', 'gas_comp_clean_su.csv'),\n",
    "                               nrows=15, usecols=import_cols, parse_dates=['start_utc', 'end_utc'])"
   ],
   "metadata": {
    "collapsed": false
   }
  },
  {
   "cell_type": "markdown",
   "source": [
    "## KM gas composition: mean and standard deviation\n",
    "\n",
    "#### Mean Calculations\n",
    "KM provided data for two taps that fed into the filling location. As a conservative estimate and to account for latency in gas refill system (ie if gas is stored onsite for several days prior to use), we calculate a five-day average for mean gas composition. First, we calculate a daily average across the two taps. Next, we average the daily value across five days, inclusive of the refill date as the final day. Thus, for a gas refill on October 5th, we average gas composition from October 1st through October 5th.\n",
    "\n",
    "#### Standard Deviation calculations\n",
    "We calculate the standard deviation (1-sigma) using the same approach as for calculating the mean"
   ],
   "metadata": {
    "collapsed": false
   }
  },
  {
   "cell_type": "code",
   "execution_count": 2,
   "outputs": [],
   "source": [
    "# Calculate average gas composition across the two taps\n",
    "km_df['tap_mean'] = km_df[['tap_1', 'tap_2']].mean(axis=1)\n",
    "\n",
    "# Calculate the average gas composition over five days: the gas refill day, and the four days prior\n",
    "km_gas_comp_mean = {}\n",
    "for index, row in gas_comp_summary.iterrows():\n",
    "    refill_no = row['refill_no']\n",
    "    km_composition_date = row['km_composition_date']\n",
    "    # km_composition_date is the end time for averaging\n",
    "    end_t = datetime.datetime.strptime(km_composition_date, '%Y-%m-%d')\n",
    "    delta_t = pd.Timedelta(days=4)\n",
    "    start_t = end_t - delta_t\n",
    "\n",
    "    # Select averaging period\n",
    "    time_mask = (km_df['datetime'] >= start_t) & (km_df['datetime'] <= end_t)\n",
    "    ave_period = km_df.loc[time_mask].copy()\n",
    "\n",
    "    # Calculate mean and sigma values\n",
    "    ave_period_mean = ave_period['tap_mean'].mean()\n",
    "    ave_period_sigma = ave_period['tap_mean'].std()\n",
    "\n",
    "    # Save in dictionary\n",
    "    km_gas_comp_mean[refill_no] = [refill_no, ave_period_mean, ave_period_sigma]\n",
    "\n",
    "# Merge the average gas composition with the gas_comp_clean_su_km\n",
    "km_gas_comp_mean = pd.DataFrame.from_dict(km_gas_comp_mean, orient='index',\n",
    "                                          columns=['refill_no', 'km', 'km_sigma'])\n",
    "gas_comp_summary = gas_comp_summary.merge(km_gas_comp_mean, on='refill_no')"
   ],
   "metadata": {
    "collapsed": false
   }
  },
  {
   "cell_type": "markdown",
   "source": [
    "## SU gas composition: mean and standard deviation\n",
    "\n",
    "The Stanford team collected one or two gas samples from each truck refill. Samples were collected using canisters provided by Eurofins AirToxics laboratory in Fulsom (CA), where laboratory compositional analysis was conducted. We excluded results where canisters arrived at the laboratory with vacuum level exceeding 15 inches of mercury. Where multiple samples were available, we take the average of the two. Where samples were missing, we take the average of the samples taken on immediately before and after the missing sample dates.\n",
    "\n",
    "Eurofins AirToxics Laboratory used Modified ASTM D-1945 to analyze samples using a gas chromatograph with two detectors, a flame ionization detector (FID) and a thermal conductivity detector (TCD). Quantification was conducted on the following: oxygen, nitrogen, carbon monoxide, methane, carbon dioxide, ethane, ethene, acetylene, propane, isobutane, butane, neopentane, isopoentane, pentane.\n",
    "\n",
    "In the report provided by Eurofins Air Toxins Laboratory, the sum of the individual constituents of the gas sample provided was greater than 100%. Additionally, several samples included values for percent methane which were 100%, which does not align with typical values observed for compressed natural gas. Furthermore, percent recovery for quality control standards run with experimental samples ranged from 95% to 101%, potentially indicative of variability associated with sample loss during measurement.\n",
    "\n",
    "\n",
    "##### SU Raw:\n",
    "Here, we use raw values reported by Eurofins Air Toxins laboratory for gas composition, with averages as described above.\n",
    "\n",
    "##### Su Normalized:\n",
    "Here, we normalize the gas compositional values such that the sum of all components is 100%.\n",
    "\n",
    "## Uncertainty in Eurofins Analysis\n",
    "\n",
    "Eurofins AirToxics Laboratory provided quality control data for all internal standards analyzed on the gas chromatographs used for analyzing Stanford's samples, over the time period most aligned with when Stanford sample analysis was being conducted.\n",
    "\n",
    "Eurofins AirToxics uses samples of known composition as quality control standards, and measures the percent recovery. Samples at Stanford were analyzed from October 28th, 2022 through December 9th, 2022. Eurofins provided quality control data for Q4 of 2022, which includes all standards analyzed from November 21, 2022 through February 21, 2023. During this period, the 95% confidence interval for methane percent recovery was 92% to 101%, corresponding to a 2-sigma value of 4.5%.\n",
    "\n",
    "Eurofins did have information to allow us to account for the systematic bias observed in measurements associated with percent recoveries of standards not equal to 100% .\n",
    "\n",
    "Due to the high level of uncertainty associated with the Eurofins measurements, we use Kinder Morgan analysis as default values."
   ],
   "metadata": {
    "collapsed": false
   }
  },
  {
   "cell_type": "code",
   "execution_count": 3,
   "outputs": [],
   "source": [
    "# Add uncertainty associated with su_raw and su_normalized values\n",
    "\n",
    "two_sigma = 0.045\n",
    "gas_comp_summary['su_raw_sigma'] = two_sigma/2\n",
    "gas_comp_summary['su_normalized_sigma'] = two_sigma/2"
   ],
   "metadata": {
    "collapsed": false
   }
  },
  {
   "cell_type": "code",
   "execution_count": 4,
   "outputs": [],
   "source": [
    "# Save values\n",
    "\n",
    "gas_comp_summary.to_csv(pathlib.PurePath('02_meter_data', 'gas_comp_clean_su_km.csv'))"
   ],
   "metadata": {
    "collapsed": false
   }
  },
  {
   "cell_type": "code",
   "execution_count": 30,
   "outputs": [],
   "source": [
    "import pandas as pd\n",
    "# from methods_source import select_methane_fraction, calc_meter_uncertainty\n",
    "# all_days = ['10_10', '10_11', '10_12', '10_13', '10_14', '10_17', '10_18', '10_19', '10_24', '10_25', '10_26', '10_27', '10_28', '10_29', '10_30', '10_31', '11_01', '11_02', '11_03', '11_04', '11_07', '11_08', '11_10', '11_11', '11_14', '11_15', '11_16', '11_17', '11_18', '11_21', '11_22', '11_23', '11_28', '11_29', '11_30']\n",
    "#\n",
    "# for day in all_days:\n",
    "#     # Load file for the selected day\n",
    "#     month = day[0:2]\n",
    "#     date = day[3:5]\n",
    "#     col_names = ['datetime_utc', 'whole_gas_kgh', 'meter', 'data_qc']\n",
    "#     daily_file = pd.read_excel(pathlib.PurePath('02_meter_data', 'daily_meter_data', 'whole_gas_raw', f'{month}_{date}.xlsx'), names=col_names, parse_dates = [0])\n",
    "#\n",
    "#     # Abbreviate meter names in raw meter file to be compatible with other functions\n",
    "#     names = ['Baby Coriolis', 'Mama Coriolis', 'Papa Coriolis']\n",
    "#     nicknames = ['bc', 'mc', 'pc']\n",
    "#     for meter_name, meter_nickname in zip(names, nicknames):\n",
    "#         daily_file.loc[daily_file['meter'] == meter_name, 'meter'] = meter_nickname\n",
    "#\n",
    "#     # Create storage array for new rows\n",
    "#     daily_log = []\n",
    "#\n",
    "#     for index, row in daily_file.iterrows():\n",
    "#         meter = row['meter']\n",
    "#         whole_gas_kgh = row['whole_gas_kgh']\n",
    "#         datetime_utc = row['datetime_utc']\n",
    "#         fraction_methane, fraction_methane_sigma = select_methane_fraction(datetime_utc, gas_comp_source='km')\n",
    "#         data_qc = row['data_qc']\n",
    "#\n",
    "#         # when meters aren't reading, set everything to pd.NA\n",
    "#         if (pd.isna(meter)) or (pd.isna(whole_gas_kgh)):\n",
    "#             meter = pd.NA\n",
    "#             meter_sigma = pd.NA\n",
    "#             whole_gas_kgh = pd.NA\n",
    "#             fraction_methane = pd.NA\n",
    "#             fraction_methane_sigma = pd.NA\n",
    "#             methane_kgh = pd.NA\n",
    "#             meter_percent_uncertainty = pd.NA\n",
    "#\n",
    "#         # for zero readings, set everything to 0\n",
    "#         elif whole_gas_kgh == 0:\n",
    "#             meter = 'None'\n",
    "#             meter_sigma = 0\n",
    "#             whole_gas_kgh = 0\n",
    "#             fraction_methane_sigma = 0\n",
    "#             methane_kgh = 0\n",
    "#             meter_percent_uncertainty = 0\n",
    "#\n",
    "#         # for non-zero and non-NAN values, calculate all values:\n",
    "#         else:\n",
    "#             methane_kgh = whole_gas_kgh * fraction_methane\n",
    "#             meter_percent_uncertainty = calc_meter_uncertainty(meter, whole_gas_kgh)\n",
    "#             meter_sigma = meter_percent_uncertainty / 100 / 1.96 * whole_gas_kgh\n",
    "#\n",
    "#         new_row = {\n",
    "#             'datetime_utc': datetime_utc,\n",
    "#             'meter': meter,\n",
    "#             'meter_percent_uncertainty': meter_percent_uncertainty,\n",
    "#             'meter_sigma': meter_sigma,\n",
    "#             'whole_gas_kgh': whole_gas_kgh,\n",
    "#             'fraction_methane': fraction_methane,\n",
    "#             'fraction_methane_sigma': fraction_methane_sigma,\n",
    "#             'methane_kgh': methane_kgh,\n",
    "#             'data_qc': data_qc,\n",
    "#         }\n",
    "#\n",
    "#         daily_log.append(new_row)\n",
    "#     daily_meter_file = pd.DataFrame(daily_log)\n",
    "#     daily_meter_file.to_csv(pathlib.PurePath('02_meter_data', 'daily_meter_data', 'whole_gas_clean', f'{day}.csv'), na_rep='NA')"
   ],
   "metadata": {
    "collapsed": false
   }
  },
  {
   "cell_type": "code",
   "execution_count": 2,
   "outputs": [
    {
     "name": "stdout",
     "output_type": "stream",
     "text": [
      "Number of rows that were NA in the average period: 0\n",
      "gas std: 0.06896714533943814\n",
      "methane fraction sigma: 0.0016174275550494\n",
      "meter sigma gas: 0.039565234708740606\n"
     ]
    },
    {
     "data": {
      "text/plain": "{'ch4_kgh_mean': 6.612948731013749, 'ch4_kgh_sigma': 0.07532125880511012}"
     },
     "execution_count": 2,
     "metadata": {},
     "output_type": "execute_result"
    }
   ],
   "source": [
    "import pandas as pd\n",
    "import datetime\n",
    "from methods_source import calc_average_release\n",
    "start_t = datetime.datetime(2022, 10, 10, 17, 13, 15)\n",
    "stop_t = datetime.datetime(2022, 10, 10, 17, 14, 15)\n",
    "calc_average_release(start_t, stop_t)\n",
    "\n",
    "# def calc_average_release(start_t, stop_t):\n",
    "#     \"\"\" Calculate the average flow rate and associated uncertainty given a start and stop time.\n",
    "#     Inputs:\n",
    "#       - start_t, stop_t are datetime objects\n",
    "#\n",
    "#     Outputs:\n",
    "#       - Dictionary containing keys for \"ch4_kgh_mean and ch4_kgh_sigma\n",
    "#       - ch4_kgh_mean is the mean methane release rate over the period\n",
    "#       - ch4_kgh_sigma is the sigma value that combines uncertainty associated with: 1) variability of flow rate over the time period being analyzed 2) meter reading 3) variability in gas composition\"\"\"\n",
    "#\n",
    "#     if start_t.date() != stop_t.date():\n",
    "#         print('Do not attempt to calculate average flow across multiple dates. Please consider a new start or end time.')\n",
    "#     else:\n",
    "#         # Load data\n",
    "#         file_name = start_t.strftime('%m_%d')\n",
    "#         file_path = pathlib.PurePath('02_meter_data', 'daily_meter_data', 'whole_gas_clean', f'{file_name}.csv')\n",
    "#\n",
    "#         # Select data for averaging\n",
    "#         meter_data = pd.read_csv(file_path, index_col=0, parse_dates=['datetime_utc'])\n",
    "#         time_ave_mask = (meter_data['datetime_utc'] > start_t) & (meter_data['datetime_utc'] <= stop_t)\n",
    "#         average_period = meter_data.loc[time_ave_mask].copy()\n",
    "#         length_before_drop_na = len(average_period)\n",
    "#\n",
    "#         # Drop rows with NA values\n",
    "#         average_period.dropna(axis='index', inplace=True, thresh=7)\n",
    "#         length_after_drop_na = len(average_period)\n",
    "#         print(f'Number of rows that were NA in the average period: {length_before_drop_na - length_after_drop_na}')\n",
    "#\n",
    "#         # Calculate mean and standard deviation for gas flow rate and ch4 flow rate\n",
    "#         ch4_kgh_mean = average_period['methane_kgh'].mean()\n",
    "#         gas_kgh_mean = average_period['whole_gas_kgh'].mean()\n",
    "#         gas_kgh_sigma = average_period['whole_gas_kgh'].std()\n",
    "#         print(f'gas std: {gas_kgh_sigma}')\n",
    "#\n",
    "#         # Calculate the mean methane fraction in case average_period straddles a period when the truck was changed\n",
    "#         methane_fraction_mean = average_period[f'fraction_methane'].mean()\n",
    "#         methane_fraction_sigma = average_period[f'fraction_methane_sigma'].mean()\n",
    "#         print(f'methane fraction sigma: {methane_fraction_sigma}')\n",
    "#\n",
    "#         # Calculate the meter reading uncertainty for the mean gas flow rate\n",
    "#         meter_sigma = average_period['meter_sigma'].mean()\n",
    "#         print(f'meter sigma gas: {meter_sigma}')\n",
    "#\n",
    "#         # Combine sigma values\n",
    "#\n",
    "#         if ch4_kgh_mean == 0:\n",
    "#             sigma_kgh_ch4 = 0\n",
    "#         else:\n",
    "#             # Combine uncertainties associated with variability in gas flow rate and meter uncertainty\n",
    "#             gas_sigma = sum_of_quadrature(gas_kgh_sigma, meter_sigma)\n",
    "#\n",
    "#             # Combine uncertainty associated with gas flow rate (flow variability and meter reading) with the uncertainty associated with variability in gas composition.\n",
    "#             # Because we multiply gas composition by gas flow rate, use sum of quadrature on the relative uncertainty values:\n",
    "#\n",
    "#             relative_gas_sigma = gas_sigma / gas_kgh_mean\n",
    "#             relative_gas_comp_sigma = methane_fraction_sigma / methane_fraction_mean\n",
    "#\n",
    "#             ch4_kgh_sigma = sum_of_quadrature(relative_gas_sigma, relative_gas_comp_sigma) * ch4_kgh_mean\n",
    "#\n",
    "#     results_summary = {\n",
    "#         'ch4_kgh_mean': ch4_kgh_mean,\n",
    "#         'ch4_kgh_sigma': ch4_kgh_sigma,\n",
    "#     }\n",
    "#     return results_summary\n",
    "\n",
    "# Return a dictionary with keys: ch4_kgh_mean, ch4_kgh_sigma,"
   ],
   "metadata": {
    "collapsed": false
   }
  },
  {
   "cell_type": "code",
   "execution_count": null,
   "outputs": [],
   "source": [],
   "metadata": {
    "collapsed": false
   }
  }
 ],
 "metadata": {
  "kernelspec": {
   "display_name": "Python 3",
   "language": "python",
   "name": "python3"
  },
  "language_info": {
   "codemirror_mode": {
    "name": "ipython",
    "version": 2
   },
   "file_extension": ".py",
   "mimetype": "text/x-python",
   "name": "python",
   "nbconvert_exporter": "python",
   "pygments_lexer": "ipython2",
   "version": "2.7.6"
  }
 },
 "nbformat": 4,
 "nbformat_minor": 0
}
