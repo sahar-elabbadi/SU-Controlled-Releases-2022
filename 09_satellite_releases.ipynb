{
 "cells": [
  {
   "cell_type": "markdown",
   "metadata": {},
   "source": [
    "# Notebook for Evan - Generating Satellite Releases\n",
    "Code Author: Sahar El Abbadi\n",
    "Date: 2023-04-04\n"
   ]
  },
  {
   "cell_type": "code",
   "execution_count": 17,
   "metadata": {},
   "outputs": [],
   "source": [
    "# Setup\n",
    "\n",
    "# imports\n",
    "import pandas as pd\n",
    "import datetime\n",
    "import pathlib\n",
    "from datetime import timedelta\n",
    "from methods_source import calc_average_release"
   ]
  },
  {
   "cell_type": "markdown",
   "metadata": {},
   "source": [
    "## Satellite release dataframe\n",
    "Create satellite release summary file with timestamps as datetime objects in UTC. The start and stop times of the relases will be used as inputs to the calc_average_releases function.\n",
    "\n",
    "Dummy dataset includes one example time period when we have no release record (e.g. satellite release occurred on a weekend, and there is no meter file for the date in question), and one release where we have a metered data file for the time period in question."
   ]
  },
  {
   "cell_type": "markdown",
   "source": [
    "Import satellite data"
   ],
   "metadata": {
    "collapsed": false,
    "pycharm": {
     "name": "#%% md\n"
    }
   }
  },
  {
   "cell_type": "code",
   "execution_count": 105,
   "outputs": [
    {
     "data": {
      "text/plain": "       Team   Satellite                              PerformerExperimentID  \\\n0    GHGSat  Sentinel-2  94e765d9-f8fd-49b0-9851-57cbd7dcb4b6 - 10/26/2022   \n1    GHGSat  Sentinel-2  94e765d9-f8fd-49b0-9851-57cbd7dcb4b6 - 10/26/2022   \n2    GHGSat  Sentinel-2  94e765d9-f8fd-49b0-9851-57cbd7dcb4b6 - 10/26/2022   \n3    GHGSat  Sentinel-2  94e765d9-f8fd-49b0-9851-57cbd7dcb4b6 – 11/08/2022   \n4    GHGSat  Sentinel-2  94e765d9-f8fd-49b0-9851-57cbd7dcb4b6 – 11/15/2022   \n..      ...         ...                                                ...   \n198   Orbio  Sentinel-2                                                  2   \n199   Orbio  Sentinel-2                                                  3   \n200   Orbio  Sentinel-2                                                  4   \n201   Orbio  Sentinel-2                                                  5   \n202   Orbio  Sentinel-2                                                  6   \n\n    FacilityID  EquipmentUnitID        DateOfSurvey  \\\n0            1              1.0 2022-10-18 17:49:00   \n1            1              1.0 2022-10-26 18:14:48   \n2            1              1.0 2022-11-05 18:14:40   \n3            1              1.0 2022-11-08 18:24:30   \n4            1              1.0 2022-11-15 18:14:28   \n..         ...              ...                 ...   \n198          1              1.0 2022-11-08 00:00:00   \n199          1              1.0 2022-11-15 00:00:00   \n200          1              1.0 2022-11-18 00:00:00   \n201          1              1.0 2022-11-25 00:00:00   \n202          1              1.0 2022-11-28 00:00:00   \n\n    Timestamp (hyperspectral technologies only) StartTime EndTime SurveyTime  \\\n0                                      17:49:00       NaN     NaN        NaN   \n1                           2022-10-26 18:14:48       NaN     NaN        NaN   \n2                                      18:14:40       NaN     NaN        NaN   \n3                           2022-11-08 18:24:30       NaN     NaN        NaN   \n4                           2022-11-15 18:14:28       NaN     NaN        NaN   \n..                                          ...       ...     ...        ...   \n198                                    18:25:05       NaN     NaN        NaN   \n199                                    18:15:08       NaN     NaN        NaN   \n200                                    18:25:03       NaN     NaN        NaN   \n201                                    18:15:05       NaN     NaN        NaN   \n202                                    18:25:01       NaN     NaN        NaN   \n\n     ... WindSpeedUncertaintyType WindDirection  \\\n0    ...                 Excluded      Excluded   \n1    ...                      NaN           NaN   \n2    ...                 Excluded      Excluded   \n3    ...                      NaN           NaN   \n4    ...                      NaN           NaN   \n..   ...                      ...           ...   \n198  ...                      NaN    218.700626   \n199  ...                      NaN    312.276679   \n200  ...                      NaN    257.957679   \n201  ...                      NaN     14.320893   \n202  ...                      NaN           NaN   \n\n    NumberOfEmissionSourcesReported  \\\n0                               NaN   \n1                               NaN   \n2                               NaN   \n3                               NaN   \n4                               NaN   \n..                              ...   \n198                             NaN   \n199                             NaN   \n200                             NaN   \n201                             NaN   \n202                             NaN   \n\n                                                 Notes  \\\n0    Release cancelled by Stanford due to system ma...   \n1                                                  NaN   \n2    Release cancelled by Stanford due to personnel...   \n3                                                  NaN   \n4                                                  NaN   \n..                                                 ...   \n198                                                NaN   \n199                                                NaN   \n200                                                NaN   \n201                                                NaN   \n202                                                NaN   \n\n                                           Data source  QC QC_lax  \\\n0                                                  NaN  SE     OK   \n1    DataReportingTemplate_AerialAppendix_GHGSat_S2...  OK     OK   \n2                                                  NaN  SE     SE   \n3    DataReportingTemplate_AerialAppendix_GHGSat_S2...  OK     OK   \n4    DataReportingTemplate_AerialAppendix_GHGSat_S2...  OK     OK   \n..                                                 ...  ..    ...   \n198              2022_OrbioEarth_satellite_report.xlsx  OK     OK   \n199              2022_OrbioEarth_satellite_report.xlsx  OK     OK   \n200              2022_OrbioEarth_satellite_report.xlsx  OK     OK   \n201              2022_OrbioEarth_satellite_report.xlsx  OK     OK   \n202              2022_OrbioEarth_satellite_report.xlsx  OK     OK   \n\n          DateTime (UTC)         end_release       start_release  \n0    10/18/2022 17:49:00 2022-10-18 17:49:00 2022-10-18 17:44:00  \n1    10/26/2022 18:14:48 2022-10-26 18:14:48 2022-10-26 18:09:48  \n2    11/05/2022 18:14:40 2022-11-05 18:14:40 2022-11-05 18:09:40  \n3    11/08/2022 18:24:30 2022-11-08 18:24:30 2022-11-08 18:19:30  \n4    11/15/2022 18:14:28 2022-11-15 18:14:28 2022-11-15 18:09:28  \n..                   ...                 ...                 ...  \n198  11/08/2022 18:25:05 2022-11-08 18:25:05 2022-11-08 18:20:05  \n199  11/15/2022 18:15:08 2022-11-15 18:15:08 2022-11-15 18:10:08  \n200  11/18/2022 18:25:03 2022-11-18 18:25:03 2022-11-18 18:20:03  \n201  11/25/2022 18:15:05 2022-11-25 18:15:05 2022-11-25 18:10:05  \n202  11/28/2022 18:25:01 2022-11-28 18:25:01 2022-11-28 18:20:01  \n\n[203 rows x 28 columns]",
      "text/html": "<div>\n<style scoped>\n    .dataframe tbody tr th:only-of-type {\n        vertical-align: middle;\n    }\n\n    .dataframe tbody tr th {\n        vertical-align: top;\n    }\n\n    .dataframe thead th {\n        text-align: right;\n    }\n</style>\n<table border=\"1\" class=\"dataframe\">\n  <thead>\n    <tr style=\"text-align: right;\">\n      <th></th>\n      <th>Team</th>\n      <th>Satellite</th>\n      <th>PerformerExperimentID</th>\n      <th>FacilityID</th>\n      <th>EquipmentUnitID</th>\n      <th>DateOfSurvey</th>\n      <th>Timestamp (hyperspectral technologies only)</th>\n      <th>StartTime</th>\n      <th>EndTime</th>\n      <th>SurveyTime</th>\n      <th>...</th>\n      <th>WindSpeedUncertaintyType</th>\n      <th>WindDirection</th>\n      <th>NumberOfEmissionSourcesReported</th>\n      <th>Notes</th>\n      <th>Data source</th>\n      <th>QC</th>\n      <th>QC_lax</th>\n      <th>DateTime (UTC)</th>\n      <th>end_release</th>\n      <th>start_release</th>\n    </tr>\n  </thead>\n  <tbody>\n    <tr>\n      <th>0</th>\n      <td>GHGSat</td>\n      <td>Sentinel-2</td>\n      <td>94e765d9-f8fd-49b0-9851-57cbd7dcb4b6 - 10/26/2022</td>\n      <td>1</td>\n      <td>1.0</td>\n      <td>2022-10-18 17:49:00</td>\n      <td>17:49:00</td>\n      <td>NaN</td>\n      <td>NaN</td>\n      <td>NaN</td>\n      <td>...</td>\n      <td>Excluded</td>\n      <td>Excluded</td>\n      <td>NaN</td>\n      <td>Release cancelled by Stanford due to system ma...</td>\n      <td>NaN</td>\n      <td>SE</td>\n      <td>OK</td>\n      <td>10/18/2022 17:49:00</td>\n      <td>2022-10-18 17:49:00</td>\n      <td>2022-10-18 17:44:00</td>\n    </tr>\n    <tr>\n      <th>1</th>\n      <td>GHGSat</td>\n      <td>Sentinel-2</td>\n      <td>94e765d9-f8fd-49b0-9851-57cbd7dcb4b6 - 10/26/2022</td>\n      <td>1</td>\n      <td>1.0</td>\n      <td>2022-10-26 18:14:48</td>\n      <td>2022-10-26 18:14:48</td>\n      <td>NaN</td>\n      <td>NaN</td>\n      <td>NaN</td>\n      <td>...</td>\n      <td>NaN</td>\n      <td>NaN</td>\n      <td>NaN</td>\n      <td>NaN</td>\n      <td>DataReportingTemplate_AerialAppendix_GHGSat_S2...</td>\n      <td>OK</td>\n      <td>OK</td>\n      <td>10/26/2022 18:14:48</td>\n      <td>2022-10-26 18:14:48</td>\n      <td>2022-10-26 18:09:48</td>\n    </tr>\n    <tr>\n      <th>2</th>\n      <td>GHGSat</td>\n      <td>Sentinel-2</td>\n      <td>94e765d9-f8fd-49b0-9851-57cbd7dcb4b6 - 10/26/2022</td>\n      <td>1</td>\n      <td>1.0</td>\n      <td>2022-11-05 18:14:40</td>\n      <td>18:14:40</td>\n      <td>NaN</td>\n      <td>NaN</td>\n      <td>NaN</td>\n      <td>...</td>\n      <td>Excluded</td>\n      <td>Excluded</td>\n      <td>NaN</td>\n      <td>Release cancelled by Stanford due to personnel...</td>\n      <td>NaN</td>\n      <td>SE</td>\n      <td>SE</td>\n      <td>11/05/2022 18:14:40</td>\n      <td>2022-11-05 18:14:40</td>\n      <td>2022-11-05 18:09:40</td>\n    </tr>\n    <tr>\n      <th>3</th>\n      <td>GHGSat</td>\n      <td>Sentinel-2</td>\n      <td>94e765d9-f8fd-49b0-9851-57cbd7dcb4b6 – 11/08/2022</td>\n      <td>1</td>\n      <td>1.0</td>\n      <td>2022-11-08 18:24:30</td>\n      <td>2022-11-08 18:24:30</td>\n      <td>NaN</td>\n      <td>NaN</td>\n      <td>NaN</td>\n      <td>...</td>\n      <td>NaN</td>\n      <td>NaN</td>\n      <td>NaN</td>\n      <td>NaN</td>\n      <td>DataReportingTemplate_AerialAppendix_GHGSat_S2...</td>\n      <td>OK</td>\n      <td>OK</td>\n      <td>11/08/2022 18:24:30</td>\n      <td>2022-11-08 18:24:30</td>\n      <td>2022-11-08 18:19:30</td>\n    </tr>\n    <tr>\n      <th>4</th>\n      <td>GHGSat</td>\n      <td>Sentinel-2</td>\n      <td>94e765d9-f8fd-49b0-9851-57cbd7dcb4b6 – 11/15/2022</td>\n      <td>1</td>\n      <td>1.0</td>\n      <td>2022-11-15 18:14:28</td>\n      <td>2022-11-15 18:14:28</td>\n      <td>NaN</td>\n      <td>NaN</td>\n      <td>NaN</td>\n      <td>...</td>\n      <td>NaN</td>\n      <td>NaN</td>\n      <td>NaN</td>\n      <td>NaN</td>\n      <td>DataReportingTemplate_AerialAppendix_GHGSat_S2...</td>\n      <td>OK</td>\n      <td>OK</td>\n      <td>11/15/2022 18:14:28</td>\n      <td>2022-11-15 18:14:28</td>\n      <td>2022-11-15 18:09:28</td>\n    </tr>\n    <tr>\n      <th>...</th>\n      <td>...</td>\n      <td>...</td>\n      <td>...</td>\n      <td>...</td>\n      <td>...</td>\n      <td>...</td>\n      <td>...</td>\n      <td>...</td>\n      <td>...</td>\n      <td>...</td>\n      <td>...</td>\n      <td>...</td>\n      <td>...</td>\n      <td>...</td>\n      <td>...</td>\n      <td>...</td>\n      <td>...</td>\n      <td>...</td>\n      <td>...</td>\n      <td>...</td>\n      <td>...</td>\n    </tr>\n    <tr>\n      <th>198</th>\n      <td>Orbio</td>\n      <td>Sentinel-2</td>\n      <td>2</td>\n      <td>1</td>\n      <td>1.0</td>\n      <td>2022-11-08 00:00:00</td>\n      <td>18:25:05</td>\n      <td>NaN</td>\n      <td>NaN</td>\n      <td>NaN</td>\n      <td>...</td>\n      <td>NaN</td>\n      <td>218.700626</td>\n      <td>NaN</td>\n      <td>NaN</td>\n      <td>2022_OrbioEarth_satellite_report.xlsx</td>\n      <td>OK</td>\n      <td>OK</td>\n      <td>11/08/2022 18:25:05</td>\n      <td>2022-11-08 18:25:05</td>\n      <td>2022-11-08 18:20:05</td>\n    </tr>\n    <tr>\n      <th>199</th>\n      <td>Orbio</td>\n      <td>Sentinel-2</td>\n      <td>3</td>\n      <td>1</td>\n      <td>1.0</td>\n      <td>2022-11-15 00:00:00</td>\n      <td>18:15:08</td>\n      <td>NaN</td>\n      <td>NaN</td>\n      <td>NaN</td>\n      <td>...</td>\n      <td>NaN</td>\n      <td>312.276679</td>\n      <td>NaN</td>\n      <td>NaN</td>\n      <td>2022_OrbioEarth_satellite_report.xlsx</td>\n      <td>OK</td>\n      <td>OK</td>\n      <td>11/15/2022 18:15:08</td>\n      <td>2022-11-15 18:15:08</td>\n      <td>2022-11-15 18:10:08</td>\n    </tr>\n    <tr>\n      <th>200</th>\n      <td>Orbio</td>\n      <td>Sentinel-2</td>\n      <td>4</td>\n      <td>1</td>\n      <td>1.0</td>\n      <td>2022-11-18 00:00:00</td>\n      <td>18:25:03</td>\n      <td>NaN</td>\n      <td>NaN</td>\n      <td>NaN</td>\n      <td>...</td>\n      <td>NaN</td>\n      <td>257.957679</td>\n      <td>NaN</td>\n      <td>NaN</td>\n      <td>2022_OrbioEarth_satellite_report.xlsx</td>\n      <td>OK</td>\n      <td>OK</td>\n      <td>11/18/2022 18:25:03</td>\n      <td>2022-11-18 18:25:03</td>\n      <td>2022-11-18 18:20:03</td>\n    </tr>\n    <tr>\n      <th>201</th>\n      <td>Orbio</td>\n      <td>Sentinel-2</td>\n      <td>5</td>\n      <td>1</td>\n      <td>1.0</td>\n      <td>2022-11-25 00:00:00</td>\n      <td>18:15:05</td>\n      <td>NaN</td>\n      <td>NaN</td>\n      <td>NaN</td>\n      <td>...</td>\n      <td>NaN</td>\n      <td>14.320893</td>\n      <td>NaN</td>\n      <td>NaN</td>\n      <td>2022_OrbioEarth_satellite_report.xlsx</td>\n      <td>OK</td>\n      <td>OK</td>\n      <td>11/25/2022 18:15:05</td>\n      <td>2022-11-25 18:15:05</td>\n      <td>2022-11-25 18:10:05</td>\n    </tr>\n    <tr>\n      <th>202</th>\n      <td>Orbio</td>\n      <td>Sentinel-2</td>\n      <td>6</td>\n      <td>1</td>\n      <td>1.0</td>\n      <td>2022-11-28 00:00:00</td>\n      <td>18:25:01</td>\n      <td>NaN</td>\n      <td>NaN</td>\n      <td>NaN</td>\n      <td>...</td>\n      <td>NaN</td>\n      <td>NaN</td>\n      <td>NaN</td>\n      <td>NaN</td>\n      <td>2022_OrbioEarth_satellite_report.xlsx</td>\n      <td>OK</td>\n      <td>OK</td>\n      <td>11/28/2022 18:25:01</td>\n      <td>2022-11-28 18:25:01</td>\n      <td>2022-11-28 18:20:01</td>\n    </tr>\n  </tbody>\n</table>\n<p>203 rows × 28 columns</p>\n</div>"
     },
     "execution_count": 105,
     "metadata": {},
     "output_type": "execute_result"
    }
   ],
   "source": [
    "# overpass_filename = pathlib.PurePath('04_figures', 'parity_plots', fig_name)\n",
    "# pathlib.PurePath('01_clean_reports', 'Satellite overpass datetime 20230404.xlsx')\n",
    "\n",
    "satellite_overpass_times = pd.read_excel(pathlib.PurePath('00_raw_reports', 'Satellite_results_consolidated_20230405e.xlsx'), )\n",
    "# satellite_overpass_times = pd.read_excel(pathlib.PurePath('01_clean_reports', 'Satellite_results_consolidated_20230404b.xlsx'), )\n",
    "satellite_overpass_times['end_release'] = pd.to_datetime(satellite_overpass_times['DateTime (UTC)'])\n",
    "satellite_overpass_times['start_release'] = satellite_overpass_times['end_release'] - timedelta(minutes=5)\n",
    "satellite_overpass_times\n",
    "# satellite_timestamps = satellite_overpass_times\n",
    "# satellite_timestamps"
   ],
   "metadata": {
    "collapsed": false,
    "pycharm": {
     "name": "#%%\n"
    }
   }
  },
  {
   "cell_type": "markdown",
   "metadata": {},
   "source": [
    "## Calculate the gas flow rate during release periods\n",
    "\n",
    "Use calc_average_releases function to generate gas flow profile for each time period of interest. Here, I apply the function to each row in the satellite_releases dataframe, although other methods may be used as well.\n",
    "\n",
    "Function inputs:\n",
    "- start_t: datetime object in UTC\n",
    "- stop_t: datetime object in UTC\n",
    "\n",
    "Notes:\n",
    "- Function will return an error message if start_t and stop_t are on different dates (ie you cannot calculate the average flow rate if they straddle different days of testing)\n",
    "- Function will return an error message if start_t is chronologically after stop_t\n",
    "- If start_t and end_t occur on a date for which we do not have metered data, function will output values for a zero release (flow rate of 0 kgh, uncertainty of 0, meter and gas composition of np.nan)\n",
    "\n",
    "Function outputs a Python dictionary with the following keys:\n",
    "- gas_kgh_mean: mean gas flow rate over the time period of interest, as whole gas\n",
    "- gas_kgh_sigma: standard deviation of the meter reading over the period of interest, as whole gas. This value represents the physical variability in the flow rate.\n",
    "- meter_sigma: the standard deviation calculated based on the uncertainty in the meter reading for the flow rate during the period in question. Emerson reports uncertainty as a percentage of flow rate, and the function converts this value to a sigma value with units of kgh whole gas\n",
    "- ch4_fraction_{gas_comp_source}: the fraction methane based on the input source for gas composition. Gas composition can be 'su_normalized', 'su_raw', or 'km'. See other documentation for additional details. This value is averaged over the time period of interest, although unless the trailer was changed mid-release, value is expected to be constant\n",
    "- ch4_fraction{gas_comp_source}_sigma: the sigma value associated with the gas composition, representative of the uncertainty associated with measurements of methane mole fraction.\n",
    "- ch4_kgh_mean: mean methane flow rate, calculated from the gas flow rate and methane mole fraction\n",
    "- cg4_kgh_sigma: total uncertainty in the methane flow rate. This value combines physical variability in gas flow rate (gas_kgh_sigma) with uncertainty in the meter reading (meter_sigma) and uncertainty in gas composition (ch4_fraction_{gas_comp_source}_sigma."
   ]
  },
  {
   "cell_type": "code",
   "execution_count": 106,
   "outputs": [],
   "source": [
    "# Run function to determine flow rates for each release\n",
    "\n",
    "release_rates =[]\n",
    "\n",
    "for jj in satellite_overpass_times.index:\n",
    "    start_t = satellite_overpass_times.loc[jj, 'start_release']\n",
    "    end_t = satellite_overpass_times.loc[jj, 'end_release']\n",
    "    release_details = calc_average_release(start_t, end_t)\n",
    "    release_rates.append(release_details)\n",
    "\n",
    "final_releases = pd.DataFrame(release_rates)\n",
    "summary = pd.concat([satellite_overpass_times, final_releases], axis=1)\n",
    "\n",
    "# print(summary)\n",
    "# summary.to_csv(pathlib.PurePath('01_clean_reports', 'Satellite_results_consolidated_clean_20230405.csv'))\n",
    "summary.to_csv(pathlib.PurePath('05_satellites', '01_input_data', 'Satellite_results_consolidated_clean_20230405f.csv'))\n"
   ],
   "metadata": {
    "collapsed": false,
    "pycharm": {
     "name": "#%%\n"
    }
   }
  },
  {
   "cell_type": "markdown",
   "source": [
    "# Scratch pad"
   ],
   "metadata": {
    "collapsed": false,
    "pycharm": {
     "name": "#%% md\n"
    }
   }
  },
  {
   "cell_type": "code",
   "execution_count": 78,
   "outputs": [
    {
     "data": {
      "text/plain": "Team                                                          LARS\nSatellite                                                    EnMap\nPerformerExperimentID                                            3\nFacilityID                                                       1\nEquipmentUnitID                                                1.0\nDateOfSurvey                                   2022-11-13 00:00:00\nTimestamp (hyperspectral technologies only)               19:02:08\nStartTime                                                      NaN\nEndTime                                                        NaN\nSurveyTime                                                     NaN\nGas                                                        Methane\nFacilityEmissionRate                                      Excluded\nFacilityEmissionRateUpper                                 Excluded\nFacilityEmissionRateLower                                 Excluded\nUncertaintyType                                           Excluded\nWindSpeed                                                 Excluded\nWindSpeedUpper                                            Excluded\nWindSpeedLower                                            Excluded\nWindSpeedUncertaintyType                                  Excluded\nWindDirection                                             Excluded\nNumberOfEmissionSourcesReported                                NaN\nNotes                                                          NaN\nData source                                                    NaN\nDateTime (UTC)                                 11/13/2022 19:02:08\nend_release                                    2022-11-13 19:02:08\nstart_release                                  2022-11-13 18:57:08\nName: 68, dtype: object"
     },
     "execution_count": 78,
     "metadata": {},
     "output_type": "execute_result"
    }
   ],
   "source": [
    "satellite_overpass_times.loc[68, ]"
   ],
   "metadata": {
    "collapsed": false,
    "pycharm": {
     "name": "#%%\n"
    }
   }
  },
  {
   "cell_type": "code",
   "execution_count": 93,
   "outputs": [],
   "source": [
    "# Dummy dataframe to be filled with satellite data\n",
    "# Use UTC for start and end timestamps\n",
    "satellite_timestamps = pd.DataFrame({\n",
    "    'release_id': [1, 2, 3],\n",
    "    'satellite': ['Test1', 'Test2', 'Test3'],\n",
    "    'team_analyzing': ['Luis', 'Maxar', 'Kayrros'],\n",
    "    'start_release':[datetime.datetime(2022, 10, 15, 18, 16, 10), datetime.datetime(2022, 10, 25, 17, 44, 22), datetime.datetime(2022, 10, 25, 17, 44, 22)],\n",
    "    'end_release':[datetime.datetime(2022, 10, 15, 18, 36, 00), datetime.datetime(2022, 10, 25, 18, 10, 00), datetime.datetime(2022, 10, 25, 18, 10, 00)],\n",
    "})"
   ],
   "metadata": {
    "collapsed": false,
    "pycharm": {
     "name": "#%%\n"
    }
   }
  },
  {
   "cell_type": "code",
   "execution_count": 94,
   "outputs": [
    {
     "name": "stdout",
     "output_type": "stream",
     "text": [
      "   release_id satellite team_analyzing       start_release  \\\n",
      "0           1     Test1           Luis 2022-10-15 18:16:10   \n",
      "1           2     Test2          Maxar 2022-10-25 17:44:22   \n",
      "2           3     Test3        Kayrros 2022-10-25 17:44:22   \n",
      "\n",
      "          end_release  gas_kgh_mean  gas_kgh_sigma  meter_sigma  \\\n",
      "0 2022-10-15 18:36:00      0.000000       0.000000          NaN   \n",
      "1 2022-10-25 18:10:00   1025.589677      99.868814     1.310053   \n",
      "2 2022-10-25 18:10:00   1025.589677      99.868814     1.310053   \n",
      "\n",
      "   ch4_fraction_km  ch4_fraction_km_sigma  ch4_kgh_mean  ch4_kgh_sigma  \n",
      "0              NaN                    NaN           NaN            NaN  \n",
      "1         0.950644               0.001366    974.970673      94.958189  \n",
      "2         0.950644               0.001366    974.970673      94.958189  \n"
     ]
    }
   ],
   "source": [
    "# Run function to determine flow rates for each release\n",
    "\n",
    "release_rates =[]\n",
    "\n",
    "for index, release in satellite_timestamps.iterrows():\n",
    "    start_t = release.start_release\n",
    "    end_t = release.end_release\n",
    "    release_details = calc_average_release(start_t, end_t)\n",
    "    release_rates.append(release_details)\n",
    "\n",
    "final_releases = pd.DataFrame(release_rates)\n",
    "summary = pd.concat([satellite_timestamps, final_releases], axis=1)\n",
    "\n",
    "print(summary)"
   ],
   "metadata": {
    "collapsed": false,
    "pycharm": {
     "name": "#%%\n"
    }
   }
  },
  {
   "cell_type": "code",
   "execution_count": 57,
   "outputs": [
    {
     "data": {
      "text/plain": "(Timestamp('2022-10-25 17:44:22'), Timestamp('2022-10-25 18:10:00'))"
     },
     "execution_count": 57,
     "metadata": {},
     "output_type": "execute_result"
    }
   ],
   "source": [
    "start_t, end_t\n",
    "# calc_average_release(start_t, end_t)"
   ],
   "metadata": {
    "collapsed": false,
    "pycharm": {
     "name": "#%%\n"
    }
   }
  },
  {
   "cell_type": "code",
   "execution_count": 81,
   "metadata": {},
   "outputs": [
    {
     "data": {
      "text/plain": "(Timestamp('2022-11-15 23:55:00'), Timestamp('2022-11-16 00:00:00'))"
     },
     "execution_count": 81,
     "metadata": {},
     "output_type": "execute_result"
    }
   ],
   "source": [
    "jj = 69\n",
    "start_t = satellite_overpass_times.loc[jj, 'start_release']\n",
    "end_t = satellite_overpass_times.loc[jj, 'end_release']\n",
    "start_t, end_t"
   ]
  },
  {
   "cell_type": "code",
   "execution_count": 82,
   "outputs": [
    {
     "name": "stdout",
     "output_type": "stream",
     "text": [
      "Do not attempt to calculate average flow across multiple dates. Please consider a new start or end time.\n"
     ]
    }
   ],
   "source": [
    "# satellite_overpass_times\n",
    "calc_average_release(start_t, end_t)\n",
    "# release_details = calc_average_release(start_t, end_t)\n",
    "# release_details"
   ],
   "metadata": {
    "collapsed": false,
    "pycharm": {
     "name": "#%%\n"
    }
   }
  }
 ],
 "metadata": {
  "kernelspec": {
   "display_name": "Python 3 (ipykernel)",
   "language": "python",
   "name": "python3"
  },
  "language_info": {
   "codemirror_mode": {
    "name": "ipython",
    "version": 3
   },
   "file_extension": ".py",
   "mimetype": "text/x-python",
   "name": "python",
   "nbconvert_exporter": "python",
   "pygments_lexer": "ipython3",
   "version": "3.10.10"
  }
 },
 "nbformat": 4,
 "nbformat_minor": 1
}
