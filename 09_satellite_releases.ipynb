{
 "cells": [
  {
   "cell_type": "markdown",
   "metadata": {},
   "source": [
    "# Notebook for Evan - Generating Satellite Releases\n",
    "Code Author: Sahar El Abbadi\n",
    "Date: 2023-04-04\n"
   ]
  },
  {
   "cell_type": "code",
   "execution_count": 1,
   "metadata": {},
   "outputs": [],
   "source": [
    "# Setup\n",
    "\n",
    "# imports\n",
    "import pandas as pd\n",
    "import datetime\n",
    "import pathlib\n",
    "import numpy as np\n",
    "from datetime import timedelta\n",
    "from methods_source import calc_average_release\n",
    "from methods_source import summarize_wind_conditions, calc_avg_windspeed"
   ]
  },
  {
   "cell_type": "markdown",
   "metadata": {},
   "source": [
    "## Satellite release dataframe\n",
    "Create satellite release summary file with timestamps as datetime objects in UTC. The start and stop times of the relases will be used as inputs to the calc_average_releases function.\n",
    "\n",
    "Dummy dataset includes one example time period when we have no release record (e.g. satellite release occurred on a weekend, and there is no meter file for the date in question), and one release where we have a metered data file for the time period in question."
   ]
  },
  {
   "cell_type": "markdown",
   "source": [
    "Import satellite data"
   ],
   "metadata": {
    "collapsed": false,
    "pycharm": {
     "name": "#%% md\n"
    }
   }
  },
  {
   "cell_type": "code",
   "execution_count": 2,
   "outputs": [
    {
     "data": {
      "text/plain": "       Team   Satellite                              PerformerExperimentID  \\\n0    GHGSat  Sentinel-2  94e765d9-f8fd-49b0-9851-57cbd7dcb4b6 - 10/26/2022   \n1    GHGSat  Sentinel-2  94e765d9-f8fd-49b0-9851-57cbd7dcb4b6 - 10/26/2022   \n2    GHGSat  Sentinel-2  94e765d9-f8fd-49b0-9851-57cbd7dcb4b6 - 10/26/2022   \n3    GHGSat  Sentinel-2  94e765d9-f8fd-49b0-9851-57cbd7dcb4b6 ‚Äì 11/08...   \n4    GHGSat  Sentinel-2  94e765d9-f8fd-49b0-9851-57cbd7dcb4b6 ‚Äì 11/15...   \n..      ...         ...                                                ...   \n411   Orbio  Sentinel-2                                                  2   \n412   Orbio  Sentinel-2                                                  3   \n413   Orbio  Sentinel-2                                                  4   \n414   Orbio  Sentinel-2                                                  5   \n415   Orbio  Sentinel-2                                                  6   \n\n    FacilityID  EquipmentUnitID        DateOfSurvey  \\\n0            1              1.0 2022-10-18 17:49:00   \n1            1              1.0 2022-10-26 18:14:00   \n2            1              1.0 2022-11-05 18:14:00   \n3            1              1.0 2022-11-08 18:24:00   \n4            1              1.0 2022-11-15 18:14:00   \n..         ...              ...                 ...   \n411          1              1.0 2022-11-08 00:00:00   \n412          1              1.0 2022-11-15 00:00:00   \n413          1              1.0 2022-11-18 00:00:00   \n414          1              1.0 2022-11-25 00:00:00   \n415          1              1.0 2022-11-28 00:00:00   \n\n    Timestamp (hyperspectral technologies only) StartTime EndTime SurveyTime  \\\n0                                      17:49:00       NaN     NaN        NaN   \n1                           2022-10-26 18:14:00       NaN     NaN        NaN   \n2                                      18:14:40       NaN     NaN        NaN   \n3                           2022-11-08 18:24:00       NaN     NaN        NaN   \n4                           2022-11-15 18:14:00       NaN     NaN        NaN   \n..                                          ...       ...     ...        ...   \n411                                    18:25:05       NaN     NaN        NaN   \n412                                    18:15:08       NaN     NaN        NaN   \n413                                    18:25:03       NaN     NaN        NaN   \n414                                    18:15:05       NaN     NaN        NaN   \n415                                    18:25:01       NaN     NaN        NaN   \n\n     ... WindDirection NumberOfEmissionSourcesReported  \\\n0    ...      Excluded                             NaN   \n1    ...           NaN                             NaN   \n2    ...      Excluded                             NaN   \n3    ...           NaN                             NaN   \n4    ...           NaN                             NaN   \n..   ...           ...                             ...   \n411  ...           300                             NaN   \n412  ...           185                             NaN   \n413  ...           316                             NaN   \n414  ...           213                             NaN   \n415  ...           321                             NaN   \n\n                                                 Notes  \\\n0    Release cancelled by Stanford due to system ma...   \n1                                                  NaN   \n2    Release cancelled by Stanford due to personnel...   \n3                                                  NaN   \n4                                                  NaN   \n..                                                 ...   \n411                                                NaN   \n412                                                NaN   \n413                                                NaN   \n414                                                NaN   \n415                                                NaN   \n\n                                           Data source   QC QC_lax  \\\n0                                                  NaN  SEA     OK   \n1    DataReportingTemplate_AerialAppendix_GHGSat_S2...   OK     OK   \n2                                                  NaN  SEA     SE   \n3    DataReportingTemplate_AerialAppendix_GHGSat_S2...   OK     OK   \n4    DataReportingTemplate_AerialAppendix_GHGSat_S2...   OK     OK   \n..                                                 ...  ...    ...   \n411    2022_OrbioEarth_satellite_report_with_wind.xlsx   OK     OK   \n412    2022_OrbioEarth_satellite_report_with_wind.xlsx   OK     OK   \n413    2022_OrbioEarth_satellite_report_with_wind.xlsx   OK     OK   \n414    2022_OrbioEarth_satellite_report_with_wind.xlsx   OK     OK   \n415    2022_OrbioEarth_satellite_report_with_wind.xlsx   OK     OK   \n\n    UnblindingStage      DateTime (UTC)         end_release  \\\n0                 1 2022-10-18 17:49:00 2022-10-18 17:49:00   \n1                 1 2022-10-26 18:14:00 2022-10-26 18:14:00   \n2                 1 2022-11-05 18:14:00 2022-11-05 18:14:00   \n3                 1 2022-11-08 18:24:00 2022-11-08 18:24:00   \n4                 1 2022-11-15 18:14:00 2022-11-15 18:14:00   \n..              ...                 ...                 ...   \n411               2 2022-11-08 18:25:00 2022-11-08 18:25:00   \n412               2 2022-11-15 18:15:00 2022-11-15 18:15:00   \n413               2 2022-11-18 18:25:00 2022-11-18 18:25:00   \n414               2 2022-11-25 18:15:00 2022-11-25 18:15:00   \n415               2 2022-11-28 18:25:00 2022-11-28 18:25:00   \n\n          start_release  \n0   2022-10-18 17:44:00  \n1   2022-10-26 18:09:00  \n2   2022-11-05 18:09:00  \n3   2022-11-08 18:19:00  \n4   2022-11-15 18:09:00  \n..                  ...  \n411 2022-11-08 18:20:00  \n412 2022-11-15 18:10:00  \n413 2022-11-18 18:20:00  \n414 2022-11-25 18:10:00  \n415 2022-11-28 18:20:00  \n\n[416 rows x 29 columns]",
      "text/html": "<div>\n<style scoped>\n    .dataframe tbody tr th:only-of-type {\n        vertical-align: middle;\n    }\n\n    .dataframe tbody tr th {\n        vertical-align: top;\n    }\n\n    .dataframe thead th {\n        text-align: right;\n    }\n</style>\n<table border=\"1\" class=\"dataframe\">\n  <thead>\n    <tr style=\"text-align: right;\">\n      <th></th>\n      <th>Team</th>\n      <th>Satellite</th>\n      <th>PerformerExperimentID</th>\n      <th>FacilityID</th>\n      <th>EquipmentUnitID</th>\n      <th>DateOfSurvey</th>\n      <th>Timestamp (hyperspectral technologies only)</th>\n      <th>StartTime</th>\n      <th>EndTime</th>\n      <th>SurveyTime</th>\n      <th>...</th>\n      <th>WindDirection</th>\n      <th>NumberOfEmissionSourcesReported</th>\n      <th>Notes</th>\n      <th>Data source</th>\n      <th>QC</th>\n      <th>QC_lax</th>\n      <th>UnblindingStage</th>\n      <th>DateTime (UTC)</th>\n      <th>end_release</th>\n      <th>start_release</th>\n    </tr>\n  </thead>\n  <tbody>\n    <tr>\n      <th>0</th>\n      <td>GHGSat</td>\n      <td>Sentinel-2</td>\n      <td>94e765d9-f8fd-49b0-9851-57cbd7dcb4b6 - 10/26/2022</td>\n      <td>1</td>\n      <td>1.0</td>\n      <td>2022-10-18 17:49:00</td>\n      <td>17:49:00</td>\n      <td>NaN</td>\n      <td>NaN</td>\n      <td>NaN</td>\n      <td>...</td>\n      <td>Excluded</td>\n      <td>NaN</td>\n      <td>Release cancelled by Stanford due to system ma...</td>\n      <td>NaN</td>\n      <td>SEA</td>\n      <td>OK</td>\n      <td>1</td>\n      <td>2022-10-18 17:49:00</td>\n      <td>2022-10-18 17:49:00</td>\n      <td>2022-10-18 17:44:00</td>\n    </tr>\n    <tr>\n      <th>1</th>\n      <td>GHGSat</td>\n      <td>Sentinel-2</td>\n      <td>94e765d9-f8fd-49b0-9851-57cbd7dcb4b6 - 10/26/2022</td>\n      <td>1</td>\n      <td>1.0</td>\n      <td>2022-10-26 18:14:00</td>\n      <td>2022-10-26 18:14:00</td>\n      <td>NaN</td>\n      <td>NaN</td>\n      <td>NaN</td>\n      <td>...</td>\n      <td>NaN</td>\n      <td>NaN</td>\n      <td>NaN</td>\n      <td>DataReportingTemplate_AerialAppendix_GHGSat_S2...</td>\n      <td>OK</td>\n      <td>OK</td>\n      <td>1</td>\n      <td>2022-10-26 18:14:00</td>\n      <td>2022-10-26 18:14:00</td>\n      <td>2022-10-26 18:09:00</td>\n    </tr>\n    <tr>\n      <th>2</th>\n      <td>GHGSat</td>\n      <td>Sentinel-2</td>\n      <td>94e765d9-f8fd-49b0-9851-57cbd7dcb4b6 - 10/26/2022</td>\n      <td>1</td>\n      <td>1.0</td>\n      <td>2022-11-05 18:14:00</td>\n      <td>18:14:40</td>\n      <td>NaN</td>\n      <td>NaN</td>\n      <td>NaN</td>\n      <td>...</td>\n      <td>Excluded</td>\n      <td>NaN</td>\n      <td>Release cancelled by Stanford due to personnel...</td>\n      <td>NaN</td>\n      <td>SEA</td>\n      <td>SE</td>\n      <td>1</td>\n      <td>2022-11-05 18:14:00</td>\n      <td>2022-11-05 18:14:00</td>\n      <td>2022-11-05 18:09:00</td>\n    </tr>\n    <tr>\n      <th>3</th>\n      <td>GHGSat</td>\n      <td>Sentinel-2</td>\n      <td>94e765d9-f8fd-49b0-9851-57cbd7dcb4b6 ‚Äì 11/08...</td>\n      <td>1</td>\n      <td>1.0</td>\n      <td>2022-11-08 18:24:00</td>\n      <td>2022-11-08 18:24:00</td>\n      <td>NaN</td>\n      <td>NaN</td>\n      <td>NaN</td>\n      <td>...</td>\n      <td>NaN</td>\n      <td>NaN</td>\n      <td>NaN</td>\n      <td>DataReportingTemplate_AerialAppendix_GHGSat_S2...</td>\n      <td>OK</td>\n      <td>OK</td>\n      <td>1</td>\n      <td>2022-11-08 18:24:00</td>\n      <td>2022-11-08 18:24:00</td>\n      <td>2022-11-08 18:19:00</td>\n    </tr>\n    <tr>\n      <th>4</th>\n      <td>GHGSat</td>\n      <td>Sentinel-2</td>\n      <td>94e765d9-f8fd-49b0-9851-57cbd7dcb4b6 ‚Äì 11/15...</td>\n      <td>1</td>\n      <td>1.0</td>\n      <td>2022-11-15 18:14:00</td>\n      <td>2022-11-15 18:14:00</td>\n      <td>NaN</td>\n      <td>NaN</td>\n      <td>NaN</td>\n      <td>...</td>\n      <td>NaN</td>\n      <td>NaN</td>\n      <td>NaN</td>\n      <td>DataReportingTemplate_AerialAppendix_GHGSat_S2...</td>\n      <td>OK</td>\n      <td>OK</td>\n      <td>1</td>\n      <td>2022-11-15 18:14:00</td>\n      <td>2022-11-15 18:14:00</td>\n      <td>2022-11-15 18:09:00</td>\n    </tr>\n    <tr>\n      <th>...</th>\n      <td>...</td>\n      <td>...</td>\n      <td>...</td>\n      <td>...</td>\n      <td>...</td>\n      <td>...</td>\n      <td>...</td>\n      <td>...</td>\n      <td>...</td>\n      <td>...</td>\n      <td>...</td>\n      <td>...</td>\n      <td>...</td>\n      <td>...</td>\n      <td>...</td>\n      <td>...</td>\n      <td>...</td>\n      <td>...</td>\n      <td>...</td>\n      <td>...</td>\n      <td>...</td>\n    </tr>\n    <tr>\n      <th>411</th>\n      <td>Orbio</td>\n      <td>Sentinel-2</td>\n      <td>2</td>\n      <td>1</td>\n      <td>1.0</td>\n      <td>2022-11-08 00:00:00</td>\n      <td>18:25:05</td>\n      <td>NaN</td>\n      <td>NaN</td>\n      <td>NaN</td>\n      <td>...</td>\n      <td>300</td>\n      <td>NaN</td>\n      <td>NaN</td>\n      <td>2022_OrbioEarth_satellite_report_with_wind.xlsx</td>\n      <td>OK</td>\n      <td>OK</td>\n      <td>2</td>\n      <td>2022-11-08 18:25:00</td>\n      <td>2022-11-08 18:25:00</td>\n      <td>2022-11-08 18:20:00</td>\n    </tr>\n    <tr>\n      <th>412</th>\n      <td>Orbio</td>\n      <td>Sentinel-2</td>\n      <td>3</td>\n      <td>1</td>\n      <td>1.0</td>\n      <td>2022-11-15 00:00:00</td>\n      <td>18:15:08</td>\n      <td>NaN</td>\n      <td>NaN</td>\n      <td>NaN</td>\n      <td>...</td>\n      <td>185</td>\n      <td>NaN</td>\n      <td>NaN</td>\n      <td>2022_OrbioEarth_satellite_report_with_wind.xlsx</td>\n      <td>OK</td>\n      <td>OK</td>\n      <td>2</td>\n      <td>2022-11-15 18:15:00</td>\n      <td>2022-11-15 18:15:00</td>\n      <td>2022-11-15 18:10:00</td>\n    </tr>\n    <tr>\n      <th>413</th>\n      <td>Orbio</td>\n      <td>Sentinel-2</td>\n      <td>4</td>\n      <td>1</td>\n      <td>1.0</td>\n      <td>2022-11-18 00:00:00</td>\n      <td>18:25:03</td>\n      <td>NaN</td>\n      <td>NaN</td>\n      <td>NaN</td>\n      <td>...</td>\n      <td>316</td>\n      <td>NaN</td>\n      <td>NaN</td>\n      <td>2022_OrbioEarth_satellite_report_with_wind.xlsx</td>\n      <td>OK</td>\n      <td>OK</td>\n      <td>2</td>\n      <td>2022-11-18 18:25:00</td>\n      <td>2022-11-18 18:25:00</td>\n      <td>2022-11-18 18:20:00</td>\n    </tr>\n    <tr>\n      <th>414</th>\n      <td>Orbio</td>\n      <td>Sentinel-2</td>\n      <td>5</td>\n      <td>1</td>\n      <td>1.0</td>\n      <td>2022-11-25 00:00:00</td>\n      <td>18:15:05</td>\n      <td>NaN</td>\n      <td>NaN</td>\n      <td>NaN</td>\n      <td>...</td>\n      <td>213</td>\n      <td>NaN</td>\n      <td>NaN</td>\n      <td>2022_OrbioEarth_satellite_report_with_wind.xlsx</td>\n      <td>OK</td>\n      <td>OK</td>\n      <td>2</td>\n      <td>2022-11-25 18:15:00</td>\n      <td>2022-11-25 18:15:00</td>\n      <td>2022-11-25 18:10:00</td>\n    </tr>\n    <tr>\n      <th>415</th>\n      <td>Orbio</td>\n      <td>Sentinel-2</td>\n      <td>6</td>\n      <td>1</td>\n      <td>1.0</td>\n      <td>2022-11-28 00:00:00</td>\n      <td>18:25:01</td>\n      <td>NaN</td>\n      <td>NaN</td>\n      <td>NaN</td>\n      <td>...</td>\n      <td>321</td>\n      <td>NaN</td>\n      <td>NaN</td>\n      <td>2022_OrbioEarth_satellite_report_with_wind.xlsx</td>\n      <td>OK</td>\n      <td>OK</td>\n      <td>2</td>\n      <td>2022-11-28 18:25:00</td>\n      <td>2022-11-28 18:25:00</td>\n      <td>2022-11-28 18:20:00</td>\n    </tr>\n  </tbody>\n</table>\n<p>416 rows × 29 columns</p>\n</div>"
     },
     "execution_count": 2,
     "metadata": {},
     "output_type": "execute_result"
    }
   ],
   "source": [
    "# overpass_filename = pathlib.PurePath('04_figures', 'parity_plots', fig_name)\n",
    "# pathlib.PurePath('01_clean_reports', 'Satellite overpass datetime 20230404.xlsx')\n",
    "\n",
    "satellite_overpass_times = pd.read_excel(pathlib.PurePath('00_raw_reports', 'Satellite_results_consolidated_20230505d.xlsx'), )\n",
    "# satellite_overpass_times = pd.read_excel(pathlib.PurePath('01_clean_reports', 'Satellite_results_consolidated_20230404b.xlsx'), )\n",
    "satellite_overpass_times['end_release'] = pd.to_datetime(satellite_overpass_times['DateTime (UTC)'])\n",
    "satellite_overpass_times['start_release'] = satellite_overpass_times['end_release'] - timedelta(minutes=5)\n",
    "satellite_overpass_times\n",
    "# satellite_timestamps = satellite_overpass_times\n",
    "# satellite_timestamps"
   ],
   "metadata": {
    "collapsed": false,
    "pycharm": {
     "name": "#%%\n"
    }
   }
  },
  {
   "cell_type": "markdown",
   "metadata": {},
   "source": [
    "## Calculate the gas flow rate during release periods\n",
    "\n",
    "Use calc_average_releases function to generate gas flow profile for each time period of interest. Here, I apply the function to each row in the satellite_releases dataframe, although other methods may be used as well.\n",
    "\n",
    "Function inputs:\n",
    "- start_t: datetime object in UTC\n",
    "- stop_t: datetime object in UTC\n",
    "\n",
    "Notes:\n",
    "- Function will return an error message if start_t and stop_t are on different dates (ie you cannot calculate the average flow rate if they straddle different days of testing)\n",
    "- Function will return an error message if start_t is chronologically after stop_t\n",
    "- If start_t and end_t occur on a date for which we do not have metered data, function will output values for a zero release (flow rate of 0 kgh, uncertainty of 0, meter and gas composition of np.nan)\n",
    "\n",
    "Function outputs a Python dictionary with the following keys:\n",
    "- gas_kgh_mean: mean gas flow rate over the time period of interest, as whole gas\n",
    "- gas_kgh_sigma: standard deviation of the meter reading over the period of interest, as whole gas. This value represents the physical variability in the flow rate.\n",
    "- meter_sigma: the standard deviation calculated based on the uncertainty in the meter reading for the flow rate during the period in question. Emerson reports uncertainty as a percentage of flow rate, and the function converts this value to a sigma value with units of kgh whole gas\n",
    "- ch4_fraction_{gas_comp_source}: the fraction methane based on the input source for gas composition. Gas composition can be 'su_normalized', 'su_raw', or 'km'. See other documentation for additional details. This value is averaged over the time period of interest, although unless the trailer was changed mid-release, value is expected to be constant\n",
    "- ch4_fraction{gas_comp_source}_sigma: the sigma value associated with the gas composition, representative of the uncertainty associated with measurements of methane mole fraction.\n",
    "- ch4_kgh_mean: mean methane flow rate, calculated from the gas flow rate and methane mole fraction\n",
    "- cg4_kgh_sigma: total uncertainty in the methane flow rate. This value combines physical variability in gas flow rate (gas_kgh_sigma) with uncertainty in the meter reading (meter_sigma) and uncertainty in gas composition (ch4_fraction_{gas_comp_source}_sigma."
   ]
  },
  {
   "cell_type": "code",
   "execution_count": 3,
   "outputs": [
    {
     "name": "stdout",
     "output_type": "stream",
     "text": [
      "Number of rows that were NA in the average period (2022-11-29 18:07:00 to 2022-11-29 18:08:00): 59\n",
      "Number of rows that were NA in the average period (2022-11-29 18:13:00 to 2022-11-29 18:14:00): 36\n",
      "Number of rows that were NA in the average period (2022-11-29 18:07:00 to 2022-11-29 18:08:00): 59\n",
      "Number of rows that were NA in the average period (2022-11-29 18:07:00 to 2022-11-29 18:08:00): 59\n",
      "Number of rows that were NA in the average period (2022-11-29 18:07:00 to 2022-11-29 18:08:00): 59\n",
      "Number of rows that were NA in the average period (2022-11-29 18:13:00 to 2022-11-29 18:14:00): 36\n",
      "Number of rows that were NA in the average period (2022-11-29 18:07:00 to 2022-11-29 18:08:00): 59\n",
      "Number of rows that were NA in the average period (2022-11-29 18:07:00 to 2022-11-29 18:08:00): 59\n"
     ]
    }
   ],
   "source": [
    "# Run function to determine flow rates for each release\n",
    "\n",
    "release_rates =[]\n",
    "\n",
    "for jj in satellite_overpass_times.index:\n",
    "    start_t = satellite_overpass_times.loc[jj, 'start_release']\n",
    "    end_t = satellite_overpass_times.loc[jj, 'end_release']\n",
    "    release_details = calc_average_release(start_t, end_t)\n",
    "    wind_summary_stats = summarize_wind_conditions(end_t - timedelta(minutes=1), end_t)\n",
    "    release_details['average_windspeed'] = wind_summary_stats['average_windspeed']\n",
    "    release_details['average_winddirection'] = wind_summary_stats['average_winddirection']\n",
    "    release_details['stdev_windspeed'] = wind_summary_stats['stdev_windspeed']\n",
    "    release_details['stdev_winddirection'] = wind_summary_stats['stdev_winddirection']\n",
    "    # Add wind here\n",
    "    release_rates.append(release_details)\n",
    "\n",
    "final_releases = pd.DataFrame(release_rates)\n",
    "summary = pd.concat([satellite_overpass_times, final_releases], axis=1)\n",
    "\n",
    "# print(summary)\n",
    "# # summary.to_csv(pathlib.PurePath('01_clean_reports', 'Satellite_results_consolidated_clean_20230405.csv'))\n",
    "summary.to_csv(pathlib.PurePath('05_satellites', '01_input_data', 'Satellite_results_consolidated_clean_20230511b.csv'))"
   ],
   "metadata": {
    "collapsed": false,
    "pycharm": {
     "name": "#%%\n"
    }
   }
  },
  {
   "cell_type": "code",
   "execution_count": 17,
   "outputs": [
    {
     "data": {
      "text/plain": "3.141592653589793"
     },
     "execution_count": 17,
     "metadata": {},
     "output_type": "execute_result"
    }
   ],
   "source": [
    "np.pi"
   ],
   "metadata": {
    "collapsed": false,
    "pycharm": {
     "name": "#%%\n"
    }
   }
  },
  {
   "cell_type": "code",
   "execution_count": 13,
   "outputs": [
    {
     "data": {
      "text/plain": "{'average_windspeed': nan,\n 'average_winddirection': nan,\n 'stdev_windspeed': nan,\n 'stdev_winddirection': nan}"
     },
     "execution_count": 13,
     "metadata": {},
     "output_type": "execute_result"
    }
   ],
   "source": [
    "jj = 171\n",
    "\n",
    "start_t = satellite_overpass_times.loc[jj, 'start_release']\n",
    "end_t = satellite_overpass_times.loc[jj, 'end_release']\n",
    "release_details = calc_average_release(start_t, end_t)\n",
    "wind_summary_stats = summarize_wind_conditions(end_t - timedelta(minutes=1), end_t)\n",
    "wind_summary_stats\n",
    "# ['average_windspeed', 'average_winddirection', 'stdev_windspeed', 'stdev_winddirection']\n",
    "\n",
    "# summarize_wind_conditions(start_t, end_t)\n",
    "# release_details.loc[:,['average_windspeed', 'average_winddirection', 'stdev_windspeed', 'stdev_winddirection']]"
   ],
   "metadata": {
    "collapsed": false,
    "pycharm": {
     "name": "#%%\n"
    }
   }
  },
  {
   "cell_type": "markdown",
   "source": [
    "# Scratch pad"
   ],
   "metadata": {
    "collapsed": false,
    "pycharm": {
     "name": "#%% md\n"
    }
   }
  },
  {
   "cell_type": "code",
   "execution_count": 78,
   "outputs": [
    {
     "data": {
      "text/plain": "Team                                                          LARS\nSatellite                                                    EnMap\nPerformerExperimentID                                            3\nFacilityID                                                       1\nEquipmentUnitID                                                1.0\nDateOfSurvey                                   2022-11-13 00:00:00\nTimestamp (hyperspectral technologies only)               19:02:08\nStartTime                                                      NaN\nEndTime                                                        NaN\nSurveyTime                                                     NaN\nGas                                                        Methane\nFacilityEmissionRate                                      Excluded\nFacilityEmissionRateUpper                                 Excluded\nFacilityEmissionRateLower                                 Excluded\nUncertaintyType                                           Excluded\nWindSpeed                                                 Excluded\nWindSpeedUpper                                            Excluded\nWindSpeedLower                                            Excluded\nWindSpeedUncertaintyType                                  Excluded\nWindDirection                                             Excluded\nNumberOfEmissionSourcesReported                                NaN\nNotes                                                          NaN\nData source                                                    NaN\nDateTime (UTC)                                 11/13/2022 19:02:08\nend_release                                    2022-11-13 19:02:08\nstart_release                                  2022-11-13 18:57:08\nName: 68, dtype: object"
     },
     "execution_count": 78,
     "metadata": {},
     "output_type": "execute_result"
    }
   ],
   "source": [
    "satellite_overpass_times.loc[68, ]"
   ],
   "metadata": {
    "collapsed": false,
    "pycharm": {
     "name": "#%%\n"
    }
   }
  },
  {
   "cell_type": "code",
   "execution_count": 93,
   "outputs": [],
   "source": [
    "# Dummy dataframe to be filled with satellite data\n",
    "# Use UTC for start and end timestamps\n",
    "satellite_timestamps = pd.DataFrame({\n",
    "    'release_id': [1, 2, 3],\n",
    "    'satellite': ['Test1', 'Test2', 'Test3'],\n",
    "    'team_analyzing': ['Luis', 'Maxar', 'Kayrros'],\n",
    "    'start_release':[datetime.datetime(2022, 10, 15, 18, 16, 10), datetime.datetime(2022, 10, 25, 17, 44, 22), datetime.datetime(2022, 10, 25, 17, 44, 22)],\n",
    "    'end_release':[datetime.datetime(2022, 10, 15, 18, 36, 00), datetime.datetime(2022, 10, 25, 18, 10, 00), datetime.datetime(2022, 10, 25, 18, 10, 00)],\n",
    "})"
   ],
   "metadata": {
    "collapsed": false,
    "pycharm": {
     "name": "#%%\n"
    }
   }
  },
  {
   "cell_type": "code",
   "execution_count": 94,
   "outputs": [
    {
     "name": "stdout",
     "output_type": "stream",
     "text": [
      "   release_id satellite team_analyzing       start_release  \\\n",
      "0           1     Test1           Luis 2022-10-15 18:16:10   \n",
      "1           2     Test2          Maxar 2022-10-25 17:44:22   \n",
      "2           3     Test3        Kayrros 2022-10-25 17:44:22   \n",
      "\n",
      "          end_release  gas_kgh_mean  gas_kgh_sigma  meter_sigma  \\\n",
      "0 2022-10-15 18:36:00      0.000000       0.000000          NaN   \n",
      "1 2022-10-25 18:10:00   1025.589677      99.868814     1.310053   \n",
      "2 2022-10-25 18:10:00   1025.589677      99.868814     1.310053   \n",
      "\n",
      "   ch4_fraction_km  ch4_fraction_km_sigma  ch4_kgh_mean  ch4_kgh_sigma  \n",
      "0              NaN                    NaN           NaN            NaN  \n",
      "1         0.950644               0.001366    974.970673      94.958189  \n",
      "2         0.950644               0.001366    974.970673      94.958189  \n"
     ]
    }
   ],
   "source": [
    "# Run function to determine flow rates for each release\n",
    "\n",
    "release_rates =[]\n",
    "\n",
    "for index, release in satellite_timestamps.iterrows():\n",
    "    start_t = release.start_release\n",
    "    end_t = release.end_release\n",
    "    release_details = calc_average_release(start_t, end_t)\n",
    "    release_rates.append(release_details)\n",
    "\n",
    "final_releases = pd.DataFrame(release_rates)\n",
    "summary = pd.concat([satellite_timestamps, final_releases], axis=1)\n",
    "\n",
    "print(summary)"
   ],
   "metadata": {
    "collapsed": false,
    "pycharm": {
     "name": "#%%\n"
    }
   }
  },
  {
   "cell_type": "code",
   "execution_count": 18,
   "outputs": [
    {
     "ename": "TypeError",
     "evalue": "calc_1min_windspeed() got an unexpected keyword argument 'duration'",
     "output_type": "error",
     "traceback": [
      "\u001B[0;31m---------------------------------------------------------------------------\u001B[0m",
      "\u001B[0;31mTypeError\u001B[0m                                 Traceback (most recent call last)",
      "\u001B[0;32m/var/folders/d9/mx01w3495mjd7l__vt72_xl00000gn/T/ipykernel_18179/3870977695.py\u001B[0m in \u001B[0;36m<module>\u001B[0;34m\u001B[0m\n\u001B[0;32m----> 1\u001B[0;31m \u001B[0mcalc_1min_windspeed\u001B[0m\u001B[0;34m(\u001B[0m\u001B[0mstart_t\u001B[0m\u001B[0;34m,\u001B[0m \u001B[0mduration\u001B[0m\u001B[0;34m=\u001B[0m\u001B[0;36m5\u001B[0m\u001B[0;34m)\u001B[0m\u001B[0;34m\u001B[0m\u001B[0;34m\u001B[0m\u001B[0m\n\u001B[0m\u001B[1;32m      2\u001B[0m \u001B[0;34m\u001B[0m\u001B[0m\n",
      "\u001B[0;31mTypeError\u001B[0m: calc_1min_windspeed() got an unexpected keyword argument 'duration'"
     ]
    }
   ],
   "source": [
    "calc_1min_windspeed(start_t, duration=5)"
   ],
   "metadata": {
    "collapsed": false,
    "pycharm": {
     "name": "#%%\n"
    }
   }
  },
  {
   "cell_type": "code",
   "execution_count": 81,
   "metadata": {},
   "outputs": [
    {
     "data": {
      "text/plain": "(Timestamp('2022-11-15 23:55:00'), Timestamp('2022-11-16 00:00:00'))"
     },
     "execution_count": 81,
     "metadata": {},
     "output_type": "execute_result"
    }
   ],
   "source": [
    "jj = 69\n",
    "start_t = satellite_overpass_times.loc[jj, 'start_release']\n",
    "end_t = satellite_overpass_times.loc[jj, 'end_release']\n",
    "start_t, end_t"
   ]
  },
  {
   "cell_type": "code",
   "execution_count": 82,
   "outputs": [
    {
     "name": "stdout",
     "output_type": "stream",
     "text": [
      "Do not attempt to calculate average flow across multiple dates. Please consider a new start or end time.\n"
     ]
    }
   ],
   "source": [
    "# satellite_overpass_times\n",
    "calc_average_release(start_t, end_t)\n",
    "# release_details = calc_average_release(start_t, end_t)\n",
    "# release_details"
   ],
   "metadata": {
    "collapsed": false,
    "pycharm": {
     "name": "#%%\n"
    }
   }
  }
 ],
 "metadata": {
  "kernelspec": {
   "display_name": "Python 3 (ipykernel)",
   "language": "python",
   "name": "python3"
  },
  "language_info": {
   "codemirror_mode": {
    "name": "ipython",
    "version": 3
   },
   "file_extension": ".py",
   "mimetype": "text/x-python",
   "name": "python",
   "nbconvert_exporter": "python",
   "pygments_lexer": "ipython3",
   "version": "3.10.10"
  }
 },
 "nbformat": 4,
 "nbformat_minor": 1
}
