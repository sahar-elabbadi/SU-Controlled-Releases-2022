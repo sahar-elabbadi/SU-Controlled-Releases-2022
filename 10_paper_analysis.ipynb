{
 "cells": [
  {
   "cell_type": "markdown",
   "source": [
    "## Analysis for paper writing\n",
    "Author: Sahar H. El Abbadi\n",
    "Date: 2023-04-12\n"
   ],
   "metadata": {
    "collapsed": false
   }
  },
  {
   "cell_type": "markdown",
   "source": [
    "## Summarize distribution of overpasses\n",
    "\n",
    "Total number of overpasses, missing data, max and min given to each team, number that passed Stanford QC\n",
    "\n",
    "Missing overpasses: documented as an overpass by Stanford, but not included in Operator Report file"
   ],
   "metadata": {
    "collapsed": false
   }
  },
  {
   "cell_type": "markdown",
   "source": [
    "#### Carbon Mapper overpass summary for results"
   ],
   "metadata": {
    "collapsed": false
   }
  },
  {
   "cell_type": "code",
   "execution_count": 8,
   "outputs": [
    {
     "name": "stdout",
     "output_type": "stream",
     "text": [
      "Carbon Mapper: 121 flightlines reported to SU\n",
      "8 overpasses that fail SU QC\n",
      "113 overpasses that pass SU QC\n",
      "82 overpasses quantified by Carbon Mapper\n",
      "31 overpasses removed by Carbon Mapper\n",
      "\n",
      "3 overpasses documented by Stanford but not reported by Carbon Mapper\n",
      "\n",
      "Total releases conducted by Stanford (including missing overpasses not reported by Carbon Mapper: 124\n",
      "\n",
      "Largest volume overpass for Carbon Mapper that passes SU qc:\n",
      "Release Rate: 1443.09917328525 kg CH4 / hr\n",
      "[1366.7685660986533, 1519.4297804718465, 95% CI]\n",
      "(sigma from gas flow: 40.877526)\n",
      "(sigma from meter: 1.936967)\n",
      "(sigma from gas composition: 0.001362)\n",
      "(combined total sigma: 38.944187)\n",
      "\n",
      "Largest volume overpass for Carbon Mapper that passes operator & SU qc:\n",
      "Release Rate: 855.7130366849999 kg CH4 / hr\n",
      "[844.1545076813927, 867.2715656886071, 95% CI]\n",
      "(sigma from gas flow: 5.014883)\n",
      "(sigma from meter: 1.143755)\n",
      "(sigma from gas composition: 0.003645)\n",
      "(combined total sigma: 5.897209)\n",
      "\n",
      "Smallest non-zero volume overpass for Carbon Mapper that passes operator and SU qc:\n",
      "Release Rate: 4.4451804176775 kg CH4 / hr\n",
      "[4.301638947741193, 4.588721887613808, 95% CI]\n",
      "(sigma from gas flow: 0.067039)\n",
      "(sigma from meter: 0.039443)\n",
      "(sigma from gas composition: 0.001617)\n",
      "(combined total sigma: 0.073235)\n",
      "\n",
      "Smallest non-zero volume overpass for Carbon Mapper that passes operator and SU qc:\n",
      "Release Rate: 4.4451804176775 kg CH4 / hr\n",
      "[4.301638947741193, 4.588721887613808, 95% CI]\n",
      "(sigma from gas flow: 0.067039)\n",
      "(sigma from meter: 0.039443)\n",
      "(sigma from gas composition: 0.001617)\n",
      "(combined total sigma: 0.073235)\n",
      "\n",
      "Number of zero releases to Carbon Mapper: 8\n",
      "\n",
      "No false positives detected, all zero releases were correctly categorized\n",
      "\n",
      "False negatives detected: 3\n",
      "\n",
      "Largest false negative for Carbon Mapper: \n",
      "Release Rate: 6.612948731013749 kg CH4 / hr\n",
      "[6.465319063755733, 6.7605783982717655, 95% CI]\n",
      "(sigma from gas flow: 0.068967)\n",
      "(sigma from meter: 0.039565)\n",
      "(sigma from gas composition: 0.001617)\n",
      "(combined total sigma: 0.075321)\n",
      "\n",
      "Smallest detected plume by Carbon Mapper:\n",
      "Release Rate: 10.92213624004875 kg CH4 / hr\n",
      "[10.782192540182976, 11.062079939914526, 95% CI]\n",
      "(sigma from gas flow: 0.061894)\n",
      "(sigma from meter: 0.039720)\n",
      "(sigma from gas composition: 0.001617)\n",
      "(combined total sigma: 0.071400)\n",
      "\n",
      "Smallest quantified plume by Carbon Mapper:\n",
      "Release Rate: 10.92213624004875 kg CH4 / hr\n",
      "[10.782192540182976, 11.062079939914526, 95% CI]\n",
      "(sigma from gas flow: 0.061894)\n",
      "(sigma from meter: 0.039720)\n",
      "(sigma from gas composition: 0.001617)\n",
      "(combined total sigma: 0.071400)\n",
      "\n"
     ]
    }
   ],
   "source": [
    "from writing_analysis import operator_releases_summary_stats\n",
    "# Carbon Mapper\n",
    "operator = 'Carbon Mapper'\n",
    "operator_releases_summary_stats(operator)"
   ],
   "metadata": {
    "collapsed": false
   }
  },
  {
   "cell_type": "markdown",
   "source": [
    "### GHGSat summary for results"
   ],
   "metadata": {
    "collapsed": false
   }
  },
  {
   "cell_type": "code",
   "execution_count": 10,
   "outputs": [
    {
     "name": "stdout",
     "output_type": "stream",
     "text": [
      "GHGSat: 192 flightlines reported to SU\n",
      "57 overpasses that fail SU QC\n",
      "135 overpasses that pass SU QC\n",
      "134 overpasses quantified by GHGSat\n",
      "1 overpasses removed by GHGSat\n",
      "\n",
      "2 overpasses documented by Stanford but not reported by GHGSat\n",
      "\n",
      "Total releases conducted by Stanford (including missing overpasses not reported by GHGSat: 194\n",
      "\n",
      "Largest volume overpass for GHGSat that passes SU qc:\n",
      "Release Rate: 1144.809472515 kg CH4 / hr\n",
      "[1112.419998540914, 1177.1989464890858, 95% CI]\n",
      "(sigma from gas flow: 16.629319)\n",
      "(sigma from meter: 1.530164)\n",
      "(sigma from gas composition: 0.003645)\n",
      "(combined total sigma: 16.525242)\n",
      "\n",
      "Largest volume overpass for GHGSat that passes operator & SU qc:\n",
      "Release Rate: 1144.809472515 kg CH4 / hr\n",
      "[1112.419998540914, 1177.1989464890858, 95% CI]\n",
      "(sigma from gas flow: 16.629319)\n",
      "(sigma from meter: 1.530164)\n",
      "(sigma from gas composition: 0.003645)\n",
      "(combined total sigma: 16.525242)\n",
      "\n",
      "Smallest non-zero volume overpass for GHGSat that passes operator and SU qc:\n",
      "Release Rate: 1.049607814791 kg CH4 / hr\n",
      "[1.0192273822188926, 1.0799882473631073, 95% CI]\n",
      "(sigma from gas flow: 0.014922)\n",
      "(sigma from meter: 0.005792)\n",
      "(sigma from gas composition: 0.002693)\n",
      "(combined total sigma: 0.015500)\n",
      "\n",
      "Smallest non-zero volume overpass for GHGSat that passes operator and SU qc:\n",
      "Release Rate: 1.049607814791 kg CH4 / hr\n",
      "[1.0192273822188926, 1.0799882473631073, 95% CI]\n",
      "(sigma from gas flow: 0.014922)\n",
      "(sigma from meter: 0.005792)\n",
      "(sigma from gas composition: 0.002693)\n",
      "(combined total sigma: 0.015500)\n",
      "\n",
      "Number of zero releases to GHGSat: 4\n",
      "\n",
      "No false positives detected, all zero releases were correctly categorized\n",
      "\n",
      "False negatives detected: 8\n",
      "\n",
      "Largest false negative for GHGSat: \n",
      "Release Rate: 29.17336281606 kg CH4 / hr\n",
      "[28.992668141880767, 29.35405749023923, 95% CI]\n",
      "(sigma from gas flow: 0.017611)\n",
      "(sigma from meter: 0.039155)\n",
      "(sigma from gas composition: 0.002693)\n",
      "(combined total sigma: 0.092191)\n",
      "\n",
      "Smallest detected plume by GHGSat:\n",
      "Release Rate: 2.9122165317825 kg CH4 / hr\n",
      "[2.861638197654512, 2.962794865910489, 95% CI]\n",
      "(sigma from gas flow: 0.023696)\n",
      "(sigma from meter: 0.005821)\n",
      "(sigma from gas composition: 0.003645)\n",
      "(combined total sigma: 0.025805)\n",
      "\n",
      "Smallest quantified plume by GHGSat:\n",
      "Release Rate: 2.9122165317825 kg CH4 / hr\n",
      "[2.861638197654512, 2.962794865910489, 95% CI]\n",
      "(sigma from gas flow: 0.023696)\n",
      "(sigma from meter: 0.005821)\n",
      "(sigma from gas composition: 0.003645)\n",
      "(combined total sigma: 0.025805)\n",
      "\n"
     ]
    }
   ],
   "source": [
    "from writing_analysis import operator_releases_summary_stats\n",
    "# GHGSat\n",
    "operator = 'GHGSat'\n",
    "operator_releases_summary_stats(operator)"
   ],
   "metadata": {
    "collapsed": false
   }
  },
  {
   "cell_type": "code",
   "execution_count": 5,
   "outputs": [
    {
     "name": "stdout",
     "output_type": "stream",
     "text": [
      "Number of overpasses that pass SU quality control but are flagged by GHGSat as sub-optimal conditions for quantification: 9\n"
     ]
    }
   ],
   "source": [
    "# Check GHGSat's internal QC for points they quantified but flagged as sub-optimal\n",
    "\n",
    "from methods_source import load_operator_report_dictionary, load_overpass_summary\n",
    "operator = 'GHGSat'\n",
    "ghg_report = load_operator_report_dictionary()['ghg_1']\n",
    "\n",
    "# QC flag of GH-2 means that emissions were quantified despite sub-optimal conditions.\n",
    "# QC flag of GH-4 means diffuse emissions visible over site\n",
    "\n",
    "ghg_report_quantified = ghg_report.loc[ghg_report.QuantifiedPlume == True]\n",
    "qc_mask = (ghg_report_quantified['QCFlag'] == 'GH-2') | (ghg_report_quantified['QCFlag'] == 'GH-4')\n",
    "ghg_report_poor_conditions = ghg_report_quantified.loc[qc_mask]\n",
    "# list of overpass ID's with poor conditions but quantified\n",
    "poor_condition_overpasses = ghg_report_poor_conditions['overpass_id']\n",
    "overpasses = load_overpass_summary(operator, stage=1)\n",
    "\n",
    "# Find the overpasses in the overpass summary, to see which ones of them pass Stanford QC\n",
    "poor_condition_overpass_summary = overpasses[overpasses['overpass_id'].isin(poor_condition_overpasses)]\n",
    "\n",
    "# Select overpasses that pass Stanford QC\n",
    "poor_condition_overpasses_pass_SU = poor_condition_overpass_summary.loc[poor_condition_overpass_summary.stanford_kept == True]\n",
    "\n",
    "print(f'Number of overpasses that pass SU quality control but are flagged by GHGSat as sub-optimal conditions for quantification: {len(poor_condition_overpasses_pass_SU)}')"
   ],
   "metadata": {
    "collapsed": false
   }
  },
  {
   "cell_type": "code",
   "execution_count": 6,
   "outputs": [
    {
     "name": "stdout",
     "output_type": "stream",
     "text": [
      "Number of false negatives that were less than 5 kgh: 5\n",
      "\n",
      "False negatives that were above 5 kgh:\n",
      "\n",
      "189    29.005620\n",
      "190    29.173363\n",
      "191    16.776718\n",
      "Name: release_rate_kgh, dtype: float64\n",
      "\n",
      "\n",
      "Release Rate: 29.005619982705003 kg CH4 / hr\n",
      "[28.826368090341575, 29.184871875068428, 95% CI]\n",
      "(sigma from gas flow: 0.016273)\n",
      "(sigma from meter: 0.038930)\n",
      "(sigma from gas composition: 0.002693)\n",
      "(combined total sigma: 0.091455)\n",
      "\n",
      "Release Rate: 29.17336281606 kg CH4 / hr\n",
      "[28.992668141880767, 29.35405749023923, 95% CI]\n",
      "(sigma from gas flow: 0.017611)\n",
      "(sigma from meter: 0.039155)\n",
      "(sigma from gas composition: 0.002693)\n",
      "(combined total sigma: 0.092191)\n",
      "\n",
      "Release Rate: 16.7767181097825 kg CH4 / hr\n",
      "[16.67262383465725, 16.88081238490775, 95% CI]\n",
      "(sigma from gas flow: 0.010653)\n",
      "(sigma from meter: 0.022517)\n",
      "(sigma from gas composition: 0.002693)\n",
      "(combined total sigma: 0.053109)\n",
      "\n"
     ]
    }
   ],
   "source": [
    "# Further investigate GHGSat false negatives, as they detect small releases but also had some higher false negatives\n",
    "from methods_source import load_overpass_summary, classify_confusion_categories\n",
    "\n",
    "from writing_analysis import print_overpass_info\n",
    "\n",
    "operator = 'GHGSat'\n",
    "overpasses = load_overpass_summary(operator, stage=1)\n",
    "pass_su_qc = overpasses.loc[overpasses.qc_summary == 'pass_all']\n",
    "true_positives, false_positives, true_negatives, false_negatives = classify_confusion_categories(pass_su_qc)\n",
    "\n",
    "# How many of these releases were less than 5 kgh?\n",
    "small_false_negatives = false_negatives.loc[false_negatives['release_rate_kgh'] < 5]\n",
    "print(f'Number of false negatives that were less than 5 kgh: {len(small_false_negatives)}\\n')\n",
    "\n",
    "# How many of these releases were less than 5 kgh?\n",
    "large_false_negatives = false_negatives.loc[false_negatives['release_rate_kgh'] > 5]\n",
    "print(f'False negatives that were above 5 kgh:\\n')\n",
    "print(large_false_negatives['release_rate_kgh'])\n",
    "print(f'\\n')\n",
    "\n",
    "# print details of each of hte false negatives that is over 5 kgh\n",
    "for index, row in large_false_negatives.iterrows():\n",
    "    print_overpass_info(row)"
   ],
   "metadata": {
    "collapsed": false
   }
  },
  {
   "cell_type": "markdown",
   "source": [
    "### Kairos summary for results"
   ],
   "metadata": {
    "collapsed": false
   }
  },
  {
   "cell_type": "code",
   "execution_count": 1,
   "outputs": [
    {
     "name": "stdout",
     "output_type": "stream",
     "text": [
      "Kairos: 349 flightlines reported to SU\n",
      "119 overpasses that fail SU QC\n",
      "230 overpasses that pass SU QC\n",
      "191 overpasses quantified by Kairos\n",
      "39 overpasses removed by Kairos\n",
      "\n",
      "0 overpasses documented by Stanford but not reported by Kairos\n",
      "\n",
      "Total releases conducted by Stanford (including missing overpasses not reported by Kairos: 349\n",
      "\n",
      "Largest volume overpass for Kairos that passes SU qc:\n",
      "Release Rate: 1113.1039234282498 kg CH4 / hr\n",
      "[1051.041147450797, 1175.1666994057025, 95% CI]\n",
      "(sigma from gas flow: 33.245082)\n",
      "(sigma from meter: 1.494038)\n",
      "(sigma from gas composition: 0.001362)\n",
      "(combined total sigma: 31.664682)\n",
      "\n",
      "Largest volume overpass for Kairos that passes operator & SU qc:\n",
      "Release Rate: 1041.956208132 kg CH4 / hr\n",
      "[987.154492035688, 1096.7579242283118, 95% CI]\n",
      "(sigma from gas flow: 29.336227)\n",
      "(sigma from meter: 1.398027)\n",
      "(sigma from gas composition: 0.001366)\n",
      "(combined total sigma: 27.960059)\n",
      "\n",
      "Smallest non-zero volume overpass for Kairos that passes SU qc:\n",
      "Release Rate: 0.6403340250047999 kg CH4 / hr\n",
      "[0.5921768033310193, 0.6884912466785804, 95% CI]\n",
      "(sigma from gas flow: 0.025173)\n",
      "(sigma from meter: 0.005778)\n",
      "(sigma from gas composition: 0.001366)\n",
      "(combined total sigma: 0.024570)\n",
      "\n",
      "Smallest non-zero volume overpass for Kairos that passes operator and SU qc:\n",
      "Release Rate: 0.6403340250047999 kg CH4 / hr\n",
      "[0.5921768033310193, 0.6884912466785804, 95% CI]\n",
      "(sigma from gas flow: 0.025173)\n",
      "(sigma from meter: 0.005778)\n",
      "(sigma from gas composition: 0.001366)\n",
      "(combined total sigma: 0.024570)\n",
      "\n",
      "Number of zero releases to Kairos: 18\n",
      "\n",
      "No false positives detected, all zero releases were correctly categorized\n",
      "\n",
      "False negatives detected: 49\n",
      "\n",
      "Largest false negative for Kairos: \n",
      "Release Rate: 10.466573328407998 kg CH4 / hr\n",
      "[10.400830153304936, 10.53231650351106, 95% CI]\n",
      "(sigma from gas flow: 0.028241)\n",
      "(sigma from meter: 0.014043)\n",
      "(sigma from gas composition: 0.001366)\n",
      "(combined total sigma: 0.033542)\n",
      "\n",
      "Smallest detected plume by Kairos:\n",
      "Release Rate: 3.4012686543540003 kg CH4 / hr\n",
      "[3.3459644807804825, 3.456572827927518, 95% CI]\n",
      "(sigma from gas flow: 0.027785)\n",
      "(sigma from meter: 0.005826)\n",
      "(sigma from gas composition: 0.002407)\n",
      "(combined total sigma: 0.028216)\n",
      "\n",
      "Smallest quantified plume by Kairos:\n",
      "Release Rate: 3.4012686543540003 kg CH4 / hr\n",
      "[3.3459644807804825, 3.456572827927518, 95% CI]\n",
      "(sigma from gas flow: 0.027785)\n",
      "(sigma from meter: 0.005826)\n",
      "(sigma from gas composition: 0.002407)\n",
      "(combined total sigma: 0.028216)\n",
      "\n"
     ]
    }
   ],
   "source": [
    "from writing_analysis import operator_releases_summary_stats\n",
    "# GHGSat\n",
    "operator = 'Kairos'\n",
    "operator_releases_summary_stats(operator)"
   ],
   "metadata": {
    "collapsed": false
   }
  },
  {
   "cell_type": "code",
   "execution_count": 7,
   "outputs": [
    {
     "name": "stdout",
     "output_type": "stream",
     "text": [
      "Total number of releases for Kairos less than 15 kgh: 107 \n"
     ]
    }
   ],
   "source": [
    "# Additional Kairos analysis\n",
    "from methods_source import load_overpass_summary\n",
    "# How many overpasses were at or below 10 kg/hr\n",
    "operator = 'Kairos'\n",
    "overpasses = load_overpass_summary(operator, stage=1)\n",
    "pass_all_qc = overpasses.loc[overpasses.pass_all_qc == True]\n",
    "\n",
    "lower_end = pass_all_qc.loc[pass_all_qc.release_rate_kgh < 15]\n",
    "print(f'Total number of releases for {operator} less than 15 kgh: {len(lower_end)} ')"
   ],
   "metadata": {
    "collapsed": false
   }
  },
  {
   "cell_type": "code",
   "execution_count": 9,
   "outputs": [
    {
     "name": "stdout",
     "output_type": "stream",
     "text": [
      "MethaneAIR: 24 flightlines reported to SU\n",
      "4 overpasses that fail SU QC\n",
      "20 overpasses that pass SU QC\n",
      "20 overpasses quantified by MethaneAIR\n",
      "0 overpasses removed by MethaneAIR\n",
      "\n",
      "2 overpasses documented by Stanford but not reported by MethaneAIR\n",
      "\n",
      "Total releases conducted by Stanford (including missing overpasses not reported by MethaneAIR: 26\n",
      "\n",
      "Largest volume overpass for MethaneAIR that passes SU qc:\n",
      "Release Rate: 1289.3507118009002 kg CH4 / hr\n",
      "[1221.5467589051889, 1357.1546646966117, 95% CI]\n",
      "(sigma from gas flow: 35.651584)\n",
      "(sigma from meter: 1.725101)\n",
      "(sigma from gas composition: 0.004610)\n",
      "(combined total sigma: 34.593854)\n",
      "\n",
      "Largest volume overpass for MethaneAIR that passes operator & SU qc:\n",
      "Release Rate: 1289.3507118009002 kg CH4 / hr\n",
      "[1221.5467589051889, 1357.1546646966117, 95% CI]\n",
      "(sigma from gas flow: 35.651584)\n",
      "(sigma from meter: 1.725101)\n",
      "(sigma from gas composition: 0.004610)\n",
      "(combined total sigma: 34.593854)\n",
      "\n",
      "Smallest non-zero volume overpass for MethaneAIR that passes SU qc:\n",
      "Release Rate: 24.420141170712 kg CH4 / hr\n",
      "[24.30721630677572, 24.53306603464828, 95% CI]\n",
      "(sigma from gas flow: 0.035178)\n",
      "(sigma from meter: 0.032765)\n",
      "(sigma from gas composition: 0.001366)\n",
      "(combined total sigma: 0.057615)\n",
      "\n",
      "Smallest non-zero volume overpass for MethaneAIR that passes operator and SU qc:\n",
      "Release Rate: 24.420141170712 kg CH4 / hr\n",
      "[24.30721630677572, 24.53306603464828, 95% CI]\n",
      "(sigma from gas flow: 0.035178)\n",
      "(sigma from meter: 0.032765)\n",
      "(sigma from gas composition: 0.001366)\n",
      "(combined total sigma: 0.057615)\n",
      "\n",
      "Number of zero releases to MethaneAIR: 1\n",
      "\n",
      "No false positives detected, all zero releases were correctly categorized\n",
      "\n",
      "False negatives detected: 1\n",
      "\n",
      "Largest false negative for MethaneAIR: \n",
      "Release Rate: 24.420141170712 kg CH4 / hr\n",
      "[24.30721630677572, 24.53306603464828, 95% CI]\n",
      "(sigma from gas flow: 0.035178)\n",
      "(sigma from meter: 0.032765)\n",
      "(sigma from gas composition: 0.001366)\n",
      "(combined total sigma: 0.057615)\n",
      "\n",
      "Smallest detected plume by MethaneAIR:\n",
      "Release Rate: 33.60693741122025 kg CH4 / hr\n",
      "[33.26890987589977, 33.94496494654073, 95% CI]\n",
      "(sigma from gas flow: 0.040516)\n",
      "(sigma from meter: 0.044965)\n",
      "(sigma from gas composition: 0.004610)\n",
      "(combined total sigma: 0.172463)\n",
      "\n",
      "Smallest quantified plume by MethaneAIR:\n",
      "Release Rate: 33.60693741122025 kg CH4 / hr\n",
      "[33.26890987589977, 33.94496494654073, 95% CI]\n",
      "(sigma from gas flow: 0.040516)\n",
      "(sigma from meter: 0.044965)\n",
      "(sigma from gas composition: 0.004610)\n",
      "(combined total sigma: 0.172463)\n",
      "\n"
     ]
    }
   ],
   "source": [
    "### MethaneAIR\n",
    "from writing_analysis import operator_releases_summary_stats\n",
    "# GHGSat\n",
    "operator = 'MethaneAIR'\n",
    "operator_releases_summary_stats(operator)"
   ],
   "metadata": {
    "collapsed": false
   }
  },
  {
   "cell_type": "code",
   "execution_count": null,
   "outputs": [],
   "source": [],
   "metadata": {
    "collapsed": false
   }
  }
 ],
 "metadata": {
  "kernelspec": {
   "display_name": "Python 3",
   "language": "python",
   "name": "python3"
  },
  "language_info": {
   "codemirror_mode": {
    "name": "ipython",
    "version": 2
   },
   "file_extension": ".py",
   "mimetype": "text/x-python",
   "name": "python",
   "nbconvert_exporter": "python",
   "pygments_lexer": "ipython2",
   "version": "2.7.6"
  }
 },
 "nbformat": 4,
 "nbformat_minor": 0
}
