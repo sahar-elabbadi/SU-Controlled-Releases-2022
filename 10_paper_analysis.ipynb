{
 "cells": [
  {
   "cell_type": "markdown",
   "source": [
    "## Analysis for paper writing\n",
    "Author: Sahar H. El Abbadi\n",
    "Date: 2023-04-12\n"
   ],
   "metadata": {
    "collapsed": false
   }
  },
  {
   "cell_type": "markdown",
   "source": [
    "## Summarize distribution of overpasses\n",
    "\n",
    "Total number of overpasses, missing data, max and min given to each team, number that passed Stanford QC\n",
    "\n",
    "Missing overpasses: documented as an overpass by Stanford, but not included in Operator Report file"
   ],
   "metadata": {
    "collapsed": false
   }
  },
  {
   "cell_type": "code",
   "execution_count": 1,
   "outputs": [
    {
     "name": "stdout",
     "output_type": "stream",
     "text": [
      "fail_su                      189\n",
      "missing                        7\n",
      "operator    cmghgkairosmairsciav\n",
      "pass_su                      515\n",
      "releases                     711\n",
      "dtype: object\n"
     ]
    }
   ],
   "source": [
    "# All releases conducted\n",
    "from methods_source import load_overpass_summary, find_missing_data, abbreviate_op_name\n",
    "import pandas as pd\n",
    "\n",
    "def summarize_releases(operator, strict_discard=False):\n",
    "    op_summary = load_overpass_summary(operator, stage=1, strict_discard=strict_discard)\n",
    "    operator_missing = len(find_missing_data(operator))\n",
    "    operator_releases = len(op_summary) + operator_missing\n",
    "    operator_pass_su = len(op_summary.loc[op_summary.stanford_kept == True])\n",
    "    operator_fail_su = len(op_summary.loc[op_summary.stanford_kept == False])\n",
    "    op_ab = abbreviate_op_name(operator)\n",
    "    summary = {\n",
    "        f'operator': op_ab,\n",
    "        f'releases': operator_releases,\n",
    "        f'pass_su': operator_pass_su,\n",
    "        f'fail_su': operator_fail_su,\n",
    "        f'missing': operator_missing,\n",
    "    }\n",
    "    return summary\n",
    "\n",
    "\n",
    "cm = summarize_releases('Carbon Mapper')\n",
    "ghg = summarize_releases('GHGSat')\n",
    "kairos = summarize_releases('Kairos')\n",
    "mair = summarize_releases('MethaneAIR')\n",
    "sciav = summarize_releases('Scientific Aviation', True)\n",
    "dicts = [cm, ghg, kairos, mair, sciav]\n",
    "\n",
    "# Combine all dictionaries into one\n",
    "summary = {key: [d[key] for d in dicts] for key in dicts[0]}\n",
    "\n",
    "# Convert to DataFrame:\n",
    "summary = pd.DataFrame.from_records(summary)\n",
    "print(summary.sum(axis=0))"
   ],
   "metadata": {
    "collapsed": false
   }
  },
  {
   "cell_type": "markdown",
   "source": [
    "## Determine overpass time\n",
    "\n",
    "Determine average time for each overpass"
   ],
   "metadata": {
    "collapsed": false
   }
  },
  {
   "cell_type": "code",
   "execution_count": 32,
   "outputs": [
    {
     "name": "stdout",
     "output_type": "stream",
     "text": [
      "Carbon Mapper average overpass time is 12:21 minutes\n",
      "GHGSat average overpass time is 03:48 minutes\n",
      "Kairos average overpass time is 03:14 minutes\n",
      "MethaneAIR average overpass time is 22:13 minutes\n",
      "Scientific Aviation average overpass time is 40:05 minutes\n"
     ]
    }
   ],
   "source": [
    "from methods_source import load_operator_flight_days\n",
    "\n",
    "def calc_average_overpass_time(operator):\n",
    "    op_overpasses = load_overpass_summary(operator, 1)\n",
    "    op_days = load_operator_flight_days(operator)\n",
    "\n",
    "    # Set overpass_datetime to index for easier filtering. First save a copy of datetime so I have a column that is not an index\n",
    "    op_overpasses['datetime_copy'] = op_overpasses['overpass_datetime']\n",
    "    op_datetime_index = op_overpasses.set_index('overpass_datetime')\n",
    "\n",
    "    # Set up dictionary for storing data\n",
    "    timestamps = pd.Series(dtype='float64')\n",
    "\n",
    "    for i in range(len(op_days)):\n",
    "        flight_day = op_days.iloc[i].start_time.strftime('%Y-%m-%d')\n",
    "        daily_overpasses = op_datetime_index.loc[flight_day]\n",
    "        delta_t = daily_overpasses['datetime_copy'].diff()\n",
    "        timestamps = pd.concat([timestamps, delta_t])\n",
    "\n",
    "    average_overpass_time = timestamps.mean()\n",
    "    overpass_minutes = str(average_overpass_time)[10:15]\n",
    "    print(f'{operator} average overpass time is {overpass_minutes} minutes')\n",
    "    return\n",
    "\n",
    "calc_average_overpass_time('Carbon Mapper')\n",
    "calc_average_overpass_time('GHGSat')\n",
    "calc_average_overpass_time('Kairos')\n",
    "calc_average_overpass_time('MethaneAIR')\n",
    "calc_average_overpass_time('Scientific Aviation')\n"
   ],
   "metadata": {
    "collapsed": false
   }
  },
  {
   "cell_type": "markdown",
   "source": [
    "#### Carbon Mapper overpass summary for results"
   ],
   "metadata": {
    "collapsed": false
   }
  },
  {
   "cell_type": "code",
   "execution_count": 7,
   "outputs": [
    {
     "name": "stdout",
     "output_type": "stream",
     "text": [
      "Carbon Mapper: 121 flightlines reported to SU\n",
      "8 overpasses that fail SU QC\n",
      "113 overpasses that pass SU QC\n",
      "82 overpasses quantified by Carbon Mapper\n",
      "31 overpasses removed by Carbon Mapper\n",
      "\n",
      "3 overpasses documented by Stanford but not reported by Carbon Mapper\n",
      "\n",
      "Total releases conducted by Stanford (including missing overpasses not reported by Carbon Mapper: 124\n",
      "\n",
      "Smallest non-zero volume overpass for Carbon Mapper that passes SU qc:\n",
      "Release Rate: 4.4451804176775 kg CH4 / hr\n",
      "[4.301638947741193, 4.588721887613808, 95% CI]\n",
      "(sigma from gas flow: 0.067039)\n",
      "(sigma from meter: 0.039443)\n",
      "(sigma from gas composition: 0.001617)\n",
      "(combined total sigma: 0.073235)\n",
      "\n",
      "Smallest non-zero volume overpass for Carbon Mapper that passes operator and SU qc:\n",
      "Release Rate: 4.4451804176775 kg CH4 / hr\n",
      "[4.301638947741193, 4.588721887613808, 95% CI]\n",
      "(sigma from gas flow: 0.067039)\n",
      "(sigma from meter: 0.039443)\n",
      "(sigma from gas composition: 0.001617)\n",
      "(combined total sigma: 0.073235)\n",
      "\n",
      "Largest volume overpass for Carbon Mapper that passes SU qc:\n",
      "Release Rate: 1443.09917328525 kg CH4 / hr\n",
      "[1366.7685660986533, 1519.4297804718465, 95% CI]\n",
      "(sigma from gas flow: 40.877526)\n",
      "(sigma from meter: 1.936967)\n",
      "(sigma from gas composition: 0.001362)\n",
      "(combined total sigma: 38.944187)\n",
      "\n",
      "Largest volume overpass for Carbon Mapper that passes operator & SU qc:\n",
      "Release Rate: 855.7130366849999 kg CH4 / hr\n",
      "[844.1545076813927, 867.2715656886071, 95% CI]\n",
      "(sigma from gas flow: 5.014883)\n",
      "(sigma from meter: 1.143755)\n",
      "(sigma from gas composition: 0.003645)\n",
      "(combined total sigma: 5.897209)\n",
      "\n",
      "Number of zero releases to Carbon Mapper: 8\n",
      "\n",
      "No false positives detected, all zero releases were correctly categorized\n",
      "\n",
      "False negatives detected: 3\n",
      "\n",
      "Largest false negative for Carbon Mapper: \n",
      "Release Rate: 6.612948731013749 kg CH4 / hr\n",
      "[6.465319063755733, 6.7605783982717655, 95% CI]\n",
      "(sigma from gas flow: 0.068967)\n",
      "(sigma from meter: 0.039565)\n",
      "(sigma from gas composition: 0.001617)\n",
      "(combined total sigma: 0.075321)\n",
      "\n",
      "Smallest detected plume by Carbon Mapper:\n",
      "Release Rate: 10.92213624004875 kg CH4 / hr\n",
      "[10.782192540182976, 11.062079939914526, 95% CI]\n",
      "(sigma from gas flow: 0.061894)\n",
      "(sigma from meter: 0.039720)\n",
      "(sigma from gas composition: 0.001617)\n",
      "(combined total sigma: 0.071400)\n",
      "\n",
      "Smallest quantified plume by Carbon Mapper:\n",
      "Release Rate: 10.92213624004875 kg CH4 / hr\n",
      "[10.782192540182976, 11.062079939914526, 95% CI]\n",
      "(sigma from gas flow: 0.061894)\n",
      "(sigma from meter: 0.039720)\n",
      "(sigma from gas composition: 0.001617)\n",
      "(combined total sigma: 0.071400)\n",
      "\n"
     ]
    }
   ],
   "source": [
    "from writing_analysis import operator_releases_summary_stats\n",
    "# Carbon Mapper\n",
    "operator = 'Carbon Mapper'\n",
    "operator_releases_summary_stats(operator)"
   ],
   "metadata": {
    "collapsed": false
   }
  },
  {
   "cell_type": "markdown",
   "source": [
    "### GHGSat summary for results"
   ],
   "metadata": {
    "collapsed": false
   }
  },
  {
   "cell_type": "code",
   "execution_count": null,
   "outputs": [],
   "source": [
    "from writing_analysis import operator_releases_summary_stats\n",
    "# GHGSat\n",
    "operator = 'GHGSat'\n",
    "operator_releases_summary_stats(operator)"
   ],
   "metadata": {
    "collapsed": false
   }
  },
  {
   "cell_type": "code",
   "execution_count": null,
   "outputs": [],
   "source": [
    "# Check GHGSat's internal QC for points they quantified but flagged as sub-optimal\n",
    "\n",
    "from methods_source import load_operator_report_dictionary, load_overpass_summary\n",
    "operator = 'GHGSat'\n",
    "ghg_report = load_operator_report_dictionary()['ghg_1']\n",
    "\n",
    "# QC flag of GH-2 means that emissions were quantified despite sub-optimal conditions.\n",
    "# QC flag of GH-4 means diffuse emissions visible over site\n",
    "\n",
    "ghg_report_quantified = ghg_report.loc[ghg_report.QuantifiedPlume == True]\n",
    "qc_mask = (ghg_report_quantified['QCFlag'] == 'GH-2') | (ghg_report_quantified['QCFlag'] == 'GH-4')\n",
    "ghg_report_poor_conditions = ghg_report_quantified.loc[qc_mask]\n",
    "# list of overpass ID's with poor conditions but quantified\n",
    "poor_condition_overpasses = ghg_report_poor_conditions['overpass_id']\n",
    "overpasses = load_overpass_summary(operator, stage=1)\n",
    "\n",
    "# Find the overpasses in the overpass summary, to see which ones of them pass Stanford QC\n",
    "poor_condition_overpass_summary = overpasses[overpasses['overpass_id'].isin(poor_condition_overpasses)]\n",
    "\n",
    "# Select overpasses that pass Stanford QC\n",
    "poor_condition_overpasses_pass_SU = poor_condition_overpass_summary.loc[poor_condition_overpass_summary.stanford_kept == True]\n",
    "\n",
    "print(f'Number of overpasses that pass SU quality control but are flagged by GHGSat as sub-optimal conditions for quantification: {len(poor_condition_overpasses_pass_SU)}')"
   ],
   "metadata": {
    "collapsed": false
   }
  },
  {
   "cell_type": "code",
   "execution_count": null,
   "outputs": [],
   "source": [
    "# Further investigate GHGSat false negatives, as they detect small releases but also had some higher false negatives\n",
    "from methods_source import load_overpass_summary, classify_confusion_categories\n",
    "\n",
    "from writing_analysis import print_overpass_info\n",
    "\n",
    "operator = 'GHGSat'\n",
    "overpasses = load_overpass_summary(operator, stage=1)\n",
    "pass_su_qc = overpasses.loc[overpasses.qc_summary == 'pass_all']\n",
    "true_positives, false_positives, true_negatives, false_negatives = classify_confusion_categories(pass_su_qc)\n",
    "\n",
    "# How many of these releases were less than 5 kgh?\n",
    "small_false_negatives = false_negatives.loc[false_negatives['release_rate_kgh'] < 5]\n",
    "print(f'Number of false negatives that were less than 5 kgh: {len(small_false_negatives)}\\n')\n",
    "\n",
    "# How many of these releases were less than 5 kgh?\n",
    "large_false_negatives = false_negatives.loc[false_negatives['release_rate_kgh'] > 5]\n",
    "print(f'False negatives that were above 5 kgh:\\n')\n",
    "print(large_false_negatives['release_rate_kgh'])\n",
    "print(f'\\n')\n",
    "\n",
    "# print details of each of hte false negatives that is over 5 kgh\n",
    "for index, row in large_false_negatives.iterrows():\n",
    "    print_overpass_info(row)"
   ],
   "metadata": {
    "collapsed": false
   }
  },
  {
   "cell_type": "markdown",
   "source": [
    "### Kairos summary for results"
   ],
   "metadata": {
    "collapsed": false
   }
  },
  {
   "cell_type": "code",
   "execution_count": null,
   "outputs": [],
   "source": [
    "from writing_analysis import operator_releases_summary_stats\n",
    "# GHGSat\n",
    "operator = 'Kairos'\n",
    "operator_releases_summary_stats(operator)"
   ],
   "metadata": {
    "collapsed": false
   }
  },
  {
   "cell_type": "code",
   "execution_count": null,
   "outputs": [],
   "source": [
    "# Additional Kairos analysis\n",
    "from methods_source import load_overpass_summary\n",
    "# How many overpasses were at or below 10 kg/hr\n",
    "operator = 'Kairos'\n",
    "overpasses = load_overpass_summary(operator, stage=1)\n",
    "pass_all_qc = overpasses.loc[overpasses.pass_all_qc == True]\n",
    "\n",
    "lower_end = pass_all_qc.loc[pass_all_qc.release_rate_kgh < 15]\n",
    "print(f'Total number of releases for {operator} less than 15 kgh: {len(lower_end)} ')"
   ],
   "metadata": {
    "collapsed": false
   }
  },
  {
   "cell_type": "markdown",
   "source": [
    "### MethaneAIR summary for results\n"
   ],
   "metadata": {
    "collapsed": false
   }
  },
  {
   "cell_type": "code",
   "execution_count": 33,
   "outputs": [
    {
     "name": "stdout",
     "output_type": "stream",
     "text": [
      "MethaneAIR: 24 flightlines reported to SU\n",
      "4 overpasses that fail SU QC\n",
      "20 overpasses that pass SU QC\n",
      "20 overpasses quantified by MethaneAIR\n",
      "0 overpasses removed by MethaneAIR\n",
      "\n",
      "2 overpasses documented by Stanford but not reported by MethaneAIR\n",
      "\n",
      "Total releases conducted by Stanford (including missing overpasses not reported by MethaneAIR: 26\n",
      "\n",
      "Smallest non-zero volume overpass for MethaneAIR that passes SU qc:\n",
      "Release Rate: 24.420141170712 kg CH4 / hr\n",
      "[24.30721630677572, 24.53306603464828, 95% CI]\n",
      "(sigma from gas flow: 0.035178)\n",
      "(sigma from meter: 0.032765)\n",
      "(sigma from gas composition: 0.001366)\n",
      "(combined total sigma: 0.057615)\n",
      "\n",
      "Smallest non-zero volume overpass for MethaneAIR that passes operator and SU qc:\n",
      "Release Rate: 24.420141170712 kg CH4 / hr\n",
      "[24.30721630677572, 24.53306603464828, 95% CI]\n",
      "(sigma from gas flow: 0.035178)\n",
      "(sigma from meter: 0.032765)\n",
      "(sigma from gas composition: 0.001366)\n",
      "(combined total sigma: 0.057615)\n",
      "\n",
      "Largest volume overpass for MethaneAIR that passes SU qc:\n",
      "Release Rate: 1289.3507118009002 kg CH4 / hr\n",
      "[1221.5467589051889, 1357.1546646966117, 95% CI]\n",
      "(sigma from gas flow: 35.651584)\n",
      "(sigma from meter: 1.725101)\n",
      "(sigma from gas composition: 0.004610)\n",
      "(combined total sigma: 34.593854)\n",
      "\n",
      "Largest volume overpass for MethaneAIR that passes operator & SU qc:\n",
      "Release Rate: 1289.3507118009002 kg CH4 / hr\n",
      "[1221.5467589051889, 1357.1546646966117, 95% CI]\n",
      "(sigma from gas flow: 35.651584)\n",
      "(sigma from meter: 1.725101)\n",
      "(sigma from gas composition: 0.004610)\n",
      "(combined total sigma: 34.593854)\n",
      "\n",
      "Number of zero releases to MethaneAIR: 1\n",
      "\n",
      "No false positives detected, all zero releases were correctly categorized\n",
      "\n",
      "False negatives detected: 1\n",
      "\n",
      "Largest false negative for MethaneAIR: \n",
      "Release Rate: 24.420141170712 kg CH4 / hr\n",
      "[24.30721630677572, 24.53306603464828, 95% CI]\n",
      "(sigma from gas flow: 0.035178)\n",
      "(sigma from meter: 0.032765)\n",
      "(sigma from gas composition: 0.001366)\n",
      "(combined total sigma: 0.057615)\n",
      "\n",
      "Smallest detected plume by MethaneAIR:\n",
      "Release Rate: 33.60693741122025 kg CH4 / hr\n",
      "[33.26890987589977, 33.94496494654073, 95% CI]\n",
      "(sigma from gas flow: 0.040516)\n",
      "(sigma from meter: 0.044965)\n",
      "(sigma from gas composition: 0.004610)\n",
      "(combined total sigma: 0.172463)\n",
      "\n",
      "Smallest quantified plume by MethaneAIR:\n",
      "Release Rate: 33.60693741122025 kg CH4 / hr\n",
      "[33.26890987589977, 33.94496494654073, 95% CI]\n",
      "(sigma from gas flow: 0.040516)\n",
      "(sigma from meter: 0.044965)\n",
      "(sigma from gas composition: 0.004610)\n",
      "(combined total sigma: 0.172463)\n",
      "\n"
     ]
    }
   ],
   "source": [
    "### MethaneAIR\n",
    "from writing_analysis import operator_releases_summary_stats\n",
    "operator = 'MethaneAIR'\n",
    "operator_releases_summary_stats(operator)"
   ],
   "metadata": {
    "collapsed": false
   }
  },
  {
   "cell_type": "markdown",
   "source": [
    "### Scientific Aviation summary for results\n"
   ],
   "metadata": {
    "collapsed": false
   }
  },
  {
   "cell_type": "code",
   "execution_count": 8,
   "outputs": [
    {
     "name": "stdout",
     "output_type": "stream",
     "text": [
      "Scientific Aviation: 18 flightlines reported to SU\n",
      "1 overpasses that fail SU QC\n",
      "17 overpasses that pass SU QC\n",
      "10 overpasses quantified by Scientific Aviation\n",
      "7 overpasses removed by Scientific Aviation\n",
      "\n",
      "0 overpasses documented by Stanford but not reported by Scientific Aviation\n",
      "\n",
      "Total releases conducted by Stanford (including missing overpasses not reported by Scientific Aviation: 18\n",
      "\n",
      "Smallest non-zero volume overpass for Scientific Aviation that passes SU qc:\n",
      "Release Rate: 3.773421855090184 kg CH4 / hr\n",
      "[3.7167966366816088, 3.830047073498759, 95% CI]\n",
      "(sigma from gas flow: 0.028501)\n",
      "(sigma from meter: 0.005828)\n",
      "(sigma from gas composition: 0.002032)\n",
      "(combined total sigma: 0.028890)\n",
      "\n",
      "Smallest non-zero volume overpass for Scientific Aviation that passes operator and SU qc:\n",
      "Release Rate: 3.773421855090184 kg CH4 / hr\n",
      "[3.7167966366816088, 3.830047073498759, 95% CI]\n",
      "(sigma from gas flow: 0.028501)\n",
      "(sigma from meter: 0.005828)\n",
      "(sigma from gas composition: 0.002032)\n",
      "(combined total sigma: 0.028890)\n",
      "\n",
      "Largest volume overpass for Scientific Aviation that passes SU qc:\n",
      "Release Rate: 802.5251649983484 kg CH4 / hr\n",
      "[775.7483056261059, 829.3020243705909, 95% CI]\n",
      "(sigma from gas flow: 14.168817)\n",
      "(sigma from meter: 1.073106)\n",
      "(sigma from gas composition: 0.002032)\n",
      "(combined total sigma: 13.661663)\n",
      "\n",
      "Largest volume overpass for Scientific Aviation that passes operator & SU qc:\n",
      "Release Rate: 802.5251649983484 kg CH4 / hr\n",
      "[775.7483056261059, 829.3020243705909, 95% CI]\n",
      "(sigma from gas flow: 14.168817)\n",
      "(sigma from meter: 1.073106)\n",
      "(sigma from gas composition: 0.002032)\n",
      "(combined total sigma: 13.661663)\n",
      "\n",
      "Number of zero releases to Scientific Aviation: 2\n",
      "\n",
      "No false positives detected, all zero releases were correctly categorized\n",
      "\n",
      "No false negatives detected, all zero releases were correctly categorized\n",
      "\n",
      "Smallest detected plume by Scientific Aviation:\n",
      "Release Rate: 3.773421855090184 kg CH4 / hr\n",
      "[3.7167966366816088, 3.830047073498759, 95% CI]\n",
      "(sigma from gas flow: 0.028501)\n",
      "(sigma from meter: 0.005828)\n",
      "(sigma from gas composition: 0.002032)\n",
      "(combined total sigma: 0.028890)\n",
      "\n",
      "Smallest quantified plume by Scientific Aviation:\n",
      "Release Rate: 3.773421855090184 kg CH4 / hr\n",
      "[3.7167966366816088, 3.830047073498759, 95% CI]\n",
      "(sigma from gas flow: 0.028501)\n",
      "(sigma from meter: 0.005828)\n",
      "(sigma from gas composition: 0.002032)\n",
      "(combined total sigma: 0.028890)\n",
      "\n"
     ]
    }
   ],
   "source": [
    "### SciAV\n",
    "from writing_analysis import operator_releases_summary_stats\n",
    "operator = 'Scientific Aviation'\n",
    "operator_releases_summary_stats(operator, strict_discard=True)"
   ],
   "metadata": {
    "collapsed": false
   }
  },
  {
   "cell_type": "code",
   "execution_count": null,
   "outputs": [],
   "source": [
    "# Additional Scientific Aviation analysis\n",
    "from methods_source import load_overpass_summary\n",
    "# Which dates contained SCIAV qc'ed points\n",
    "operator = 'Scientific Aviation'\n",
    "overpasses = load_overpass_summary(operator, strict_discard=True, stage=1)\n",
    "\n",
    "relevant_col = 'overpass_datetime'\n",
    "fail_sciav_qc_dates = overpasses.loc[overpasses.operator_kept == False][relevant_col]\n",
    "print(fail_sciav_qc_dates)"
   ],
   "metadata": {
    "collapsed": false
   }
  },
  {
   "cell_type": "markdown",
   "source": [
    "## Analyze Error Bar Profile\n",
    "\n",
    "What fraction of quantification estimates have upper or lower bounds that cross the parity line? Functions for testing parity apply the following filters to the operator overpasses:\n",
    "  - Must pass all QC\n",
    "  - Operator quantification is not null to not include NAN values as False (for not crossing parity line)"
   ],
   "metadata": {
    "collapsed": false
   }
  },
  {
   "cell_type": "code",
   "execution_count": 2,
   "outputs": [
    {
     "name": "stdout",
     "output_type": "stream",
     "text": [
      "Fraction of Carbon Mapper Stage 1 overpasses with 95% CI that encompasses parity line: 89%\n",
      "Fraction of Carbon Mapper Stage 2 overpasses with 95% CI that encompasses parity line: 76%\n",
      "Fraction of Carbon Mapper Stage 3 overpasses with 95% CI that encompasses parity line: 80%\n",
      "\n",
      "\n",
      "Fraction of GHGSat Stage 1 overpasses with 95% CI that encompasses parity line: 93%\n",
      "Fraction of GHGSat Stage 2 overpasses with 95% CI that encompasses parity line: 84%\n",
      "Fraction of GHGSat Stage 3 overpasses with 95% CI that encompasses parity line: 84%\n",
      "\n",
      "\n",
      "Fraction of MethaneAIR Stage 1 overpasses with 95% CI that encompasses parity line: 83%\n",
      "\n",
      "\n",
      "Fraction of Scientific Aviation Stage 1 overpasses with 95% CI that encompasses parity line: 67%\n",
      "\n",
      "\n"
     ]
    }
   ],
   "source": [
    "from writing_analysis import test_parity_all_stages\n",
    "\n",
    "# Carbon Mapper\n",
    "operator = 'Carbon Mapper'\n",
    "strict_discard = False\n",
    "test_parity_all_stages(operator)\n",
    "\n",
    "# GHGSat\n",
    "operator = 'GHGSat'\n",
    "strict_discard = False\n",
    "test_parity_all_stages(operator)\n",
    "\n",
    "# MethaneAIR\n",
    "operator = 'MethaneAIR'\n",
    "strict_discard = False\n",
    "test_parity_all_stages(operator)\n",
    "\n",
    "# Scientific Aviation\n",
    "operator = 'Scientific Aviation'\n",
    "strict_discard = True\n",
    "test_parity_all_stages(operator)"
   ],
   "metadata": {
    "collapsed": false
   }
  },
  {
   "cell_type": "code",
   "execution_count": 3,
   "outputs": [
    {
     "name": "stdout",
     "output_type": "stream",
     "text": [
      "Fraction of GHGSat Stage 1 overpasses with 95% CI that encompasses parity line: 93%\n",
      "Fraction of GHGSat Stage 2 overpasses with 95% CI that encompasses parity line: 84%\n",
      "Mean 95% CI error bar length for Stage 1: 113.16\n",
      "Mean 95% CI error bar length for Stage 2: 71.71\n",
      "Average ratio between Stage 2 and Stage 1: 0.6118\n",
      "Minimum CI ratio: 0.10\n",
      "Minimum CI ratio: 1.08\n",
      "\n",
      "Number of points that switch from crossing parity line in Stage 1 to not crossing parity line in Stage 2: 16\n",
      "\n",
      "Number of points that switch from NOT crossing parity line in Stage 1 to crossing parity line in Stage 2: 5\n",
      "\n"
     ]
    }
   ],
   "source": [
    "# Closer look at GHGSat parity plot points and how many cross the parity line\n",
    "\n",
    "from writing_analysis import calc_parity_intersection\n",
    "import pathlib\n",
    "import pandas as pd\n",
    "operator = 'GHGSat'\n",
    "\n",
    "ghg_1_df = calc_parity_intersection(operator, 1, strict_discard=False)\n",
    "ghg_1_df.to_csv(pathlib.PurePath('03_results', 'paper_analysis', 'ghg_1_df_parity_compare.csv'))\n",
    "\n",
    "ghg_2_df = calc_parity_intersection(operator, 2, strict_discard=False)\n",
    "ghg_2_df.to_csv(pathlib.PurePath('03_results', 'paper_analysis', 'ghg_2_df_parity_compare.csv'))\n",
    "\n",
    "compare_ghg = pd.DataFrame()\n",
    "compare_ghg['stage1_95CI'] = ghg_1_df['operator_95CI_bounds'] # how big are stage 1 error bars?\n",
    "compare_ghg['stage2_95CI'] = ghg_2_df['operator_95CI_bounds'] # how big are stage 2 error bars?\n",
    "\n",
    "compare_ghg['CI_ratio'] = compare_ghg['stage2_95CI'] / compare_ghg['stage1_95CI']\n",
    "compare_ghg['stage1_cross_parity'] = ghg_1_df['intersect_parity_line'] # cross parity in stage 1?\n",
    "compare_ghg['stage2_cross_parity'] = ghg_2_df['intersect_parity_line'] # cross parity in stage 2?\n",
    "\n",
    "stage1_95CI_mean = compare_ghg.stage1_95CI.mean()\n",
    "stage2_95CI_mean = compare_ghg.stage2_95CI.mean()\n",
    "mean_ratio = compare_ghg.CI_ratio.mean()\n",
    "stage1_cross_parity = len(compare_ghg.loc[compare_ghg.stage1_cross_parity == True])\n",
    "stage2_cross_parity = len(compare_ghg.loc[compare_ghg.stage2_cross_parity == True])\n",
    "print(f'Mean 95% CI error bar length for Stage 1: {stage1_95CI_mean:0.2f}')\n",
    "print(f'Mean 95% CI error bar length for Stage 2: {stage2_95CI_mean:0.2f}')\n",
    "print(f'Average ratio between Stage 2 and Stage 1: {mean_ratio:0.4f}')\n",
    "print(f'Minimum CI ratio: {compare_ghg.CI_ratio.min():0.2f}')\n",
    "print(f'Minimum CI ratio: {compare_ghg.CI_ratio.max():0.2f}\\n')\n",
    "\n",
    "\n",
    "# flip from cross parity to not cross parity\n",
    "mask_true_to_false = (compare_ghg.stage1_cross_parity == True) & (compare_ghg.stage2_cross_parity == False)\n",
    "flip_T_to_F = compare_ghg.loc[mask_true_to_false]\n",
    "\n",
    "print(f'Number of points that switch from crossing parity line in Stage 1 to not crossing parity line in Stage 2: {len(flip_T_to_F)}\\n')\n",
    "\n",
    "# flip from cross parity to not cross parity\n",
    "mask_false_to_true = (compare_ghg.stage1_cross_parity == False) & (compare_ghg.stage2_cross_parity == True)\n",
    "flip_F_to_T = compare_ghg.loc[mask_false_to_true]\n",
    "\n",
    "print(f'Number of points that switch from NOT crossing parity line in Stage 1 to crossing parity line in Stage 2: {len(flip_F_to_T)}\\n')\n"
   ],
   "metadata": {
    "collapsed": false
   }
  },
  {
   "cell_type": "code",
   "execution_count": 5,
   "outputs": [
    {
     "name": "stdout",
     "output_type": "stream",
     "text": [
      "Fraction of Scientific Aviation Stage 1 overpasses with 95% CI that encompasses parity line: 62%\n",
      "Number of points that cross parity line: 5\n"
     ]
    }
   ],
   "source": [
    "# Scientific Aviation\n",
    "operator = 'Scientific Aviation'\n",
    "strict_discard = True\n",
    "data = calc_parity_intersection(operator, stage=1, strict_discard=True)\n",
    "cross_parity = data.loc[data['intersect_parity_line'] == True]\n",
    "print(f'Number of points that cross parity line: {len(cross_parity)}')"
   ],
   "metadata": {
    "collapsed": false
   }
  },
  {
   "cell_type": "markdown",
   "source": [
    "### Kairos distance from parity line\n",
    "\n",
    "Kairos does not report uncertainty for their quantification estimates. Thus, we cannot look at how many of the points have error bars that cross the parity line.\n",
    "\n",
    "Instead, we look at how many are within 25% and 50% of the true value."
   ],
   "metadata": {
    "collapsed": false
   }
  },
  {
   "cell_type": "markdown",
   "source": [],
   "metadata": {
    "collapsed": false
   }
  },
  {
   "cell_type": "code",
   "execution_count": 17,
   "outputs": [
    {
     "name": "stdout",
     "output_type": "stream",
     "text": [
      "Sanity check:\n",
      "Number of points within 50% accuracy but not within 25% accuracy: 0\n",
      "\n",
      "Number of points within 25% of metered release rate: 47\n",
      "Percentage of measurements within 25% of metered rate: 37.9%\n",
      "Number of points within 25% of metered release rate: 91\n",
      "Percentage of measurements within 25% of metered rate: 73.4%\n"
     ]
    }
   ],
   "source": [
    "from methods_source import load_overpass_summary\n",
    "import pandas as pd\n",
    "\n",
    "kairos_1 = load_overpass_summary('Kairos', 1, strict_discard=False)\n",
    "\n",
    "# Filter for pass all QC\n",
    "kairos_1 = kairos_1.loc[kairos_1['qc_summary']=='pass_all']\n",
    "\n",
    "# Remove zero releases:\n",
    "kairos_1 = kairos_1.loc[kairos_1['non_zero_release'] == True]\n",
    "\n",
    "# Remove non-detected releases (operator quantification > 0)\n",
    "kairos_1 = kairos_1.loc[kairos_1['operator_quantification'] > 0]\n",
    "\n",
    "# Evan in Sherwin et al 2023 says 86% of Kairos quantification estimates fall within +/- 50% of the metered value\n",
    "\n",
    "kairos_accuracy = pd.DataFrame()\n",
    "kairos_accuracy['release_rate_kgh'] = kairos_1['release_rate_kgh']\n",
    "kairos_accuracy['operator_quantification'] = kairos_1['operator_quantification']\n",
    "kairos_accuracy['release_rate_0.50x'] = kairos_accuracy['release_rate_kgh'] * 0.5\n",
    "kairos_accuracy['release_rate_1.50x'] = kairos_accuracy['release_rate_kgh'] * 1.5\n",
    "kairos_accuracy['release_rate_0.25x'] = kairos_accuracy['release_rate_kgh'] * 0.75\n",
    "kairos_accuracy['release_rate_1.25x'] = kairos_accuracy['release_rate_kgh'] * 1.25\n",
    "\n",
    "multipliers = ['.25', '.50']\n",
    "accuracy_record = []\n",
    "for index, row in kairos_accuracy.iterrows():\n",
    "    new_row = {}\n",
    "    for multipler in multipliers:\n",
    "\n",
    "        upper_col = f'release_rate_1{multipler}x'\n",
    "        lower_col = f'release_rate_0{multipler}x'\n",
    "        upper_bound = row[upper_col]\n",
    "        lower_bound = row[lower_col]\n",
    "        estimate = row['operator_quantification']\n",
    "        # print(f'estimate: {estimate}')\n",
    "        # print(f'upper_bound: {upper_bound}')\n",
    "        # print(f'low_bound: {lower_bound}')\n",
    "        if (estimate <= upper_bound) and (estimate >= lower_bound):\n",
    "            record = True\n",
    "        else:\n",
    "            record = False\n",
    "        new_row['index'] = index\n",
    "        new_row[f'within_{multipler[1:3]}%'] = record\n",
    "    accuracy_record.append(new_row)\n",
    "\n",
    "test_accuracy = pd.DataFrame.from_records(accuracy_record, index='index')\n",
    "# add_cols=add_cols.astype({\"within_25%\":bool,\"within_50%\":bool})\n",
    "\n",
    "print(f'Sanity check:')\n",
    "test_mask = (test_accuracy['within_25%'] == True) & (test_accuracy['within_50%'] == False)\n",
    "print(f'Number of points within 50% accuracy but not within 25% accuracy: {len(test_accuracy.loc[test_mask])}\\n')\n",
    "\n",
    "total_points = len(test_accuracy)\n",
    "test_25_percent = len(test_accuracy[test_accuracy['within_25%'] == True])\n",
    "print(f'Number of points within 25% of metered release rate: {test_25_percent}')\n",
    "percent_within_25_percent = test_25_percent / total_points * 100\n",
    "print(f'Percentage of measurements within 25% of metered rate: {percent_within_25_percent:.1f}%')\n",
    "\n",
    "test_50_percent = len(test_accuracy[test_accuracy['within_50%'] == True])\n",
    "print(f'Number of points within 25% of metered release rate: {test_50_percent}')\n",
    "percent_within_50_percent = test_50_percent / total_points * 100\n",
    "print(f'Percentage of measurements within 25% of metered rate: {percent_within_50_percent:.1f}%')"
   ],
   "metadata": {
    "collapsed": false
   }
  },
  {
   "cell_type": "markdown",
   "source": [
    "## Analyze Error Profile - Absolute, Percent Error\n",
    "\n",
    "- Examine percent and absolute error profile in quantification estimates\n",
    "- Only include points that pass all QC\n",
    "- Residuals compare the quantification estimate to the OLS best fit\n"
   ],
   "metadata": {
    "collapsed": false
   }
  },
  {
   "cell_type": "markdown",
   "source": [
    "First, determine the ranges for residuals, absolute error, and percent error. These are used in making the figures in 11_paper_figures"
   ],
   "metadata": {
    "collapsed": false
   }
  },
  {
   "cell_type": "code",
   "execution_count": null,
   "outputs": [],
   "source": [
    "from writing_analysis import determine_relevant_error_ranges\n",
    "# Determine what to use for axis across all plots\n",
    "# First find min and max for residuals\n",
    "from methods_source import abbreviate_op_name\n",
    "import pandas as pd\n",
    "from writing_analysis import summarize_operator_stages_defaults\n",
    "\n",
    "\n",
    "operator_stages = summarize_operator_stages_defaults()\n",
    "\n",
    "summary = []\n",
    "for index, test in operator_stages.iterrows():\n",
    "    operator = test['operator']\n",
    "    stage = test['stage']\n",
    "    strict_discard = test['strict_discard']\n",
    "    plot_range = determine_relevant_error_ranges(operator, stage, 'pass_all', strict_discard)\n",
    "    summary.append(plot_range)\n",
    "\n",
    "range_summary = pd.DataFrame(summary)\n",
    "residual_ylim = [range_summary.min_residual.min(), range_summary.max_residual.max()]\n",
    "percent_error_ylim = [range_summary.min_error_percent.min(), range_summary.max_error_percent.max()]\n",
    "absolute_error_ylim = [range_summary.min_error_absolute.min(), range_summary.max_error_absolute.max()]\n",
    "\n",
    "print(f'Residual range is {residual_ylim[0]:.0f} to {residual_ylim[1]:.0f} kgh')\n",
    "print(f'Percent error range is {percent_error_ylim[0]:.0f}% to {percent_error_ylim[1]:.0f}%')\n",
    "print(f'Absolute error range is {absolute_error_ylim[0]:.0f} to {absolute_error_ylim[1]:.0f}')"
   ],
   "metadata": {
    "collapsed": false
   }
  },
  {
   "cell_type": "code",
   "execution_count": null,
   "outputs": [],
   "source": [
    "# Examine the error profile for each operator\n",
    "from writing_analysis import calculate_residuals_and_error\n",
    "operator = 'Carbon Mapper'\n",
    "stage = 1\n",
    "op_stage = calculate_residuals_and_error(operator, stage, qc_status='pass_all', strict_discard=False, time_ave=60, gas_comp_source='km')\n"
   ],
   "metadata": {
    "collapsed": false
   }
  },
  {
   "cell_type": "code",
   "execution_count": 7,
   "outputs": [
    {
     "name": "stdout",
     "output_type": "stream",
     "text": [
      "    overpass_id   overpass_datetime  zero_release  non_zero_release  \\\n",
      "5             6 2022-11-10 18:46:34         False              True   \n",
      "6             7 2022-11-10 19:26:04         False              True   \n",
      "7             8 2022-11-10 20:04:59          True             False   \n",
      "8             9 2022-11-10 20:47:38         False              True   \n",
      "9            10 2022-11-10 21:25:50         False              True   \n",
      "11           12 2022-11-11 19:14:36         False              True   \n",
      "12           13 2022-11-11 19:49:30         False              True   \n",
      "14           15 2022-11-11 20:56:01         False              True   \n",
      "15           16 2022-11-11 21:30:40          True             False   \n",
      "16           17 2022-11-11 22:42:59         False              True   \n",
      "\n",
      "    operator_kept  stanford_kept  phase_iii  pass_all_qc  altitude_feet  \\\n",
      "5            True           True          0         True            NaN   \n",
      "6            True           True          0         True            NaN   \n",
      "7            True           True          0         True            NaN   \n",
      "8            True           True          0         True            NaN   \n",
      "9            True           True          0         True            NaN   \n",
      "11           True           True          0         True            NaN   \n",
      "12           True           True          0         True            NaN   \n",
      "14           True           True          0         True            NaN   \n",
      "15           True           True          0         True            NaN   \n",
      "16           True           True          0         True            NaN   \n",
      "\n",
      "    fail_all_qc  ...  operator_quantification  operator_lower  operator_upper  \\\n",
      "5         False  ...                  155.525            95.8           215.3   \n",
      "6         False  ...                  275.900           204.6           347.2   \n",
      "7         False  ...                    2.600            -0.3             5.5   \n",
      "8         False  ...                   31.185             9.4            53.0   \n",
      "9         False  ...                   70.400            44.7            96.1   \n",
      "11        False  ...                   91.600            61.3           121.9   \n",
      "12        False  ...                    2.900            -0.3             6.1   \n",
      "14        False  ...                   18.070             5.9            30.3   \n",
      "15        False  ...                    0.090           -11.3            11.5   \n",
      "16        False  ...                  402.790           216.3           589.3   \n",
      "\n",
      "    qc_summary  meter_data  operator_data        qc   residual  \\\n",
      "5     pass_all  200.483398        155.525  pass_all  35.767727   \n",
      "6     pass_all  342.518430        275.900  pass_all  80.227024   \n",
      "7     pass_all    0.000000          2.600  pass_all -10.001749   \n",
      "8     pass_all   80.053114         31.185  pass_all -24.204000   \n",
      "9     pass_all  118.164153         70.400  pass_all  -5.358808   \n",
      "11    pass_all  156.108911         91.600  pass_all  -4.439741   \n",
      "12    pass_all    3.773422          2.900  pass_all -11.718590   \n",
      "14    pass_all   27.088342         18.070  pass_all  -9.010083   \n",
      "15    pass_all    0.000000          0.090  pass_all -12.511749   \n",
      "16    pass_all  802.525165        402.790  pass_all -38.750030   \n",
      "\n",
      "    quant_error_absolute  quant_error_percent  \n",
      "5             -44.958398           -22.424998  \n",
      "6             -66.618430           -19.449590  \n",
      "7               2.600000                  NaN  \n",
      "8             -48.868114           -61.044613  \n",
      "9             -47.764153           -40.421864  \n",
      "11            -64.508911           -41.323016  \n",
      "12             -0.873422           -23.146679  \n",
      "14             -9.018342           -33.292338  \n",
      "15              0.090000                  NaN  \n",
      "16           -399.735165           -49.809674  \n",
      "\n",
      "[10 rows x 28 columns]\n"
     ]
    }
   ],
   "source": [
    "# Examine the error profile for each operator\n",
    "from writing_analysis import calculate_residuals_and_error\n",
    "operator = 'Scientific Aviation'\n",
    "stage = 1\n",
    "op_stage = calculate_residuals_and_error(operator, stage, qc_status='pass_all', strict_discard=True, time_ave=60, gas_comp_source='km')\n",
    "print(op_stage)"
   ],
   "metadata": {
    "collapsed": false
   }
  },
  {
   "cell_type": "markdown",
   "source": [
    "# Kairos wind analysis\n"
   ],
   "metadata": {
    "collapsed": false
   }
  },
  {
   "cell_type": "code",
   "execution_count": null,
   "outputs": [],
   "source": [],
   "metadata": {
    "collapsed": false
   }
  },
  {
   "cell_type": "code",
   "execution_count": 7,
   "outputs": [
    {
     "data": {
      "text/plain": "<Figure size 600x600 with 1 Axes>",
      "image/png": "[encoded data removed]"
     },
     "metadata": {},
     "output_type": "display_data"
    }
   ],
   "source": [
    "from methods_source import load_overpass_summary, load_operator_report_dictionary, abbreviate_op_name\n",
    "from plot_methods import rand_jitter\n",
    "import matplotlib.pyplot as plt\n",
    "import numpy as np\n",
    "import datetime\n",
    "import pandas as pd\n",
    "import pathlib\n",
    "\n",
    "\n",
    "def plot_wind_normalized_MDL(operator, stage, n_bins, threshold, strict_discard=False, time_ave=60, gas_comp_source='km'):\n",
    "    # Load overpass summary for operator, stage, and discard criteria:\n",
    "    operator_df = load_overpass_summary(operator, stage, strict_discard, time_ave, gas_comp_source)\n",
    "\n",
    "    # load Kairos' clean data report\n",
    "    report_dictionary = load_operator_report_dictionary()\n",
    "    operator_report = report_dictionary['kairos_1']\n",
    "\n",
    "    operator_df['windspeed'] = operator_report['OperatorWindspeed']\n",
    "\n",
    "    wind_normalized = []\n",
    "    for index, row in operator_df.iterrows():\n",
    "        if row['operator_quantification'] == 0:\n",
    "            kgh_per_mps = 0\n",
    "        else:\n",
    "            kgh_per_mps = row['operator_quantification'] / row['windspeed']\n",
    "        wind_normalized.append(kgh_per_mps)\n",
    "\n",
    "    operator_df['operator_kgh_per_mps'] = wind_normalized\n",
    "\n",
    "    # Apply QC filter\n",
    "    # For SI: Carbon Mapper's QC for determining quantification only, and treat their detection column as applied to all points\n",
    "\n",
    "    # if (operator == 'Carbon Mapper') or (operator == 'Scientific Aviation'):\n",
    "    #     operator_df = operator_df[(operator_df.stanford_kept == 1)]\n",
    "    if (operator == 'Scientific Aviation'):\n",
    "        # Scientific Aviation explicitly stated that all data could be used in determining detection, their QC only\n",
    "        # applied to quantification\n",
    "        operator_df = operator_df[(operator_df.stanford_kept == 1)]\n",
    "    else:\n",
    "        operator_df = operator_df[(operator_df.qc_summary == 'pass_all')]\n",
    "\n",
    "    # Must be non-zero values\n",
    "    operator_df = operator_df.query('non_zero_release == True')\n",
    "\n",
    "    # Select release under threshold value\n",
    "    operator_df = operator_df.query('operator_kgh_per_mps <= @threshold')\n",
    "\n",
    "    # Create bins for plot\n",
    "    bins = np.linspace(0, threshold, n_bins + 1)\n",
    "    detection_probability = np.zeros(n_bins)\n",
    "\n",
    "    # These variables are for keeping track of values as I iterate through the bins in the for loop below:\n",
    "    bin_size, bin_num_detected = np.zeros(n_bins).astype('int'), np.zeros(n_bins).astype('int')\n",
    "    bin_median = np.zeros(n_bins)\n",
    "    bin_two_sigma = np.zeros(n_bins)\n",
    "    two_sigma_upper, two_sigma_lower = np.zeros(n_bins), np.zeros(n_bins)\n",
    "\n",
    "    # For each bin, find number of data points and detection probability\n",
    "\n",
    "    for i in range(n_bins):\n",
    "\n",
    "        # Set boundary of bin\n",
    "        bin_min = bins[i]\n",
    "        bin_max = bins[i + 1]\n",
    "        bin_median[i] = (bin_min + bin_max) / 2\n",
    "\n",
    "        # Select data within the bin range\n",
    "        binned_data = operator_df.loc[operator_df.operator_kgh_per_mps < bin_max].loc[\n",
    "            operator_df.operator_kgh_per_mps >= bin_min]\n",
    "\n",
    "        # Count the total number of overpasses detected within each bin\n",
    "        bin_num_detected[i] = binned_data.operator_detected.sum()\n",
    "\n",
    "        n = len(binned_data)\n",
    "        bin_size[i] = n  # this is the y-value for the bin in the plot\n",
    "        p = binned_data.operator_detected.sum() / binned_data.shape[0]  # df.shape[0] gives number of rows\n",
    "        detection_probability[i] = p\n",
    "\n",
    "        # Standard Deviation of a binomial distribution\n",
    "        sigma = np.sqrt(p * (1 - p) / n)\n",
    "        bin_two_sigma[i] = 2 * sigma\n",
    "\n",
    "        # Find the lower and upper bound defined by two sigma\n",
    "        two_sigma_lower[i] = 2 * sigma\n",
    "        two_sigma_upper[i] = 2 * sigma\n",
    "        if 2 * sigma + p > 1:\n",
    "            two_sigma_upper[i] = 1 - p  # probability cannot exceed 1\n",
    "        if p - 2 * sigma < 0:\n",
    "            two_sigma_lower[i] = p  # if error bar includes zero, set lower bound to p?\n",
    "\n",
    "    detection_prob = pd.DataFrame({\n",
    "        \"bin_median\": bin_median,\n",
    "        \"detection_prob_mean\": detection_probability,\n",
    "        \"detection_prob_two_sigma_upper\": two_sigma_upper,\n",
    "        \"detection_prob_two_sigma_lower\": two_sigma_lower,\n",
    "        \"n_data_points\": bin_size,\n",
    "        \"n_detected\": bin_num_detected})\n",
    "\n",
    "    # Function will output cm_detection and detection_prob\n",
    "\n",
    "    detection_plot = detection_prob.copy()\n",
    "    fig, ax = plt.subplots(1, figsize=(6, 6))\n",
    "\n",
    "    # Set bin width:\n",
    "    w = threshold / n_bins / 2.5\n",
    "\n",
    "    # Use n_bins set above\n",
    "    for i in range(n_bins):\n",
    "        ax.annotate(f'{detection_plot.n_detected[i]} / {detection_plot.n_data_points[i]}',\n",
    "                    [detection_plot.bin_median[i] - w / 1.8, 0.03], fontsize=10)\n",
    "\n",
    "    # for plotting purpose, we don't want a small hyphen indicating zero uncertainty interval\n",
    "    detection_plot.loc[detection_plot['detection_prob_two_sigma_lower'] == 0, 'detection_prob_two_sigma_lower'] = np.nan\n",
    "    detection_plot.loc[detection_plot.detection_prob_two_sigma_upper == 0, 'detection_prob_two_sigma_upper'] = np.nan\n",
    "    detection_plot.loc[detection_plot.detection_prob_mean == 0, 'detection_prob_mean'] = np.nan\n",
    "\n",
    "    # To avoid RuntimeWarning: All-NaN axis encountered, set yerr to None if all values are np.nan in sigma values\n",
    "    # (this is the case for Carbon Mapper)\n",
    "\n",
    "    sigma_lower = detection_plot.detection_prob_two_sigma_lower\n",
    "    sigma_upper = detection_plot.detection_prob_two_sigma_upper\n",
    "\n",
    "    if sigma_lower.isnull().all() or sigma_upper.isnull().all():\n",
    "        y_error = None\n",
    "    else:\n",
    "        y_error = [sigma_lower, sigma_upper]\n",
    "\n",
    "    # Plot bars and detection points\n",
    "    ax.bar(detection_plot.bin_median,\n",
    "           detection_plot.detection_prob_mean,\n",
    "           # yerr=[detection_plot.detection_prob_two_sigma_lower, detection_plot.detection_prob_two_sigma_upper],\n",
    "           yerr=y_error,\n",
    "           error_kw=dict(lw=2, capsize=3, capthick=1, alpha=0.3),\n",
    "           width=threshold / n_bins - 0.5, alpha=0.6, color='#9ecae1', ecolor='black', capsize=2)\n",
    "\n",
    "    # yulia's color: edgecolor=\"black\",facecolors='none'\n",
    "    x_data = rand_jitter(operator_df.operator_kgh_per_mps)\n",
    "\n",
    "    ax.scatter(x_data, np.multiply(operator_df.operator_detected, 1),\n",
    "               facecolors='black',\n",
    "               marker='|')\n",
    "\n",
    "    # Add more room on top and bottom\n",
    "    ax.set_ylim([-0.05, 1.05])\n",
    "    ax.set_xlim([0, threshold + 0.5])\n",
    "\n",
    "    # Axes formatting and labels\n",
    "    ax.set_yticks([0.0, 0.2, 0.4, 0.6, 0.8, 1.0])\n",
    "    ax.set_yticklabels([0.0, 0.2, 0.4, 0.6, 0.8, 1.0], fontsize=11)\n",
    "    ax.set_xlabel('Methane Release Rate (kgh/mps)', fontsize=14)\n",
    "    ax.set_ylabel('Proportion detected', fontsize=14)\n",
    "    ax.tick_params(direction='in', right=True, top=True)\n",
    "    ax.tick_params(labelsize=12)\n",
    "    ax.minorticks_on()\n",
    "    ax.tick_params(labelbottom=True, labeltop=False, labelright=False, labelleft=True)\n",
    "    ax.tick_params(direction='in', which='minor', length=3, bottom=False, top=False, left=True, right=True)\n",
    "    ax.tick_params(direction='in', which='major', length=6, bottom=True, top=True, left=True, right=True)\n",
    "\n",
    "    # Set axes and background color to white\n",
    "    ax.set_facecolor('white')\n",
    "    ax.spines['top'].set_color('black')\n",
    "    ax.spines['left'].set_color('black')\n",
    "    ax.spines['right'].set_color('black')\n",
    "    ax.spines['bottom'].set_color('black')\n",
    "\n",
    "    plt.title(f'{operator} Probability of Detection - Stage {stage}')\n",
    "\n",
    "    # Save figure\n",
    "\n",
    "    if strict_discard == True:\n",
    "        discard = 'strict'\n",
    "    else:\n",
    "        discard = 'lax'\n",
    "\n",
    "    now = datetime.datetime.now()\n",
    "    save_time = now.strftime(\"%Y%m%d\")\n",
    "    op_ab = abbreviate_op_name(operator)\n",
    "    fig_name = f'detect_limit_{op_ab}_stage{stage}_{discard}_{save_time}'\n",
    "    fig_path = pathlib.PurePath('04_figures', '01_paper_figs', fig_name)\n",
    "    plt.savefig(fig_path)\n",
    "    plt.show()\n",
    "\n",
    "    return operator_df, detection_prob\n",
    "\n",
    "\n",
    "kairos_df, kairos_detection = plot_wind_normalized_MDL('Kairos', 1, 5, 25, strict_discard=False, time_ave=60, gas_comp_source='km')\n",
    "# kairos_overpasses = load_overpass_summary(operator='Kairos', strict_discard=False, stage=1)\n",
    "#\n",
    "# # load Kairos' clean data report\n",
    "# report_dictionary = load_operator_report_dictionary()\n",
    "# operator_report = report_dictionary['kairos_1']\n",
    "#\n",
    "# kairos_overpasses['windspeed'] = operator_report['OperatorWindspeed']\n",
    "# kairos_overpasses['operator_kgh_per_mps'] = kairos_overpasses['operator_quantification'] / kairos_overpasses['windspeed']"
   ],
   "metadata": {
    "collapsed": false
   }
  },
  {
   "cell_type": "code",
   "execution_count": null,
   "outputs": [],
   "source": [],
   "metadata": {
    "collapsed": false
   }
  }
 ],
 "metadata": {
  "kernelspec": {
   "display_name": "Python 3",
   "language": "python",
   "name": "python3"
  },
  "language_info": {
   "codemirror_mode": {
    "name": "ipython",
    "version": 2
   },
   "file_extension": ".py",
   "mimetype": "text/x-python",
   "name": "python",
   "nbconvert_exporter": "python",
   "pygments_lexer": "ipython2",
   "version": "2.7.6"
  }
 },
 "nbformat": 4,
 "nbformat_minor": 0
}
