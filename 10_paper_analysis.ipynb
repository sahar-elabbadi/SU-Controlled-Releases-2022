{
 "cells": [
  {
   "cell_type": "markdown",
   "source": [
    "## Analysis for paper writing\n",
    "Author: Sahar H. El Abbadi\n",
    "Date: 2023-04-12\n"
   ],
   "metadata": {
    "collapsed": false
   }
  },
  {
   "cell_type": "markdown",
   "source": [
    "## Summarize distribution of overpasses\n",
    "\n",
    "Total number of overpasses, missing data, max and min given to each team, number that passed Stanford QC\n",
    "\n",
    "Missing overpasses: documented as an overpass by Stanford, but not included in Operator Report file"
   ],
   "metadata": {
    "collapsed": false
   }
  },
  {
   "cell_type": "markdown",
   "source": [
    "#### Carbon Mapper overpass summary for results"
   ],
   "metadata": {
    "collapsed": false
   }
  },
  {
   "cell_type": "code",
   "execution_count": null,
   "outputs": [],
   "source": [
    "from writing_analysis import operator_releases_summary_stats\n",
    "# Carbon Mapper\n",
    "operator = 'Carbon Mapper'\n",
    "operator_releases_summary_stats(operator)"
   ],
   "metadata": {
    "collapsed": false
   }
  },
  {
   "cell_type": "markdown",
   "source": [
    "### GHGSat summary for results"
   ],
   "metadata": {
    "collapsed": false
   }
  },
  {
   "cell_type": "code",
   "execution_count": null,
   "outputs": [],
   "source": [
    "from writing_analysis import operator_releases_summary_stats\n",
    "# GHGSat\n",
    "operator = 'GHGSat'\n",
    "operator_releases_summary_stats(operator)"
   ],
   "metadata": {
    "collapsed": false
   }
  },
  {
   "cell_type": "code",
   "execution_count": null,
   "outputs": [],
   "source": [
    "# Check GHGSat's internal QC for points they quantified but flagged as sub-optimal\n",
    "\n",
    "from methods_source import load_operator_report_dictionary, load_overpass_summary\n",
    "operator = 'GHGSat'\n",
    "ghg_report = load_operator_report_dictionary()['ghg_1']\n",
    "\n",
    "# QC flag of GH-2 means that emissions were quantified despite sub-optimal conditions.\n",
    "# QC flag of GH-4 means diffuse emissions visible over site\n",
    "\n",
    "ghg_report_quantified = ghg_report.loc[ghg_report.QuantifiedPlume == True]\n",
    "qc_mask = (ghg_report_quantified['QCFlag'] == 'GH-2') | (ghg_report_quantified['QCFlag'] == 'GH-4')\n",
    "ghg_report_poor_conditions = ghg_report_quantified.loc[qc_mask]\n",
    "# list of overpass ID's with poor conditions but quantified\n",
    "poor_condition_overpasses = ghg_report_poor_conditions['overpass_id']\n",
    "overpasses = load_overpass_summary(operator, stage=1)\n",
    "\n",
    "# Find the overpasses in the overpass summary, to see which ones of them pass Stanford QC\n",
    "poor_condition_overpass_summary = overpasses[overpasses['overpass_id'].isin(poor_condition_overpasses)]\n",
    "\n",
    "# Select overpasses that pass Stanford QC\n",
    "poor_condition_overpasses_pass_SU = poor_condition_overpass_summary.loc[poor_condition_overpass_summary.stanford_kept == True]\n",
    "\n",
    "print(f'Number of overpasses that pass SU quality control but are flagged by GHGSat as sub-optimal conditions for quantification: {len(poor_condition_overpasses_pass_SU)}')"
   ],
   "metadata": {
    "collapsed": false
   }
  },
  {
   "cell_type": "code",
   "execution_count": null,
   "outputs": [],
   "source": [
    "# Further investigate GHGSat false negatives, as they detect small releases but also had some higher false negatives\n",
    "from methods_source import load_overpass_summary, classify_confusion_categories\n",
    "\n",
    "from writing_analysis import print_overpass_info\n",
    "\n",
    "operator = 'GHGSat'\n",
    "overpasses = load_overpass_summary(operator, stage=1)\n",
    "pass_su_qc = overpasses.loc[overpasses.qc_summary == 'pass_all']\n",
    "true_positives, false_positives, true_negatives, false_negatives = classify_confusion_categories(pass_su_qc)\n",
    "\n",
    "# How many of these releases were less than 5 kgh?\n",
    "small_false_negatives = false_negatives.loc[false_negatives['release_rate_kgh'] < 5]\n",
    "print(f'Number of false negatives that were less than 5 kgh: {len(small_false_negatives)}\\n')\n",
    "\n",
    "# How many of these releases were less than 5 kgh?\n",
    "large_false_negatives = false_negatives.loc[false_negatives['release_rate_kgh'] > 5]\n",
    "print(f'False negatives that were above 5 kgh:\\n')\n",
    "print(large_false_negatives['release_rate_kgh'])\n",
    "print(f'\\n')\n",
    "\n",
    "# print details of each of hte false negatives that is over 5 kgh\n",
    "for index, row in large_false_negatives.iterrows():\n",
    "    print_overpass_info(row)"
   ],
   "metadata": {
    "collapsed": false
   }
  },
  {
   "cell_type": "markdown",
   "source": [
    "### Kairos summary for results"
   ],
   "metadata": {
    "collapsed": false
   }
  },
  {
   "cell_type": "code",
   "execution_count": null,
   "outputs": [],
   "source": [
    "from writing_analysis import operator_releases_summary_stats\n",
    "# GHGSat\n",
    "operator = 'Kairos'\n",
    "operator_releases_summary_stats(operator)"
   ],
   "metadata": {
    "collapsed": false
   }
  },
  {
   "cell_type": "code",
   "execution_count": null,
   "outputs": [],
   "source": [
    "# Additional Kairos analysis\n",
    "from methods_source import load_overpass_summary\n",
    "# How many overpasses were at or below 10 kg/hr\n",
    "operator = 'Kairos'\n",
    "overpasses = load_overpass_summary(operator, stage=1)\n",
    "pass_all_qc = overpasses.loc[overpasses.pass_all_qc == True]\n",
    "\n",
    "lower_end = pass_all_qc.loc[pass_all_qc.release_rate_kgh < 15]\n",
    "print(f'Total number of releases for {operator} less than 15 kgh: {len(lower_end)} ')"
   ],
   "metadata": {
    "collapsed": false
   }
  },
  {
   "cell_type": "markdown",
   "source": [
    "### MethaneAIR summary for results\n"
   ],
   "metadata": {
    "collapsed": false
   }
  },
  {
   "cell_type": "code",
   "execution_count": null,
   "outputs": [],
   "source": [
    "### MethaneAIR\n",
    "from writing_analysis import operator_releases_summary_stats\n",
    "operator = 'MethaneAIR'\n",
    "operator_releases_summary_stats(operator)"
   ],
   "metadata": {
    "collapsed": false
   }
  },
  {
   "cell_type": "markdown",
   "source": [
    "### Scientific Aviation summary for results\n"
   ],
   "metadata": {
    "collapsed": false
   }
  },
  {
   "cell_type": "code",
   "execution_count": null,
   "outputs": [],
   "source": [
    "### SciAV\n",
    "from writing_analysis import operator_releases_summary_stats\n",
    "operator = 'Scientific Aviation'\n",
    "operator_releases_summary_stats(operator, strict_discard=True)"
   ],
   "metadata": {
    "collapsed": false
   }
  },
  {
   "cell_type": "code",
   "execution_count": null,
   "outputs": [],
   "source": [
    "# Additional Scientific Aviation analysis\n",
    "from methods_source import load_overpass_summary\n",
    "# Which dates contained SCIAV qc'ed points\n",
    "operator = 'Scientific Aviation'\n",
    "overpasses = load_overpass_summary(operator, strict_discard=True, stage=1)\n",
    "\n",
    "relevant_col = 'overpass_datetime'\n",
    "fail_sciav_qc_dates = overpasses.loc[overpasses.operator_kept == False][relevant_col]\n",
    "print(fail_sciav_qc_dates)"
   ],
   "metadata": {
    "collapsed": false
   }
  },
  {
   "cell_type": "markdown",
   "source": [
    "## Analyze Error Bar Profile\n",
    "\n",
    "What fraction of quantification estimates have upper or lower bounds that cross the parity line? Functions for testing parity apply the following filters to the operator overpasses:\n",
    "  - Must pass all QC\n",
    "  - Operator quantification is not null to not include NAN values as False (for not crossing parity line)"
   ],
   "metadata": {
    "collapsed": false
   }
  },
  {
   "cell_type": "code",
   "execution_count": 2,
   "outputs": [
    {
     "name": "stdout",
     "output_type": "stream",
     "text": [
      "Fraction of Carbon Mapper Stage 1 overpasses with 95% CI that encompasses parity line: 89%\n",
      "Fraction of Carbon Mapper Stage 2 overpasses with 95% CI that encompasses parity line: 76%\n",
      "Fraction of Carbon Mapper Stage 3 overpasses with 95% CI that encompasses parity line: 80%\n",
      "\n",
      "\n",
      "Fraction of GHGSat Stage 1 overpasses with 95% CI that encompasses parity line: 93%\n",
      "Fraction of GHGSat Stage 2 overpasses with 95% CI that encompasses parity line: 84%\n",
      "Fraction of GHGSat Stage 3 overpasses with 95% CI that encompasses parity line: 84%\n",
      "\n",
      "\n",
      "Fraction of MethaneAIR Stage 1 overpasses with 95% CI that encompasses parity line: 83%\n",
      "\n",
      "\n",
      "Fraction of Scientific Aviation Stage 1 overpasses with 95% CI that encompasses parity line: 67%\n",
      "\n",
      "\n"
     ]
    }
   ],
   "source": [
    "from writing_analysis import test_parity_all_stages\n",
    "\n",
    "# Carbon Mapper\n",
    "operator = 'Carbon Mapper'\n",
    "strict_discard = False\n",
    "test_parity_all_stages(operator)\n",
    "\n",
    "# GHGSat\n",
    "operator = 'GHGSat'\n",
    "strict_discard = False\n",
    "test_parity_all_stages(operator)\n",
    "\n",
    "# MethaneAIR\n",
    "operator = 'MethaneAIR'\n",
    "strict_discard = False\n",
    "test_parity_all_stages(operator)\n",
    "\n",
    "# Scientific Aviation\n",
    "operator = 'Scientific Aviation'\n",
    "strict_discard = True\n",
    "test_parity_all_stages(operator)"
   ],
   "metadata": {
    "collapsed": false
   }
  },
  {
   "cell_type": "code",
   "execution_count": 3,
   "outputs": [
    {
     "name": "stdout",
     "output_type": "stream",
     "text": [
      "Fraction of GHGSat Stage 1 overpasses with 95% CI that encompasses parity line: 93%\n",
      "Fraction of GHGSat Stage 2 overpasses with 95% CI that encompasses parity line: 84%\n",
      "Mean 95% CI error bar length for Stage 1: 113.16\n",
      "Mean 95% CI error bar length for Stage 2: 71.71\n",
      "Average ratio between Stage 2 and Stage 1: 0.6118\n",
      "Minimum CI ratio: 0.10\n",
      "Minimum CI ratio: 1.08\n",
      "\n",
      "Number of points that switch from crossing parity line in Stage 1 to not crossing parity line in Stage 2: 16\n",
      "\n",
      "Number of points that switch from NOT crossing parity line in Stage 1 to crossing parity line in Stage 2: 5\n",
      "\n"
     ]
    }
   ],
   "source": [
    "# Closer look at GHGSat parity plot points and how many cross the parity line\n",
    "\n",
    "from writing_analysis import calc_parity_intersection\n",
    "import pathlib\n",
    "import pandas as pd\n",
    "operator = 'GHGSat'\n",
    "\n",
    "ghg_1_df = calc_parity_intersection(operator, 1, strict_discard=False)\n",
    "ghg_1_df.to_csv(pathlib.PurePath('03_results', 'paper_analysis', 'ghg_1_df_parity_compare.csv'))\n",
    "\n",
    "ghg_2_df = calc_parity_intersection(operator, 2, strict_discard=False)\n",
    "ghg_2_df.to_csv(pathlib.PurePath('03_results', 'paper_analysis', 'ghg_2_df_parity_compare.csv'))\n",
    "\n",
    "compare_ghg = pd.DataFrame()\n",
    "compare_ghg['stage1_95CI'] = ghg_1_df['operator_95CI_bounds'] # how big are stage 1 error bars?\n",
    "compare_ghg['stage2_95CI'] = ghg_2_df['operator_95CI_bounds'] # how big are stage 2 error bars?\n",
    "\n",
    "compare_ghg['CI_ratio'] = compare_ghg['stage2_95CI'] / compare_ghg['stage1_95CI']\n",
    "compare_ghg['stage1_cross_parity'] = ghg_1_df['intersect_parity_line'] # cross parity in stage 1?\n",
    "compare_ghg['stage2_cross_parity'] = ghg_2_df['intersect_parity_line'] # cross parity in stage 2?\n",
    "\n",
    "stage1_95CI_mean = compare_ghg.stage1_95CI.mean()\n",
    "stage2_95CI_mean = compare_ghg.stage2_95CI.mean()\n",
    "mean_ratio = compare_ghg.CI_ratio.mean()\n",
    "stage1_cross_parity = len(compare_ghg.loc[compare_ghg.stage1_cross_parity == True])\n",
    "stage2_cross_parity = len(compare_ghg.loc[compare_ghg.stage2_cross_parity == True])\n",
    "print(f'Mean 95% CI error bar length for Stage 1: {stage1_95CI_mean:0.2f}')\n",
    "print(f'Mean 95% CI error bar length for Stage 2: {stage2_95CI_mean:0.2f}')\n",
    "print(f'Average ratio between Stage 2 and Stage 1: {mean_ratio:0.4f}')\n",
    "print(f'Minimum CI ratio: {compare_ghg.CI_ratio.min():0.2f}')\n",
    "print(f'Minimum CI ratio: {compare_ghg.CI_ratio.max():0.2f}\\n')\n",
    "\n",
    "\n",
    "# flip from cross parity to not cross parity\n",
    "mask_true_to_false = (compare_ghg.stage1_cross_parity == True) & (compare_ghg.stage2_cross_parity == False)\n",
    "flip_T_to_F = compare_ghg.loc[mask_true_to_false]\n",
    "\n",
    "print(f'Number of points that switch from crossing parity line in Stage 1 to not crossing parity line in Stage 2: {len(flip_T_to_F)}\\n')\n",
    "\n",
    "# flip from cross parity to not cross parity\n",
    "mask_false_to_true = (compare_ghg.stage1_cross_parity == False) & (compare_ghg.stage2_cross_parity == True)\n",
    "flip_F_to_T = compare_ghg.loc[mask_false_to_true]\n",
    "\n",
    "print(f'Number of points that switch from NOT crossing parity line in Stage 1 to crossing parity line in Stage 2: {len(flip_F_to_T)}\\n')\n"
   ],
   "metadata": {
    "collapsed": false
   }
  },
  {
   "cell_type": "code",
   "execution_count": 5,
   "outputs": [
    {
     "name": "stdout",
     "output_type": "stream",
     "text": [
      "Fraction of Scientific Aviation Stage 1 overpasses with 95% CI that encompasses parity line: 62%\n",
      "Number of points that cross parity line: 5\n"
     ]
    }
   ],
   "source": [
    "# Scientific Aviation\n",
    "operator = 'Scientific Aviation'\n",
    "strict_discard = True\n",
    "data = calc_parity_intersection(operator, stage=1, strict_discard=True)\n",
    "cross_parity = data.loc[data['intersect_parity_line'] == True]\n",
    "print(f'Number of points that cross parity line: {len(cross_parity)}')"
   ],
   "metadata": {
    "collapsed": false
   }
  },
  {
   "cell_type": "markdown",
   "source": [
    "### Kairos distance from parity line\n",
    "\n",
    "Kairos does not report uncertainty for their quantification estimates. Thus, we cannot look at how many of the points have error bars that cross the parity line.\n",
    "\n",
    "Instead, we look at how many are within 25% and 50% of the true value."
   ],
   "metadata": {
    "collapsed": false
   }
  },
  {
   "cell_type": "markdown",
   "source": [],
   "metadata": {
    "collapsed": false
   }
  },
  {
   "cell_type": "code",
   "execution_count": 17,
   "outputs": [
    {
     "name": "stdout",
     "output_type": "stream",
     "text": [
      "Sanity check:\n",
      "Number of points within 50% accuracy but not within 25% accuracy: 0\n",
      "\n",
      "Number of points within 25% of metered release rate: 47\n",
      "Percentage of measurements within 25% of metered rate: 37.9%\n",
      "Number of points within 25% of metered release rate: 91\n",
      "Percentage of measurements within 25% of metered rate: 73.4%\n"
     ]
    }
   ],
   "source": [
    "from methods_source import load_overpass_summary\n",
    "import pandas as pd\n",
    "\n",
    "kairos_1 = load_overpass_summary('Kairos', 1, strict_discard=False)\n",
    "\n",
    "# Filter for pass all QC\n",
    "kairos_1 = kairos_1.loc[kairos_1['qc_summary']=='pass_all']\n",
    "\n",
    "# Remove zero releases:\n",
    "kairos_1 = kairos_1.loc[kairos_1['non_zero_release'] == True]\n",
    "\n",
    "# Remove non-detected releases (operator quantification > 0)\n",
    "kairos_1 = kairos_1.loc[kairos_1['operator_quantification'] > 0]\n",
    "\n",
    "# Evan in Sherwin et al 2023 says 86% of Kairos quantification estimates fall within +/- 50% of the metered value\n",
    "\n",
    "kairos_accuracy = pd.DataFrame()\n",
    "kairos_accuracy['release_rate_kgh'] = kairos_1['release_rate_kgh']\n",
    "kairos_accuracy['operator_quantification'] = kairos_1['operator_quantification']\n",
    "kairos_accuracy['release_rate_0.50x'] = kairos_accuracy['release_rate_kgh'] * 0.5\n",
    "kairos_accuracy['release_rate_1.50x'] = kairos_accuracy['release_rate_kgh'] * 1.5\n",
    "kairos_accuracy['release_rate_0.25x'] = kairos_accuracy['release_rate_kgh'] * 0.75\n",
    "kairos_accuracy['release_rate_1.25x'] = kairos_accuracy['release_rate_kgh'] * 1.25\n",
    "\n",
    "multipliers = ['.25', '.50']\n",
    "accuracy_record = []\n",
    "for index, row in kairos_accuracy.iterrows():\n",
    "    new_row = {}\n",
    "    for multipler in multipliers:\n",
    "\n",
    "        upper_col = f'release_rate_1{multipler}x'\n",
    "        lower_col = f'release_rate_0{multipler}x'\n",
    "        upper_bound = row[upper_col]\n",
    "        lower_bound = row[lower_col]\n",
    "        estimate = row['operator_quantification']\n",
    "        # print(f'estimate: {estimate}')\n",
    "        # print(f'upper_bound: {upper_bound}')\n",
    "        # print(f'low_bound: {lower_bound}')\n",
    "        if (estimate <= upper_bound) and (estimate >= lower_bound):\n",
    "            record = True\n",
    "        else:\n",
    "            record = False\n",
    "        new_row['index'] = index\n",
    "        new_row[f'within_{multipler[1:3]}%'] = record\n",
    "    accuracy_record.append(new_row)\n",
    "\n",
    "test_accuracy = pd.DataFrame.from_records(accuracy_record, index='index')\n",
    "# add_cols=add_cols.astype({\"within_25%\":bool,\"within_50%\":bool})\n",
    "\n",
    "print(f'Sanity check:')\n",
    "test_mask = (test_accuracy['within_25%'] == True) & (test_accuracy['within_50%'] == False)\n",
    "print(f'Number of points within 50% accuracy but not within 25% accuracy: {len(test_accuracy.loc[test_mask])}\\n')\n",
    "\n",
    "total_points = len(test_accuracy)\n",
    "test_25_percent = len(test_accuracy[test_accuracy['within_25%'] == True])\n",
    "print(f'Number of points within 25% of metered release rate: {test_25_percent}')\n",
    "percent_within_25_percent = test_25_percent / total_points * 100\n",
    "print(f'Percentage of measurements within 25% of metered rate: {percent_within_25_percent:.1f}%')\n",
    "\n",
    "test_50_percent = len(test_accuracy[test_accuracy['within_50%'] == True])\n",
    "print(f'Number of points within 25% of metered release rate: {test_50_percent}')\n",
    "percent_within_50_percent = test_50_percent / total_points * 100\n",
    "print(f'Percentage of measurements within 25% of metered rate: {percent_within_50_percent:.1f}%')"
   ],
   "metadata": {
    "collapsed": false
   }
  },
  {
   "cell_type": "markdown",
   "source": [
    "## Analyze Error Profile - Absolute, Percent Error\n",
    "\n",
    "- Examine percent and absolute error profile in quantification estimates\n",
    "- Only include points that pass all QC\n",
    "- Residuals compare the quantification estimate to the OLS best fit\n"
   ],
   "metadata": {
    "collapsed": false
   }
  },
  {
   "cell_type": "markdown",
   "source": [
    "First, determine the ranges for residuals, absolute error, and percent error. These are used in making the figures in 11_paper_figures"
   ],
   "metadata": {
    "collapsed": false
   }
  },
  {
   "cell_type": "code",
   "execution_count": null,
   "outputs": [],
   "source": [
    "from writing_analysis import determine_relevant_error_ranges\n",
    "# Determine what to use for axis across all plots\n",
    "# First find min and max for residuals\n",
    "from methods_source import abbreviate_op_name\n",
    "import pandas as pd\n",
    "from writing_analysis import summarize_operator_stages_defaults\n",
    "\n",
    "\n",
    "operator_stages = summarize_operator_stages_defaults()\n",
    "\n",
    "summary = []\n",
    "for index, test in operator_stages.iterrows():\n",
    "    operator = test['operator']\n",
    "    stage = test['stage']\n",
    "    strict_discard = test['strict_discard']\n",
    "    plot_range = determine_relevant_error_ranges(operator, stage, 'pass_all', strict_discard)\n",
    "    summary.append(plot_range)\n",
    "\n",
    "range_summary = pd.DataFrame(summary)\n",
    "residual_ylim = [range_summary.min_residual.min(), range_summary.max_residual.max()]\n",
    "percent_error_ylim = [range_summary.min_error_percent.min(), range_summary.max_error_percent.max()]\n",
    "absolute_error_ylim = [range_summary.min_error_absolute.min(), range_summary.max_error_absolute.max()]\n",
    "\n",
    "print(f'Residual range is {residual_ylim[0]:.0f} to {residual_ylim[1]:.0f} kgh')\n",
    "print(f'Percent error range is {percent_error_ylim[0]:.0f}% to {percent_error_ylim[1]:.0f}%')\n",
    "print(f'Absolute error range is {absolute_error_ylim[0]:.0f} to {absolute_error_ylim[1]:.0f}')"
   ],
   "metadata": {
    "collapsed": false
   }
  },
  {
   "cell_type": "code",
   "execution_count": null,
   "outputs": [],
   "source": [
    "# Examine the error profile for each operator\n",
    "from writing_analysis import calculate_residuals_and_error\n",
    "operator = 'Carbon Mapper'\n",
    "stage = 1\n",
    "op_stage = calculate_residuals_and_error(operator, stage, qc_status='pass_all', strict_discard=False, time_ave=60, gas_comp_source='km')\n"
   ],
   "metadata": {
    "collapsed": false
   }
  },
  {
   "cell_type": "code",
   "execution_count": 7,
   "outputs": [
    {
     "name": "stdout",
     "output_type": "stream",
     "text": [
      "    overpass_id   overpass_datetime  zero_release  non_zero_release  \\\n",
      "5             6 2022-11-10 18:46:34         False              True   \n",
      "6             7 2022-11-10 19:26:04         False              True   \n",
      "7             8 2022-11-10 20:04:59          True             False   \n",
      "8             9 2022-11-10 20:47:38         False              True   \n",
      "9            10 2022-11-10 21:25:50         False              True   \n",
      "11           12 2022-11-11 19:14:36         False              True   \n",
      "12           13 2022-11-11 19:49:30         False              True   \n",
      "14           15 2022-11-11 20:56:01         False              True   \n",
      "15           16 2022-11-11 21:30:40          True             False   \n",
      "16           17 2022-11-11 22:42:59         False              True   \n",
      "\n",
      "    operator_kept  stanford_kept  phase_iii  pass_all_qc  altitude_feet  \\\n",
      "5            True           True          0         True            NaN   \n",
      "6            True           True          0         True            NaN   \n",
      "7            True           True          0         True            NaN   \n",
      "8            True           True          0         True            NaN   \n",
      "9            True           True          0         True            NaN   \n",
      "11           True           True          0         True            NaN   \n",
      "12           True           True          0         True            NaN   \n",
      "14           True           True          0         True            NaN   \n",
      "15           True           True          0         True            NaN   \n",
      "16           True           True          0         True            NaN   \n",
      "\n",
      "    fail_all_qc  ...  operator_quantification  operator_lower  operator_upper  \\\n",
      "5         False  ...                  155.525            95.8           215.3   \n",
      "6         False  ...                  275.900           204.6           347.2   \n",
      "7         False  ...                    2.600            -0.3             5.5   \n",
      "8         False  ...                   31.185             9.4            53.0   \n",
      "9         False  ...                   70.400            44.7            96.1   \n",
      "11        False  ...                   91.600            61.3           121.9   \n",
      "12        False  ...                    2.900            -0.3             6.1   \n",
      "14        False  ...                   18.070             5.9            30.3   \n",
      "15        False  ...                    0.090           -11.3            11.5   \n",
      "16        False  ...                  402.790           216.3           589.3   \n",
      "\n",
      "    qc_summary  meter_data  operator_data        qc   residual  \\\n",
      "5     pass_all  200.483398        155.525  pass_all  35.767727   \n",
      "6     pass_all  342.518430        275.900  pass_all  80.227024   \n",
      "7     pass_all    0.000000          2.600  pass_all -10.001749   \n",
      "8     pass_all   80.053114         31.185  pass_all -24.204000   \n",
      "9     pass_all  118.164153         70.400  pass_all  -5.358808   \n",
      "11    pass_all  156.108911         91.600  pass_all  -4.439741   \n",
      "12    pass_all    3.773422          2.900  pass_all -11.718590   \n",
      "14    pass_all   27.088342         18.070  pass_all  -9.010083   \n",
      "15    pass_all    0.000000          0.090  pass_all -12.511749   \n",
      "16    pass_all  802.525165        402.790  pass_all -38.750030   \n",
      "\n",
      "    quant_error_absolute  quant_error_percent  \n",
      "5             -44.958398           -22.424998  \n",
      "6             -66.618430           -19.449590  \n",
      "7               2.600000                  NaN  \n",
      "8             -48.868114           -61.044613  \n",
      "9             -47.764153           -40.421864  \n",
      "11            -64.508911           -41.323016  \n",
      "12             -0.873422           -23.146679  \n",
      "14             -9.018342           -33.292338  \n",
      "15              0.090000                  NaN  \n",
      "16           -399.735165           -49.809674  \n",
      "\n",
      "[10 rows x 28 columns]\n"
     ]
    }
   ],
   "source": [
    "# Examine the error profile for each operator\n",
    "from writing_analysis import calculate_residuals_and_error\n",
    "operator = 'Scientific Aviation'\n",
    "stage = 1\n",
    "op_stage = calculate_residuals_and_error(operator, stage, qc_status='pass_all', strict_discard=True, time_ave=60, gas_comp_source='km')\n",
    "print(op_stage)"
   ],
   "metadata": {
    "collapsed": false
   }
  },
  {
   "cell_type": "code",
   "execution_count": null,
   "outputs": [],
   "source": [],
   "metadata": {
    "collapsed": false
   }
  }
 ],
 "metadata": {
  "kernelspec": {
   "display_name": "Python 3",
   "language": "python",
   "name": "python3"
  },
  "language_info": {
   "codemirror_mode": {
    "name": "ipython",
    "version": 2
   },
   "file_extension": ".py",
   "mimetype": "text/x-python",
   "name": "python",
   "nbconvert_exporter": "python",
   "pygments_lexer": "ipython2",
   "version": "2.7.6"
  }
 },
 "nbformat": 4,
 "nbformat_minor": 0
}
