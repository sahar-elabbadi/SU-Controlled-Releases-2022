{
 "cells": [
  {
   "cell_type": "markdown",
   "source": [
    "## Analysis for paper writing\n",
    "Author: Sahar H. El Abbadi\n",
    "Date: 2023-04-12\n"
   ],
   "metadata": {
    "collapsed": false
   }
  },
  {
   "cell_type": "markdown",
   "source": [
    "## Summarize distribution of overpasses\n",
    "\n",
    "Total number of overpasses, missing data, max and min given to each team, number that passed Stanford QC\n",
    "\n",
    "Missing overpasses: documented as an overpass by Stanford, but not included in Operator Report file"
   ],
   "metadata": {
    "collapsed": false
   }
  },
  {
   "cell_type": "markdown",
   "source": [
    "#### Carbon Mapper overpass summary for results"
   ],
   "metadata": {
    "collapsed": false
   }
  },
  {
   "cell_type": "code",
   "execution_count": null,
   "outputs": [],
   "source": [
    "from writing_analysis import operator_releases_summary_stats\n",
    "# Carbon Mapper\n",
    "operator = 'Carbon Mapper'\n",
    "operator_releases_summary_stats(operator)"
   ],
   "metadata": {
    "collapsed": false
   }
  },
  {
   "cell_type": "markdown",
   "source": [
    "### GHGSat summary for results"
   ],
   "metadata": {
    "collapsed": false
   }
  },
  {
   "cell_type": "code",
   "execution_count": null,
   "outputs": [],
   "source": [
    "from writing_analysis import operator_releases_summary_stats\n",
    "# GHGSat\n",
    "operator = 'GHGSat'\n",
    "operator_releases_summary_stats(operator)"
   ],
   "metadata": {
    "collapsed": false
   }
  },
  {
   "cell_type": "code",
   "execution_count": null,
   "outputs": [],
   "source": [
    "# Check GHGSat's internal QC for points they quantified but flagged as sub-optimal\n",
    "\n",
    "from methods_source import load_operator_report_dictionary, load_overpass_summary\n",
    "operator = 'GHGSat'\n",
    "ghg_report = load_operator_report_dictionary()['ghg_1']\n",
    "\n",
    "# QC flag of GH-2 means that emissions were quantified despite sub-optimal conditions.\n",
    "# QC flag of GH-4 means diffuse emissions visible over site\n",
    "\n",
    "ghg_report_quantified = ghg_report.loc[ghg_report.QuantifiedPlume == True]\n",
    "qc_mask = (ghg_report_quantified['QCFlag'] == 'GH-2') | (ghg_report_quantified['QCFlag'] == 'GH-4')\n",
    "ghg_report_poor_conditions = ghg_report_quantified.loc[qc_mask]\n",
    "# list of overpass ID's with poor conditions but quantified\n",
    "poor_condition_overpasses = ghg_report_poor_conditions['overpass_id']\n",
    "overpasses = load_overpass_summary(operator, stage=1)\n",
    "\n",
    "# Find the overpasses in the overpass summary, to see which ones of them pass Stanford QC\n",
    "poor_condition_overpass_summary = overpasses[overpasses['overpass_id'].isin(poor_condition_overpasses)]\n",
    "\n",
    "# Select overpasses that pass Stanford QC\n",
    "poor_condition_overpasses_pass_SU = poor_condition_overpass_summary.loc[poor_condition_overpass_summary.stanford_kept == True]\n",
    "\n",
    "print(f'Number of overpasses that pass SU quality control but are flagged by GHGSat as sub-optimal conditions for quantification: {len(poor_condition_overpasses_pass_SU)}')"
   ],
   "metadata": {
    "collapsed": false
   }
  },
  {
   "cell_type": "code",
   "execution_count": null,
   "outputs": [],
   "source": [
    "# Further investigate GHGSat false negatives, as they detect small releases but also had some higher false negatives\n",
    "from methods_source import load_overpass_summary, classify_confusion_categories\n",
    "\n",
    "from writing_analysis import print_overpass_info\n",
    "\n",
    "operator = 'GHGSat'\n",
    "overpasses = load_overpass_summary(operator, stage=1)\n",
    "pass_su_qc = overpasses.loc[overpasses.qc_summary == 'pass_all']\n",
    "true_positives, false_positives, true_negatives, false_negatives = classify_confusion_categories(pass_su_qc)\n",
    "\n",
    "# How many of these releases were less than 5 kgh?\n",
    "small_false_negatives = false_negatives.loc[false_negatives['release_rate_kgh'] < 5]\n",
    "print(f'Number of false negatives that were less than 5 kgh: {len(small_false_negatives)}\\n')\n",
    "\n",
    "# How many of these releases were less than 5 kgh?\n",
    "large_false_negatives = false_negatives.loc[false_negatives['release_rate_kgh'] > 5]\n",
    "print(f'False negatives that were above 5 kgh:\\n')\n",
    "print(large_false_negatives['release_rate_kgh'])\n",
    "print(f'\\n')\n",
    "\n",
    "# print details of each of hte false negatives that is over 5 kgh\n",
    "for index, row in large_false_negatives.iterrows():\n",
    "    print_overpass_info(row)"
   ],
   "metadata": {
    "collapsed": false
   }
  },
  {
   "cell_type": "markdown",
   "source": [
    "### Kairos summary for results"
   ],
   "metadata": {
    "collapsed": false
   }
  },
  {
   "cell_type": "code",
   "execution_count": null,
   "outputs": [],
   "source": [
    "from writing_analysis import operator_releases_summary_stats\n",
    "# GHGSat\n",
    "operator = 'Kairos'\n",
    "operator_releases_summary_stats(operator)"
   ],
   "metadata": {
    "collapsed": false
   }
  },
  {
   "cell_type": "code",
   "execution_count": null,
   "outputs": [],
   "source": [
    "# Additional Kairos analysis\n",
    "from methods_source import load_overpass_summary\n",
    "# How many overpasses were at or below 10 kg/hr\n",
    "operator = 'Kairos'\n",
    "overpasses = load_overpass_summary(operator, stage=1)\n",
    "pass_all_qc = overpasses.loc[overpasses.pass_all_qc == True]\n",
    "\n",
    "lower_end = pass_all_qc.loc[pass_all_qc.release_rate_kgh < 15]\n",
    "print(f'Total number of releases for {operator} less than 15 kgh: {len(lower_end)} ')"
   ],
   "metadata": {
    "collapsed": false
   }
  },
  {
   "cell_type": "markdown",
   "source": [
    "### MethaneAIR summary for results\n"
   ],
   "metadata": {
    "collapsed": false
   }
  },
  {
   "cell_type": "code",
   "execution_count": null,
   "outputs": [],
   "source": [
    "### MethaneAIR\n",
    "from writing_analysis import operator_releases_summary_stats\n",
    "operator = 'MethaneAIR'\n",
    "operator_releases_summary_stats(operator)"
   ],
   "metadata": {
    "collapsed": false
   }
  },
  {
   "cell_type": "markdown",
   "source": [
    "### Scientific Aviation summary for results\n"
   ],
   "metadata": {
    "collapsed": false
   }
  },
  {
   "cell_type": "code",
   "execution_count": null,
   "outputs": [],
   "source": [
    "### SciAV\n",
    "from writing_analysis import operator_releases_summary_stats\n",
    "operator = 'Scientific Aviation'\n",
    "operator_releases_summary_stats(operator, strict_discard=True)"
   ],
   "metadata": {
    "collapsed": false
   }
  },
  {
   "cell_type": "code",
   "execution_count": null,
   "outputs": [],
   "source": [
    "# Additional Scientific Aviation analysis\n",
    "from methods_source import load_overpass_summary\n",
    "# Which dates contained SCIAV qc'ed points\n",
    "operator = 'Scientific Aviation'\n",
    "overpasses = load_overpass_summary(operator, strict_discard=True, stage=1)\n",
    "\n",
    "relevant_col = 'overpass_datetime'\n",
    "fail_sciav_qc_dates = overpasses.loc[overpasses.operator_kept == False][relevant_col]\n",
    "print(fail_sciav_qc_dates)"
   ],
   "metadata": {
    "collapsed": false
   }
  },
  {
   "cell_type": "markdown",
   "source": [
    "## Analyze Error Bar Profile\n",
    "\n",
    "What fraction of quantification estimates have upper or lower bounds that cross the parity line? Functions for testing parity apply the following filters to the operator overpasses:\n",
    "  - Must pass all QC\n",
    "  - Operator quantification is not null to not include NAN values as False (for not crossing parity line)"
   ],
   "metadata": {
    "collapsed": false
   }
  },
  {
   "cell_type": "code",
   "execution_count": 4,
   "outputs": [
    {
     "name": "stdout",
     "output_type": "stream",
     "text": [
      "Fraction of Carbon Mapper Stage 1 overpasses with 95% CI that encompasses parity line: 89%\n",
      "Fraction of Carbon Mapper Stage 2 overpasses with 95% CI that encompasses parity line: 76%\n",
      "Fraction of Carbon Mapper Stage 3 overpasses with 95% CI that encompasses parity line: 80%\n",
      "\n",
      "\n",
      "Fraction of GHGSat Stage 1 overpasses with 95% CI that encompasses parity line: 93%\n",
      "Fraction of GHGSat Stage 2 overpasses with 95% CI that encompasses parity line: 84%\n",
      "Fraction of GHGSat Stage 3 overpasses with 95% CI that encompasses parity line: 84%\n",
      "\n",
      "\n",
      "Fraction of MethaneAIR Stage 1 overpasses with 95% CI that encompasses parity line: 85%\n",
      "\n",
      "\n",
      "Fraction of Scientific Aviation Stage 1 overpasses with 95% CI that encompasses parity line: 73%\n",
      "\n",
      "\n"
     ]
    }
   ],
   "source": [
    "from writing_analysis import test_parity_all_stages\n",
    "\n",
    "# Carbon Mapper\n",
    "operator = 'Carbon Mapper'\n",
    "strict_discard = False\n",
    "test_parity_all_stages(operator)\n",
    "\n",
    "# GHGSat\n",
    "operator = 'GHGSat'\n",
    "strict_discard = False\n",
    "test_parity_all_stages(operator)\n",
    "\n",
    "# MethaneAIR\n",
    "operator = 'MethaneAIR'\n",
    "strict_discard = False\n",
    "test_parity_all_stages(operator)\n",
    "\n",
    "# Scientific Aviation\n",
    "operator = 'Scientific Aviation'\n",
    "strict_discard = True\n",
    "test_parity_all_stages(operator)"
   ],
   "metadata": {
    "collapsed": false
   }
  },
  {
   "cell_type": "code",
   "execution_count": 3,
   "outputs": [
    {
     "name": "stdout",
     "output_type": "stream",
     "text": [
      "Fraction of Carbon Mapper Stage 3 overpasses with 95% CI that encompasses parity line: 80%\n"
     ]
    }
   ],
   "source": [
    "from writing_analysis import calc_parity_intersection\n",
    "import pathlib\n",
    "operator = 'Carbon Mapper'\n",
    "cm_3_df = calc_parity_intersection(operator, 3, strict_discard=False)\n",
    "cm_3_df.to_csv(pathlib.PurePath('03_results', 'paper_analysis', 'cm_3_df_parity_compare.csv'))"
   ],
   "metadata": {
    "collapsed": false
   }
  },
  {
   "cell_type": "code",
   "execution_count": null,
   "outputs": [],
   "source": [],
   "metadata": {
    "collapsed": false
   }
  }
 ],
 "metadata": {
  "kernelspec": {
   "display_name": "Python 3",
   "language": "python",
   "name": "python3"
  },
  "language_info": {
   "codemirror_mode": {
    "name": "ipython",
    "version": 2
   },
   "file_extension": ".py",
   "mimetype": "text/x-python",
   "name": "python",
   "nbconvert_exporter": "python",
   "pygments_lexer": "ipython2",
   "version": "2.7.6"
  }
 },
 "nbformat": 4,
 "nbformat_minor": 0
}
