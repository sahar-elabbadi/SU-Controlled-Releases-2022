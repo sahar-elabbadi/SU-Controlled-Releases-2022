{
 "cells": [
  {
   "cell_type": "markdown",
   "source": [
    "## Analysis for paper writing\n",
    "Author: Sahar H. El Abbadi\n",
    "Date: 2023-04-12\n"
   ],
   "metadata": {
    "collapsed": false
   }
  },
  {
   "cell_type": "markdown",
   "source": [
    "## Flight Altitude Calculations\n",
    "Use \"altitude_feet\" column in overpass summary files\n"
   ],
   "metadata": {
    "collapsed": false
   }
  },
  {
   "cell_type": "code",
   "execution_count": 9,
   "outputs": [
    {
     "name": "stdout",
     "output_type": "stream",
     "text": [
      "Average, minimum, and maximum overpass altitudes across all reported overpasses:\n",
      "\n",
      "Carbon Mapper:\n",
      " Average Altitude: 3,152.1 meters (10,341.6 ft)\n",
      " Min Altitude: 3,050.4 meters (10,007.9 ft)\n",
      " Max Altitude: 3,228.5 meters (10,592.2 ft)\n",
      "\n",
      "GHGSat:\n",
      " Average Altitude: 2,010.1 meters (6,594.9 ft)\n",
      " Min Altitude: 1,927.5 meters (6,323.8 ft)\n",
      " Max Altitude: 2,083.5 meters (6,835.6 ft)\n",
      "\n",
      "Kairos:\n",
      " Average Altitude: 411.9 meters (1,351.4 ft)\n",
      " Min Altitude: 368.3 meters (1,208.2 ft)\n",
      " Max Altitude: 538.4 meters (1,766.3 ft)\n",
      "\n",
      "MethaneAIR:\n",
      " Average Altitude: 13,286.7 meters (43,591.6 ft)\n",
      " Min Altitude: 12,687.0 meters (41,624.0 ft)\n",
      " Max Altitude: 13,614.7 meters (44,667.5 ft)\n",
      "\n"
     ]
    }
   ],
   "source": [
    "\n",
    "from methods_source import load_overpass_summary, feet_per_meter\n",
    "\n",
    "operators = ['Carbon Mapper', 'GHGSat', 'Kairos', 'MethaneAIR']\n",
    "op_alt = {}\n",
    "feet_per_meter = feet_per_meter()\n",
    "for operator in operators:\n",
    "    overpasses = load_overpass_summary(operator=operator, stage=1, strict_discard=False, time_ave=60, gas_comp_source='ms')\n",
    "    altitude = overpasses.altitude_feet\n",
    "    altitude_meters = altitude / feet_per_meter\n",
    "    op_alt[operator] = {\n",
    "        'average_meters': altitude_meters.mean(),\n",
    "        'average_feet': altitude.mean(),\n",
    "        'min_meters': altitude_meters.min(),\n",
    "        'min_feet': altitude.min(),\n",
    "        'max_meters': altitude_meters.max(),\n",
    "        'max_feet': altitude.max()\n",
    "    }\n",
    "\n",
    "print('Average, minimum, and maximum overpass altitudes across all reported overpasses:\\n')\n",
    "for operator in operators:\n",
    "    data = op_alt[operator]\n",
    "    print(f'{operator}:')\n",
    "    print(f' Average Altitude: {data[\"average_meters\"]:,.1f} meters ({data[\"average_feet\"]:,.1f} ft)')\n",
    "    print(f' Min Altitude: {data[\"min_meters\"]:,.1f} meters ({data[\"min_feet\"]:,.1f} ft)')\n",
    "    print(f' Max Altitude: {data[\"max_meters\"]:,.1f} meters ({data[\"max_feet\"]:,.1f} ft)')\n",
    "    print()\n",
    "\n"
   ],
   "metadata": {
    "collapsed": false
   }
  },
  {
   "cell_type": "code",
   "execution_count": 10,
   "outputs": [
    {
     "name": "stdout",
     "output_type": "stream",
     "text": [
      "Carbon Mapper average daily altitude:\n",
      "2022-10-10: 10,372.2 feet / 3,161.4 meters\n",
      "2022-10-11: 10,327.0 feet / 3,147.7 meters\n",
      "2022-10-12: 10,218.8 feet / 3,114.7 meters\n",
      "2022-10-28: 10,182.4 feet / 3,103.6 meters\n",
      "2022-10-29: 10,373.5 feet / 3,161.8 meters\n",
      "2022-10-31: 10,519.8 feet / 3,206.4 meters\n",
      "\n",
      "\n",
      "GHGSat average daily altitude:\n",
      "2022-10-31: 6,565.1 feet / 2,001.0 meters\n",
      "2022-11-02: 6,561.0 feet / 1,999.8 meters\n",
      "2022-11-04: 6,575.5 feet / 2,004.2 meters\n",
      "2022-11-07: 6,694.1 feet / 2,040.3 meters\n",
      "\n",
      "\n",
      "Kairos average daily altitude:\n",
      "2022-10-24: 1,334.4 feet / 406.7 meters\n",
      "2022-10-25: 1,317.9 feet / 401.7 meters\n",
      "2022-10-26: 1,328.9 feet / 405.0 meters\n",
      "2022-10-27: 1,389.3 feet / 423.5 meters\n",
      "2022-10-28: 1,385.6 feet / 422.3 meters\n",
      "\n",
      "\n",
      "Methane Air average daily altitude:\n",
      "2022-10-25: 43,367.8 feet / 13,218.5 meters\n",
      "2022-10-29: 43,780.9 feet / 13,344.4 meters\n",
      "\n",
      "\n"
     ]
    }
   ],
   "source": [
    "### Calculate average flight for each day of testing\n",
    "from methods_source import calc_daily_altitude, feet_per_meter\n",
    "\n",
    "feet_per_meter = feet_per_meter()\n",
    "\n",
    "def print_daily_altitude(operator):\n",
    "    alt = calc_daily_altitude(operator)\n",
    "    print(f'{operator} average daily altitude:')\n",
    "    for date, altitude_feet in alt.iterrows():\n",
    "        altitude_meters = altitude_feet / feet_per_meter\n",
    "        print(f'{date}: {altitude_feet[\"altitude_feet\"]:,.1f} feet / {altitude_meters[0]:,.1f} meters')\n",
    "\n",
    "operators = ['Carbon Mapper', 'GHGSat', 'Kairos', 'Methane Air']\n",
    "for operator in operators:\n",
    "    print_daily_altitude(operator)\n",
    "    print('\\n')"
   ],
   "metadata": {
    "collapsed": false
   }
  },
  {
   "cell_type": "markdown",
   "source": [
    "## Summarize distribution of overpasses\n",
    "\n",
    "Total number of overpasses, missing data, max and min given to each team, number that passed Stanford QC\n",
    "\n",
    "Missing overpasses: documented as an overpass by Stanford, but not included in Operator Report file"
   ],
   "metadata": {
    "collapsed": false
   }
  },
  {
   "cell_type": "code",
   "execution_count": 21,
   "outputs": [
    {
     "name": "stdout",
     "output_type": "stream",
     "text": [
      "fail_su                      189\n",
      "missing                        7\n",
      "operator    cmghgkairosmairsciav\n",
      "pass_su                      515\n",
      "releases                     711\n",
      "dtype: object\n"
     ]
    }
   ],
   "source": [
    "# All releases conducted\n",
    "from methods_source import load_overpass_summary, find_missing_data, abbreviate_op_name\n",
    "import pandas as pd\n",
    "\n",
    "def summarize_releases(operator, strict_discard=False):\n",
    "    op_summary = load_overpass_summary(operator, stage=1, strict_discard=strict_discard)\n",
    "    operator_missing = len(find_missing_data(operator))\n",
    "    operator_releases = len(op_summary) + operator_missing\n",
    "    operator_pass_su = len(op_summary.loc[op_summary.stanford_kept == True])\n",
    "    operator_fail_su = len(op_summary.loc[op_summary.stanford_kept == False])\n",
    "    op_ab = abbreviate_op_name(operator)\n",
    "    summary = {\n",
    "        f'operator': op_ab,\n",
    "        f'releases': operator_releases,\n",
    "        f'pass_su': operator_pass_su,\n",
    "        f'fail_su': operator_fail_su,\n",
    "        f'missing': operator_missing,\n",
    "    }\n",
    "    return summary\n",
    "\n",
    "\n",
    "cm = summarize_releases('Carbon Mapper')\n",
    "ghg = summarize_releases('GHGSat')\n",
    "kairos = summarize_releases('Kairos')\n",
    "mair = summarize_releases('MethaneAIR')\n",
    "sciav = summarize_releases('Scientific Aviation', True)\n",
    "dicts = [cm, ghg, kairos, mair, sciav]\n",
    "\n",
    "# Combine all dictionaries into one\n",
    "summary = {key: [d[key] for d in dicts] for key in dicts[0]}\n",
    "\n",
    "# Convert to DataFrame:\n",
    "summary = pd.DataFrame.from_records(summary)\n",
    "print(summary.sum(axis=0))"
   ],
   "metadata": {
    "collapsed": false
   }
  },
  {
   "cell_type": "markdown",
   "source": [
    "## Determine overpass time\n",
    "\n",
    "Determine average time for each overpass"
   ],
   "metadata": {
    "collapsed": false
   }
  },
  {
   "cell_type": "code",
   "execution_count": 12,
   "outputs": [
    {
     "name": "stdout",
     "output_type": "stream",
     "text": [
      "Carbon Mapper average overpass time is 12:21 minutes\n",
      "GHGSat average overpass time is 03:48 minutes\n",
      "Kairos average overpass time is 03:14 minutes\n",
      "MethaneAIR average overpass time is 22:13 minutes\n",
      "Scientific Aviation average overpass time is 20:34 minutes\n"
     ]
    }
   ],
   "source": [
    "from methods_source import load_operator_flight_days, load_overpass_summary, abbreviate_op_name\n",
    "import pandas as pd\n",
    "\n",
    "def calc_average_overpass_time(operator):\n",
    "    op_ab = abbreviate_op_name(operator)\n",
    "    op_overpasses = load_overpass_summary(operator, 1)\n",
    "    op_days = load_operator_flight_days(operator)\n",
    "\n",
    "    # Set overpass_datetime to index for easier filtering. First save a copy of datetime so I have a column that is not an index\n",
    "    op_overpasses['datetime_copy'] = op_overpasses['overpass_datetime']\n",
    "    op_datetime_index = op_overpasses.set_index('overpass_datetime')\n",
    "\n",
    "    # Set up dictionary for storing data\n",
    "    timestamps = pd.Series(dtype='float64')\n",
    "    if op_ab == 'sciav':\n",
    "        measurement_time = op_overpasses['overpass_datetime_end'] - op_overpasses['datetime_copy']\n",
    "        timestamps = measurement_time\n",
    "    else:\n",
    "        # iterate through operator flight days (Note: _ represents index)\n",
    "        for _, flight_day in op_days.iterrows():\n",
    "            # Iterate through each flight day\n",
    "            start_time = flight_day['start_time']\n",
    "            flight_day_str = start_time.strftime('%Y-%m-%d')\n",
    "            daily_overpasses = op_datetime_index.loc[flight_day_str]\n",
    "\n",
    "            # Calculate time differences\n",
    "            delta_t = daily_overpasses['datetime_copy'].diff()\n",
    "            timestamps = pd.concat([timestamps, delta_t])\n",
    "\n",
    "    average_overpass_time = timestamps.mean()\n",
    "    overpass_minutes = str(average_overpass_time)[10:15]\n",
    "    print(f'{operator} average overpass time is {overpass_minutes} minutes')\n",
    "    return\n",
    "\n",
    "calc_average_overpass_time('Carbon Mapper')\n",
    "calc_average_overpass_time('GHGSat')\n",
    "calc_average_overpass_time('Kairos')\n",
    "calc_average_overpass_time('MethaneAIR')\n",
    "calc_average_overpass_time('Scientific Aviation')\n"
   ],
   "metadata": {
    "collapsed": false
   }
  },
  {
   "cell_type": "markdown",
   "source": [
    "#### Carbon Mapper overpass summary for results"
   ],
   "metadata": {
    "collapsed": false
   }
  },
  {
   "cell_type": "code",
   "execution_count": 13,
   "outputs": [
    {
     "name": "stdout",
     "output_type": "stream",
     "text": [
      "Carbon Mapper: 121 flightlines reported to SU\n",
      "8 overpasses that fail SU QC\n",
      "113 overpasses that pass SU QC\n",
      "82 overpasses quantified by Carbon Mapper\n",
      "31 overpasses removed by Carbon Mapper\n",
      "\n",
      "3 overpasses documented by Stanford but not reported by Carbon Mapper\n",
      "\n",
      "Total releases conducted by Stanford (including missing overpasses not reported by Carbon Mapper: 124\n",
      "\n",
      "Smallest non-zero volume overpass for Carbon Mapper that passes SU qc:\n",
      "Release Rate: 4.4451804176775 kg CH4 / hr\n",
      "[4.301638947741193, 4.588721887613808, 95% CI]\n",
      "(sigma from gas flow: 0.067039)\n",
      "(sigma from meter: 0.039443)\n",
      "(sigma from gas composition: 0.001617)\n",
      "(combined total sigma: 0.073235)\n",
      "\n",
      "Smallest non-zero volume overpass for Carbon Mapper that passes operator and SU qc:\n",
      "Release Rate: 4.4451804176775 kg CH4 / hr\n",
      "[4.301638947741193, 4.588721887613808, 95% CI]\n",
      "(sigma from gas flow: 0.067039)\n",
      "(sigma from meter: 0.039443)\n",
      "(sigma from gas composition: 0.001617)\n",
      "(combined total sigma: 0.073235)\n",
      "\n",
      "Largest volume overpass for Carbon Mapper that passes SU qc:\n",
      "Release Rate: 1443.09917328525 kg CH4 / hr\n",
      "[1366.7685660986533, 1519.4297804718465, 95% CI]\n",
      "(sigma from gas flow: 40.877526)\n",
      "(sigma from meter: 1.936967)\n",
      "(sigma from gas composition: 0.001362)\n",
      "(combined total sigma: 38.944187)\n",
      "\n",
      "Largest volume overpass for Carbon Mapper that passes operator & SU qc:\n",
      "Release Rate: 855.7130366849999 kg CH4 / hr\n",
      "[844.1545076813927, 867.2715656886071, 95% CI]\n",
      "(sigma from gas flow: 5.014883)\n",
      "(sigma from meter: 1.143755)\n",
      "(sigma from gas composition: 0.003645)\n",
      "(combined total sigma: 5.897209)\n",
      "\n",
      "Number of zero releases to Carbon Mapper: 8\n",
      "\n",
      "No false positives detected, all zero releases were correctly categorized\n",
      "\n",
      "False negatives detected: 3\n",
      "\n",
      "Largest false negative for Carbon Mapper: \n",
      "Release Rate: 6.612948731013749 kg CH4 / hr\n",
      "[6.465319063755733, 6.7605783982717655, 95% CI]\n",
      "(sigma from gas flow: 0.068967)\n",
      "(sigma from meter: 0.039565)\n",
      "(sigma from gas composition: 0.001617)\n",
      "(combined total sigma: 0.075321)\n",
      "\n",
      "Smallest detected plume by Carbon Mapper:\n",
      "Release Rate: 10.92213624004875 kg CH4 / hr\n",
      "[10.782192540182976, 11.062079939914526, 95% CI]\n",
      "(sigma from gas flow: 0.061894)\n",
      "(sigma from meter: 0.039720)\n",
      "(sigma from gas composition: 0.001617)\n",
      "(combined total sigma: 0.071400)\n",
      "\n",
      "Smallest quantified plume by Carbon Mapper:\n",
      "Release Rate: 10.92213624004875 kg CH4 / hr\n",
      "[10.782192540182976, 11.062079939914526, 95% CI]\n",
      "(sigma from gas flow: 0.061894)\n",
      "(sigma from meter: 0.039720)\n",
      "(sigma from gas composition: 0.001617)\n",
      "(combined total sigma: 0.071400)\n",
      "\n"
     ]
    }
   ],
   "source": [
    "from writing_analysis import operator_releases_summary_stats\n",
    "# Carbon Mapper\n",
    "operator = 'Carbon Mapper'\n",
    "operator_releases_summary_stats(operator)"
   ],
   "metadata": {
    "collapsed": false
   }
  },
  {
   "cell_type": "markdown",
   "source": [
    "## Carbon Mapper detection notes\n",
    "\n",
    "Carbon Mapper applied a QC filter for quantification, but they report detection even where they were not confident in quantification.\n",
    "\n",
    "Here, I determine the smallest release that they detected, considering points that fail their quantification QC."
   ],
   "metadata": {
    "collapsed": false
   }
  },
  {
   "cell_type": "code",
   "execution_count": 15,
   "outputs": [
    {
     "name": "stdout",
     "output_type": "stream",
     "text": [
      "Release Rate: 8.638673389503753 kg CH4 / hr\n",
      "[8.477044323822133, 8.800302455185372, 95% CI]\n",
      "(sigma from gas flow: 0.053772)\n",
      "(sigma from meter: 0.039648)\n",
      "(sigma from gas composition: 0.001362)\n",
      "(combined total sigma: 0.071400)\n",
      "\n"
     ]
    }
   ],
   "source": [
    "from methods_source import load_overpass_summary, classify_confusion_categories\n",
    "from writing_analysis import print_overpass_info\n",
    "\n",
    "operator = 'Carbon Mapper'\n",
    "overpasses = load_overpass_summary(operator, stage=1)\n",
    "operator_detected = overpasses[overpasses['operator_detected']] # implies detected == True\n",
    "smallest_detected = operator_detected.min()\n",
    "print_overpass_info(smallest_detected)"
   ],
   "metadata": {
    "collapsed": false
   }
  },
  {
   "cell_type": "markdown",
   "source": [
    "### Check how many points were re-added in Stage 3\n",
    "\n",
    "Carbon Mapper changed QC during stage 3, and re-added some points that were previously removed due to poor quality. Check how many these were\n"
   ],
   "metadata": {
    "collapsed": false
   }
  },
  {
   "cell_type": "code",
   "execution_count": 18,
   "outputs": [
    {
     "name": "stdout",
     "output_type": "stream",
     "text": [
      "     phase_iii     stage_1_qc     stage_2_qc stage_3_qc\n",
      "2            1  fail_operator  fail_operator   pass_all\n",
      "12           1  fail_operator  fail_operator   pass_all\n",
      "14           1  fail_operator  fail_operator   pass_all\n",
      "15           1  fail_operator  fail_operator   pass_all\n",
      "36           1  fail_operator  fail_operator   pass_all\n",
      "40           1  fail_operator  fail_operator   pass_all\n",
      "50           1  fail_operator  fail_operator   pass_all\n",
      "74           1  fail_operator  fail_operator   pass_all\n",
      "98           1  fail_operator  fail_operator   pass_all\n",
      "103          0  fail_operator  fail_operator   pass_all\n",
      "104          0  fail_operator  fail_operator   pass_all\n",
      "105          1  fail_operator  fail_operator   pass_all\n",
      "108          1  fail_operator  fail_operator   pass_all\n",
      "115          1  fail_operator  fail_operator   pass_all\n"
     ]
    }
   ],
   "source": [
    "from methods_source import load_overpass_summary\n",
    "import pandas as pd\n",
    "\n",
    "operator = 'Carbon Mapper'\n",
    "overpasses_1 = load_overpass_summary(operator, stage=1)\n",
    "overpasses_2 = load_overpass_summary(operator, stage=2)\n",
    "overpasses_3 = load_overpass_summary(operator, stage=3)\n",
    "\n",
    "summarize_phase_iii = pd.DataFrame()\n",
    "summarize_phase_iii['phase_iii'] = overpasses_1['phase_iii']\n",
    "summarize_phase_iii['stage_1_qc'] = overpasses_1['qc_summary']\n",
    "summarize_phase_iii['stage_2_qc'] = overpasses_2['qc_summary']\n",
    "summarize_phase_iii['stage_3_qc'] = overpasses_3['qc_summary']\n",
    "\n",
    "\n",
    "stages_mask = (summarize_phase_iii['stage_1_qc'] == 'fail_operator') & (summarize_phase_iii['stage_2_qc'] == 'fail_operator') & (summarize_phase_iii['stage_3_qc'] == 'pass_all')\n",
    "\n",
    "switch_qc_status = summarize_phase_iii.loc[stages_mask]\n",
    "print(switch_qc_status)"
   ],
   "metadata": {
    "collapsed": false
   }
  },
  {
   "cell_type": "markdown",
   "source": [
    "### GHGSat summary for results"
   ],
   "metadata": {
    "collapsed": false
   }
  },
  {
   "cell_type": "code",
   "execution_count": 14,
   "outputs": [
    {
     "name": "stdout",
     "output_type": "stream",
     "text": [
      "GHGSat: 192 flightlines reported to SU\n",
      "57 overpasses that fail SU QC\n",
      "135 overpasses that pass SU QC\n",
      "134 overpasses quantified by GHGSat\n",
      "1 overpasses removed by GHGSat\n",
      "\n",
      "2 overpasses documented by Stanford but not reported by GHGSat\n",
      "\n",
      "Total releases conducted by Stanford (including missing overpasses not reported by GHGSat: 194\n",
      "\n",
      "Smallest non-zero volume overpass for GHGSat that passes SU qc:\n",
      "Release Rate: 1.049607814791 kg CH4 / hr\n",
      "[1.0192273822188926, 1.0799882473631073, 95% CI]\n",
      "(sigma from gas flow: 0.014922)\n",
      "(sigma from meter: 0.005792)\n",
      "(sigma from gas composition: 0.002693)\n",
      "(combined total sigma: 0.015500)\n",
      "\n",
      "Smallest non-zero volume overpass for GHGSat that passes operator and SU qc:\n",
      "Release Rate: 1.049607814791 kg CH4 / hr\n",
      "[1.0192273822188926, 1.0799882473631073, 95% CI]\n",
      "(sigma from gas flow: 0.014922)\n",
      "(sigma from meter: 0.005792)\n",
      "(sigma from gas composition: 0.002693)\n",
      "(combined total sigma: 0.015500)\n",
      "\n",
      "Largest volume overpass for GHGSat that passes SU qc:\n",
      "Release Rate: 1144.809472515 kg CH4 / hr\n",
      "[1112.419998540914, 1177.1989464890858, 95% CI]\n",
      "(sigma from gas flow: 16.629319)\n",
      "(sigma from meter: 1.530164)\n",
      "(sigma from gas composition: 0.003645)\n",
      "(combined total sigma: 16.525242)\n",
      "\n",
      "Largest volume overpass for GHGSat that passes operator & SU qc:\n",
      "Release Rate: 1144.809472515 kg CH4 / hr\n",
      "[1112.419998540914, 1177.1989464890858, 95% CI]\n",
      "(sigma from gas flow: 16.629319)\n",
      "(sigma from meter: 1.530164)\n",
      "(sigma from gas composition: 0.003645)\n",
      "(combined total sigma: 16.525242)\n",
      "\n",
      "Number of zero releases to GHGSat: 4\n",
      "\n",
      "No false positives detected, all zero releases were correctly categorized\n",
      "\n",
      "False negatives detected: 8\n",
      "\n",
      "Largest false negative for GHGSat: \n",
      "Release Rate: 29.17336281606 kg CH4 / hr\n",
      "[28.992668141880767, 29.35405749023923, 95% CI]\n",
      "(sigma from gas flow: 0.017611)\n",
      "(sigma from meter: 0.039155)\n",
      "(sigma from gas composition: 0.002693)\n",
      "(combined total sigma: 0.092191)\n",
      "\n",
      "Smallest detected plume by GHGSat (that passes ALL QC):\n",
      "Release Rate: 2.9122165317825 kg CH4 / hr\n",
      "[2.861638197654512, 2.962794865910489, 95% CI]\n",
      "(sigma from gas flow: 0.023696)\n",
      "(sigma from meter: 0.005821)\n",
      "(sigma from gas composition: 0.003645)\n",
      "(combined total sigma: 0.025805)\n",
      "\n",
      "Smallest quantified plume by GHGSat:\n",
      "Release Rate: 2.9122165317825 kg CH4 / hr\n",
      "[2.861638197654512, 2.962794865910489, 95% CI]\n",
      "(sigma from gas flow: 0.023696)\n",
      "(sigma from meter: 0.005821)\n",
      "(sigma from gas composition: 0.003645)\n",
      "(combined total sigma: 0.025805)\n",
      "\n"
     ]
    }
   ],
   "source": [
    "from writing_analysis import operator_releases_summary_stats\n",
    "# GHGSat\n",
    "operator = 'GHGSat'\n",
    "operator_releases_summary_stats(operator)\n",
    "\n"
   ],
   "metadata": {
    "collapsed": false
   }
  },
  {
   "cell_type": "code",
   "execution_count": 25,
   "outputs": [
    {
     "name": "stdout",
     "output_type": "stream",
     "text": [
      "Number of overpasses that pass SU quality control but are flagged by GHGSat as sub-optimal conditions for quantification: 9\n"
     ]
    }
   ],
   "source": [
    "# Check GHGSat's internal QC for points they quantified but flagged as sub-optimal\n",
    "\n",
    "from methods_source import load_operator_report_dictionary, load_overpass_summary\n",
    "operator = 'GHGSat'\n",
    "ghg_report = load_operator_report_dictionary()['ghg_1']\n",
    "\n",
    "# QC flag of GH-2 means that emissions were quantified despite sub-optimal conditions.\n",
    "# QC flag of GH-4 means diffuse emissions visible over site\n",
    "\n",
    "ghg_report_quantified = ghg_report.loc[ghg_report.QuantifiedPlume == True]\n",
    "qc_mask = (ghg_report_quantified['QCFlag'] == 'GH-2') | (ghg_report_quantified['QCFlag'] == 'GH-4')\n",
    "ghg_report_poor_conditions = ghg_report_quantified.loc[qc_mask]\n",
    "# list of overpass ID's with poor conditions but quantified\n",
    "poor_condition_overpasses = ghg_report_poor_conditions['overpass_id']\n",
    "overpasses = load_overpass_summary(operator, stage=1)\n",
    "\n",
    "# Find the overpasses in the overpass summary, to see which ones of them pass Stanford QC\n",
    "poor_condition_overpass_summary = overpasses[overpasses['overpass_id'].isin(poor_condition_overpasses)]\n",
    "\n",
    "# Select overpasses that pass Stanford QC\n",
    "poor_condition_overpasses_pass_SU = poor_condition_overpass_summary.loc[poor_condition_overpass_summary.stanford_kept == True]\n",
    "\n",
    "print(f'Number of overpasses that pass SU quality control but are flagged by GHGSat as sub-optimal conditions for quantification: {len(poor_condition_overpasses_pass_SU)}')"
   ],
   "metadata": {
    "collapsed": false
   }
  },
  {
   "cell_type": "code",
   "execution_count": 20,
   "outputs": [
    {
     "name": "stdout",
     "output_type": "stream",
     "text": [
      "Number of false negatives that were less than 5 kgh: 5\n",
      "\n",
      "False negatives that were above 5 kgh:\n",
      "\n",
      "189    29.005620\n",
      "190    29.173363\n",
      "191    16.776718\n",
      "Name: release_rate_kgh, dtype: float64\n",
      "\n",
      "\n",
      "Release Rate: 29.005619982705003 kg CH4 / hr\n",
      "[28.826368090341575, 29.184871875068428, 95% CI]\n",
      "(sigma from gas flow: 0.016273)\n",
      "(sigma from meter: 0.038930)\n",
      "(sigma from gas composition: 0.002693)\n",
      "(combined total sigma: 0.091455)\n",
      "\n",
      "Release Rate: 29.17336281606 kg CH4 / hr\n",
      "[28.992668141880767, 29.35405749023923, 95% CI]\n",
      "(sigma from gas flow: 0.017611)\n",
      "(sigma from meter: 0.039155)\n",
      "(sigma from gas composition: 0.002693)\n",
      "(combined total sigma: 0.092191)\n",
      "\n",
      "Release Rate: 16.7767181097825 kg CH4 / hr\n",
      "[16.67262383465725, 16.88081238490775, 95% CI]\n",
      "(sigma from gas flow: 0.010653)\n",
      "(sigma from meter: 0.022517)\n",
      "(sigma from gas composition: 0.002693)\n",
      "(combined total sigma: 0.053109)\n",
      "\n",
      "Number of releases between 15 kgh and 30 kgh: 38\n",
      " False negatives were 7.894737% of releases in this range\n",
      "Number of releases greater than 25 kg/h and less than 30: 11 \n"
     ]
    }
   ],
   "source": [
    "# Further investigate GHGSat false negatives, as they detect small releases but also had some higher false negatives\n",
    "from methods_source import load_overpass_summary, classify_confusion_categories\n",
    "from writing_analysis import print_overpass_info\n",
    "\n",
    "operator = 'GHGSat'\n",
    "overpasses = load_overpass_summary(operator, stage=1)\n",
    "pass_all_qc = overpasses.loc[overpasses.qc_summary == 'pass_all']\n",
    "true_positives, false_positives, true_negatives, false_negatives = classify_confusion_categories(pass_all_qc)\n",
    "\n",
    "# How many of these releases were less than 5 kgh?\n",
    "small_false_negatives = false_negatives.loc[false_negatives['release_rate_kgh'] < 5]\n",
    "print(f'Number of false negatives that were less than 5 kgh: {len(small_false_negatives)}\\n')\n",
    "\n",
    "# How many of these releases were less than 5 kgh?\n",
    "large_false_negatives = false_negatives.loc[false_negatives['release_rate_kgh'] > 5]\n",
    "print(f'False negatives that were above 5 kgh:\\n')\n",
    "print(large_false_negatives['release_rate_kgh'])\n",
    "print(f'\\n')\n",
    "\n",
    "# print details of each of the false negatives that is over 5 kgh\n",
    "for index, row in large_false_negatives.iterrows():\n",
    "    print_overpass_info(row)\n",
    "\n",
    "# How many releases were between 15 and 30 kg / hr\n",
    "range_mask = (pass_all_qc['release_rate_kgh'] > 15 ) & (pass_all_qc['release_rate_kgh'] < 30 )\n",
    "releases_15_30 = pass_all_qc.loc[range_mask]\n",
    "print(f'Number of releases between 15 kgh and 30 kgh: {len(releases_15_30)}\\n False negatives were {len(large_false_negatives)/len(releases_15_30)*100:1f}% of releases in this range')\n",
    "\n",
    "# What was total number of releases above 25 kgh\n",
    "range_mask_25 = (pass_all_qc['release_rate_kgh'] > 25 ) & (pass_all_qc['release_rate_kgh'] < 30 )\n",
    "print(f'Number of releases greater than 25 kg/h and less than 30: {len(pass_all_qc.loc[range_mask_25])} ')"
   ],
   "metadata": {
    "collapsed": false
   }
  },
  {
   "cell_type": "markdown",
   "source": [
    "### Kairos summary for results"
   ],
   "metadata": {
    "collapsed": false
   }
  },
  {
   "cell_type": "code",
   "execution_count": 27,
   "outputs": [
    {
     "name": "stdout",
     "output_type": "stream",
     "text": [
      "Kairos: 349 flightlines reported to SU\n",
      "119 overpasses that fail SU QC\n",
      "230 overpasses that pass SU QC\n",
      "191 overpasses quantified by Kairos\n",
      "39 overpasses removed by Kairos\n",
      "\n",
      "0 overpasses documented by Stanford but not reported by Kairos\n",
      "\n",
      "Total releases conducted by Stanford (including missing overpasses not reported by Kairos: 349\n",
      "\n",
      "Smallest non-zero volume overpass for Kairos that passes SU qc:\n",
      "Release Rate: 0.6403340250047999 kg CH4 / hr\n",
      "[0.5921768033310193, 0.6884912466785804, 95% CI]\n",
      "(sigma from gas flow: 0.025173)\n",
      "(sigma from meter: 0.005778)\n",
      "(sigma from gas composition: 0.001366)\n",
      "(combined total sigma: 0.024570)\n",
      "\n",
      "Smallest non-zero volume overpass for Kairos that passes operator and SU qc:\n",
      "Release Rate: 0.6403340250047999 kg CH4 / hr\n",
      "[0.5921768033310193, 0.6884912466785804, 95% CI]\n",
      "(sigma from gas flow: 0.025173)\n",
      "(sigma from meter: 0.005778)\n",
      "(sigma from gas composition: 0.001366)\n",
      "(combined total sigma: 0.024570)\n",
      "\n",
      "Largest volume overpass for Kairos that passes SU qc:\n",
      "Release Rate: 1113.1039234282498 kg CH4 / hr\n",
      "[1051.041147450797, 1175.1666994057025, 95% CI]\n",
      "(sigma from gas flow: 33.245082)\n",
      "(sigma from meter: 1.494038)\n",
      "(sigma from gas composition: 0.001362)\n",
      "(combined total sigma: 31.664682)\n",
      "\n",
      "Largest volume overpass for Kairos that passes operator & SU qc:\n",
      "Release Rate: 1041.956208132 kg CH4 / hr\n",
      "[987.154492035688, 1096.7579242283118, 95% CI]\n",
      "(sigma from gas flow: 29.336227)\n",
      "(sigma from meter: 1.398027)\n",
      "(sigma from gas composition: 0.001366)\n",
      "(combined total sigma: 27.960059)\n",
      "\n",
      "Number of zero releases to Kairos: 18\n",
      "\n",
      "No false positives detected, all zero releases were correctly categorized\n",
      "\n",
      "False negatives detected: 49\n",
      "\n",
      "Largest false negative for Kairos: \n",
      "Release Rate: 10.466573328407998 kg CH4 / hr\n",
      "[10.400830153304936, 10.53231650351106, 95% CI]\n",
      "(sigma from gas flow: 0.028241)\n",
      "(sigma from meter: 0.014043)\n",
      "(sigma from gas composition: 0.001366)\n",
      "(combined total sigma: 0.033542)\n",
      "\n",
      "Smallest detected plume by Kairos:\n",
      "Release Rate: 3.4012686543540003 kg CH4 / hr\n",
      "[3.3459644807804825, 3.456572827927518, 95% CI]\n",
      "(sigma from gas flow: 0.027785)\n",
      "(sigma from meter: 0.005826)\n",
      "(sigma from gas composition: 0.002407)\n",
      "(combined total sigma: 0.028216)\n",
      "\n",
      "Smallest quantified plume by Kairos:\n",
      "Release Rate: 3.4012686543540003 kg CH4 / hr\n",
      "[3.3459644807804825, 3.456572827927518, 95% CI]\n",
      "(sigma from gas flow: 0.027785)\n",
      "(sigma from meter: 0.005826)\n",
      "(sigma from gas composition: 0.002407)\n",
      "(combined total sigma: 0.028216)\n",
      "\n"
     ]
    }
   ],
   "source": [
    "from writing_analysis import operator_releases_summary_stats\n",
    "# GHGSat\n",
    "operator = 'Kairos'\n",
    "operator_releases_summary_stats(operator)"
   ],
   "metadata": {
    "collapsed": false
   }
  },
  {
   "cell_type": "code",
   "execution_count": 28,
   "outputs": [
    {
     "name": "stdout",
     "output_type": "stream",
     "text": [
      "Total number of releases for Kairos less than 15 kgh: 107 \n"
     ]
    }
   ],
   "source": [
    "# Additional Kairos analysis\n",
    "from methods_source import load_overpass_summary\n",
    "# How many overpasses were at or below 10 kg/hr\n",
    "operator = 'Kairos'\n",
    "overpasses = load_overpass_summary(operator, stage=1)\n",
    "pass_all_qc = overpasses.loc[overpasses.pass_all_qc == True]\n",
    "\n",
    "lower_end = pass_all_qc.loc[pass_all_qc.release_rate_kgh < 15]\n",
    "print(f'Total number of releases for {operator} less than 15 kgh: {len(lower_end)} ')"
   ],
   "metadata": {
    "collapsed": false
   }
  },
  {
   "cell_type": "markdown",
   "source": [
    "### MethaneAIR summary for results\n"
   ],
   "metadata": {
    "collapsed": false
   }
  },
  {
   "cell_type": "code",
   "execution_count": 29,
   "outputs": [
    {
     "name": "stdout",
     "output_type": "stream",
     "text": [
      "MethaneAIR: 24 flightlines reported to SU\n",
      "4 overpasses that fail SU QC\n",
      "20 overpasses that pass SU QC\n",
      "20 overpasses quantified by MethaneAIR\n",
      "0 overpasses removed by MethaneAIR\n",
      "\n",
      "2 overpasses documented by Stanford but not reported by MethaneAIR\n",
      "\n",
      "Total releases conducted by Stanford (including missing overpasses not reported by MethaneAIR: 26\n",
      "\n",
      "Smallest non-zero volume overpass for MethaneAIR that passes SU qc:\n",
      "Release Rate: 24.420141170712 kg CH4 / hr\n",
      "[24.30721630677572, 24.53306603464828, 95% CI]\n",
      "(sigma from gas flow: 0.035178)\n",
      "(sigma from meter: 0.032765)\n",
      "(sigma from gas composition: 0.001366)\n",
      "(combined total sigma: 0.057615)\n",
      "\n",
      "Smallest non-zero volume overpass for MethaneAIR that passes operator and SU qc:\n",
      "Release Rate: 24.420141170712 kg CH4 / hr\n",
      "[24.30721630677572, 24.53306603464828, 95% CI]\n",
      "(sigma from gas flow: 0.035178)\n",
      "(sigma from meter: 0.032765)\n",
      "(sigma from gas composition: 0.001366)\n",
      "(combined total sigma: 0.057615)\n",
      "\n",
      "Largest volume overpass for MethaneAIR that passes SU qc:\n",
      "Release Rate: 1289.3507118009002 kg CH4 / hr\n",
      "[1221.5467589051889, 1357.1546646966117, 95% CI]\n",
      "(sigma from gas flow: 35.651584)\n",
      "(sigma from meter: 1.725101)\n",
      "(sigma from gas composition: 0.004610)\n",
      "(combined total sigma: 34.593854)\n",
      "\n",
      "Largest volume overpass for MethaneAIR that passes operator & SU qc:\n",
      "Release Rate: 1289.3507118009002 kg CH4 / hr\n",
      "[1221.5467589051889, 1357.1546646966117, 95% CI]\n",
      "(sigma from gas flow: 35.651584)\n",
      "(sigma from meter: 1.725101)\n",
      "(sigma from gas composition: 0.004610)\n",
      "(combined total sigma: 34.593854)\n",
      "\n",
      "Number of zero releases to MethaneAIR: 1\n",
      "\n",
      "No false positives detected, all zero releases were correctly categorized\n",
      "\n",
      "False negatives detected: 1\n",
      "\n",
      "Largest false negative for MethaneAIR: \n",
      "Release Rate: 24.420141170712 kg CH4 / hr\n",
      "[24.30721630677572, 24.53306603464828, 95% CI]\n",
      "(sigma from gas flow: 0.035178)\n",
      "(sigma from meter: 0.032765)\n",
      "(sigma from gas composition: 0.001366)\n",
      "(combined total sigma: 0.057615)\n",
      "\n",
      "Smallest detected plume by MethaneAIR:\n",
      "Release Rate: 33.60693741122025 kg CH4 / hr\n",
      "[33.26890987589977, 33.94496494654073, 95% CI]\n",
      "(sigma from gas flow: 0.040516)\n",
      "(sigma from meter: 0.044965)\n",
      "(sigma from gas composition: 0.004610)\n",
      "(combined total sigma: 0.172463)\n",
      "\n",
      "Smallest quantified plume by MethaneAIR:\n",
      "Release Rate: 33.60693741122025 kg CH4 / hr\n",
      "[33.26890987589977, 33.94496494654073, 95% CI]\n",
      "(sigma from gas flow: 0.040516)\n",
      "(sigma from meter: 0.044965)\n",
      "(sigma from gas composition: 0.004610)\n",
      "(combined total sigma: 0.172463)\n",
      "\n"
     ]
    }
   ],
   "source": [
    "### MethaneAIR\n",
    "from writing_analysis import operator_releases_summary_stats\n",
    "operator = 'MethaneAIR'\n",
    "operator_releases_summary_stats(operator)"
   ],
   "metadata": {
    "collapsed": false
   }
  },
  {
   "cell_type": "markdown",
   "source": [
    "### Scientific Aviation summary for results\n"
   ],
   "metadata": {
    "collapsed": false
   }
  },
  {
   "cell_type": "code",
   "execution_count": 30,
   "outputs": [
    {
     "name": "stdout",
     "output_type": "stream",
     "text": [
      "Scientific Aviation: 18 flightlines reported to SU\n",
      "1 overpasses that fail SU QC\n",
      "17 overpasses that pass SU QC\n",
      "10 overpasses quantified by Scientific Aviation\n",
      "7 overpasses removed by Scientific Aviation\n",
      "\n",
      "0 overpasses documented by Stanford but not reported by Scientific Aviation\n",
      "\n",
      "Total releases conducted by Stanford (including missing overpasses not reported by Scientific Aviation: 18\n",
      "\n",
      "Smallest non-zero volume overpass for Scientific Aviation that passes SU qc:\n",
      "Release Rate: 3.773421855090184 kg CH4 / hr\n",
      "[3.7167966366816088, 3.830047073498759, 95% CI]\n",
      "(sigma from gas flow: 0.028501)\n",
      "(sigma from meter: 0.005828)\n",
      "(sigma from gas composition: 0.002032)\n",
      "(combined total sigma: 0.028890)\n",
      "\n",
      "Smallest non-zero volume overpass for Scientific Aviation that passes operator and SU qc:\n",
      "Release Rate: 3.773421855090184 kg CH4 / hr\n",
      "[3.7167966366816088, 3.830047073498759, 95% CI]\n",
      "(sigma from gas flow: 0.028501)\n",
      "(sigma from meter: 0.005828)\n",
      "(sigma from gas composition: 0.002032)\n",
      "(combined total sigma: 0.028890)\n",
      "\n",
      "Largest volume overpass for Scientific Aviation that passes SU qc:\n",
      "Release Rate: 802.5251649983484 kg CH4 / hr\n",
      "[775.7483056261059, 829.3020243705909, 95% CI]\n",
      "(sigma from gas flow: 14.168817)\n",
      "(sigma from meter: 1.073106)\n",
      "(sigma from gas composition: 0.002032)\n",
      "(combined total sigma: 13.661663)\n",
      "\n",
      "Largest volume overpass for Scientific Aviation that passes operator & SU qc:\n",
      "Release Rate: 802.5251649983484 kg CH4 / hr\n",
      "[775.7483056261059, 829.3020243705909, 95% CI]\n",
      "(sigma from gas flow: 14.168817)\n",
      "(sigma from meter: 1.073106)\n",
      "(sigma from gas composition: 0.002032)\n",
      "(combined total sigma: 13.661663)\n",
      "\n",
      "Number of zero releases to Scientific Aviation: 2\n",
      "\n",
      "No false positives detected, all zero releases were correctly categorized\n",
      "\n",
      "No false negatives detected, all zero releases were correctly categorized\n",
      "\n",
      "Smallest detected plume by Scientific Aviation:\n",
      "Release Rate: 3.773421855090184 kg CH4 / hr\n",
      "[3.7167966366816088, 3.830047073498759, 95% CI]\n",
      "(sigma from gas flow: 0.028501)\n",
      "(sigma from meter: 0.005828)\n",
      "(sigma from gas composition: 0.002032)\n",
      "(combined total sigma: 0.028890)\n",
      "\n",
      "Smallest quantified plume by Scientific Aviation:\n",
      "Release Rate: 3.773421855090184 kg CH4 / hr\n",
      "[3.7167966366816088, 3.830047073498759, 95% CI]\n",
      "(sigma from gas flow: 0.028501)\n",
      "(sigma from meter: 0.005828)\n",
      "(sigma from gas composition: 0.002032)\n",
      "(combined total sigma: 0.028890)\n",
      "\n"
     ]
    }
   ],
   "source": [
    "### SciAV\n",
    "from writing_analysis import operator_releases_summary_stats\n",
    "operator = 'Scientific Aviation'\n",
    "operator_releases_summary_stats(operator, strict_discard=True)"
   ],
   "metadata": {
    "collapsed": false
   }
  },
  {
   "cell_type": "code",
   "execution_count": 31,
   "outputs": [
    {
     "name": "stdout",
     "output_type": "stream",
     "text": [
      "0    2022-11-08 21:36:22\n",
      "1    2022-11-08 22:32:13\n",
      "2    2022-11-08 23:05:50\n",
      "3    2022-11-08 23:45:18\n",
      "10   2022-11-10 21:55:06\n",
      "13   2022-11-11 20:25:26\n",
      "17   2022-11-11 23:17:51\n",
      "Name: overpass_datetime, dtype: datetime64[ns]\n"
     ]
    }
   ],
   "source": [
    "# Additional Scientific Aviation analysis\n",
    "from methods_source import load_overpass_summary\n",
    "# Which dates contained SCIAV qc'ed points\n",
    "operator = 'Scientific Aviation'\n",
    "overpasses = load_overpass_summary(operator, strict_discard=True, stage=1)\n",
    "\n",
    "relevant_col = 'overpass_datetime'\n",
    "fail_sciav_qc_dates = overpasses.loc[overpasses.operator_kept == False][relevant_col]\n",
    "print(fail_sciav_qc_dates)"
   ],
   "metadata": {
    "collapsed": false
   }
  },
  {
   "cell_type": "markdown",
   "source": [
    "## Analyze Error Bar Profile\n",
    "\n",
    "What fraction of quantification estimates have upper or lower bounds that cross the parity line? Functions for testing parity apply the following filters to the operator overpasses:\n",
    "  - Must pass all QC\n",
    "  - Operator quantification is not null to not include NAN values as False (for not crossing parity line)"
   ],
   "metadata": {
    "collapsed": false
   }
  },
  {
   "cell_type": "code",
   "execution_count": 32,
   "outputs": [
    {
     "name": "stdout",
     "output_type": "stream",
     "text": [
      "Fraction of Carbon Mapper Stage 1 overpasses with 95% CI that encompasses parity line: 89%\n",
      "Fraction of Carbon Mapper Stage 2 overpasses with 95% CI that encompasses parity line: 76%\n",
      "Fraction of Carbon Mapper Stage 3 overpasses with 95% CI that encompasses parity line: 80%\n",
      "\n",
      "\n",
      "Fraction of GHGSat Stage 1 overpasses with 95% CI that encompasses parity line: 93%\n",
      "Fraction of GHGSat Stage 2 overpasses with 95% CI that encompasses parity line: 84%\n",
      "Fraction of GHGSat Stage 3 overpasses with 95% CI that encompasses parity line: 84%\n",
      "\n",
      "\n",
      "Fraction of MethaneAIR Stage 1 overpasses with 95% CI that encompasses parity line: 83%\n",
      "\n",
      "\n",
      "Fraction of Scientific Aviation Stage 1 overpasses with 95% CI that encompasses parity line: 67%\n",
      "\n",
      "\n"
     ]
    }
   ],
   "source": [
    "from writing_analysis import test_parity_all_stages\n",
    "\n",
    "# Carbon Mapper\n",
    "operator = 'Carbon Mapper'\n",
    "strict_discard = False\n",
    "test_parity_all_stages(operator)\n",
    "\n",
    "# GHGSat\n",
    "operator = 'GHGSat'\n",
    "strict_discard = False\n",
    "test_parity_all_stages(operator)\n",
    "\n",
    "# MethaneAIR\n",
    "operator = 'MethaneAIR'\n",
    "strict_discard = False\n",
    "test_parity_all_stages(operator)\n",
    "\n",
    "# Scientific Aviation\n",
    "operator = 'Scientific Aviation'\n",
    "strict_discard = True\n",
    "test_parity_all_stages(operator)"
   ],
   "metadata": {
    "collapsed": false
   }
  },
  {
   "cell_type": "code",
   "execution_count": 33,
   "outputs": [
    {
     "name": "stdout",
     "output_type": "stream",
     "text": [
      "Fraction of GHGSat Stage 1 overpasses with 95% CI that encompasses parity line: 93%\n",
      "Fraction of GHGSat Stage 2 overpasses with 95% CI that encompasses parity line: 84%\n",
      "Mean 95% CI error bar length for Stage 1: 113.16\n",
      "Mean 95% CI error bar length for Stage 2: 71.71\n",
      "Average ratio between Stage 2 and Stage 1: 0.6118\n",
      "Minimum CI ratio: 0.10\n",
      "Minimum CI ratio: 1.08\n",
      "\n",
      "Number of points that switch from crossing parity line in Stage 1 to not crossing parity line in Stage 2: 16\n",
      "\n",
      "Number of points that switch from NOT crossing parity line in Stage 1 to crossing parity line in Stage 2: 5\n",
      "\n"
     ]
    }
   ],
   "source": [
    "# Closer look at GHGSat parity plot points and how many cross the parity line\n",
    "\n",
    "from writing_analysis import calc_parity_intersection\n",
    "import pathlib\n",
    "import pandas as pd\n",
    "operator = 'GHGSat'\n",
    "\n",
    "ghg_1_df = calc_parity_intersection(operator, 1, strict_discard=False)\n",
    "ghg_1_df.to_csv(pathlib.PurePath('06_results', 'paper_analysis', 'ghg_1_df_parity_compare.csv'))\n",
    "\n",
    "ghg_2_df = calc_parity_intersection(operator, 2, strict_discard=False)\n",
    "ghg_2_df.to_csv(pathlib.PurePath('06_results', 'paper_analysis', 'ghg_2_df_parity_compare.csv'))\n",
    "\n",
    "compare_ghg = pd.DataFrame()\n",
    "compare_ghg['stage1_95CI'] = ghg_1_df['operator_95CI_bounds'] # how big are stage 1 error bars?\n",
    "compare_ghg['stage2_95CI'] = ghg_2_df['operator_95CI_bounds'] # how big are stage 2 error bars?\n",
    "\n",
    "compare_ghg['CI_ratio'] = compare_ghg['stage2_95CI'] / compare_ghg['stage1_95CI']\n",
    "compare_ghg['stage1_cross_parity'] = ghg_1_df['intersect_parity_line'] # cross parity in stage 1?\n",
    "compare_ghg['stage2_cross_parity'] = ghg_2_df['intersect_parity_line'] # cross parity in stage 2?\n",
    "\n",
    "stage1_95CI_mean = compare_ghg.stage1_95CI.mean()\n",
    "stage2_95CI_mean = compare_ghg.stage2_95CI.mean()\n",
    "mean_ratio = compare_ghg.CI_ratio.mean()\n",
    "stage1_cross_parity = len(compare_ghg.loc[compare_ghg.stage1_cross_parity == True])\n",
    "stage2_cross_parity = len(compare_ghg.loc[compare_ghg.stage2_cross_parity == True])\n",
    "print(f'Mean 95% CI error bar length for Stage 1: {stage1_95CI_mean:0.2f}')\n",
    "print(f'Mean 95% CI error bar length for Stage 2: {stage2_95CI_mean:0.2f}')\n",
    "print(f'Average ratio between Stage 2 and Stage 1: {mean_ratio:0.4f}')\n",
    "print(f'Minimum CI ratio: {compare_ghg.CI_ratio.min():0.2f}')\n",
    "print(f'Minimum CI ratio: {compare_ghg.CI_ratio.max():0.2f}\\n')\n",
    "\n",
    "\n",
    "# flip from cross parity to not cross parity\n",
    "mask_true_to_false = (compare_ghg.stage1_cross_parity == True) & (compare_ghg.stage2_cross_parity == False)\n",
    "flip_T_to_F = compare_ghg.loc[mask_true_to_false]\n",
    "\n",
    "print(f'Number of points that switch from crossing parity line in Stage 1 to not crossing parity line in Stage 2: {len(flip_T_to_F)}\\n')\n",
    "\n",
    "# flip from cross parity to not cross parity\n",
    "mask_false_to_true = (compare_ghg.stage1_cross_parity == False) & (compare_ghg.stage2_cross_parity == True)\n",
    "flip_F_to_T = compare_ghg.loc[mask_false_to_true]\n",
    "\n",
    "print(f'Number of points that switch from NOT crossing parity line in Stage 1 to crossing parity line in Stage 2: {len(flip_F_to_T)}\\n')\n"
   ],
   "metadata": {
    "collapsed": false
   }
  },
  {
   "cell_type": "code",
   "execution_count": 34,
   "outputs": [
    {
     "name": "stdout",
     "output_type": "stream",
     "text": [
      "Fraction of Scientific Aviation Stage 1 overpasses with 95% CI that encompasses parity line: 62%\n",
      "Number of points that cross parity line: 5\n"
     ]
    }
   ],
   "source": [
    "# Scientific Aviation\n",
    "operator = 'Scientific Aviation'\n",
    "strict_discard = True\n",
    "data = calc_parity_intersection(operator, stage=1, strict_discard=True)\n",
    "cross_parity = data.loc[data['intersect_parity_line'] == True]\n",
    "print(f'Number of points that cross parity line: {len(cross_parity)}')"
   ],
   "metadata": {
    "collapsed": false
   }
  },
  {
   "cell_type": "markdown",
   "source": [
    "### Kairos distance from parity line\n",
    "\n",
    "Kairos does not report uncertainty for their quantification estimates. Thus, we cannot look at how many of the points have error bars that cross the parity line.\n",
    "\n",
    "Instead, we look at how many are within 25% and 50% of the true value."
   ],
   "metadata": {
    "collapsed": false
   }
  },
  {
   "cell_type": "markdown",
   "source": [],
   "metadata": {
    "collapsed": false
   }
  },
  {
   "cell_type": "code",
   "execution_count": 35,
   "outputs": [
    {
     "name": "stdout",
     "output_type": "stream",
     "text": [
      "Sanity check:\n",
      "Number of points within 50% accuracy but not within 25% accuracy: 0\n",
      "\n",
      "Number of points within 25% of metered release rate: 47\n",
      "Percentage of measurements within 25% of metered rate: 37.9%\n",
      "Number of points within 25% of metered release rate: 91\n",
      "Percentage of measurements within 25% of metered rate: 73.4%\n"
     ]
    }
   ],
   "source": [
    "from methods_source import load_overpass_summary\n",
    "import pandas as pd\n",
    "\n",
    "kairos_1 = load_overpass_summary('Kairos', 1, strict_discard=False)\n",
    "\n",
    "# Filter for pass all QC\n",
    "kairos_1 = kairos_1.loc[kairos_1['qc_summary']=='pass_all']\n",
    "\n",
    "# Remove zero releases:\n",
    "kairos_1 = kairos_1.loc[kairos_1['non_zero_release'] == True]\n",
    "\n",
    "# Remove non-detected releases (operator quantification > 0)\n",
    "kairos_1 = kairos_1.loc[kairos_1['operator_quantification'] > 0]\n",
    "\n",
    "# Evan in Sherwin et al 2023 says 86% of Kairos quantification estimates fall within +/- 50% of the metered value\n",
    "\n",
    "kairos_accuracy = pd.DataFrame()\n",
    "kairos_accuracy['release_rate_kgh'] = kairos_1['release_rate_kgh']\n",
    "kairos_accuracy['operator_quantification'] = kairos_1['operator_quantification']\n",
    "kairos_accuracy['release_rate_0.50x'] = kairos_accuracy['release_rate_kgh'] * 0.5\n",
    "kairos_accuracy['release_rate_1.50x'] = kairos_accuracy['release_rate_kgh'] * 1.5\n",
    "kairos_accuracy['release_rate_0.25x'] = kairos_accuracy['release_rate_kgh'] * 0.75\n",
    "kairos_accuracy['release_rate_1.25x'] = kairos_accuracy['release_rate_kgh'] * 1.25\n",
    "\n",
    "multipliers = ['.25', '.50']\n",
    "accuracy_record = []\n",
    "for index, row in kairos_accuracy.iterrows():\n",
    "    new_row = {}\n",
    "    for multipler in multipliers:\n",
    "\n",
    "        upper_col = f'release_rate_1{multipler}x'\n",
    "        lower_col = f'release_rate_0{multipler}x'\n",
    "        upper_bound = row[upper_col]\n",
    "        lower_bound = row[lower_col]\n",
    "        estimate = row['operator_quantification']\n",
    "        # print(f'estimate: {estimate}')\n",
    "        # print(f'upper_bound: {upper_bound}')\n",
    "        # print(f'low_bound: {lower_bound}')\n",
    "        if (estimate <= upper_bound) and (estimate >= lower_bound):\n",
    "            record = True\n",
    "        else:\n",
    "            record = False\n",
    "        new_row['index'] = index\n",
    "        new_row[f'within_{multipler[1:3]}%'] = record\n",
    "    accuracy_record.append(new_row)\n",
    "\n",
    "test_accuracy = pd.DataFrame.from_records(accuracy_record, index='index')\n",
    "# add_cols=add_cols.astype({\"within_25%\":bool,\"within_50%\":bool})\n",
    "\n",
    "print(f'Sanity check:')\n",
    "test_mask = (test_accuracy['within_25%'] == True) & (test_accuracy['within_50%'] == False)\n",
    "print(f'Number of points within 50% accuracy but not within 25% accuracy: {len(test_accuracy.loc[test_mask])}\\n')\n",
    "\n",
    "total_points = len(test_accuracy)\n",
    "test_25_percent = len(test_accuracy[test_accuracy['within_25%'] == True])\n",
    "print(f'Number of points within 25% of metered release rate: {test_25_percent}')\n",
    "percent_within_25_percent = test_25_percent / total_points * 100\n",
    "print(f'Percentage of measurements within 25% of metered rate: {percent_within_25_percent:.1f}%')\n",
    "\n",
    "test_50_percent = len(test_accuracy[test_accuracy['within_50%'] == True])\n",
    "print(f'Number of points within 25% of metered release rate: {test_50_percent}')\n",
    "percent_within_50_percent = test_50_percent / total_points * 100\n",
    "print(f'Percentage of measurements within 25% of metered rate: {percent_within_50_percent:.1f}%')"
   ],
   "metadata": {
    "collapsed": false
   }
  },
  {
   "cell_type": "markdown",
   "source": [
    "## Analyze Error Profile - Absolute, Percent Error\n",
    "\n",
    "- Examine percent and absolute error profile in quantification estimates\n",
    "- Only include points that pass all QC\n",
    "- Residuals compare the quantification estimate to the OLS best fit\n"
   ],
   "metadata": {
    "collapsed": false
   }
  },
  {
   "cell_type": "markdown",
   "source": [
    "First, determine the ranges for residuals, absolute error, and percent error. These are used in making the figures in 11_paper_figures"
   ],
   "metadata": {
    "collapsed": false
   }
  },
  {
   "cell_type": "code",
   "execution_count": 36,
   "outputs": [
    {
     "name": "stdout",
     "output_type": "stream",
     "text": [
      "Residual range is -391 to 889 kgh\n",
      "Percent error range is -100% to 698%\n",
      "Absolute error range is -440 to 1167\n"
     ]
    }
   ],
   "source": [
    "from writing_analysis import determine_relevant_error_ranges\n",
    "# Determine what to use for axis across all plots\n",
    "# First find min and max for residuals\n",
    "from methods_source import abbreviate_op_name\n",
    "import pandas as pd\n",
    "from writing_analysis import summarize_operator_stages_defaults\n",
    "\n",
    "\n",
    "operator_stages = summarize_operator_stages_defaults()\n",
    "\n",
    "summary = []\n",
    "for index, test in operator_stages.iterrows():\n",
    "    operator = test['operator']\n",
    "    stage = test['stage']\n",
    "    strict_discard = test['strict_discard']\n",
    "    plot_range = determine_relevant_error_ranges(operator, stage, 'pass_all', strict_discard)\n",
    "    summary.append(plot_range)\n",
    "\n",
    "range_summary = pd.DataFrame(summary)\n",
    "residual_ylim = [range_summary.min_residual.min(), range_summary.max_residual.max()]\n",
    "percent_error_ylim = [range_summary.min_error_percent.min(), range_summary.max_error_percent.max()]\n",
    "absolute_error_ylim = [range_summary.min_error_absolute.min(), range_summary.max_error_absolute.max()]\n",
    "\n",
    "print(f'Residual range is {residual_ylim[0]:.0f} to {residual_ylim[1]:.0f} kgh')\n",
    "print(f'Percent error range is {percent_error_ylim[0]:.0f}% to {percent_error_ylim[1]:.0f}%')\n",
    "print(f'Absolute error range is {absolute_error_ylim[0]:.0f} to {absolute_error_ylim[1]:.0f}')"
   ],
   "metadata": {
    "collapsed": false
   }
  },
  {
   "cell_type": "code",
   "execution_count": 37,
   "outputs": [],
   "source": [
    "# Examine the error profile for each operator\n",
    "from writing_analysis import calculate_residuals_and_error\n",
    "operator = 'Carbon Mapper'\n",
    "stage = 1\n",
    "op_stage = calculate_residuals_and_error(operator, stage, qc_status='pass_all', strict_discard=False, time_ave=60, gas_comp_source='ms')\n"
   ],
   "metadata": {
    "collapsed": false
   }
  },
  {
   "cell_type": "code",
   "execution_count": 38,
   "outputs": [
    {
     "name": "stdout",
     "output_type": "stream",
     "text": [
      "    overpass_id   overpass_datetime  zero_release  non_zero_release  \\\n",
      "5             6 2022-11-10 18:46:34         False              True   \n",
      "6             7 2022-11-10 19:26:04         False              True   \n",
      "7             8 2022-11-10 20:04:59          True             False   \n",
      "8             9 2022-11-10 20:47:38         False              True   \n",
      "9            10 2022-11-10 21:25:50         False              True   \n",
      "11           12 2022-11-11 19:14:36         False              True   \n",
      "12           13 2022-11-11 19:49:30         False              True   \n",
      "14           15 2022-11-11 20:56:01         False              True   \n",
      "15           16 2022-11-11 21:30:40          True             False   \n",
      "16           17 2022-11-11 22:42:59         False              True   \n",
      "\n",
      "    operator_kept  stanford_kept  phase_iii  pass_all_qc  altitude_feet  \\\n",
      "5            True           True          0         True            NaN   \n",
      "6            True           True          0         True            NaN   \n",
      "7            True           True          0         True            NaN   \n",
      "8            True           True          0         True            NaN   \n",
      "9            True           True          0         True            NaN   \n",
      "11           True           True          0         True            NaN   \n",
      "12           True           True          0         True            NaN   \n",
      "14           True           True          0         True            NaN   \n",
      "15           True           True          0         True            NaN   \n",
      "16           True           True          0         True            NaN   \n",
      "\n",
      "    fail_all_qc  ...  operator_quantification  operator_lower  operator_upper  \\\n",
      "5         False  ...                  155.525            95.8           215.3   \n",
      "6         False  ...                  275.900           204.6           347.2   \n",
      "7         False  ...                    2.600            -0.3             5.5   \n",
      "8         False  ...                   31.185             9.4            53.0   \n",
      "9         False  ...                   70.400            44.7            96.1   \n",
      "11        False  ...                   91.600            61.3           121.9   \n",
      "12        False  ...                    2.900            -0.3             6.1   \n",
      "14        False  ...                   18.070             5.9            30.3   \n",
      "15        False  ...                    0.090           -11.3            11.5   \n",
      "16        False  ...                  402.790           216.3           589.3   \n",
      "\n",
      "    qc_summary  meter_data  operator_data        qc   residual  \\\n",
      "5     pass_all  200.483398        155.525  pass_all  35.767727   \n",
      "6     pass_all  342.518430        275.900  pass_all  80.227024   \n",
      "7     pass_all    0.000000          2.600  pass_all -10.001749   \n",
      "8     pass_all   80.053114         31.185  pass_all -24.204000   \n",
      "9     pass_all  118.164153         70.400  pass_all  -5.358808   \n",
      "11    pass_all  156.108911         91.600  pass_all  -4.439741   \n",
      "12    pass_all    3.773422          2.900  pass_all -11.718590   \n",
      "14    pass_all   27.088342         18.070  pass_all  -9.010083   \n",
      "15    pass_all    0.000000          0.090  pass_all -12.511749   \n",
      "16    pass_all  802.525165        402.790  pass_all -38.750030   \n",
      "\n",
      "    quant_error_absolute  quant_error_percent  \n",
      "5             -44.958398           -22.424998  \n",
      "6             -66.618430           -19.449590  \n",
      "7               2.600000                  NaN  \n",
      "8             -48.868114           -61.044613  \n",
      "9             -47.764153           -40.421864  \n",
      "11            -64.508911           -41.323016  \n",
      "12             -0.873422           -23.146679  \n",
      "14             -9.018342           -33.292338  \n",
      "15              0.090000                  NaN  \n",
      "16           -399.735165           -49.809674  \n",
      "\n",
      "[10 rows x 28 columns]\n"
     ]
    }
   ],
   "source": [
    "# Examine the error profile for each operator\n",
    "from writing_analysis import calculate_residuals_and_error\n",
    "operator = 'Scientific Aviation'\n",
    "stage = 1\n",
    "op_stage = calculate_residuals_and_error(operator, stage, qc_status='pass_all', strict_discard=True, time_ave=60, gas_comp_source='ms')\n",
    "print(op_stage)"
   ],
   "metadata": {
    "collapsed": false
   }
  },
  {
   "cell_type": "markdown",
   "source": [
    "# MethaneAIR Supplemental Analysis\n",
    "\n",
    "mIME method has 18 measurements in parity plot, whereas DI has only 16. Check what is going on here"
   ],
   "metadata": {
    "collapsed": false
   }
  },
  {
   "cell_type": "code",
   "execution_count": 39,
   "outputs": [
    {
     "name": "stdout",
     "output_type": "stream",
     "text": [
      "Total Reported Measurements:\n",
      "mIME method includes 24 reported measurements. \n",
      "DI method includes 24 reported measurements.\n",
      "\n",
      "Total Reported Detections:\n",
      "mIME method detected 21 non-zero releases.\n",
      "DI method detected 19 non-zero releases.\n",
      "\n",
      "Total Reported Detections that pass SU Filters:\n",
      "mIME method detected 18 non-zero and valid releases.\n",
      "DI method detected 16 non-zero and valid releases.\n"
     ]
    }
   ],
   "source": [
    "mair_mime = load_overpass_summary(operator = 'MethaneAIR mIME', stage = 1)\n",
    "mair_di = load_overpass_summary(operator = 'MethaneAIR DI', stage = 1)\n",
    "\n",
    "# Next:\n",
    "# confirm they are the same length - same total number reported\n",
    "# check number of operator detected releases in each\n",
    "mime_length = len(mair_mime)\n",
    "di_length = len(mair_di)\n",
    "print('Total Reported Measurements:')\n",
    "print(f'mIME method includes {mime_length} reported measurements. ')\n",
    "print(f'DI method includes {di_length} reported measurements.')\n",
    "\n",
    "mime_nonzero = mair_mime.loc[mair_mime.non_zero_release == True]\n",
    "di_nonzero = mair_di.loc[mair_di.non_zero_release == True]\n",
    "\n",
    "mime_detected = len(mime_nonzero.loc[mime_nonzero.operator_detected == True])\n",
    "di_detected = len(di_nonzero.loc[di_nonzero.operator_detected == True])\n",
    "print(f'\\nTotal Reported Detections:')\n",
    "print(f'mIME method detected {mime_detected} non-zero releases.')\n",
    "print(f'DI method detected {di_detected} non-zero releases.')\n",
    "\n",
    "mime_mask = (mime_nonzero.operator_detected == True) & (mime_nonzero.stanford_kept == True)\n",
    "di_mask = (di_nonzero.operator_detected == True) & (di_nonzero.stanford_kept == True)\n",
    "\n",
    "mime_detected_su_pass = len(mime_nonzero.loc[mime_mask])\n",
    "di_detected_su_pass = len(di_nonzero.loc[di_mask])\n",
    "print(f'\\nTotal Reported Detections that pass SU Filters:')\n",
    "print(f'mIME method detected {mime_detected_su_pass} non-zero and valid releases.')\n",
    "print(f'DI method detected {di_detected_su_pass} non-zero and valid releases.')"
   ],
   "metadata": {
    "collapsed": false
   }
  },
  {
   "cell_type": "markdown",
   "source": [
    "# Unit Conversions\n",
    "\n",
    "Unit conversions between metric and English units for intro"
   ],
   "metadata": {
    "collapsed": false
   }
  },
  {
   "cell_type": "code",
   "execution_count": 28,
   "outputs": [
    {
     "name": "stdout",
     "output_type": "stream",
     "text": [
      "Safety perimeter: 160 feet, or 48.8 meters\n",
      "Tall stack height: 7.3 meters\n",
      " Short stack height: 3.0 meters\n",
      "\n",
      "Max trailer pressure is: 16.6487 MPa (2400 psig)\n",
      "\n",
      "Min trailer pressure is: 3.5487 MPa (500 psig)\n",
      "\n",
      "Pressure outlet from RT-30 is: 1.1356 - 1.4803 MPa\n",
      "\n"
     ]
    }
   ],
   "source": [
    "########## Length ##########\n",
    "\n",
    "# Feet per meter\n",
    "feet_per_meter = 3.28084\n",
    "\n",
    "# Safety perimeter\n",
    "safety_feet = 160\n",
    "\n",
    "print(f'Safety perimeter: {safety_feet} feet, or {safety_feet / feet_per_meter:0.1f} meters')\n",
    "\n",
    "# Stack heights:\n",
    "tall_stack_ft = 24\n",
    "short_stack_ft = 10\n",
    "\n",
    "tall_stack_m = tall_stack_ft / feet_per_meter\n",
    "short_stack_m = short_stack_ft / feet_per_meter\n",
    "print(f'Tall stack height: {tall_stack_m:0.1f} meters\\n Short stack height: {short_stack_m:0.1f} meters\\n')\n",
    "\n",
    "########## Pressure ##########\n",
    "def psig_to_mpa(psig):\n",
    "    psi_per_mpa = 145.038\n",
    "    atm_psi = 14.7 # for converting from psig to psi\n",
    "    return (psig + atm_psi)/psi_per_mpa\n",
    "\n",
    "# Trailer pressure\n",
    "# Max trailer pressure\n",
    "max_pressure_psig = 2400\n",
    "max_pressure_mpa = psig_to_mpa(max_pressure_psig)\n",
    "print(f\"Max trailer pressure is: {max_pressure_mpa:0.4f} MPa ({max_pressure_psig:0.0f} psig)\\n\")\n",
    "\n",
    "# Min trailer pressure\n",
    "min_trailer_psig = 500\n",
    "min_pressure_mpa = psig_to_mpa(min_trailer_psig)\n",
    "print(f\"Min trailer pressure is: {min_pressure_mpa:0.4f} MPa ({min_trailer_psig:0.0f} psig)\\n\")\n",
    "\n",
    "\n",
    "# Pressure regulation skid outlet pressure\n",
    "rt30_low_psig = 150\n",
    "rt30_high_psig = 200\n",
    "rt30_low_mpa = psig_to_mpa(rt30_low_psig)\n",
    "rt30_high_mpa = psig_to_mpa(rt30_high_psig)\n",
    "print(f\"Pressure outlet from RT-30 is: {rt30_low_mpa:0.4f} - {rt30_high_mpa:0.4f} MPa\\n\")"
   ],
   "metadata": {
    "collapsed": false
   }
  }
 ],
 "metadata": {
  "kernelspec": {
   "display_name": "Python 3",
   "language": "python",
   "name": "python3"
  },
  "language_info": {
   "codemirror_mode": {
    "name": "ipython",
    "version": 2
   },
   "file_extension": ".py",
   "mimetype": "text/x-python",
   "name": "python",
   "nbconvert_exporter": "python",
   "pygments_lexer": "ipython2",
   "version": "2.7.6"
  }
 },
 "nbformat": 4,
 "nbformat_minor": 0
}
