{
 "cells": [
  {
   "cell_type": "code",
   "execution_count": 19,
   "metadata": {
    "collapsed": true
   },
   "outputs": [],
   "source": [
    "# Imports\n",
    "import pandas as pd\n",
    "import pathlib"
   ]
  },
  {
   "cell_type": "markdown",
   "source": [
    "# Load raw data submitted by operators\n",
    "### Notes on formatting:\n",
    "- Operators added their own QC indicators, thus not all columns are uniform across reports\n",
    "- Values left in the Excel file are replaced during import into PyCharm with \"nan\"\n",
    "- Naming convention for dataframes: operator_stage"
   ],
   "metadata": {
    "collapsed": false
   }
  },
  {
   "cell_type": "markdown",
   "source": [
    "### Carbon Mapper Stage 1 and 2 data\n",
    "\n",
    "#### Submission details\n",
    "- Stage 1 submitted on 2023-01-03\n",
    "- Stage 2 submitted on 2023-02-13\n",
    "\n",
    "#### QC Indicator:\n",
    "Column: \"Good Quality (Y/N)\"\n",
    "- Y = good quality, quantification included for this stage\n",
    "- N = not good quality, quantification estimate included for potential use in a later stage, but not included in this stage\n",
    "- nan = left blank by Carbon Mapper\n"
   ],
   "metadata": {
    "collapsed": false
   }
  },
  {
   "cell_type": "code",
   "execution_count": 11,
   "outputs": [],
   "source": [
    "# Carbon Mapper Stage 1\n",
    "cm_1_path = pathlib.PurePath('00_raw_data', 'CM_Stage1_submitted-2023-01-03.xlsx')\n",
    "cm_1 = pd.read_excel(cm_1_path, sheet_name='Survey Summary')\n",
    "\n",
    "# Carbon Mapper Stage 2\n",
    "cm_2_path = pathlib.PurePath('00_raw_data', 'CM_Stage2_submitted-2023-02-13.xlsx')\n",
    "cm_2 = pd.read_excel(cm_1_path, sheet_name='Survey Summary')\n"
   ],
   "metadata": {
    "collapsed": false
   }
  },
  {
   "cell_type": "markdown",
   "source": [
    "### GHGSAT Stage 1 and 2 data\n",
    "\n",
    "#### Submission details:\n",
    "- Stage 1 data submitted on 2022-11-21\n",
    "- Stage 2 data submitted on 2022-12-23\n",
    "- Stage 3 data same as Stage 2, submitted 2023-02-17\n",
    "\n",
    "#### QC Indicator:\n",
    "\n",
    "Column: \"QC Flag\"\n",
    "- 1 = Good conditions\n",
    "- 2 = Emissions detected and quantified, but suboptimal conditions may affect SR\n",
    "- 3 = Emissions detected, but not quantified due to suboptimal conditions\n",
    "- 4 = Diffuse emission visible over site (presumably from previous release, due to low wind)\n",
    "- 5 = Discarded (Bad weather/conditions, including clouds, cloud shadow, highly irregular aircraft trajectory, etc.)\n",
    "\n",
    "#### Data processing notes\n",
    "Unable to open the .xlsx file provided by GHGSat in Python, possibly related to read-only restrictions. I have saved the relevant data sheets as csv files to load instead, original submissions by GHGSat are included in 00_raw_data as .xlsx files."
   ],
   "metadata": {
    "collapsed": false
   }
  },
  {
   "cell_type": "code",
   "execution_count": 22,
   "outputs": [],
   "source": [
    "# GHGSat Stage 1\n",
    "ghg_1_path = pathlib.PurePath('00_raw_data', 'GHG_Stage1_submitted-2022-11-21.csv')\n",
    "ghg_1 = pd.read_csv(ghg_1_path)\n",
    "\n",
    "# GHGSat Stage 2\n",
    "ghg_2_path = pathlib.PurePath('00_raw_data', 'GHG_Stage2_submitted-2022-12-23.csv')\n",
    "ghg_2 = pd.read_csv(ghg_2_path)"
   ],
   "metadata": {
    "collapsed": false
   }
  },
  {
   "cell_type": "markdown",
   "source": [
    "### Kairos Stage 1 and 2 data\n",
    "\n",
    "#### Submission details\n",
    "- Stage 1 submitted on 2022-11-17\n",
    "- Stage 2 submitted on 2022-12-20\n",
    "- Kairos submitted data for two pods, LS23 and LS25. They analyzed the data independently, but did not report this until after testing was complete.\n",
    "\n",
    "#### QC Indicator:\n",
    "(I ran the UNIQUE function in Excel to identify values in their original report)\n",
    "- \"Plane deviated from flightline\"\n",
    "- \"PARTIAL DETECTION\"\n",
    "- \"Cutoff - low confidence quantification\"\n",
    "- \"Excessive methane pooling near site\"\n",
    "- \"Excessive methane pooling over site\" (appears twice - possible extra space at end?)\n",
    "- \"Plane deviation from flightpath\"\n",
    "- \"Glare\"\n",
    "\n",
    "#### Data processing notes\n",
    "Unable to open the .xlsx file provided by GHGSat in Python, possibly related to read-only restrictions. I have saved the relevant data sheets as csv files to load instead, original submissions by GHGSat are included in 00_raw_data as .xlsx files.\n"
   ],
   "metadata": {
    "collapsed": false
   }
  },
  {
   "cell_type": "code",
   "execution_count": 25,
   "outputs": [],
   "source": [
    "# Kairos Stage 1\n",
    "kairos_ls23_1_path = pathlib.PurePath('00_raw_data', 'Kairos_Stage1_podLS23_submitted-2022-11-17.csv')\n",
    "kairos_ls25_1_path = pathlib.PurePath('00_raw_data', 'Kairos_Stage1_podLS25_submitted-2022-11-17.csv')\n",
    "\n",
    "kairos_ls23_1 = pd.read_csv(kairos_ls23_1_path)\n",
    "kairos_ls25_1 = pd.read_csv(kairos_ls25_1_path)\n",
    "\n",
    "# GHGSat Stage 2\n",
    "kairos_ls23_2_path = pathlib.PurePath('00_raw_data', 'Kairos_Stage2_podLS25_submitted-2022-12-20.csv')\n",
    "kairos_ls25_2_path = pathlib.PurePath('00_raw_data', 'Kairos_Stage2_podLS25_submitted-2022-12-20.csv')\n",
    "kairos_ls23_2 = pd.read_csv(kairos_ls23_2_path)\n",
    "kairos_ls25_2 = pd.read_csv(kairos_ls25_2_path)"
   ],
   "metadata": {
    "collapsed": false
   }
  }
 ],
 "metadata": {
  "kernelspec": {
   "display_name": "Python 3",
   "language": "python",
   "name": "python3"
  },
  "language_info": {
   "codemirror_mode": {
    "name": "ipython",
    "version": 2
   },
   "file_extension": ".py",
   "mimetype": "text/x-python",
   "name": "python",
   "nbconvert_exporter": "python",
   "pygments_lexer": "ipython2",
   "version": "2.7.6"
  }
 },
 "nbformat": 4,
 "nbformat_minor": 0
}
