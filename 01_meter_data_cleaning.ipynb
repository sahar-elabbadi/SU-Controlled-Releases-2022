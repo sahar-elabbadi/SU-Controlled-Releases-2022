{
 "cells": [
  {
   "cell_type": "markdown",
   "source": [
    "# Clean Stanford Meter Data\n",
    "Code author: Sahar H. El Abbadi\n",
    "Date started: 2022-03-11\n",
    "Date last edited: 2022-03-11\n",
    "\n",
    "## Data description:\n",
    "Stanford metering data, cleaned according to data processing pipeline. Includes 30-s, 60-s, and 90-s average flow rates, percent methane, and whole gas measurements. Each measurement is provided for the three different timestamp metrics: Stanford timestamps, as observed from the field; operator reported timestamps; and FlightRadar timestamps.\n",
    "\n",
    "## Script objective:\n",
    "Select data for the desired timestamp and time average. Make column names machine-readable."
   ],
   "metadata": {
    "collapsed": false
   }
  },
  {
   "cell_type": "code",
   "execution_count": 1,
   "outputs": [],
   "source": [
    "# Setup\n",
    "\n",
    "# Imports\n",
    "import pandas as pd\n",
    "import pathlib\n",
    "from methods_data_cleaning import combine_datetime\n",
    "\n",
    "# Load data\n",
    "\n",
    "# Carbon Mapper meter data\n",
    "cm_path = pathlib.PurePath('02_meter_data', 'summary_files', 'CM.csv')\n",
    "cm_meter_raw = pd.read_csv(cm_path)\n",
    "\n",
    "# GHGSat meter data\n",
    "ghg_path = pathlib.PurePath('02_meter_data', 'summary_files', 'GHGSat.csv')\n",
    "ghg_meter_raw = pd.read_csv(ghg_path)\n",
    "\n",
    "# Kairos meter data\n",
    "kairos_path = pathlib.PurePath('02_meter_data', 'summary_files', 'Kairos.csv')\n",
    "kairos_meter_raw = pd.read_csv(kairos_path)\n",
    "\n",
    "# MAIR meter data\n",
    "mair_path = pathlib.PurePath('02_meter_data', 'summary_files', 'MAIR.csv')\n",
    "mair_meter_raw = pd.read_csv(mair_path)"
   ],
   "metadata": {
    "collapsed": false
   }
  },
  {
   "cell_type": "code",
   "execution_count": 5,
   "outputs": [
    {
     "data": {
      "text/plain": "               datatime  overpass_id  phase_iii  kgh_gas_30  kgh_gas_60  \\\n0   2022-10-10 17:00:39            1          1   11.656452   11.656452   \n1   2022-10-10 17:14:15            2          1    7.043760    7.043760   \n2   2022-10-10 17:28:37            3          1    9.217335    9.217335   \n3   2022-10-10 17:43:05            4          1    4.761720    4.761720   \n4   2022-10-10 17:55:26            5          0    0.000000    0.000000   \n..                  ...          ...        ...         ...         ...   \n119 2022-10-31 20:30:07          120          1  336.503613  336.503613   \n120 2022-10-31 20:41:33          121          0    0.000000    0.000000   \n121 2022-10-31 20:52:33          122          1  496.982323  496.982323   \n122 2022-10-31 21:03:38          123          1   44.823948   44.823948   \n123 2022-10-31 21:14:24          124          0  555.861484  555.861484   \n\n     kgh_gas_90  kgh_ch4_30  kgh_ch4_60  kgh_ch4_90  methane_fraction meter  \\\n0     11.656452   10.957065   10.957065   10.957065          0.940000    mc   \n1      7.043760    6.621134    6.621134    6.621134          0.940000    mc   \n2      9.217335    8.664295    8.664295    8.664295          0.940000    mc   \n3      4.761720    4.476017    4.476017    4.476017          0.940000    mc   \n4      0.000000    0.000000    0.000000    0.000000          0.940000    mc   \n..          ...         ...         ...         ...               ...   ...   \n119  336.503613  322.998601  322.998601  322.998601          0.959867    mc   \n120    0.000000    0.000000    0.000000    0.000000          0.959867  None   \n121  496.982323  477.036765  477.036765  477.036765          0.959867    pc   \n122   44.823948   43.025014   43.025014   43.025014          0.959867    mc   \n123  555.861484  533.552910  533.552910  533.552910          0.959867    pc   \n\n     qc_discard  qc_discard_strict  altitude_meters  \n0             0                  0      11758.74684  \n1             0                  0      11805.62500  \n2             0                  0      11826.87500  \n3             0                  0      11823.80051  \n4             0                  0      11778.92628  \n..          ...                ...              ...  \n119           0                  1      11937.70833  \n120           0                  0      11945.62500  \n121           0                  0      11913.18910  \n122           0                  0      11912.29167  \n123           0                  0      11910.34722  \n\n[124 rows x 14 columns]",
      "text/html": "<div>\n<style scoped>\n    .dataframe tbody tr th:only-of-type {\n        vertical-align: middle;\n    }\n\n    .dataframe tbody tr th {\n        vertical-align: top;\n    }\n\n    .dataframe thead th {\n        text-align: right;\n    }\n</style>\n<table border=\"1\" class=\"dataframe\">\n  <thead>\n    <tr style=\"text-align: right;\">\n      <th></th>\n      <th>datatime</th>\n      <th>overpass_id</th>\n      <th>phase_iii</th>\n      <th>kgh_gas_30</th>\n      <th>kgh_gas_60</th>\n      <th>kgh_gas_90</th>\n      <th>kgh_ch4_30</th>\n      <th>kgh_ch4_60</th>\n      <th>kgh_ch4_90</th>\n      <th>methane_fraction</th>\n      <th>meter</th>\n      <th>qc_discard</th>\n      <th>qc_discard_strict</th>\n      <th>altitude_meters</th>\n    </tr>\n  </thead>\n  <tbody>\n    <tr>\n      <th>0</th>\n      <td>2022-10-10 17:00:39</td>\n      <td>1</td>\n      <td>1</td>\n      <td>11.656452</td>\n      <td>11.656452</td>\n      <td>11.656452</td>\n      <td>10.957065</td>\n      <td>10.957065</td>\n      <td>10.957065</td>\n      <td>0.940000</td>\n      <td>mc</td>\n      <td>0</td>\n      <td>0</td>\n      <td>11758.74684</td>\n    </tr>\n    <tr>\n      <th>1</th>\n      <td>2022-10-10 17:14:15</td>\n      <td>2</td>\n      <td>1</td>\n      <td>7.043760</td>\n      <td>7.043760</td>\n      <td>7.043760</td>\n      <td>6.621134</td>\n      <td>6.621134</td>\n      <td>6.621134</td>\n      <td>0.940000</td>\n      <td>mc</td>\n      <td>0</td>\n      <td>0</td>\n      <td>11805.62500</td>\n    </tr>\n    <tr>\n      <th>2</th>\n      <td>2022-10-10 17:28:37</td>\n      <td>3</td>\n      <td>1</td>\n      <td>9.217335</td>\n      <td>9.217335</td>\n      <td>9.217335</td>\n      <td>8.664295</td>\n      <td>8.664295</td>\n      <td>8.664295</td>\n      <td>0.940000</td>\n      <td>mc</td>\n      <td>0</td>\n      <td>0</td>\n      <td>11826.87500</td>\n    </tr>\n    <tr>\n      <th>3</th>\n      <td>2022-10-10 17:43:05</td>\n      <td>4</td>\n      <td>1</td>\n      <td>4.761720</td>\n      <td>4.761720</td>\n      <td>4.761720</td>\n      <td>4.476017</td>\n      <td>4.476017</td>\n      <td>4.476017</td>\n      <td>0.940000</td>\n      <td>mc</td>\n      <td>0</td>\n      <td>0</td>\n      <td>11823.80051</td>\n    </tr>\n    <tr>\n      <th>4</th>\n      <td>2022-10-10 17:55:26</td>\n      <td>5</td>\n      <td>0</td>\n      <td>0.000000</td>\n      <td>0.000000</td>\n      <td>0.000000</td>\n      <td>0.000000</td>\n      <td>0.000000</td>\n      <td>0.000000</td>\n      <td>0.940000</td>\n      <td>mc</td>\n      <td>0</td>\n      <td>0</td>\n      <td>11778.92628</td>\n    </tr>\n    <tr>\n      <th>...</th>\n      <td>...</td>\n      <td>...</td>\n      <td>...</td>\n      <td>...</td>\n      <td>...</td>\n      <td>...</td>\n      <td>...</td>\n      <td>...</td>\n      <td>...</td>\n      <td>...</td>\n      <td>...</td>\n      <td>...</td>\n      <td>...</td>\n      <td>...</td>\n    </tr>\n    <tr>\n      <th>119</th>\n      <td>2022-10-31 20:30:07</td>\n      <td>120</td>\n      <td>1</td>\n      <td>336.503613</td>\n      <td>336.503613</td>\n      <td>336.503613</td>\n      <td>322.998601</td>\n      <td>322.998601</td>\n      <td>322.998601</td>\n      <td>0.959867</td>\n      <td>mc</td>\n      <td>0</td>\n      <td>1</td>\n      <td>11937.70833</td>\n    </tr>\n    <tr>\n      <th>120</th>\n      <td>2022-10-31 20:41:33</td>\n      <td>121</td>\n      <td>0</td>\n      <td>0.000000</td>\n      <td>0.000000</td>\n      <td>0.000000</td>\n      <td>0.000000</td>\n      <td>0.000000</td>\n      <td>0.000000</td>\n      <td>0.959867</td>\n      <td>None</td>\n      <td>0</td>\n      <td>0</td>\n      <td>11945.62500</td>\n    </tr>\n    <tr>\n      <th>121</th>\n      <td>2022-10-31 20:52:33</td>\n      <td>122</td>\n      <td>1</td>\n      <td>496.982323</td>\n      <td>496.982323</td>\n      <td>496.982323</td>\n      <td>477.036765</td>\n      <td>477.036765</td>\n      <td>477.036765</td>\n      <td>0.959867</td>\n      <td>pc</td>\n      <td>0</td>\n      <td>0</td>\n      <td>11913.18910</td>\n    </tr>\n    <tr>\n      <th>122</th>\n      <td>2022-10-31 21:03:38</td>\n      <td>123</td>\n      <td>1</td>\n      <td>44.823948</td>\n      <td>44.823948</td>\n      <td>44.823948</td>\n      <td>43.025014</td>\n      <td>43.025014</td>\n      <td>43.025014</td>\n      <td>0.959867</td>\n      <td>mc</td>\n      <td>0</td>\n      <td>0</td>\n      <td>11912.29167</td>\n    </tr>\n    <tr>\n      <th>123</th>\n      <td>2022-10-31 21:14:24</td>\n      <td>124</td>\n      <td>0</td>\n      <td>555.861484</td>\n      <td>555.861484</td>\n      <td>555.861484</td>\n      <td>533.552910</td>\n      <td>533.552910</td>\n      <td>533.552910</td>\n      <td>0.959867</td>\n      <td>pc</td>\n      <td>0</td>\n      <td>0</td>\n      <td>11910.34722</td>\n    </tr>\n  </tbody>\n</table>\n<p>124 rows × 14 columns</p>\n</div>"
     },
     "execution_count": 5,
     "metadata": {},
     "output_type": "execute_result"
    }
   ],
   "source": [
    "\n",
    "# Default data frames will use the FlightRadar timestamp. Load the data using FlightRadar timestamp\n",
    "\n",
    "\n",
    "# Relevant columns:\n",
    "date = 'Date'\n",
    "time = 'Time (UTC) - from Flightradar'\n",
    "overpass_id = 'FlightradarOverpassID'\n",
    "phase_iii = 'PhaseIII' # 0 indicates the overpass was not provided to team in Phase III, 1 indicates it was\n",
    "kgh_gas_30 = 'Last 30s (kg/h) - whole gas measurement - from Flightradar'\n",
    "kgh_gas_60 = 'Last 60s (kg/h) - whole gas measurement - from Flightradar'\n",
    "kgh_gas_90 = 'Last 90s (kg/h) - whole gas measurement - from Flightradar'\n",
    "kgh_ch4_30 = 'Last 30s (kg/h) - from Flightradar'\n",
    "kgh_ch4_60 = 'Last 60s (kg/h) - from Flightradar'\n",
    "kgh_ch4_90 = 'Last 90s (kg/h) - from Flightradar'\n",
    "methane_fraction = 'Percent methane'\n",
    "meter = 'Meter' # note renaming meter variable used above\n",
    "qc_discard = 'Discarded - using Flightradar'\n",
    "qc_discard_strict = 'Discarded - 1% - using Flightradar'\n",
    "altitude_meters = 'Average altitude last minute (m)'\n",
    "\n",
    "\n",
    "\n",
    "cm_meter = pd.DataFrame()\n",
    "\n",
    "# Populate relevant dataframes\n",
    "cm_meter['datatime'] = cm_meter_raw.apply(lambda cm_meter_raw:\n",
    "                                      combine_datetime(cm_meter_raw[date], cm_meter_raw[time]),\n",
    "                                      axis=1)\n",
    "cm_meter['overpass_id'] = cm_meter_raw[overpass_id]\n",
    "cm_meter['phase_iii'] = cm_meter_raw[phase_iii]\n",
    "cm_meter['kgh_gas_30'] = cm_meter_raw[kgh_gas_30]\n",
    "cm_meter['kgh_gas_60'] = cm_meter_raw[kgh_gas_60]\n",
    "cm_meter['kgh_gas_90'] = cm_meter_raw[kgh_gas_90]\n",
    "cm_meter['kgh_ch4_30'] = cm_meter_raw[kgh_ch4_30]\n",
    "cm_meter['kgh_ch4_60'] = cm_meter_raw[kgh_ch4_60]\n",
    "cm_meter['kgh_ch4_90'] = cm_meter_raw[kgh_ch4_90]\n",
    "cm_meter['methane_fraction'] = cm_meter_raw[methane_fraction]\n",
    "cm_meter['meter'] = cm_meter_raw[meter]\n",
    "cm_meter['qc_discard'] = cm_meter_raw[qc_discard]\n",
    "cm_meter['qc_discard_strict'] = cm_meter_raw[qc_discard_strict]\n",
    "cm_meter['altitude_meters'] = cm_meter_raw[altitude_meters]\n",
    "\n",
    "# Abbreviate meter names in raw meter file\n",
    "names = ['Baby Coriolis', 'Mama Coriolis', 'Papa Coriolis']\n",
    "nicknames = ['bc', 'mc', 'pc']\n",
    "\n",
    "for meter_name, meter_nickname in zip(names, nicknames):\n",
    "    cm_meter.loc[cm_meter['meter'] == meter_name, 'meter'] = meter_nickname\n",
    "\n",
    "cm_meter."
   ],
   "metadata": {
    "collapsed": false
   }
  },
  {
   "cell_type": "code",
   "execution_count": 13,
   "outputs": [
    {
     "data": {
      "text/plain": "datatime    datetime64[ns]\ndtype: object"
     },
     "execution_count": 13,
     "metadata": {},
     "output_type": "execute_result"
    }
   ],
   "source": [],
   "metadata": {
    "collapsed": false
   }
  },
  {
   "cell_type": "code",
   "execution_count": null,
   "outputs": [],
   "source": [],
   "metadata": {
    "collapsed": false
   }
  }
 ],
 "metadata": {
  "kernelspec": {
   "display_name": "Python 3",
   "language": "python",
   "name": "python3"
  },
  "language_info": {
   "codemirror_mode": {
    "name": "ipython",
    "version": 2
   },
   "file_extension": ".py",
   "mimetype": "text/x-python",
   "name": "python",
   "nbconvert_exporter": "python",
   "pygments_lexer": "ipython2",
   "version": "2.7.6"
  }
 },
 "nbformat": 4,
 "nbformat_minor": 0
}
