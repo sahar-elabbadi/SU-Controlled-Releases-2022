{
 "cells": [
  {
   "cell_type": "markdown",
   "source": [
    "# Clean Stanford Meter Data\n",
    "Code author: Sahar H. El Abbadi\n",
    "Date started: 2022-03-11\n",
    "Date last edited: 2022-03-11\n",
    "\n",
    "## Data description:\n",
    "Stanford metering data, cleaned according to data processing pipeline. Includes 30-s, 60-s, and 90-s average flow rates, percent methane, and whole gas measurements. Each measurement is provided for the three different timestamp metrics: Stanford timestamps, as observed from the field; operator reported timestamps; and FlightRadar timestamps.\n",
    "\n",
    "## Script objective:\n",
    "Select data for the desired timestamp and time average. Make column names machine-readable."
   ],
   "metadata": {
    "collapsed": false
   }
  },
  {
   "cell_type": "code",
   "execution_count": 1,
   "outputs": [],
   "source": [
    "# Setup\n",
    "\n",
    "# Imports\n",
    "from methods_source import load_summary_files, make_operator_meter_dataset\n"
   ],
   "metadata": {
    "collapsed": false
   }
  },
  {
   "cell_type": "code",
   "execution_count": 2,
   "outputs": [],
   "source": [
    "# Load data\n",
    "cm_meter_raw, ghg_meter_raw, kairos_meter_raw, mair_meter_raw, sciav_meter_raw = load_summary_files()\n",
    "\n",
    "timekeepers = ['flightradar', 'stanford', 'team']\n",
    "operators = ['Carbon Mapper', 'GHGSat', 'Kairos', 'MethaneAir']\n",
    "\n",
    "# Dictionary of raw meter data\n",
    "meter_raw = {\n",
    "    'Carbon Mapper': cm_meter_raw,\n",
    "    'GHGSat': ghg_meter_raw,\n",
    "    'Kairos': kairos_meter_raw,\n",
    "    'MethaneAir': mair_meter_raw,\n",
    "    'Scientific Aviation': sciav_meter_raw,\n",
    "}\n",
    "\n",
    "# Generate all datasets and save them\n",
    "for timekeeper in timekeepers:\n",
    "    for operator in operators:\n",
    "        if operator == 'Scientific Aviation':\n",
    "            pass # Not applicable for ScieAv\n",
    "        else:\n",
    "            make_operator_meter_dataset(operator, meter_raw[operator], timekeeper)\n",
    "\n",
    "\n",
    "cm_meter = make_operator_meter_dataset('Carbon Mapper', cm_meter_raw, 'flightradar')\n",
    "ghg_meter = make_operator_meter_dataset('GHGSat', ghg_meter_raw, 'flightradar')\n",
    "kairos_meter = make_operator_meter_dataset('Kairos', kairos_meter_raw, 'flightradar')\n",
    "mair_meter = make_operator_meter_dataset('Methane Air', mair_meter_raw, 'flightradar')\n",
    "\n"
   ],
   "metadata": {
    "collapsed": false
   }
  },
  {
   "cell_type": "code",
   "execution_count": 3,
   "outputs": [],
   "source": [
    "import pandas as pd\n",
    "import numpy as np\n",
    "import pathlib\n",
    "\n",
    "# For Scientific Aviation, we'll use their start and end times reported by operator as this is a more accurate reflection of when they were conducting measurements\n",
    "\n",
    "sciav_meter = pd.DataFrame()\n",
    "overpass_id = np.linspace(1, 18, 18)\n",
    "sciav_meter['overpass_id'] = overpass_id\n",
    "# datetime column set to start time to keep column heading consistent with how we handle the other operator dataframes\n",
    "sciav_meter['datetime_utc'] = sciav_meter_raw['start_using_sciav']\n",
    "# Create a new column specifically for measurement start and end times\n",
    "sciav_meter['start_measurement'] = sciav_meter_raw['start_using_sciav']\n",
    "sciav_meter['start_measurement'] = sciav_meter_raw['end_using_sciav']\n",
    "\n"
   ],
   "metadata": {
    "collapsed": false
   }
  },
  {
   "cell_type": "code",
   "execution_count": 3,
   "outputs": [],
   "source": [],
   "metadata": {
    "collapsed": false
   }
  },
  {
   "cell_type": "code",
   "execution_count": 3,
   "outputs": [],
   "source": [],
   "metadata": {
    "collapsed": false
   }
  }
 ],
 "metadata": {
  "kernelspec": {
   "display_name": "Python 3",
   "language": "python",
   "name": "python3"
  },
  "language_info": {
   "codemirror_mode": {
    "name": "ipython",
    "version": 2
   },
   "file_extension": ".py",
   "mimetype": "text/x-python",
   "name": "python",
   "nbconvert_exporter": "python",
   "pygments_lexer": "ipython2",
   "version": "2.7.6"
  }
 },
 "nbformat": 4,
 "nbformat_minor": 0
}
