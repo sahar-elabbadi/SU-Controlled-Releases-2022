{
 "cells": [
  {
   "cell_type": "markdown",
   "source": [
    "# Clean Stanford Meter Data\n",
    "Code author: Sahar H. El Abbadi\n",
    "Date started: 2022-03-11\n",
    "Date last edited: 2022-03-28\n",
    "\n",
    "## Data description:\n",
    "Stanford metering data, cleaned according to data processing pipeline. Includes 30-s, 60-s, and 90-s average flow rates, percent methane, and whole gas measurements. Each measurement is provided for the three different timestamp metrics: Stanford timestamps, as observed from the field; operator reported timestamps; and FlightRadar timestamps.\n",
    "\n",
    "## Script objective:\n",
    "- Load gas flow data for each flight day and assign methane mole fraction based on KM data\n",
    "- Make \"operator_meter\" datasets for each method of using timestamp. Use whole-gas measurements from cleaned meter data, assign appropriate methane mole fraction, and calculate average and standard deviation of the release rate in kgh CH4 for each airplane overpass"
   ],
   "metadata": {
    "collapsed": false
   }
  },
  {
   "cell_type": "code",
   "execution_count": 1,
   "outputs": [],
   "source": [
    "import pandas as pd\n",
    "\n",
    "# Setup\n",
    "\n",
    "# Imports\n",
    "from methods_source import load_summary_files, make_operator_meter_dataset, generate_daily_releases, load_flight_days\n"
   ],
   "metadata": {
    "collapsed": false
   }
  },
  {
   "cell_type": "markdown",
   "source": [
    "### Load daily metered release rates\n",
    "This is all the metered data for releases conducted on flight days for each airplane operator. Includes the metered flow rate, then assigns methane mole fraction based on the measurement datetime, and calculates the methane mole fraction using the Kinder Morgan methane mole fraction data.\n",
    "\n",
    "WARNING: this script takes a long time to run! Only run if you need to recreate the .csv files"
   ],
   "metadata": {
    "collapsed": false
   }
  },
  {
   "cell_type": "code",
   "execution_count": 2,
   "outputs": [
    {
     "name": "stdout",
     "output_type": "stream",
     "text": [
      "Operator: Carbon Mapper\n",
      "Flight Day: 10_10\n",
      "Assigning km methane mole fraction for Carbon Mapper on 10_10\n",
      "Assigning su_raw methane mole fraction for Carbon Mapper on 10_10\n",
      "Assigning su_normalized methane mole fraction for Carbon Mapper on 10_10\n",
      "Operator: Carbon Mapper\n",
      "Flight Day: 10_11\n",
      "Assigning km methane mole fraction for Carbon Mapper on 10_11\n",
      "Assigning su_raw methane mole fraction for Carbon Mapper on 10_11\n",
      "Assigning su_normalized methane mole fraction for Carbon Mapper on 10_11\n",
      "Operator: Carbon Mapper\n",
      "Flight Day: 10_12\n",
      "Assigning km methane mole fraction for Carbon Mapper on 10_12\n",
      "Assigning su_raw methane mole fraction for Carbon Mapper on 10_12\n",
      "Assigning su_normalized methane mole fraction for Carbon Mapper on 10_12\n",
      "Operator: Carbon Mapper\n",
      "Flight Day: 10_28\n",
      "Assigning km methane mole fraction for Carbon Mapper on 10_28\n",
      "Assigning su_raw methane mole fraction for Carbon Mapper on 10_28\n",
      "Assigning su_normalized methane mole fraction for Carbon Mapper on 10_28\n",
      "Operator: Carbon Mapper\n",
      "Flight Day: 10_29\n",
      "Assigning km methane mole fraction for Carbon Mapper on 10_29\n",
      "Assigning su_raw methane mole fraction for Carbon Mapper on 10_29\n",
      "Assigning su_normalized methane mole fraction for Carbon Mapper on 10_29\n",
      "Operator: Carbon Mapper\n",
      "Flight Day: 10_31\n",
      "Assigning km methane mole fraction for Carbon Mapper on 10_31\n",
      "Assigning su_raw methane mole fraction for Carbon Mapper on 10_31\n",
      "Assigning su_normalized methane mole fraction for Carbon Mapper on 10_31\n",
      "Operator: GHGSat\n",
      "Flight Day: 10_31\n",
      "Assigning km methane mole fraction for GHGSat on 10_31\n",
      "Assigning su_raw methane mole fraction for GHGSat on 10_31\n",
      "Assigning su_normalized methane mole fraction for GHGSat on 10_31\n",
      "Operator: GHGSat\n",
      "Flight Day: 11_02\n",
      "Assigning km methane mole fraction for GHGSat on 11_02\n",
      "Assigning su_raw methane mole fraction for GHGSat on 11_02\n",
      "Assigning su_normalized methane mole fraction for GHGSat on 11_02\n",
      "Operator: GHGSat\n",
      "Flight Day: 11_04\n",
      "Assigning km methane mole fraction for GHGSat on 11_04\n",
      "Assigning su_raw methane mole fraction for GHGSat on 11_04\n",
      "Assigning su_normalized methane mole fraction for GHGSat on 11_04\n",
      "Operator: GHGSat\n",
      "Flight Day: 11_07\n",
      "Assigning km methane mole fraction for GHGSat on 11_07\n",
      "Assigning su_raw methane mole fraction for GHGSat on 11_07\n",
      "Assigning su_normalized methane mole fraction for GHGSat on 11_07\n",
      "Operator: Kairos\n",
      "Flight Day: 10_24\n",
      "Assigning km methane mole fraction for Kairos on 10_24\n",
      "Assigning su_raw methane mole fraction for Kairos on 10_24\n",
      "Assigning su_normalized methane mole fraction for Kairos on 10_24\n",
      "Operator: Kairos\n",
      "Flight Day: 10_25\n",
      "Assigning km methane mole fraction for Kairos on 10_25\n",
      "Assigning su_raw methane mole fraction for Kairos on 10_25\n",
      "Assigning su_normalized methane mole fraction for Kairos on 10_25\n",
      "Operator: Kairos\n",
      "Flight Day: 10_26\n",
      "Assigning km methane mole fraction for Kairos on 10_26\n",
      "Assigning su_raw methane mole fraction for Kairos on 10_26\n",
      "Assigning su_normalized methane mole fraction for Kairos on 10_26\n",
      "Operator: Kairos\n",
      "Flight Day: 10_27\n",
      "Assigning km methane mole fraction for Kairos on 10_27\n",
      "Assigning su_raw methane mole fraction for Kairos on 10_27\n",
      "Assigning su_normalized methane mole fraction for Kairos on 10_27\n",
      "Operator: Kairos\n",
      "Flight Day: 10_28\n",
      "Assigning km methane mole fraction for Kairos on 10_28\n",
      "Assigning su_raw methane mole fraction for Kairos on 10_28\n",
      "Assigning su_normalized methane mole fraction for Kairos on 10_28\n",
      "Operator: Methane Air\n",
      "Flight Day: 10_25\n",
      "Assigning km methane mole fraction for Methane Air on 10_25\n",
      "Assigning su_raw methane mole fraction for Methane Air on 10_25\n",
      "Assigning su_normalized methane mole fraction for Methane Air on 10_25\n",
      "Operator: Methane Air\n",
      "Flight Day: 10_29\n",
      "Assigning km methane mole fraction for Methane Air on 10_29\n",
      "Assigning su_raw methane mole fraction for Methane Air on 10_29\n",
      "Assigning su_normalized methane mole fraction for Methane Air on 10_29\n",
      "Operator: Scientific Aviation\n",
      "Flight Day: 11_08\n",
      "Assigning km methane mole fraction for Scientific Aviation on 11_08\n",
      "Assigning su_raw methane mole fraction for Scientific Aviation on 11_08\n",
      "Assigning su_normalized methane mole fraction for Scientific Aviation on 11_08\n",
      "Operator: Scientific Aviation\n",
      "Flight Day: 11_10\n",
      "Assigning km methane mole fraction for Scientific Aviation on 11_10\n",
      "Assigning su_raw methane mole fraction for Scientific Aviation on 11_10\n",
      "Assigning su_normalized methane mole fraction for Scientific Aviation on 11_10\n",
      "Operator: Scientific Aviation\n",
      "Flight Day: 11_11\n",
      "Assigning km methane mole fraction for Scientific Aviation on 11_11\n",
      "Assigning su_raw methane mole fraction for Scientific Aviation on 11_11\n",
      "Assigning su_normalized methane mole fraction for Scientific Aviation on 11_11\n"
     ]
    }
   ],
   "source": [
    "# Comment out to prevent from accidentally running\n",
    "load_flight_days()\n",
    "generate_daily_releases()\n"
   ],
   "metadata": {
    "collapsed": false
   }
  },
  {
   "cell_type": "markdown",
   "source": [
    "### Make operator meter files\n",
    "Operator meter files (saved in 02_meter_data > operator_meter_data) are meter files that used as input for creating the operator overpass summary dataframe (03_results > overpass_summary), which in turn is the input for all major analysis of airplane performance.\n",
    "\n",
    "Operator meter files have the following columns:\n",
    "- datetime_utc: datetime in UTC timezone, dtype is datetime object\n",
    "- overpass_id: matches PerformerExperimentID in the operator report\n",
    "- phase_iii: indicates if we provided the operator with the flow rate for this overpass in Phase III, with 1 meaning we gave the overpass and 0 meaning we did not\n",
    "- kgh_gas_30: average whole gas flow rate for the 30 seconds preceding the overpass time\n",
    "- kgh_gas_60: average whole gas flow rate for the 60 seconds preceding the overpass time\n",
    "- kgh_gas_90: average whole gas flow rate for the 90 seconds preceding the overpass time\n",
    "- meter: indicates which meter was used for measurement (bc = small Coriolis meter, mc = medium Coriolis meter, pc = large Coriolis meter)\n",
    "- qc_su_discard: 0 if Stanford did NOT discard, 1 if Stanford QC does indicate this should be discarded, using lax criteria. Lax criteria is the standard for all analysis, we compare to strict in 07_qc_comparison.ipynb\n",
    "- qc_su_discard_strict: indicates if Stanford would discard (1) with strict criteria, or keep (0) with strict criteria\n",
    "- altitude_feet: flight altitude in feet, averaged for 60 seconds prior to the plane being directly over the release point. (Note: units in 02_meter_data > summary_files are tracking data, and are in the units reported by the tracking system. This is feet for FlightTracker and meters for Kairos' reporting system, both in units above sea level. The script clean_meter_column_names converts these to feet above ground level)\n",
    "- methane_fraction_su_raw: methane fraction using raw values from Stanford samples as provided by Eurofins Air Toxins laboratory\n",
    "- kgh_ch4_30_su_raw, kgh_ch4_60_su_raw, kgh_ch4_90_su_raw: calculated flow rate in kgh CH4 over 30, 60, and 90 seconds respectively, using methane_fraction_su_raw\n",
    "- methane_fraction_su_normalized: methane fraction using Stanford samples analyzed by Eurofins Air Toxins laboratory, normalized such that the sum of all components included in the analysis adds to 100%.\n",
    "- kgh_ch4_30_su_normalized, kgh_ch4_60_su_normalized, kgh_ch4_60_su_normalized: methane flow rate averaged over the relevant time period using methane_fraction_su_normalized\n",
    "- methane_fraction_km: methane mole fraction provided by Kinder Morgan for gas directed to the filling points used in this analysis. We used the analysis conducted on the dates which we filled the CNG trucks, applied to all dates which those trucks were used for releases\n",
    "- kgh_ch4_30_km, kgh_ch4_60_km, kgh_ch4_90_km: methane flow rate averaged over the relevant time period, using methane_fraction_km\n",
    "\n",
    "#### Scientific Aviation:\n",
    "Note that Scientific Aviation submitted a report using non-standard template. The SciAv.csv summary file and sciav_1_overpasses overpass summary file were manually generated by Sahar El Abbadi."
   ],
   "metadata": {
    "collapsed": false
   }
  },
  {
   "cell_type": "code",
   "execution_count": null,
   "outputs": [],
   "source": [
    "# Load data\n",
    "cm_meter_raw, ghg_meter_raw, kairos_meter_raw, mair_meter_raw, sciav_meter_raw = load_summary_files()\n",
    "\n",
    "timekeepers = ['flightradar', 'stanford', 'team']\n",
    "operators = ['Carbon Mapper', 'GHGSat', 'Kairos', 'MethaneAir']\n",
    "time_ave = [30, 60, 90]\n",
    "gas_source = ['km', 'su_raw', 'su_normalized']\n",
    "# Dictionary of raw meter data\n",
    "meter_raw = {\n",
    "    'Carbon Mapper': cm_meter_raw,\n",
    "    'GHGSat': ghg_meter_raw,\n",
    "    'Kairos': kairos_meter_raw,\n",
    "    'MethaneAir': mair_meter_raw,\n",
    "    'Scientific Aviation': sciav_meter_raw,\n",
    "}\n",
    "\n",
    "# Generate all datasets and save them\n",
    "for timekeeper in timekeepers:\n",
    "    for operator in operators:\n",
    "        if operator == 'Scientific Aviation':\n",
    "            pass # Not applicable for SciAv\n",
    "        else:\n",
    "            for time in time_ave:\n",
    "                for source in gas_source:\n",
    "                    print(f'Making {timekeeper} meter dataset for {operator} with {source} averaged over {time}')\n",
    "                    make_operator_meter_dataset(operator, meter_raw[operator], timekeeper, time, source)\n",
    "\n",
    "# cm_meter = make_operator_meter_dataset('Carbon Mapper', cm_meter_raw, 'flightradar', 60, 'km')\n",
    "# ghg_meter = make_operator_meter_dataset('GHGSat', ghg_meter_raw, 'flightradar', 60, 'km')\n",
    "# kairos_meter = make_operator_meter_dataset('Kairos', kairos_meter_raw, 'flightradar', 60, 'km')\n",
    "# mair_meter = make_operator_meter_dataset('Methane Air', mair_meter_raw, 'flightradar', 60, 'km')\n",
    "\n"
   ],
   "metadata": {
    "collapsed": false
   }
  },
  {
   "cell_type": "code",
   "execution_count": null,
   "outputs": [],
   "source": [],
   "metadata": {
    "collapsed": false
   }
  }
 ],
 "metadata": {
  "kernelspec": {
   "display_name": "Python 3",
   "language": "python",
   "name": "python3"
  },
  "language_info": {
   "codemirror_mode": {
    "name": "ipython",
    "version": 2
   },
   "file_extension": ".py",
   "mimetype": "text/x-python",
   "name": "python",
   "nbconvert_exporter": "python",
   "pygments_lexer": "ipython2",
   "version": "2.7.6"
  }
 },
 "nbformat": 4,
 "nbformat_minor": 0
}
