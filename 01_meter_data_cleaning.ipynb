{
 "cells": [
  {
   "cell_type": "markdown",
   "source": [
    "# Clean Stanford Meter Data\n",
    "Code author: Sahar H. El Abbadi\n",
    "Date started: 2022-03-11\n",
    "Date last edited: 2022-03-11\n",
    "\n",
    "## Data description:\n",
    "Stanford metering data, cleaned according to data processing pipeline. Includes 30-s, 60-s, and 90-s average flow rates, percent methane, and whole gas measurements. Each measurement is provided for the three different timestamp metrics: Stanford timestamps, as observed from the field; operator reported timestamps; and FlightRadar timestamps.\n",
    "\n",
    "## Script objective:\n",
    "Select data for the desired timestamp and time average. Make column names machine-readable."
   ],
   "metadata": {
    "collapsed": false
   }
  },
  {
   "cell_type": "code",
   "execution_count": 1,
   "outputs": [],
   "source": [
    "# Setup\n",
    "\n",
    "# Imports\n",
    "from methods_source import load_summary_files, make_operator_meter_dataset, generate_daily_releases\n"
   ],
   "metadata": {
    "collapsed": false
   }
  },
  {
   "cell_type": "markdown",
   "source": [
    "### Load daily metered release rates\n",
    "This is all the metered data for releases conducted on flight days for each airplane operator. Includes the metered flow rate, then assigns methane mole fraction based on the measurement datetime, and calculates the methane mole fraction using the Kinder Morgan methane mole fraction data.\n",
    "\n",
    "WARNING: this script takes a long time to run!"
   ],
   "metadata": {
    "collapsed": false
   }
  },
  {
   "cell_type": "code",
   "execution_count": 2,
   "outputs": [
    {
     "name": "stdout",
     "output_type": "stream",
     "text": [
      "Operator: Carbon Mapper\n",
      "Flight Day: 10_10\n",
      "Assigning methane mole fraction for Carbon Mapper on 10_10\n",
      "Operator: Carbon Mapper\n",
      "Flight Day: 10_11\n",
      "Assigning methane mole fraction for Carbon Mapper on 10_11\n",
      "Operator: Carbon Mapper\n",
      "Flight Day: 10_12\n",
      "Assigning methane mole fraction for Carbon Mapper on 10_12\n",
      "Operator: Carbon Mapper\n",
      "Flight Day: 10_28\n",
      "Assigning methane mole fraction for Carbon Mapper on 10_28\n",
      "Operator: Carbon Mapper\n",
      "Flight Day: 10_29\n",
      "Assigning methane mole fraction for Carbon Mapper on 10_29\n",
      "Operator: Carbon Mapper\n",
      "Flight Day: 10_31\n",
      "Assigning methane mole fraction for Carbon Mapper on 10_31\n",
      "Operator: GHGSat\n",
      "Flight Day: 10_31\n",
      "Assigning methane mole fraction for GHGSat on 10_31\n",
      "Operator: GHGSat\n",
      "Flight Day: 11_02\n",
      "Assigning methane mole fraction for GHGSat on 11_02\n",
      "Operator: GHGSat\n",
      "Flight Day: 11_04\n",
      "Assigning methane mole fraction for GHGSat on 11_04\n",
      "Operator: GHGSat\n",
      "Flight Day: 11_07\n",
      "Assigning methane mole fraction for GHGSat on 11_07\n",
      "Operator: Kairos\n",
      "Flight Day: 10_24\n",
      "Assigning methane mole fraction for Kairos on 10_24\n",
      "Operator: Kairos\n",
      "Flight Day: 10_25\n",
      "Assigning methane mole fraction for Kairos on 10_25\n",
      "Operator: Kairos\n",
      "Flight Day: 10_26\n",
      "Assigning methane mole fraction for Kairos on 10_26\n",
      "Operator: Kairos\n",
      "Flight Day: 10_27\n",
      "Assigning methane mole fraction for Kairos on 10_27\n",
      "Operator: Kairos\n",
      "Flight Day: 10_28\n",
      "Assigning methane mole fraction for Kairos on 10_28\n",
      "Operator: Methane Air\n",
      "Flight Day: 10_25\n",
      "Assigning methane mole fraction for Methane Air on 10_25\n",
      "Operator: Methane Air\n",
      "Flight Day: 10_29\n",
      "Assigning methane mole fraction for Methane Air on 10_29\n",
      "Operator: Scientific Aviation\n",
      "Flight Day: 11_08\n",
      "Assigning methane mole fraction for Scientific Aviation on 11_08\n",
      "Operator: Scientific Aviation\n",
      "Flight Day: 11_10\n",
      "Assigning methane mole fraction for Scientific Aviation on 11_10\n",
      "Operator: Scientific Aviation\n",
      "Flight Day: 11_11\n",
      "Assigning methane mole fraction for Scientific Aviation on 11_11\n"
     ]
    }
   ],
   "source": [
    "generate_daily_releases()"
   ],
   "metadata": {
    "collapsed": false
   }
  },
  {
   "cell_type": "code",
   "execution_count": 2,
   "outputs": [],
   "source": [
    "# Load data\n",
    "cm_meter_raw, ghg_meter_raw, kairos_meter_raw, mair_meter_raw, sciav_meter_raw = load_summary_files()\n",
    "\n",
    "timekeepers = ['flightradar', 'stanford', 'team']\n",
    "operators = ['Carbon Mapper', 'GHGSat', 'Kairos', 'MethaneAir']\n",
    "\n",
    "# Dictionary of raw meter data\n",
    "meter_raw = {\n",
    "    'Carbon Mapper': cm_meter_raw,\n",
    "    'GHGSat': ghg_meter_raw,\n",
    "    'Kairos': kairos_meter_raw,\n",
    "    'MethaneAir': mair_meter_raw,\n",
    "    'Scientific Aviation': sciav_meter_raw,\n",
    "}\n",
    "\n",
    "# Generate all datasets and save them\n",
    "for timekeeper in timekeepers:\n",
    "    for operator in operators:\n",
    "        if operator == 'Scientific Aviation':\n",
    "            pass # Not applicable for ScieAv\n",
    "        else:\n",
    "            make_operator_meter_dataset(operator, meter_raw[operator], timekeeper)\n",
    "\n",
    "\n",
    "cm_meter = make_operator_meter_dataset('Carbon Mapper', cm_meter_raw, 'flightradar')\n",
    "ghg_meter = make_operator_meter_dataset('GHGSat', ghg_meter_raw, 'flightradar')\n",
    "kairos_meter = make_operator_meter_dataset('Kairos', kairos_meter_raw, 'flightradar')\n",
    "mair_meter = make_operator_meter_dataset('Methane Air', mair_meter_raw, 'flightradar')\n",
    "\n"
   ],
   "metadata": {
    "collapsed": false
   }
  },
  {
   "cell_type": "code",
   "execution_count": null,
   "outputs": [],
   "source": [
    "import pandas as pd\n",
    "import numpy as np\n",
    "import pathlib\n",
    "\n",
    "# For Scientific Aviation, we'll use their start and end times reported by operator as this is a more accurate reflection of when they were conducting measurements\n",
    "\n",
    "sciav_meter = pd.DataFrame()\n",
    "overpass_id = np.linspace(1, 18, 18)\n",
    "sciav_meter['overpass_id'] = overpass_id\n",
    "# datetime column set to start time to keep column heading consistent with how we handle the other operator dataframes\n",
    "sciav_meter['datetime_utc'] = sciav_meter_raw['start_using_sciav']\n",
    "# Create a new column specifically for measurement start and end times\n",
    "sciav_meter['start_measurement'] = sciav_meter_raw['start_using_sciav']\n",
    "sciav_meter['start_measurement'] = sciav_meter_raw['end_using_sciav']\n",
    "\n"
   ],
   "metadata": {
    "collapsed": false
   }
  },
  {
   "cell_type": "code",
   "execution_count": null,
   "outputs": [],
   "source": [
    "# Update to include new gas composition data\n",
    "\n",
    "# Load gas comp\n",
    "import pandas as pd\n",
    "import datetime\n",
    "\n",
    "def select_methane_fraction(input_datetime, gas_comp_source):\n",
    "    \"\"\"Determines the methane mole fraction for a given datetime.\n",
    "    Inputs:\n",
    "      - input_datetime is a datetime object\n",
    "      - gas_comp_source is either 'su_raw', 'su_normalized', or 'km' \"\"\"\n",
    "\n",
    "    # Load the clean meter data\n",
    "    gas_comp = pd.read_csv(pathlib.PurePath('02_meter_data', 'gas_comp_clean_su_km.csv'),\n",
    "                       nrows=15,\n",
    "                       parse_dates=['start_utc', 'end_utc'])\n",
    "\n",
    "    # Determine methane mole fraction based on date brackets\n",
    "    for index, row in gas_comp.iterrows():\n",
    "        if (input_datetime > row['start_utc']) and (input_datetime <= row['end_utc']):\n",
    "            methane_mole_fraction = row[gas_comp_source]\n",
    "\n",
    "    return methane_mole_fraction\n",
    "\n",
    "test_date = datetime.datetime(2022, 10, 12, 18, 13)\n",
    "print(test_date)\n",
    "select_methane_fraction(test_date, 'km')"
   ],
   "metadata": {
    "collapsed": false
   }
  }
 ],
 "metadata": {
  "kernelspec": {
   "display_name": "Python 3",
   "language": "python",
   "name": "python3"
  },
  "language_info": {
   "codemirror_mode": {
    "name": "ipython",
    "version": 2
   },
   "file_extension": ".py",
   "mimetype": "text/x-python",
   "name": "python",
   "nbconvert_exporter": "python",
   "pygments_lexer": "ipython2",
   "version": "2.7.6"
  }
 },
 "nbformat": 4,
 "nbformat_minor": 0
}
