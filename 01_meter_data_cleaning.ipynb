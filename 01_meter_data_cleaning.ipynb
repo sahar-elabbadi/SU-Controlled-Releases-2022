{
 "cells": [
  {
   "cell_type": "markdown",
   "source": [
    "# Clean Stanford Meter Data\n",
    "Code author: Sahar H. El Abbadi\n",
    "Date started: 2022-03-11\n",
    "Date last edited: 2022-03-11\n",
    "\n",
    "## Data description:\n",
    "Stanford metering data, cleaned according to data processing pipeline. Includes 30-s, 60-s, and 90-s average flow rates, percent methane, and whole gas measurements. Each measurement is provided for the three different timestamp metrics: Stanford timestamps, as observed from the field; operator reported timestamps; and FlightRadar timestamps.\n",
    "\n",
    "## Script objective:\n",
    "Select data for the desired timestamp and time average. Make column names machine-readable."
   ],
   "metadata": {
    "collapsed": false
   }
  },
  {
   "cell_type": "code",
   "execution_count": 1,
   "outputs": [
    {
     "ename": "ModuleNotFoundError",
     "evalue": "No module named 'methods_analysis'",
     "output_type": "error",
     "traceback": [
      "\u001B[0;31m---------------------------------------------------------------------------\u001B[0m",
      "\u001B[0;31mModuleNotFoundError\u001B[0m                       Traceback (most recent call last)",
      "Cell \u001B[0;32mIn[1], line 6\u001B[0m\n\u001B[1;32m      4\u001B[0m \u001B[38;5;28;01mimport\u001B[39;00m \u001B[38;5;21;01mpandas\u001B[39;00m \u001B[38;5;28;01mas\u001B[39;00m \u001B[38;5;21;01mpd\u001B[39;00m\n\u001B[1;32m      5\u001B[0m \u001B[38;5;28;01mimport\u001B[39;00m \u001B[38;5;21;01mpathlib\u001B[39;00m\n\u001B[0;32m----> 6\u001B[0m \u001B[38;5;28;01mfrom\u001B[39;00m \u001B[38;5;21;01mmethods_source\u001B[39;00m \u001B[38;5;28;01mimport\u001B[39;00m make_operator_meter_dataset\n\u001B[1;32m      8\u001B[0m \u001B[38;5;66;03m# Load data\u001B[39;00m\n\u001B[1;32m      9\u001B[0m \n\u001B[1;32m     10\u001B[0m \u001B[38;5;66;03m# Carbon Mapper meter data\u001B[39;00m\n\u001B[1;32m     11\u001B[0m cm_path \u001B[38;5;241m=\u001B[39m pathlib\u001B[38;5;241m.\u001B[39mPurePath(\u001B[38;5;124m'\u001B[39m\u001B[38;5;124m02_meter_data\u001B[39m\u001B[38;5;124m'\u001B[39m, \u001B[38;5;124m'\u001B[39m\u001B[38;5;124msummary_files\u001B[39m\u001B[38;5;124m'\u001B[39m, \u001B[38;5;124m'\u001B[39m\u001B[38;5;124mCM.csv\u001B[39m\u001B[38;5;124m'\u001B[39m)\n",
      "File \u001B[0;32m~/PycharmProjects/CRF22_Airplanes/methods_source.py:18\u001B[0m\n\u001B[1;32m     16\u001B[0m \u001B[38;5;28;01mimport\u001B[39;00m \u001B[38;5;21;01mmatplotlib\u001B[39;00m\u001B[38;5;21;01m.\u001B[39;00m\u001B[38;5;21;01mdates\u001B[39;00m \u001B[38;5;28;01mas\u001B[39;00m \u001B[38;5;21;01mmdates\u001B[39;00m\n\u001B[1;32m     17\u001B[0m \u001B[38;5;28;01mfrom\u001B[39;00m \u001B[38;5;21;01mmatplotlib\u001B[39;00m\u001B[38;5;21;01m.\u001B[39;00m\u001B[38;5;21;01mlines\u001B[39;00m \u001B[38;5;28;01mimport\u001B[39;00m Line2D\n\u001B[0;32m---> 18\u001B[0m \u001B[38;5;28;01mfrom\u001B[39;00m \u001B[38;5;21;01mplot_methods\u001B[39;00m \u001B[38;5;28;01mimport\u001B[39;00m abbreviate_op_name\n\u001B[1;32m     21\u001B[0m \u001B[38;5;66;03m# %% method summarize_qc\u001B[39;00m\n\u001B[1;32m     22\u001B[0m \u001B[38;5;28;01mdef\u001B[39;00m \u001B[38;5;21mgenerate_overpass_summary\u001B[39m(operator, stage, operator_report, operator_meter, strict_discard):\n",
      "File \u001B[0;32m~/PycharmProjects/CRF22_Airplanes/plot_methods.py:21\u001B[0m\n\u001B[1;32m     18\u001B[0m \u001B[38;5;28;01mimport\u001B[39;00m \u001B[38;5;21;01mdatetime\u001B[39;00m\n\u001B[1;32m     19\u001B[0m \u001B[38;5;28;01mimport\u001B[39;00m \u001B[38;5;21;01mmath\u001B[39;00m\n\u001B[0;32m---> 21\u001B[0m \u001B[38;5;28;01mfrom\u001B[39;00m \u001B[38;5;21;01mmethods_analysis\u001B[39;00m \u001B[38;5;28;01mimport\u001B[39;00m load_overpass_summary\n\u001B[1;32m     22\u001B[0m \u001B[38;5;28;01mfrom\u001B[39;00m \u001B[38;5;21;01mmethods_data_cleaning\u001B[39;00m \u001B[38;5;28;01mimport\u001B[39;00m apply_qc_filter, abbreviate_op_name\n\u001B[1;32m     25\u001B[0m \u001B[38;5;66;03m# Function: generate jitter for a given array\u001B[39;00m\n",
      "\u001B[0;31mModuleNotFoundError\u001B[0m: No module named 'methods_analysis'"
     ]
    }
   ],
   "source": [
    "# Setup\n",
    "\n",
    "# Imports\n",
    "import pandas as pd\n",
    "import pathlib\n",
    "from methods_source import make_operator_meter_dataset\n",
    "\n",
    "# Load data\n",
    "\n",
    "# Carbon Mapper meter data\n",
    "cm_path = pathlib.PurePath('02_meter_data', 'summary_files', 'CM.csv')\n",
    "cm_meter_raw = pd.read_csv(cm_path)\n",
    "\n",
    "# GHGSat meter data\n",
    "ghg_path = pathlib.PurePath('02_meter_data', 'summary_files', 'GHGSat.csv')\n",
    "ghg_meter_raw = pd.read_csv(ghg_path)\n",
    "\n",
    "# Kairos meter data\n",
    "kairos_path = pathlib.PurePath('02_meter_data', 'summary_files', 'Kairos.csv')\n",
    "kairos_meter_raw = pd.read_csv(kairos_path)\n",
    "\n",
    "# MAIR meter data\n",
    "mair_path = pathlib.PurePath('02_meter_data', 'summary_files', 'MAIR.csv')\n",
    "mair_meter_raw = pd.read_csv(mair_path)"
   ],
   "metadata": {
    "collapsed": false
   }
  },
  {
   "cell_type": "code",
   "execution_count": null,
   "outputs": [],
   "source": [
    "\n",
    "# Cannot currently run Methane Air team, so removing it from the for loop for now\n",
    "\n",
    "timekeepers = ['flightradar', 'stanford', 'team']\n",
    "operators = ['Carbon Mapper', 'GHGSat', 'Kairos']\n",
    "\n",
    "# Dictionary of raw meter data\n",
    "meter_raw = {\n",
    "    'Carbon Mapper': cm_meter_raw,\n",
    "    'GHGSat': ghg_meter_raw,\n",
    "    'Kairos': kairos_meter_raw,\n",
    "}\n",
    "\n",
    "# Generate all datasets and save them\n",
    "for timekeeper in timekeepers:\n",
    "    for operator in operators:\n",
    "        make_operator_meter_dataset(operator, meter_raw[operator], timekeeper)\n",
    "\n",
    "\n",
    "cm_meter = make_operator_meter_dataset('Carbon Mapper', cm_meter_raw, 'flightradar')\n",
    "ghg_meter = make_operator_meter_dataset('GHGSat', ghg_meter_raw, 'flightradar')\n",
    "kairos_meter = make_operator_meter_dataset('Kairos', kairos_meter_raw, 'flightradar')\n",
    "# mair_meter = make_operator_meter_dataset('Methane Air', mair_meter_raw, 'flightradar')\n",
    "\n"
   ],
   "metadata": {
    "collapsed": false
   }
  },
  {
   "cell_type": "code",
   "execution_count": null,
   "outputs": [],
   "source": [],
   "metadata": {
    "collapsed": false
   }
  }
 ],
 "metadata": {
  "kernelspec": {
   "display_name": "Python 3",
   "language": "python",
   "name": "python3"
  },
  "language_info": {
   "codemirror_mode": {
    "name": "ipython",
    "version": 2
   },
   "file_extension": ".py",
   "mimetype": "text/x-python",
   "name": "python",
   "nbconvert_exporter": "python",
   "pygments_lexer": "ipython2",
   "version": "2.7.6"
  }
 },
 "nbformat": 4,
 "nbformat_minor": 0
}
