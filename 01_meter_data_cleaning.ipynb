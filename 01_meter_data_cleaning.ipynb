{
 "cells": [
  {
   "cell_type": "markdown",
   "source": [
    "# Clean Stanford Meter Data\n",
    "Code author: Sahar H. El Abbadi\n",
    "Date started: 2022-03-11\n",
    "Date last edited: 2022-03-11\n",
    "\n",
    "## Data description:\n",
    "Stanford metering data, cleaned according to data processing pipeline. Includes 30-s, 60-s, and 90-s average flow rates, percent methane, and whole gas measurements. Each measurement is provided for the three different timestamp metrics: Stanford timestamps, as observed from the field; operator reported timestamps; and FlightRadar timestamps.\n",
    "\n",
    "## Script objective:\n",
    "Select data for the desired timestamp and time average. Make column names machine-readable."
   ],
   "metadata": {
    "collapsed": false
   }
  },
  {
   "cell_type": "code",
   "execution_count": 1,
   "outputs": [],
   "source": [
    "# Setup\n",
    "\n",
    "# Imports\n",
    "import pandas as pd\n",
    "import pathlib\n",
    "from methods_data_cleaning import make_operator_meter_dataset\n",
    "\n",
    "# Load data\n",
    "\n",
    "# Carbon Mapper meter data\n",
    "cm_path = pathlib.PurePath('02_meter_data', 'summary_files', 'CM.csv')\n",
    "cm_meter_raw = pd.read_csv(cm_path)\n",
    "\n",
    "# GHGSat meter data\n",
    "ghg_path = pathlib.PurePath('02_meter_data', 'summary_files', 'GHGSat.csv')\n",
    "ghg_meter_raw = pd.read_csv(ghg_path)\n",
    "\n",
    "# Kairos meter data\n",
    "kairos_path = pathlib.PurePath('02_meter_data', 'summary_files', 'Kairos.csv')\n",
    "kairos_meter_raw = pd.read_csv(kairos_path)\n",
    "\n",
    "# MAIR meter data\n",
    "mair_path = pathlib.PurePath('02_meter_data', 'summary_files', 'MAIR.csv')\n",
    "mair_meter_raw = pd.read_csv(mair_path)"
   ],
   "metadata": {
    "collapsed": false
   }
  },
  {
   "cell_type": "code",
   "execution_count": 2,
   "outputs": [],
   "source": [
    "\n",
    "# Cannot currently run Methane Air team, so removing it from the for loop for now\n",
    "\n",
    "timekeepers = ['flightradar', 'stanford', 'team']\n",
    "operators = ['Carbon Mapper', 'GHGSat', 'Kairos']\n",
    "\n",
    "# Dictionary of raw meter data\n",
    "meter_raw = {\n",
    "    'Carbon Mapper': cm_meter_raw,\n",
    "    'GHGSat': ghg_meter_raw,\n",
    "    'Kairos': kairos_meter_raw,\n",
    "}\n",
    "\n",
    "# Generate all datasets and save them\n",
    "for timekeeper in timekeepers:\n",
    "    for operator in operators:\n",
    "        make_operator_meter_dataset(operator, meter_raw[operator], timekeeper)\n",
    "\n",
    "\n",
    "cm_meter = make_operator_meter_dataset('Carbon Mapper', cm_meter_raw, 'flightradar')\n",
    "ghg_meter = make_operator_meter_dataset('GHGSat', ghg_meter_raw, 'flightradar')\n",
    "kairos_meter = make_operator_meter_dataset('Kairos', kairos_meter_raw, 'flightradar')\n",
    "# mair_meter = make_operator_meter_dataset('Methane Air', mair_meter_raw, 'flightradar')\n",
    "\n"
   ],
   "metadata": {
    "collapsed": false
   }
  },
  {
   "cell_type": "code",
   "execution_count": 2,
   "outputs": [],
   "source": [],
   "metadata": {
    "collapsed": false
   }
  }
 ],
 "metadata": {
  "kernelspec": {
   "display_name": "Python 3",
   "language": "python",
   "name": "python3"
  },
  "language_info": {
   "codemirror_mode": {
    "name": "ipython",
    "version": 2
   },
   "file_extension": ".py",
   "mimetype": "text/x-python",
   "name": "python",
   "nbconvert_exporter": "python",
   "pygments_lexer": "ipython2",
   "version": "2.7.6"
  }
 },
 "nbformat": 4,
 "nbformat_minor": 0
}
