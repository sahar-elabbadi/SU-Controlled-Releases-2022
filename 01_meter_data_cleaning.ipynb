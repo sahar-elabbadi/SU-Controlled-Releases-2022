{
 "cells": [
  {
   "cell_type": "markdown",
   "source": [
    "# Clean Stanford Meter Data\n",
    "Code author: Sahar H. El Abbadi\n",
    "Date started: 2022-03-11\n",
    "Date last edited: 2022-03-11\n",
    "\n",
    "## Data description:\n",
    "Stanford metering data, cleaned according to data processing pipeline. Includes 30-s, 60-s, and 90-s average flow rates, percent methane, and whole gas measurements. Each measurement is provided for the three different timestamp metrics: Stanford timestamps, as observed from the field; operator reported timestamps; and FlightRadar timestamps.\n",
    "\n",
    "## Script objective:\n",
    "Select data for the desired timestamp and time average. Make column names machine-readable."
   ],
   "metadata": {
    "collapsed": false
   }
  },
  {
   "cell_type": "code",
   "execution_count": null,
   "outputs": [],
   "source": [],
   "metadata": {
    "collapsed": false
   }
  }
 ],
 "metadata": {
  "kernelspec": {
   "display_name": "Python 3",
   "language": "python",
   "name": "python3"
  },
  "language_info": {
   "codemirror_mode": {
    "name": "ipython",
    "version": 2
   },
   "file_extension": ".py",
   "mimetype": "text/x-python",
   "name": "python",
   "nbconvert_exporter": "python",
   "pygments_lexer": "ipython2",
   "version": "2.7.6"
  }
 },
 "nbformat": 4,
 "nbformat_minor": 0
}
