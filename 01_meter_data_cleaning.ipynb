{
 "cells": [
  {
   "cell_type": "markdown",
   "source": [
    "# Clean Stanford Meter Data\n",
    "Code author: Sahar H. El Abbadi\n",
    "Date started: 2022-03-11\n",
    "Date last edited: 2022-03-11\n",
    "\n",
    "## Data description:\n",
    "Stanford metering data, cleaned according to data processing pipeline. Includes 30-s, 60-s, and 90-s average flow rates, percent methane, and whole gas measurements. Each measurement is provided for the three different timestamp metrics: Stanford timestamps, as observed from the field; operator reported timestamps; and FlightRadar timestamps.\n",
    "\n",
    "## Script objective:\n",
    "Select data for the desired timestamp and time average. Make column names machine-readable."
   ],
   "metadata": {
    "collapsed": false
   }
  },
  {
   "cell_type": "code",
   "execution_count": 1,
   "outputs": [],
   "source": [
    "# Setup\n",
    "\n",
    "# Imports\n",
    "import pandas as pd\n",
    "import pathlib\n",
    "from methods_data_cleaning import combine_datetime\n",
    "\n",
    "# Load data\n",
    "\n",
    "# Carbon Mapper meter data\n",
    "cm_path = pathlib.PurePath('02_meter_data', 'summary_files', 'CM.csv')\n",
    "cm_meter_raw = pd.read_csv(cm_path)\n",
    "\n",
    "# GHGSat meter data\n",
    "ghg_path = pathlib.PurePath('02_meter_data', 'summary_files', 'GHGSat.csv')\n",
    "ghg_meter_raw = pd.read_csv(ghg_path)\n",
    "\n",
    "# Kairos meter data\n",
    "kairos_path = pathlib.PurePath('02_meter_data', 'summary_files', 'Kairos.csv')\n",
    "kairos_meter_raw = pd.read_csv(kairos_path)\n",
    "\n",
    "# MAIR meter data\n",
    "mair_path = pathlib.PurePath('02_meter_data', 'summary_files', 'MAIR.csv')\n",
    "mair_meter_raw = pd.read_csv(mair_path)"
   ],
   "metadata": {
    "collapsed": false
   }
  },
  {
   "cell_type": "code",
   "execution_count": 7,
   "outputs": [],
   "source": [
    "\n",
    "# Default data frames will use the FlightRadar timestamp. Load the data using FlightRadar timestamp\n",
    "\n",
    "\n",
    "# Relevant columns:\n",
    "date = 'Date'\n",
    "time = 'Time (UTC) - from Flightradar'\n",
    "overpass_id = 'FlightradarOverpassID'\n",
    "phase_iii = 'PhaseIII' # 0 indicates the overpass was not provided to team in Phase III, 1 indicates it was\n",
    "kgh_gas_30 = 'Last 30s (kg/h) - whole gas measurement - from Flightradar'\n",
    "kgh_gas_60 = 'Last 60s (kg/h) - whole gas measurement - from Flightradar'\n",
    "kgh_gas_90 = 'Last 90s (kg/h) - whole gas measurement - from Flightradar'\n",
    "kgh_ch4_30 = 'Last 30s (kg/h) - from Flightradar'\n",
    "kgh_ch4_60 = 'Last 60s (kg/h) - from Flightradar'\n",
    "kgh_ch4_90 = 'Last 90s (kg/h) - from Flightradar'\n",
    "methane_fraction = 'Percent methane'\n",
    "meter = 'Meter' # note renaming meter variable used above\n",
    "qc_discard = 'Discarded - using Flightradar'\n",
    "qc_discard_strict = 'Discarded - 1% - using Flightradar'\n",
    "altitude_meters = 'Average altitude last minute (m)'\n",
    "\n",
    "\n",
    "\n",
    "cm_meter = pd.DataFrame()\n",
    "\n",
    "# Populate relevant dataframes\n",
    "cm_meter['datatime'] = cm_meter_raw.apply(lambda cm_meter_raw:\n",
    "                                      combine_datetime(cm_meter_raw[date], cm_meter_raw[time]),\n",
    "                                      axis=1)\n",
    "cm_meter['overpass_id'] = cm_meter_raw[overpass_id]\n",
    "cm_meter['phase_iii'] = cm_meter_raw[phase_iii]\n",
    "cm_meter['kgh_gas_30'] = cm_meter_raw[kgh_gas_30]\n",
    "cm_meter['kgh_gas_60'] = cm_meter_raw[kgh_gas_60]\n",
    "cm_meter['kgh_gas_90'] = cm_meter_raw[kgh_gas_90]\n",
    "cm_meter['kgh_ch4_30'] = cm_meter_raw[kgh_ch4_30]\n",
    "cm_meter['kgh_ch4_60'] = cm_meter_raw[kgh_ch4_60]\n",
    "cm_meter['kgh_ch4_90'] = cm_meter_raw[kgh_ch4_90]\n",
    "cm_meter['methane_fraction'] = cm_meter_raw[methane_fraction]\n",
    "cm_meter['meter'] = cm_meter_raw[meter]\n",
    "cm_meter['qc_discard'] = cm_meter_raw[qc_discard]\n",
    "cm_meter['qc_discard_strict'] = cm_meter_raw[qc_discard_strict]\n",
    "cm_meter['altitude_meters'] = cm_meter_raw[altitude_meters]\n",
    "\n",
    "# Abbreviate meter names in raw meter file\n",
    "names = ['Baby Coriolis', 'Mama Coriolis', 'Papa Coriolis']\n",
    "nicknames = ['bc', 'mc', 'pc']\n",
    "\n",
    "for meter_name, meter_nickname in zip(names, nicknames):\n",
    "    cm_meter.loc[cm_meter['meter'] == meter_name, 'meter'] = meter_nickname\n",
    "\n",
    "cm_meter.to_csv(pathlib.PurePath('02_meter_data', 'cm_meter.csv'))\n"
   ],
   "metadata": {
    "collapsed": false
   }
  },
  {
   "cell_type": "code",
   "execution_count": 13,
   "outputs": [
    {
     "data": {
      "text/plain": "datatime    datetime64[ns]\ndtype: object"
     },
     "execution_count": 13,
     "metadata": {},
     "output_type": "execute_result"
    }
   ],
   "source": [],
   "metadata": {
    "collapsed": false
   }
  },
  {
   "cell_type": "code",
   "execution_count": null,
   "outputs": [],
   "source": [],
   "metadata": {
    "collapsed": false
   }
  }
 ],
 "metadata": {
  "kernelspec": {
   "display_name": "Python 3",
   "language": "python",
   "name": "python3"
  },
  "language_info": {
   "codemirror_mode": {
    "name": "ipython",
    "version": 2
   },
   "file_extension": ".py",
   "mimetype": "text/x-python",
   "name": "python",
   "nbconvert_exporter": "python",
   "pygments_lexer": "ipython2",
   "version": "2.7.6"
  }
 },
 "nbformat": 4,
 "nbformat_minor": 0
}
