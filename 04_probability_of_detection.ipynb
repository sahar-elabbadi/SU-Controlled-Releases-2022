{
 "cells": [
  {
   "cell_type": "markdown",
   "source": [
    "# Generate Probability of Detection for Operators\n",
    "Code author: Sahar H. El Abbadi\n",
    "Date started: 2022-02-23\n",
    "Date last edited: 2022-02-24"
   ],
   "metadata": {
    "collapsed": false
   }
  },
  {
   "cell_type": "code",
   "execution_count": 7,
   "outputs": [],
   "source": [
    "# Imports\n",
    "import pandas as pd\n",
    "import numpy as np\n",
    "from data_methods import load_clean_data, load_meter_data, merge_meter_and_operator_data"
   ],
   "metadata": {
    "collapsed": false
   }
  },
  {
   "cell_type": "code",
   "execution_count": 2,
   "outputs": [],
   "source": [
    "# Load clean operator data\n",
    "\n",
    "# cm_1 = Carbon Mapper Stage 1\n",
    "# ghg_1 = GHGSat Stage 1\n",
    "# kairos_1_ls23 = Kairos Stage 1 Pod LS23\n",
    "\n",
    "cm_1, ghg_1, kairos_1_ls23 = load_clean_data()\n",
    "\n",
    "# Load meter data\n",
    "# cm_meter = metered data for Carbon Mapper overpasses\n",
    "# ghg_meter = metered data for GHGSat overpasses\n",
    "# kairos_1_ls23_meter = metered data for Kairos overpasses\n",
    "\n",
    "cm_meter, ghg_meter, kairos_1_ls23_meter = load_meter_data()"
   ],
   "metadata": {
    "collapsed": false
   }
  },
  {
   "cell_type": "code",
   "execution_count": null,
   "outputs": [],
   "source": [
    "# Carbon Mapper probability of detection\n",
    "\n",
    "cm_df = merge_meter_and_operator_data(cm_1, cm_meter)\n",
    "print(cm_df)"
   ],
   "metadata": {
    "collapsed": false,
    "pycharm": {
     "is_executing": true
    }
   }
  },
  {
   "cell_type": "code",
   "execution_count": 11,
   "outputs": [
    {
     "name": "stdout",
     "output_type": "stream",
     "text": [
      "[ 5. 10. 15. 20. 25.]\n",
      "number of CM overpasses is 112\n"
     ]
    }
   ],
   "source": [
    "# Make a dataframe with bins\n",
    "\n",
    "bins = np.linspace(5, 25, num=5)\n",
    "print(bins)\n",
    "\n",
    "overpasses = len(cm_df)\n",
    "print(f'number of CM overpasses is {overpasses}')"
   ],
   "metadata": {
    "collapsed": false
   }
  },
  {
   "cell_type": "code",
   "execution_count": 12,
   "outputs": [],
   "source": [
    "# Iterate through cm_df\n",
    "# I could take the dataframe, select the overpasses where the Stanford release volume is between X1 and X2, AND they quantified\n",
    "# Then I could just count the length of the dataframe\n",
    "# Maybe I need to go back in my original data cleaning and distinguish between a quantified plume and a detection. This will be different for each team"
   ],
   "metadata": {
    "collapsed": false
   }
  },
  {
   "cell_type": "code",
   "execution_count": null,
   "outputs": [],
   "source": [],
   "metadata": {
    "collapsed": false
   }
  }
 ],
 "metadata": {
  "kernelspec": {
   "display_name": "Python 3",
   "language": "python",
   "name": "python3"
  },
  "language_info": {
   "codemirror_mode": {
    "name": "ipython",
    "version": 2
   },
   "file_extension": ".py",
   "mimetype": "text/x-python",
   "name": "python",
   "nbconvert_exporter": "python",
   "pygments_lexer": "ipython2",
   "version": "2.7.6"
  }
 },
 "nbformat": 4,
 "nbformat_minor": 0
}
