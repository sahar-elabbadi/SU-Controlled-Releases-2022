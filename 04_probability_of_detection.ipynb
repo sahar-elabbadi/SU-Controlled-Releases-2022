{
 "cells": [
  {
   "cell_type": "markdown",
   "source": [
    "# Generate Probability of Detection for Operators\n",
    "Code author: Sahar H. El Abbadi\n",
    "Date started: 2022-02-23\n",
    "Date last edited: 2022-02-27"
   ],
   "metadata": {
    "collapsed": false
   }
  },
  {
   "cell_type": "code",
   "execution_count": 1,
   "outputs": [],
   "source": [
    "# Setup\n",
    "\n",
    "# Imports\n",
    "import pandas as pd\n",
    "import numpy as np\n",
    "from data_manipulation_methods import load_clean_data, load_meter_data, merge_meter_and_operator_data\n",
    "\n",
    "# Load clean operator data\n",
    "# format for naming: [operator]_stage\n",
    "\n",
    "cm_1, cm_2, ghg_1, ghg_2, kairos_1_ls23, kairos_1_ls25, kairos_2_ls23, kairos_2_ls25, kairos_3_ls23, kairos_3_ls25 = load_clean_data()\n",
    "\n",
    "# Load meter data\n",
    "# cm_meter = metered data for Carbon Mapper overpasses\n",
    "# ghg_meter = metered data for GHGSat overpasses\n",
    "# kairos_meter = metered data for Kairos overpasses\n",
    "\n",
    "cm_meter, ghg_meter, kairos_meter = load_meter_data()"
   ],
   "metadata": {
    "collapsed": false
   }
  },
  {
   "cell_type": "code",
   "execution_count": 20,
   "outputs": [
    {
     "name": "stdout",
     "output_type": "stream",
     "text": [
      "   bin_median  detection_prob_mean  detection_prob_two_sigma_upper  \\\n",
      "0         5.0                 0.25                        0.433013   \n",
      "1        15.0                 1.00                        0.000000   \n",
      "2        25.0                 1.00                        0.000000   \n",
      "3        35.0                 1.00                        0.000000   \n",
      "4        45.0                 1.00                        0.000000   \n",
      "\n",
      "   detection_prob_two_sigma_lower  n_data_points  n_detected  \n",
      "0                            0.25              4           1  \n",
      "1                            0.00              4           4  \n",
      "2                            0.00              8           8  \n",
      "3                            0.00              6           6  \n",
      "4                            0.00              6           6  \n"
     ]
    }
   ],
   "source": [
    "# Carbon Mapper probability of detection\n",
    "\n",
    "n_bins = 5 # number of bins\n",
    "threshold = 50 # highest release rate in kgh to show in detection threshold graph\n",
    "\n",
    "cm_df = merge_meter_and_operator_data(cm_1, cm_meter)\n",
    "\n",
    "# Make column with easier name for coding for now.\n",
    "cm_df['release_rate_kgh'] = cm_df['Last 60s (kg/h) - from Stanford']\n",
    "\n",
    "\n",
    "# Determine whether each overpass below the threshold value was detected\n",
    "cm_detection = pd.DataFrame()\n",
    "cm_detection['overpass_id'] = cm_df.PerformerExperimentID\n",
    "cm_detection['non_zero_release'] = cm_df.release_rate_kgh!=0 # True if we conducted a release\n",
    "cm_detection['operator_detected'] = cm_df.Detected\n",
    "cm_detection['release_rate_kgh'] = cm_df.release_rate_kgh\n",
    "\n",
    "# Select overpasses that are below the threshold of interest AND where release is non-zero\n",
    "cm_detection = cm_detection.loc[cm_detection.release_rate_kgh <= threshold].loc[cm_detection.non_zero_release == True]\n",
    "\n",
    "# Create bins for plot\n",
    "bins = np.linspace(0, threshold, n_bins+1)\n",
    "detection_probability = np.zeros(n_bins)\n",
    "\n",
    "# What are you initializing here, Yulia? Are these all trackers of some sort?\n",
    "bin_size, bin_num_detected = np.zeros(n_bins).astype('int'), np.zeros(n_bins).astype('int')\n",
    "bin_median = np.zeros(n_bins)\n",
    "bin_two_sigma = np.zeros(n_bins)\n",
    "two_sigma_upper, two_sigma_lower = np.zeros(n_bins), np.zeros(n_bins)\n",
    "\n",
    "# For each bin, find number of data points and detection probability\n",
    "\n",
    "for i in range(n_bins):\n",
    "\n",
    "    # Set boundary of bin\n",
    "    bin_min = bins[i]\n",
    "    bin_max = bins[i+1]\n",
    "    bin_median[i] = (bin_min+bin_max)/2\n",
    "\n",
    "    # Select data within the bin range\n",
    "    binned_data = cm_detection.loc[cm_detection.release_rate_kgh < bin_max].loc[cm_detection.release_rate_kgh>=bin_min]\n",
    "\n",
    "    # Count the total number of overpasses detected within each bin\n",
    "    bin_num_detected[i] = binned_data.operator_detected.sum()\n",
    "\n",
    "    n = len(binned_data)\n",
    "    bin_size[i] = n # this is the y-value for the bin in the plot\n",
    "    p = binned_data.operator_detected.sum()/binned_data.shape[0] #df.shape[0] gives number of rows\n",
    "    detection_probability[i] = p\n",
    "\n",
    "    # Standard Deviation of a binomial distribution\n",
    "    sigma = np.sqrt(p*(1-p)/n)\n",
    "    bin_two_sigma[i] = 2*sigma\n",
    "\n",
    "    # Find the lower and upper bound defined by two sigma\n",
    "    two_sigma_lower[i] = 2*sigma\n",
    "    two_sigma_upper[i] = 2*sigma\n",
    "    if 2*sigma + p > 1:\n",
    "        two_sigma_upper[i] = 1-p # probability cannot exceed 1\n",
    "    if p - 2*sigma < 0 :\n",
    "        two_sigma_lower[i] = p # if error bar includes zero, set lower bound to p?\n",
    "\n",
    "\n",
    "detection_prob = pd.DataFrame({\n",
    "    \"bin_median\": bin_median,\n",
    "    \"detection_prob_mean\": detection_probability,\n",
    "    \"detection_prob_two_sigma_upper\": two_sigma_upper,\n",
    "    \"detection_prob_two_sigma_lower\": two_sigma_lower,\n",
    "    \"n_data_points\": bin_size,\n",
    "    \"n_detected\": bin_num_detected})\n",
    "\n",
    "print(detection_prob)\n",
    "# Function will output cm_detection and detection_prob\n"
   ],
   "metadata": {
    "collapsed": false
   }
  }
 ],
 "metadata": {
  "kernelspec": {
   "display_name": "Python 3",
   "language": "python",
   "name": "python3"
  },
  "language_info": {
   "codemirror_mode": {
    "name": "ipython",
    "version": 2
   },
   "file_extension": ".py",
   "mimetype": "text/x-python",
   "name": "python",
   "nbconvert_exporter": "python",
   "pygments_lexer": "ipython2",
   "version": "2.7.6"
  }
 },
 "nbformat": 4,
 "nbformat_minor": 0
}
