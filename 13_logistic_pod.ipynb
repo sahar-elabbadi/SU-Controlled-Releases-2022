{
 "cells": [
  {
   "cell_type": "markdown",
   "source": [
    "# Logistic Regression for probability of detection\n",
    "\n",
    "Fit a logistic regression to detection data.\n"
   ],
   "metadata": {
    "collapsed": false
   }
  },
  {
   "cell_type": "code",
   "execution_count": 1,
   "outputs": [],
   "source": [
    "# First, code for generating wind data - example code\n",
    "from methods_source import summarize_wind_conditions, calc_avg_windspeed\n",
    "import datetime\n",
    "\n",
    "test_1 = datetime.datetime(2022, 10, 10, 18, 16, 10)\n",
    "test_2 = datetime.datetime(2022, 10, 10, 18, 17, 10)\n",
    "\n",
    "wind_test1 = summarize_wind_conditions(test_1, test_2)\n",
    "\n",
    "wind_test2 = calc_avg_windspeed(test_1, direction='forward')"
   ],
   "metadata": {
    "collapsed": false
   }
  },
  {
   "cell_type": "markdown",
   "source": [],
   "metadata": {
    "collapsed": false
   }
  },
  {
   "cell_type": "code",
   "execution_count": 2,
   "outputs": [],
   "source": [
    "from methods_source import load_overpass_summary, feet_per_meter, calc_avg_windspeed\n",
    "import pandas as pd\n",
    "operator = load_overpass_summary('Kairos', 1, strict_discard=False)\n",
    "feet_per_meter = feet_per_meter()\n",
    "\n",
    "# Include all variables used in Conrad et al., 2023 even if I won't ultimately use them\n",
    "op_POD_variables = pd.DataFrame()\n",
    "op_POD_variables['overpass_id'] = operator['overpass_id']\n",
    "op_POD_variables['overpass_datetime'] = operator['overpass_datetime']\n",
    "op_POD_variables['h'] = operator['altitude_feet'] / feet_per_meter # flight altitude in m\n",
    "op_POD_variables['u'] = operator['overpass_datetime'].apply(calc_avg_windspeed) # windspeed in m/s\n",
    "op_POD_variables['Q'] = operator['release_rate_kgh'] # release rate in kg / hr\n",
    "op_POD_variables['D'] = operator['operator_detected'].apply(int) # operator detected as 0 or 1\n",
    "\n",
    "# Code for Conrad et al., 2023\n",
    "# def make_predictor_function(h, u, Q):\n",
    "#     def my_predictor(phi1, phi2, phi3, phi4, phi5, phi6):\n",
    "#         return (phi1 * (Q - phi2) ** phi3) / (((h/1000)**phi4) * ((u - phi5) ** phi6))\n",
    "#\n",
    "#     return my_predictor\n",
    "# Next:\n",
    "# Generate \"my_predictor\" for each overpass\n",
    "# Generate Di ln(Fi) + (1 - Di) ln(1 - Fi) for each overpass\n",
    "# Sum the column with\n"
   ],
   "metadata": {
    "collapsed": false
   }
  },
  {
   "cell_type": "code",
   "execution_count": 18,
   "outputs": [
    {
     "name": "stdout",
     "output_type": "stream",
     "text": [
      "Model intercept (bo): [-2.04562269]\n",
      "Model slope (b1): [[0.32951666]]\n"
     ]
    }
   ],
   "source": [
    "# Apply logistic regression\n",
    "import numpy as np\n",
    "from sklearn.linear_model import LogisticRegression\n",
    "from sklearn.metrics import classification_report, confusion_matrix\n",
    "\n",
    "# Filter op_POD_variables to only include data below a threshold max kgh\n",
    "threshold = 30 # kgh\n",
    "op_POD_variables = op_POD_variables.loc[op_POD_variables.Q <= threshold]\n",
    "\n",
    "# Reshape required for Logistic function\n",
    "\n",
    "x = op_POD_variables['Q'].values.reshape(-1, 1)\n",
    "y = op_POD_variables['D'].values.reshape(-1, 1).ravel()\n",
    "model = LogisticRegression(solver='liblinear', random_state=0)\n",
    "model.fit(x, y)\n",
    "\n",
    "print(f'Model intercept (bo): {model.intercept_}\\nModel slope (b1): {model.coef_}')"
   ],
   "metadata": {
    "collapsed": false
   }
  },
  {
   "cell_type": "code",
   "execution_count": 10,
   "outputs": [
    {
     "data": {
      "text/plain": "array([ 0. ,  0.1,  0.2,  0.3,  0.4,  0.5,  0.6,  0.7,  0.8,  0.9,  1. ,\n        1.1,  1.2,  1.3,  1.4,  1.5,  1.6,  1.7,  1.8,  1.9,  2. ,  2.1,\n        2.2,  2.3,  2.4,  2.5,  2.6,  2.7,  2.8,  2.9,  3. ,  3.1,  3.2,\n        3.3,  3.4,  3.5,  3.6,  3.7,  3.8,  3.9,  4. ,  4.1,  4.2,  4.3,\n        4.4,  4.5,  4.6,  4.7,  4.8,  4.9,  5. ,  5.1,  5.2,  5.3,  5.4,\n        5.5,  5.6,  5.7,  5.8,  5.9,  6. ,  6.1,  6.2,  6.3,  6.4,  6.5,\n        6.6,  6.7,  6.8,  6.9,  7. ,  7.1,  7.2,  7.3,  7.4,  7.5,  7.6,\n        7.7,  7.8,  7.9,  8. ,  8.1,  8.2,  8.3,  8.4,  8.5,  8.6,  8.7,\n        8.8,  8.9,  9. ,  9.1,  9.2,  9.3,  9.4,  9.5,  9.6,  9.7,  9.8,\n        9.9, 10. , 10.1, 10.2, 10.3, 10.4, 10.5, 10.6, 10.7, 10.8, 10.9,\n       11. , 11.1, 11.2, 11.3, 11.4, 11.5, 11.6, 11.7, 11.8, 11.9, 12. ,\n       12.1, 12.2, 12.3, 12.4, 12.5, 12.6, 12.7, 12.8, 12.9, 13. , 13.1,\n       13.2, 13.3, 13.4, 13.5, 13.6, 13.7, 13.8, 13.9, 14. , 14.1, 14.2,\n       14.3, 14.4, 14.5, 14.6, 14.7, 14.8, 14.9, 15. , 15.1, 15.2, 15.3,\n       15.4, 15.5, 15.6, 15.7, 15.8, 15.9, 16. , 16.1, 16.2, 16.3, 16.4,\n       16.5, 16.6, 16.7, 16.8, 16.9, 17. , 17.1, 17.2, 17.3, 17.4, 17.5,\n       17.6, 17.7, 17.8, 17.9, 18. , 18.1, 18.2, 18.3, 18.4, 18.5, 18.6,\n       18.7, 18.8, 18.9, 19. , 19.1, 19.2, 19.3, 19.4, 19.5, 19.6, 19.7,\n       19.8, 19.9, 20. , 20.1, 20.2, 20.3, 20.4, 20.5, 20.6, 20.7, 20.8,\n       20.9, 21. , 21.1, 21.2, 21.3, 21.4, 21.5, 21.6, 21.7, 21.8, 21.9,\n       22. , 22.1, 22.2, 22.3, 22.4, 22.5, 22.6, 22.7, 22.8, 22.9, 23. ,\n       23.1, 23.2, 23.3, 23.4, 23.5, 23.6, 23.7, 23.8, 23.9, 24. , 24.1,\n       24.2, 24.3, 24.4, 24.5, 24.6, 24.7, 24.8, 24.9, 25. , 25.1, 25.2,\n       25.3, 25.4, 25.5, 25.6, 25.7, 25.8, 25.9, 26. , 26.1, 26.2, 26.3,\n       26.4, 26.5, 26.6, 26.7, 26.8, 26.9, 27. , 27.1, 27.2, 27.3, 27.4,\n       27.5, 27.6, 27.7, 27.8, 27.9, 28. , 28.1, 28.2, 28.3, 28.4, 28.5,\n       28.6, 28.7, 28.8, 28.9, 29. , 29.1, 29.2, 29.3, 29.4, 29.5, 29.6,\n       29.7, 29.8, 29.9])"
     },
     "execution_count": 10,
     "metadata": {},
     "output_type": "execute_result"
    }
   ],
   "source": [
    "np.arange(0, 30, 0.1)"
   ],
   "metadata": {
    "collapsed": false
   }
  },
  {
   "cell_type": "code",
   "execution_count": null,
   "outputs": [],
   "source": [],
   "metadata": {
    "collapsed": false
   }
  }
 ],
 "metadata": {
  "kernelspec": {
   "display_name": "Python 3",
   "language": "python",
   "name": "python3"
  },
  "language_info": {
   "codemirror_mode": {
    "name": "ipython",
    "version": 2
   },
   "file_extension": ".py",
   "mimetype": "text/x-python",
   "name": "python",
   "nbconvert_exporter": "python",
   "pygments_lexer": "ipython2",
   "version": "2.7.6"
  }
 },
 "nbformat": 4,
 "nbformat_minor": 0
}
