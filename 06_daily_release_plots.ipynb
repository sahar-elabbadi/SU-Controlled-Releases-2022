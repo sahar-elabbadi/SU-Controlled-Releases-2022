{
 "cells": [
  {
   "cell_type": "markdown",
   "source": [
    "# Compare Stanford and Operator QC Criteria\n",
    "Code author: Sahar H. El Abbadi\n",
    "Date started: 2022-03-02\n",
    "Date last edited: 2022-03-02"
   ],
   "metadata": {
    "collapsed": false
   }
  },
  {
   "cell_type": "markdown",
   "source": [
    "# Data Description\n",
    "\n",
    "Metered data for all airplane testing days is saved in the directory \"daily_meter_data\". Generate by Philippine Burdeau from Coriolis meter raw data and cleaned in the data processing pipeline.\n",
    "\n",
    "Columns:\n",
    "- Date and time are in UTC\n",
    "- Release rate is in kg/h\n",
    "- Coriolis Meter (for sensor and transmitter identification numbers and serial numbers, see methods documentation):\n",
    "    - Baby Corey refers to CMFS015H meter\n",
    "    - Mama Corey refers to CMF050M meter\n",
    "    - Papa Corey refres to CMFS150M meter\n",
    "- QC Flags:\n",
    "    - 0: no QC flag, original data is good quality\n",
    "    - 1: non-testing period\n",
    "    - 2: original data missing, filled as described in data analysis section of methods documentation\n",
    "    - 3: original data value is below accuracy threshold and replaced with NA\n"
   ],
   "metadata": {
    "collapsed": false
   }
  },
  {
   "cell_type": "code",
   "execution_count": 36,
   "outputs": [],
   "source": [
    "import pathlib\n",
    "import pandas as pd\n",
    "\n",
    "# Load the dataframe from the .xlsx file\n",
    "\n",
    "def load_daily_meter_data(date):\n",
    "    \"\"\"Load daily meter file saved in format mm_dd.xlsx\"\"\"\n",
    "\n",
    "    # File location\n",
    "    date_path = pathlib.PurePath('02_meter_data', 'daily_meter_data', f'{date}.xlsx')\n",
    "\n",
    "    # Import data and rename columns to machine readable format\n",
    "    date_meter = pd.read_excel(date_path, header=None, names=['datetime_utc', 'flow_rate', 'meter', 'qc_flag'], skiprows=1)\n",
    "    date_meter.loc[date_meter['meter']=='Baby Coriolis', 'meter'] = 'bc'\n",
    "    date_meter.loc[date_meter['meter']=='Mama Coriolis', 'meter'] = 'mc'\n",
    "    date_meter.loc[date_meter['meter']=='Papa Coriolis', 'meter'] = 'pc'\n",
    "\n",
    "    return date_meter\n"
   ],
   "metadata": {
    "collapsed": false
   }
  },
  {
   "cell_type": "code",
   "execution_count": 2,
   "outputs": [],
   "source": [
    "# Make dataframes for start and end time of each day of testing\n",
    "\n",
    "# Imports\n",
    "import datetime\n",
    "# Carbon Mapper\n",
    "cm_flight_days = {\n",
    "    \"date\": ['10_10', '10_11', '10_12', '10_28', '10_29', '10_31'],\n",
    "    \"start_time\": [\n",
    "        datetime.datetime(2022, 10, 10, 17, 00, 00),\n",
    "        datetime.datetime(2022, 10, 11, 17, 16, 13),\n",
    "        datetime.datetime(2022, 10, 12, 17, 15, 16),\n",
    "        datetime.datetime(2022, 10, 28, 17, 51, 5),\n",
    "        datetime.datetime(2022, 10, 29, 17, 13, 30),\n",
    "        datetime.datetime(2022, 10, 31, 17, 16, 46),\n",
    "                 ],\n",
    "    \"end_time\": [\n",
    "        datetime.datetime(2022, 10, 10, 21, 30, 14),\n",
    "        datetime.datetime(2022, 10, 11, 21, 16, 36),\n",
    "        datetime.datetime(2022, 10, 12, 21, 15, 23),\n",
    "        datetime.datetime(2022, 10, 28, 21, 7, 0),\n",
    "        datetime.datetime(2022, 10, 29, 21, 11, 34),\n",
    "        datetime.datetime(2022, 10, 31, 21, 14, 22),\n",
    "                 ],\n",
    "}\n",
    "\n",
    "# Kairos\n",
    "kairos_flight_days = {\n",
    "    \"date\": ['10_24', '10_25', '10_26', '10_27', '10_28'],\n",
    "    \"start_time\": [\n",
    "        datetime.datetime(2022, 10, 24, 16, 46, 28),\n",
    "        datetime.datetime(2022, 10, 25, 16, 36, 27),\n",
    "        datetime.datetime(2022, 10, 26, 16, 38, 47),\n",
    "        datetime.datetime(2022, 10, 27, 16, 37, 23),\n",
    "        datetime.datetime(2022, 10, 28, 16, 41, 12),\n",
    "                 ],\n",
    "    \"end_time\": [\n",
    "        datetime.datetime(2022, 10, 24, 19, 48, 44),\n",
    "        datetime.datetime(2022, 10, 25, 20, 33, 1),\n",
    "        datetime.datetime(2022, 10, 26, 20, 40, 55),\n",
    "        datetime.datetime(2022, 10, 27, 20, 14, 15),\n",
    "        datetime.datetime(2022, 10, 28, 20, 39, 58),\n",
    "                 ],\n",
    "}\n",
    "\n",
    "# MAIR\n",
    "mair_flight_days = {\n",
    "    \"date\": ['10_25', '10_29'],\n",
    "    \"start_time\": [\n",
    "        datetime.datetime(2022, 10, 25, 16, 57, 47),\n",
    "        datetime.datetime(2022, 10, 29, 16, 25, 1),\n",
    "                 ],\n",
    "    \"end_time\": [\n",
    "        datetime.datetime(2022, 10, 25, 20, 46, 41),\n",
    "        datetime.datetime(2022, 10, 29, 21, 2, 17),\n",
    "                 ],\n",
    "}\n",
    "\n",
    "# GHGSat\n",
    "ghg_flight_days = {\n",
    "    \"date\": ['10_31', '11_02', '11_04', '11_07'],\n",
    "    \"start_time\": [\n",
    "        datetime.datetime(2022, 10, 31, 17, 3, 58),\n",
    "        datetime.datetime(2022, 11, 2, 16, 38, 30),\n",
    "        datetime.datetime(2022, 11, 4, 16, 43, 19),\n",
    "        datetime.datetime(2022, 11, 7, 19, 23, 44),\n",
    "                 ],\n",
    "    \"end_time\": [\n",
    "        datetime.datetime(2022, 10, 31, 20, 59, 3),\n",
    "        datetime.datetime(2022, 11, 2, 18, 5, 2),\n",
    "        datetime.datetime(2022, 11, 4, 20, 31, 59),\n",
    "        datetime.datetime(2022, 11, 7, 22, 9, 39),\n",
    "                 ],\n",
    "}\n",
    "\n",
    "sciav_flight_days = {\n",
    "    \"date\": ['11_08', '11_10', '11_11'],\n",
    "    \"start_time\": [\n",
    "        datetime.datetime(2022, 11, 8, 21, 41, 2),\n",
    "        datetime.datetime(2022, 11, 10, 18, 5, 1),\n",
    "        datetime.datetime(2022, 11, 10, 19, 10, 45),\n",
    "                 ],\n",
    "    \"end_time\": [\n",
    "        datetime.datetime(2022, 11, 8, 23, 55, 3),\n",
    "        datetime.datetime(2022, 11, 10, 22, 5, 52),\n",
    "        datetime.datetime(2022, 11, 11, 23, 42, 00),\n",
    "                 ],\n",
    "}\n",
    "\n",
    "# Convert dictionaries to pandas dataframes\n",
    "\n",
    "cm_flight_days = pd.DataFrame.from_dict(cm_flight_days)\n",
    "ghg_flight_days = pd.DataFrame.from_dict(ghg_flight_days)\n",
    "kairos_flight_days = pd.DataFrame.from_dict(kairos_flight_days)\n",
    "mair_flight_days = pd.DataFrame.from_dict(mair_flight_days)\n",
    "sciav_flight_days = pd.DataFrame.from_dict(sciav_flight_days)\n"
   ],
   "metadata": {
    "collapsed": false
   }
  },
  {
   "cell_type": "code",
   "execution_count": null,
   "outputs": [],
   "source": [
    "# Make Carbon Mapper plot\n",
    "import matplotlib.pyplot as plt\n",
    "dates = cm_flight_days.date\n",
    "days_testing = len(dates)\n",
    "\n",
    "# Initialize dictionary\n",
    "cm_releases = {}\n",
    "\n",
    "for i in range(len(dates)):\n",
    "    day = dates[i]\n",
    "    date_meter = load_daily_meter_data(day)\n",
    "\n",
    "    # Select start and end time on the day in question\n",
    "    start_t = cm_flight_days.start_time[i]\n",
    "    end_t = cm_flight_days.end_time[i]\n",
    "\n",
    "    test_period = date_meter[(date_meter.datetime_utc > start_t) & (date_meter.datetime_utc <= end_t)]\n",
    "    cm_releases[day] = test_period\n",
    "\n",
    "print(cm_releases)\n"
   ],
   "metadata": {
    "collapsed": false,
    "pycharm": {
     "is_executing": true
    }
   }
  },
  {
   "cell_type": "code",
   "execution_count": 55,
   "outputs": [
    {
     "data": {
      "text/plain": "[<matplotlib.lines.Line2D at 0x14b21ab30>]"
     },
     "execution_count": 55,
     "metadata": {},
     "output_type": "execute_result"
    },
    {
     "data": {
      "text/plain": "<Figure size 600x300 with 1 Axes>",
      "image/png": "[encoded data removed]"
     },
     "metadata": {},
     "output_type": "display_data"
    }
   ],
   "source": [
    "operator = 'Carbon Mapper'\n",
    "\n",
    "day = '10_10' # iterate through days in a for loop later\n",
    "daily_data = cm_releases[day]\n",
    "\n",
    "x_data = daily_data['datetime_utc']\n",
    "y_data = daily_data['flow_rate']\n",
    "\n",
    "fig, ax = plt.subplots(1, figsize=(6,3))\n",
    "plt.plot(x_data, y_data)"
   ],
   "metadata": {
    "collapsed": false
   }
  },
  {
   "cell_type": "code",
   "execution_count": 30,
   "outputs": [
    {
     "name": "stdout",
     "output_type": "stream",
     "text": [
      "2022-10-10 17:00:00\n",
      "2022-10-10 16:15:00\n"
     ]
    },
    {
     "data": {
      "text/plain": "             datetime_utc  flow_rate meter  qc_flag\n2701  2022-10-10 17:00:01   11.74968    mc        0\n2702  2022-10-10 17:00:02   11.62548    mc        0\n2703  2022-10-10 17:00:03   11.70432    mc        0\n2704  2022-10-10 17:00:04   11.60676    mc        0\n2705  2022-10-10 17:00:05   11.63736    mc        0\n...                   ...        ...   ...      ...\n19796 2022-10-10 21:44:56    0.00000    mc        2\n19797 2022-10-10 21:44:57    0.00000    mc        2\n19798 2022-10-10 21:44:58    0.00000    mc        2\n19799 2022-10-10 21:44:59    0.00000    mc        2\n19800 2022-10-10 21:45:00    0.00000    mc        2\n\n[17100 rows x 4 columns]",
      "text/html": "<div>\n<style scoped>\n    .dataframe tbody tr th:only-of-type {\n        vertical-align: middle;\n    }\n\n    .dataframe tbody tr th {\n        vertical-align: top;\n    }\n\n    .dataframe thead th {\n        text-align: right;\n    }\n</style>\n<table border=\"1\" class=\"dataframe\">\n  <thead>\n    <tr style=\"text-align: right;\">\n      <th></th>\n      <th>datetime_utc</th>\n      <th>flow_rate</th>\n      <th>meter</th>\n      <th>qc_flag</th>\n    </tr>\n  </thead>\n  <tbody>\n    <tr>\n      <th>2701</th>\n      <td>2022-10-10 17:00:01</td>\n      <td>11.74968</td>\n      <td>mc</td>\n      <td>0</td>\n    </tr>\n    <tr>\n      <th>2702</th>\n      <td>2022-10-10 17:00:02</td>\n      <td>11.62548</td>\n      <td>mc</td>\n      <td>0</td>\n    </tr>\n    <tr>\n      <th>2703</th>\n      <td>2022-10-10 17:00:03</td>\n      <td>11.70432</td>\n      <td>mc</td>\n      <td>0</td>\n    </tr>\n    <tr>\n      <th>2704</th>\n      <td>2022-10-10 17:00:04</td>\n      <td>11.60676</td>\n      <td>mc</td>\n      <td>0</td>\n    </tr>\n    <tr>\n      <th>2705</th>\n      <td>2022-10-10 17:00:05</td>\n      <td>11.63736</td>\n      <td>mc</td>\n      <td>0</td>\n    </tr>\n    <tr>\n      <th>...</th>\n      <td>...</td>\n      <td>...</td>\n      <td>...</td>\n      <td>...</td>\n    </tr>\n    <tr>\n      <th>19796</th>\n      <td>2022-10-10 21:44:56</td>\n      <td>0.00000</td>\n      <td>mc</td>\n      <td>2</td>\n    </tr>\n    <tr>\n      <th>19797</th>\n      <td>2022-10-10 21:44:57</td>\n      <td>0.00000</td>\n      <td>mc</td>\n      <td>2</td>\n    </tr>\n    <tr>\n      <th>19798</th>\n      <td>2022-10-10 21:44:58</td>\n      <td>0.00000</td>\n      <td>mc</td>\n      <td>2</td>\n    </tr>\n    <tr>\n      <th>19799</th>\n      <td>2022-10-10 21:44:59</td>\n      <td>0.00000</td>\n      <td>mc</td>\n      <td>2</td>\n    </tr>\n    <tr>\n      <th>19800</th>\n      <td>2022-10-10 21:45:00</td>\n      <td>0.00000</td>\n      <td>mc</td>\n      <td>2</td>\n    </tr>\n  </tbody>\n</table>\n<p>17100 rows × 4 columns</p>\n</div>"
     },
     "execution_count": 30,
     "metadata": {},
     "output_type": "execute_result"
    }
   ],
   "source": [
    "test = date_meter.datetime_utc[0]\n",
    "start_t = cm_flight_days.start_time[0]\n",
    "print(start_t)\n",
    "print(test)\n",
    "date_meter.loc[date_meter.datetime_utc > start_t]"
   ],
   "metadata": {
    "collapsed": false
   }
  },
  {
   "cell_type": "code",
   "execution_count": 45,
   "outputs": [
    {
     "name": "stdout",
     "output_type": "stream",
     "text": [
      "             datetime_utc   flow_rate meter  qc_flag\n",
      "3803  2022-10-31 17:16:47  114.184800    mc        0\n",
      "3804  2022-10-31 17:16:48  114.202800    mc        0\n",
      "3805  2022-10-31 17:16:49  114.246000    mc        0\n",
      "3806  2022-10-31 17:16:50  114.300000    mc        0\n",
      "3807  2022-10-31 17:16:51  114.328800    mc        0\n",
      "...                   ...         ...   ...      ...\n",
      "18054 2022-10-31 21:14:18  556.305231    pc        2\n",
      "18055 2022-10-31 21:14:19  556.144615    pc        2\n",
      "18056 2022-10-31 21:14:20  555.984000    pc        0\n",
      "18057 2022-10-31 21:14:21  556.002000    pc        2\n",
      "18058 2022-10-31 21:14:22  556.020000    pc        0\n",
      "\n",
      "[14256 rows x 4 columns]\n"
     ]
    }
   ],
   "source": [
    "print(date_meter[(date_meter.datetime_utc > start_t) & (date_meter.datetime_utc <= end_t)])"
   ],
   "metadata": {
    "collapsed": false
   }
  },
  {
   "cell_type": "code",
   "execution_count": 22,
   "outputs": [
    {
     "name": "stdout",
     "output_type": "stream",
     "text": [
      "0   2022-10-10 17:00:00\n",
      "Name: start_time, dtype: datetime64[ns]\n"
     ]
    }
   ],
   "source": [
    "print(start_t)"
   ],
   "metadata": {
    "collapsed": false
   }
  },
  {
   "cell_type": "code",
   "execution_count": null,
   "outputs": [],
   "source": [],
   "metadata": {
    "collapsed": false
   }
  }
 ],
 "metadata": {
  "kernelspec": {
   "display_name": "Python 3",
   "language": "python",
   "name": "python3"
  },
  "language_info": {
   "codemirror_mode": {
    "name": "ipython",
    "version": 2
   },
   "file_extension": ".py",
   "mimetype": "text/x-python",
   "name": "python",
   "nbconvert_exporter": "python",
   "pygments_lexer": "ipython2",
   "version": "2.7.6"
  }
 },
 "nbformat": 4,
 "nbformat_minor": 0
}
