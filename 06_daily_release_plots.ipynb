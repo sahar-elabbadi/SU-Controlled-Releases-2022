{
 "cells": [
  {
   "cell_type": "markdown",
   "source": [
    "# Compare Stanford and Operator QC Criteria\n",
    "Code author: Sahar H. El Abbadi\n",
    "Date started: 2022-03-02\n",
    "Date last edited: 2022-03-02"
   ],
   "metadata": {
    "collapsed": false
   }
  },
  {
   "cell_type": "markdown",
   "source": [
    "# Data Description\n",
    "\n",
    "Metered data for all airplane testing days is saved in the directory \"daily_meter_data\". Generate by Philippine Burdeau from Coriolis meter raw data and cleaned in the data processing pipeline.\n",
    "\n",
    "Columns:\n",
    "- Date and time are in UTC\n",
    "- Release rate is in kg/h\n",
    "- Coriolis Meter (for sensor and transmitter identification numbers and serial numbers, see methods documentation):\n",
    "    - Baby Corey refers to CMFS015H meter\n",
    "    - Mama Corey refers to CMF050M meter\n",
    "    - Papa Corey refres to CMFS150M meter\n",
    "- QC Flags:\n",
    "    - 0: no QC flag, original data is good quality\n",
    "    - 1: non-testing period\n",
    "    - 2: original data missing, filled as described in data analysis section of methods documentation\n",
    "    - 3: original data value is below accuracy threshold and replaced with NA\n"
   ],
   "metadata": {
    "collapsed": false
   }
  },
  {
   "cell_type": "code",
   "execution_count": 7,
   "outputs": [
    {
     "data": {
      "text/plain": "         datetime_utc  flow_rate meter  qc_flag\n0 2022-10-10 16:15:00        NaN   NaN        2\n1 2022-10-10 16:15:01        NaN   NaN        2\n2 2022-10-10 16:15:02        NaN   NaN        2\n3 2022-10-10 16:15:03        NaN   NaN        2\n4 2022-10-10 16:15:04        NaN   NaN        2",
      "text/html": "<div>\n<style scoped>\n    .dataframe tbody tr th:only-of-type {\n        vertical-align: middle;\n    }\n\n    .dataframe tbody tr th {\n        vertical-align: top;\n    }\n\n    .dataframe thead th {\n        text-align: right;\n    }\n</style>\n<table border=\"1\" class=\"dataframe\">\n  <thead>\n    <tr style=\"text-align: right;\">\n      <th></th>\n      <th>datetime_utc</th>\n      <th>flow_rate</th>\n      <th>meter</th>\n      <th>qc_flag</th>\n    </tr>\n  </thead>\n  <tbody>\n    <tr>\n      <th>0</th>\n      <td>2022-10-10 16:15:00</td>\n      <td>NaN</td>\n      <td>NaN</td>\n      <td>2</td>\n    </tr>\n    <tr>\n      <th>1</th>\n      <td>2022-10-10 16:15:01</td>\n      <td>NaN</td>\n      <td>NaN</td>\n      <td>2</td>\n    </tr>\n    <tr>\n      <th>2</th>\n      <td>2022-10-10 16:15:02</td>\n      <td>NaN</td>\n      <td>NaN</td>\n      <td>2</td>\n    </tr>\n    <tr>\n      <th>3</th>\n      <td>2022-10-10 16:15:03</td>\n      <td>NaN</td>\n      <td>NaN</td>\n      <td>2</td>\n    </tr>\n    <tr>\n      <th>4</th>\n      <td>2022-10-10 16:15:04</td>\n      <td>NaN</td>\n      <td>NaN</td>\n      <td>2</td>\n    </tr>\n  </tbody>\n</table>\n</div>"
     },
     "execution_count": 7,
     "metadata": {},
     "output_type": "execute_result"
    }
   ],
   "source": [
    "import pathlib\n",
    "import pandas as pd\n",
    "\n",
    "# Load the dataframe from the .xlsx file\n",
    "date = '10_10'\n",
    "\n",
    "# File location\n",
    "date_path = pathlib.PurePath('02_meter_data', 'daily_meter_data', f'{date}.xlsx')\n",
    "\n",
    "# Import data and rename columns to machine readable format\n",
    "date_meter = pd.read_excel(date_path, header=None, names=['datetime_utc', 'flow_rate', 'meter', 'qc_flag'], skiprows=1)\n",
    "date_meter.loc[date_meter['meter']=='Baby Coriolis', 'meter'] = 'bc'\n",
    "date_meter.loc[date_meter['meter']=='Mama Coriolis', 'meter'] = 'mc'\n",
    "date_meter.loc[date_meter['meter']=='Papa Coriolis', 'meter'] = 'pc'\n"
   ],
   "metadata": {
    "collapsed": false
   }
  },
  {
   "cell_type": "code",
   "execution_count": null,
   "outputs": [],
   "source": [],
   "metadata": {
    "collapsed": false
   }
  }
 ],
 "metadata": {
  "kernelspec": {
   "display_name": "Python 3",
   "language": "python",
   "name": "python3"
  },
  "language_info": {
   "codemirror_mode": {
    "name": "ipython",
    "version": 2
   },
   "file_extension": ".py",
   "mimetype": "text/x-python",
   "name": "python",
   "nbconvert_exporter": "python",
   "pygments_lexer": "ipython2",
   "version": "2.7.6"
  }
 },
 "nbformat": 4,
 "nbformat_minor": 0
}
