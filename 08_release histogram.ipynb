{
 "cells": [
  {
   "cell_type": "markdown",
   "source": [
    "# Generate histogram of releases\n",
    "Code Author: Sahar El Abbadi\n",
    "Date started: 2023-03-14\n",
    "Date last edited: 2023-03-14\n",
    "\n",
    "Notebook objective: to generate a histogram of Stanford releases, categorizing release by type:\n",
    "- True Positive\n",
    "- True Negative\n",
    "- False Negative\n",
    "- False Positive\n",
    "- Missing data - overpass recorded in field but not as an overpass by the team\n",
    "- Stanford Filtered\n",
    "- Operator Filtered"
   ],
   "metadata": {
    "collapsed": false
   }
  },
  {
   "cell_type": "code",
   "execution_count": 11,
   "outputs": [],
   "source": [
    "# Setup\n",
    "# Imports\n",
    "from methods_source import load_overpass_summary, load_summary_files, make_histogram_bins, classify_confusion_categories,find_missing_data\n",
    "import numpy as np\n",
    "import pandas as pd\n",
    "\n"
   ],
   "metadata": {
    "collapsed": false
   }
  },
  {
   "cell_type": "markdown",
   "source": [
    "## Evaluate data that passes all QC filters\n",
    "\n",
    "Select overpasses that pass both Stanford and Operator QC criteria. Generate dataframes for true positive, false positive, true negative, and false negative"
   ],
   "metadata": {
    "collapsed": false
   }
  },
  {
   "cell_type": "code",
   "execution_count": 12,
   "outputs": [],
   "source": [
    "# Load operator overpass data\n",
    "cm_reported = load_overpass_summary(operator='Carbon Mapper', stage=1, strict_discard=False)\n",
    "\n",
    "# Pass all QC filter\n",
    "cm_qc_pass = cm_reported.query('qc_summary == \"pass_all\"')\n",
    "\n",
    "# Select non-zero releases detected by operator\n",
    "cm_tp, cm_fp, cm_tn, cm_fn = classify_confusion_categories(cm_qc_pass)\n"
   ],
   "metadata": {
    "collapsed": false
   }
  },
  {
   "cell_type": "code",
   "execution_count": 13,
   "outputs": [],
   "source": [
    "# Create bins for plot\n",
    "\n",
    "threshold = 50\n",
    "n_bins = 10\n",
    "\n",
    "cm_count_tp = make_histogram_bins(cm_tp, threshold, n_bins)\n",
    "cm_count_fp = make_histogram_bins(cm_fp, threshold, n_bins)\n",
    "cm_count_fn = make_histogram_bins(cm_fn, threshold, n_bins)\n",
    "cm_count_tn = make_histogram_bins(cm_tn, threshold, n_bins)"
   ],
   "metadata": {
    "collapsed": false
   }
  },
  {
   "cell_type": "code",
   "execution_count": 14,
   "outputs": [],
   "source": [
    "# Filtered by Stanford\n",
    "cm_su_qc_fail = cm_reported.query('stanford_kept == False')\n",
    "cm_count_su_fail = make_histogram_bins(cm_su_qc_fail, threshold, n_bins)"
   ],
   "metadata": {
    "collapsed": false
   }
  },
  {
   "cell_type": "code",
   "execution_count": 15,
   "outputs": [],
   "source": [
    "# Filtered by Carbon Mapper\n",
    "# if qc_summary is 'fail_operator', this means it passed Stanford QC but not operator QC\n",
    "cm_op_qc_fail = cm_reported.query('qc_summary == \"fail_operator\"')\n",
    "cm_count_op_fail = make_histogram_bins(cm_op_qc_fail, threshold, n_bins)"
   ],
   "metadata": {
    "collapsed": false
   }
  },
  {
   "cell_type": "code",
   "execution_count": 16,
   "outputs": [],
   "source": [
    "# Identify data points where Stanford conducted a release\n",
    "# Find data points where we have a flightradar overpass but we do not have an operator overpass\n",
    "\n",
    "cm_meter_raw, ghg_meter_raw, kairos_meter_raw, mair_meter_raw = load_summary_files()\n",
    "\n",
    "cm_missing = find_missing_data(cm_meter_raw)\n",
    "cm_count_missing = make_histogram_bins(cm_missing, threshold, n_bins)"
   ],
   "metadata": {
    "collapsed": false
   }
  },
  {
   "cell_type": "code",
   "execution_count": 26,
   "outputs": [
    {
     "name": "stdout",
     "output_type": "stream",
     "text": [
      "   bin_median  n_data_points\n",
      "0         2.5              8\n",
      "1         7.5              0\n",
      "2        12.5              0\n",
      "3        17.5              0\n",
      "4        22.5              0\n",
      "5        27.5              0\n",
      "6        32.5              0\n",
      "7        37.5              0\n",
      "8        42.5              0\n",
      "9        47.5              0\n"
     ]
    }
   ],
   "source": [
    "print(cm_count_tn)"
   ],
   "metadata": {
    "collapsed": false
   }
  },
  {
   "cell_type": "code",
   "execution_count": 60,
   "outputs": [
    {
     "data": {
      "text/plain": "<Figure size 1000x300 with 3 Axes>",
      "image/png": "[encoded data removed]"
     },
     "metadata": {},
     "output_type": "display_data"
    }
   ],
   "source": [
    "# Make plot of true negatives\n",
    "import matplotlib.pyplot as plt\n",
    "\n",
    "fig, [ax1, ax2, ax3] = plt.subplots(1,3,\n",
    "                                    figsize=(10, 3),\n",
    "                                    gridspec_kw={'width_ratios': [0.6, 3, 2]})\n",
    "ax1.bar(0, cm_count_tn.n_data_points,\n",
    "        width = 0.2)\n",
    "\n",
    "# Add more room on top and bottom\n",
    "ax1.set_ylim([0, 12])\n",
    "ax1.set_xlim([-0.25, 0.25]) # set to 12 for now\n",
    "\n",
    "# Axes formatting and labels\n",
    "ax1.set_xticks([0])\n",
    "# ax1.set_yticklabels([1, 2, 4, 6, 8, 10], fontsize=11)\n",
    "# ax1.set_xlabel('Methane Release Rate (kgh)', fontsize=14)\n",
    "ax1.set_ylabel('Number of Releases', fontsize=14)\n",
    "ax1.tick_params(direction='in', right=False, top=False)\n",
    "ax1.tick_params(labelsize=12)\n",
    "ax1.minorticks_on()\n",
    "ax1.tick_params(labelbottom=True, labeltop=False, labelright=False, labelleft=True)\n",
    "ax1.tick_params(direction='in', which='minor', length=3, bottom=False, top=False, left=False, right=False)\n",
    "ax1.tick_params(direction='in', which='major', length=3, bottom=True, top=False, left=True, right=True)\n",
    "\n",
    "# Set axes and background color to white\n",
    "ax1.set_facecolor('white')\n",
    "ax1.spines['top'].set_color('black')\n",
    "ax1.spines['left'].set_color('black')\n",
    "ax1.spines['right'].set_color('black')\n",
    "ax1.spines['bottom'].set_color('black')\n",
    "\n",
    "# Next: 0 to 50 kgh\n",
    "# Then 50 to 2000 kgh"
   ],
   "metadata": {
    "collapsed": false
   }
  },
  {
   "cell_type": "code",
   "execution_count": 38,
   "outputs": [
    {
     "name": "stdout",
     "output_type": "stream",
     "text": [
      "[ 0.  2.  4.  6.  8. 10.]\n"
     ]
    }
   ],
   "source": [
    "print(np.linspace(0, 10, 6))"
   ],
   "metadata": {
    "collapsed": false
   }
  },
  {
   "cell_type": "code",
   "execution_count": null,
   "outputs": [],
   "source": [],
   "metadata": {
    "collapsed": false
   }
  }
 ],
 "metadata": {
  "kernelspec": {
   "display_name": "Python 3",
   "language": "python",
   "name": "python3"
  },
  "language_info": {
   "codemirror_mode": {
    "name": "ipython",
    "version": 2
   },
   "file_extension": ".py",
   "mimetype": "text/x-python",
   "name": "python",
   "nbconvert_exporter": "python",
   "pygments_lexer": "ipython2",
   "version": "2.7.6"
  }
 },
 "nbformat": 4,
 "nbformat_minor": 0
}
