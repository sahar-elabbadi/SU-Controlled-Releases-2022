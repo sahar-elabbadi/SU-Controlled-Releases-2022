{
 "cells": [
  {
   "cell_type": "markdown",
   "source": [
    "# Generate histogram of releases\n",
    "Code Author: Sahar El Abbadi\n",
    "Date started: 2023-03-14\n",
    "Date last edited: 2023-03-14\n",
    "\n",
    "Notebook objective: to generate a histogram of Stanford releases, categorizing release by type:\n",
    "- True Positive\n",
    "- True Negative\n",
    "- False Negative\n",
    "- False Positive\n",
    "- Missing data - overpass recorded in field but not as an overpass by the team\n",
    "- Stanford Filtered\n",
    "- Operator Filtered"
   ],
   "metadata": {
    "collapsed": false
   }
  },
  {
   "cell_type": "code",
   "execution_count": 10,
   "outputs": [],
   "source": [
    "# Setup\n",
    "# Imports\n",
    "from methods_source import load_overpass_summary, make_histogram_bins, classify_confusion_categories, classify_histogram_data\n",
    "import numpy as np\n",
    "import pandas as pd\n",
    "\n"
   ],
   "metadata": {
    "collapsed": false
   }
  },
  {
   "cell_type": "markdown",
   "source": [
    "## Evaluate data that passes all QC filters\n",
    "\n",
    "Select overpasses that pass both Stanford and Operator QC criteria. Generate dataframes for true positive, false positive, true negative, and false negative"
   ],
   "metadata": {
    "collapsed": false
   }
  },
  {
   "cell_type": "code",
   "execution_count": 11,
   "outputs": [],
   "source": [
    "# # # Load operator overpass data\n",
    "# cm_reported = load_overpass_summary(operator='Carbon Mapper', stage=1, strict_discard=False)\n",
    "# #\n",
    "# # # Pass all QC filter\n",
    "# cm_qc_pass = cm_reported.query('qc_summary == \"pass_all\"')\n",
    "# #\n",
    "# # # Select non-zero releases detected by operator\n",
    "# cm_tp, cm_fp, cm_tn, cm_fn = classify_confusion_categories(cm_qc_pass)\n",
    "#"
   ],
   "metadata": {
    "collapsed": false
   }
  },
  {
   "cell_type": "code",
   "execution_count": 12,
   "outputs": [],
   "source": [
    "# # Create bins for plot\n",
    "# threshold_lower = 0\n",
    "# threshold_upper = 50\n",
    "# n_bins = 10\n",
    "#\n",
    "# cm_count_tp = make_histogram_bins(cm_tp, threshold_lower, threshold_upper, n_bins)\n",
    "# cm_count_fp = make_histogram_bins(cm_fp, threshold_lower, threshold_upper, n_bins)\n",
    "# cm_count_fn = make_histogram_bins(cm_fn, threshold_lower, threshold_upper, n_bins)\n",
    "# cm_count_tn = make_histogram_bins(cm_tn, threshold_lower, threshold_upper, n_bins)"
   ],
   "metadata": {
    "collapsed": false
   }
  },
  {
   "cell_type": "code",
   "execution_count": 13,
   "outputs": [],
   "source": [
    "# # Filtered by Stanford\n",
    "# cm_su_qc_fail = cm_reported.query('stanford_kept == False')\n",
    "# cm_count_su_fail = make_histogram_bins(cm_su_qc_fail, threshold_lower, threshold_upper, n_bins)"
   ],
   "metadata": {
    "collapsed": false
   }
  },
  {
   "cell_type": "code",
   "execution_count": 14,
   "outputs": [],
   "source": [
    "# # Filtered by Carbon Mapper\n",
    "# # if qc_summary is 'fail_operator', this means it passed Stanford QC but not operator QC\n",
    "# cm_op_qc_fail = cm_reported.query('qc_summary == \"fail_operator\"')\n",
    "# cm_count_op_fail = make_histogram_bins(cm_op_qc_fail, threshold_lower, threshold_upper, n_bins)"
   ],
   "metadata": {
    "collapsed": false
   }
  },
  {
   "cell_type": "code",
   "execution_count": 15,
   "outputs": [],
   "source": [
    "# # Identify data points where Stanford conducted a release\n",
    "# # Find data points where we have a flightradar overpass but we do not have an operator overpass\n",
    "#\n",
    "# cm_meter_raw, ghg_meter_raw, kairos_meter_raw, mair_meter_raw = load_summary_files()\n",
    "#\n",
    "# cm_missing = find_missing_data(cm_meter_raw)\n",
    "# cm_count_missing = make_histogram_bins(cm_missing, threshold_lower, threshold_upper, n_bins)"
   ],
   "metadata": {
    "collapsed": false
   }
  },
  {
   "cell_type": "code",
   "execution_count": 16,
   "outputs": [],
   "source": [
    "# Turn above code into a function\n",
    "\n",
    "# def classify_histogram_data(operator, stage, strict_discard, threshold_lower, threshold_upper, n_bins):\n",
    "#     # Load operator overpass data\n",
    "#     cm_reported = load_overpass_summary(operator=operator, stage=stage, strict_discard=strict_discard)\n",
    "#\n",
    "#     # Pass all QC filter\n",
    "#     cm_qc_pass = cm_reported.query('qc_summary == \"pass_all\"')\n",
    "#\n",
    "#     # Select non-zero releases detected by operator\n",
    "#     cm_tp, cm_fp, cm_tn, cm_fn = classify_confusion_categories(cm_qc_pass)\n",
    "#\n",
    "#     cm_count_tp = make_histogram_bins(cm_tp, threshold_lower, threshold_upper, n_bins).n_data_points\n",
    "#     cm_count_fp = make_histogram_bins(cm_fp, threshold_lower, threshold_upper, n_bins).n_data_points\n",
    "#     cm_count_fn = make_histogram_bins(cm_fn, threshold_lower, threshold_upper, n_bins).n_data_points\n",
    "#     cm_count_tn = make_histogram_bins(cm_tn, threshold_lower, threshold_upper, n_bins).n_data_points\n",
    "#\n",
    "#     # Filtered by Stanford\n",
    "#     cm_su_qc_fail = cm_reported.query('stanford_kept == False')\n",
    "#     cm_count_su_fail = make_histogram_bins(cm_su_qc_fail, threshold_lower, threshold_upper, n_bins).n_data_points\n",
    "#\n",
    "#     # Filtered by Carbon Mapper\n",
    "#     # if qc_summary is 'fail_operator', this means it passed Stanford QC but not operator QC\n",
    "#     cm_op_qc_fail = cm_reported.query('qc_summary == \"fail_operator\"')\n",
    "#     cm_count_op_fail = make_histogram_bins(cm_op_qc_fail, threshold_lower, threshold_upper, n_bins).n_data_points\n",
    "#\n",
    "#     # Identify data points where Stanford conducted a release\n",
    "#     # Find data points where we have a flightradar overpass but we do not have an operator overpass\n",
    "#\n",
    "#     cm_meter_raw, ghg_meter_raw, kairos_meter_raw, mair_meter_raw = load_summary_files()\n",
    "#\n",
    "#     cm_missing = find_missing_data(cm_meter_raw)\n",
    "#     cm_count_missing = make_histogram_bins(cm_missing, threshold_lower, threshold_upper, n_bins).n_data_points\n",
    "#\n",
    "#     ################## store data #########################\n",
    "#\n",
    "#     summary = pd.DataFrame({\n",
    "#         'true_positive': cm_count_tp,\n",
    "#         'false_positive': cm_count_fp,\n",
    "#         'true_negative': cm_count_tn,\n",
    "#         'false_negative': cm_count_fn,\n",
    "#         'filter_stanford': cm_count_su_fail,\n",
    "#         'filter_operator': cm_count_op_fail,\n",
    "#         'missing_data': cm_count_missing,\n",
    "#     })\n",
    "#\n",
    "#     return summary\n",
    "\n",
    "\n",
    "\n",
    "operator='Carbon Mapper'\n",
    "stage=1\n",
    "strict_discard=False\n",
    "# Create bins for plot\n",
    "threshold_lower = 0\n",
    "threshold_upper = 50\n",
    "n_bins = 10\n",
    "\n",
    "cm_histogram_low = classify_histogram_data(operator, stage, strict_discard, threshold_lower, threshold_upper, n_bins)\n",
    "threshold_lower = 50\n",
    "threshold_upper = 1500\n",
    "n_bins = 30\n",
    "cm_histogram_high = classify_histogram_data(operator, stage, strict_discard, threshold_lower, threshold_upper, n_bins)\n"
   ],
   "metadata": {
    "collapsed": false
   }
  },
  {
   "cell_type": "code",
   "execution_count": 17,
   "outputs": [
    {
     "name": "stdout",
     "output_type": "stream",
     "text": [
      "9\n",
      "17\n"
     ]
    },
    {
     "data": {
      "text/plain": "17"
     },
     "execution_count": 17,
     "metadata": {},
     "output_type": "execute_result"
    }
   ],
   "source": [
    "print(cm_histogram_low.bin_height.max())\n",
    "print(cm_histogram_high.bin_height.max())\n",
    "test = cm_histogram_low\n",
    "low_height = cm_histogram_low.bin_height.max()\n",
    "high_height = cm_histogram_high.bin_height.max()\n",
    "max(low_height, high_height)"
   ],
   "metadata": {
    "collapsed": false
   }
  },
  {
   "cell_type": "code",
   "execution_count": 25,
   "outputs": [
    {
     "data": {
      "text/plain": "<Figure size 1000x300 with 3 Axes>",
      "image/png": "[encoded data removed]"
     },
     "metadata": {},
     "output_type": "display_data"
    }
   ],
   "source": [
    "# Make plot of true negatives\n",
    "import matplotlib.pyplot as plt\n",
    "from matplotlib.patches import Patch\n",
    "import datetime\n",
    "import pathlib\n",
    "\n",
    "fig, [ax1, ax2, ax3] = plt.subplots(1,3,\n",
    "                                    figsize=(10, 3),\n",
    "                                    gridspec_kw={'width_ratios': [0.6, 3, 4]})\n",
    "\n",
    "# How high do I need to set my axes? Look at max value for data that will make each histogram\n",
    "low_height = cm_histogram_low.bin_height.max()\n",
    "high_height = cm_histogram_high.bin_height.max()\n",
    "y_height = max(low_height, high_height)\n",
    "\n",
    "# Color scheme\n",
    "tp_color = '#66c2a5'\n",
    "tn_color = '#a6d854'\n",
    "fp_color = '#fc8d62'\n",
    "fn_color = '#8da0cb'\n",
    "su_color = '#e78ac3'\n",
    "op_color = '#ffd92f'\n",
    "missing_color = '#b3b3b3'\n",
    "\n",
    "barWidth = 0.2\n",
    "# add true negatives\n",
    "ax1.bar(0, cm_histogram_low.true_negative, width = barWidth, edgecolor='black', color=tn_color)\n",
    "\n",
    "# Zero release discarded by SU\n",
    "su_filter_height0 = cm_histogram_low.true_negative\n",
    "ax1.bar(0, cm_histogram_low.zero_filter_su, bottom=su_filter_height0, width=barWidth, label='Stanford Filtered', edgecolor='black', color=su_color)\n",
    "\n",
    "# Zero release discarded by operator\n",
    "op_filter_height0 = np.add(su_filter_height0, cm_histogram_low.zero_filter_su).tolist()\n",
    "ax1.bar(0, cm_histogram_low.zero_filter_op, bottom=op_filter_height0, width=barWidth, label='Operator Filtered', edgecolor='black', color=op_color)\n",
    "#\n",
    "# Missing data zero release\n",
    "missing_height = np.add(op_filter_height0, cm_histogram_low.zero_filter_op).tolist()\n",
    "ax1.bar(0, cm_histogram_low.zero_missing, bottom=op_filter_height0, width=barWidth, label='Operator Filtered', edgecolor='black', color=missing_color)\n",
    "\n",
    "# Set height of y-axis\n",
    "ax1.set_ylim([0, y_height + 1])\n",
    "ax2.set_ylim([0, y_height + 1])\n",
    "ax3.set_ylim([0, y_height + 1])\n",
    "ax1.set_xlim([-0.25, 0.25]) # set to 12 for now\n",
    "\n",
    "\n",
    "barWidth = 4\n",
    "# Middle plot\n",
    "# Add True Positives\n",
    "ax2.bar(cm_histogram_low.bin_median, cm_histogram_low.true_positive, width=barWidth,\n",
    "        label='True positive', edgecolor='black', color=tp_color)\n",
    "\n",
    "# Add False Positives\n",
    "ax2.bar(cm_histogram_low.bin_median, cm_histogram_low.false_positive, bottom=cm_histogram_low.true_positive, width=barWidth, label='False positive', edgecolor='black', color=fp_color)\n",
    "\n",
    "# Add False Negatives\n",
    "fn_height = np.add(cm_histogram_low.true_positive, cm_histogram_low.false_positive).tolist()\n",
    "ax2.bar(cm_histogram_low.bin_median, cm_histogram_low.false_negative, bottom=cm_histogram_low.true_positive, width=barWidth, label = 'False Negative', edgecolor='black', color=fn_color)\n",
    "\n",
    "# Add Stanford QC\n",
    "su_filter_height = np.add(fn_height, cm_histogram_low.false_negative).tolist()\n",
    "ax2.bar(cm_histogram_low.bin_median, cm_histogram_low.filter_stanford, bottom=su_filter_height, width=barWidth, label='Stanford Filtered', edgecolor='black', color=su_color)\n",
    "\n",
    "# Add Carbon Mapper QC\n",
    "op_filter_height = np.add(su_filter_height, cm_histogram_low.filter_stanford).tolist()\n",
    "ax2.bar(cm_histogram_low.bin_median, cm_histogram_low.filter_operator, bottom=op_filter_height, width=barWidth, label='Stanford Filtered', edgecolor='black', color=op_color)\n",
    "\n",
    "# Add missing data\n",
    "missing_height = np.add(op_filter_height, cm_histogram_low.filter_operator).tolist()\n",
    "ax2.bar(cm_histogram_low.bin_median, cm_histogram_low.missing_data, bottom=missing_height, width=barWidth, label='Stanford Filtered', edgecolor='black', color=missing_color)\n",
    "\n",
    "# Right plot\n",
    "# reset bin width\n",
    "barWidth = 40\n",
    "# Add True Positives\n",
    "ax3.bar(cm_histogram_high.bin_median, cm_histogram_high.true_positive, width=barWidth, label='True positive', edgecolor='black', color=tp_color)\n",
    "\n",
    "# Add False Positives\n",
    "ax3.bar(cm_histogram_high.bin_median, cm_histogram_high.false_positive, bottom=cm_histogram_high.true_positive, width=barWidth, label='False positive', edgecolor='black', color=fp_color)\n",
    "\n",
    "# Add False Negatives\n",
    "fn_height = np.add(cm_histogram_high.true_positive, cm_histogram_high.false_positive).tolist()\n",
    "ax3.bar(cm_histogram_high.bin_median, cm_histogram_high.false_negative, bottom=cm_histogram_high.true_positive, width=barWidth, label = 'False Negative', edgecolor='black', color=fn_color)\n",
    "\n",
    "# Add Stanford QC\n",
    "su_filter_height = np.add(fn_height, cm_histogram_high.false_negative).tolist()\n",
    "ax3.bar(cm_histogram_high.bin_median, cm_histogram_high.filter_stanford, bottom=su_filter_height, width=barWidth, label='Stanford Filtered', edgecolor='black', color=su_color)\n",
    "\n",
    "# Add Carbon Mapper QC\n",
    "op_filter_height = np.add(su_filter_height, cm_histogram_high.filter_stanford).tolist()\n",
    "ax3.bar(cm_histogram_high.bin_median, cm_histogram_high.filter_operator, bottom=op_filter_height, width=barWidth, label='Stanford Filtered', edgecolor='black', color=op_color)\n",
    "\n",
    "# Add missing data\n",
    "missing_height = np.add(op_filter_height, cm_histogram_high.filter_operator).tolist()\n",
    "ax3.bar(cm_histogram_high.bin_median, cm_histogram_high.missing_data, bottom=missing_height, width=barWidth, label='Stanford Filtered', edgecolor='black', color=missing_color)\n",
    "\n",
    "############ Plot formatting ############\n",
    "# Axes formatting and labels\n",
    "ax1.set_xticks([0])\n",
    "# ax1.set_yticklabels([1, 2, 4, 6, 8, 10], fontsize=11)\n",
    "# ax1.set_xlabel('Methane Release Rate (kgh)', fontsize=14)\n",
    "ax1.set_ylabel('Number of Releases', fontsize=14)\n",
    "ax1.tick_params(direction='in', right=False, top=False)\n",
    "ax1.tick_params(labelsize=12)\n",
    "ax1.minorticks_on()\n",
    "ax1.tick_params(labelbottom=True, labeltop=False, labelright=False, labelleft=True)\n",
    "ax1.tick_params(direction='in', which='minor', length=3, bottom=False, top=False, left=False, right=False)\n",
    "ax1.tick_params(direction='in', which='major', length=3, bottom=True, top=False, left=True, right=True)\n",
    "\n",
    "# Set axes and background color to white\n",
    "ax1.set_facecolor('white')\n",
    "ax1.spines['top'].set_color('black')\n",
    "ax1.spines['left'].set_color('black')\n",
    "ax1.spines['right'].set_color('black')\n",
    "ax1.spines['bottom'].set_color('black')\n",
    "\n",
    "# Add legend\n",
    "\n",
    "histogram_legend = {\n",
    "    'True Positive': tp_color,\n",
    "    'True Negative': tn_color,\n",
    "    'False Positive': fp_color,\n",
    "    'False Negative': fn_color,\n",
    "    'Stanford Filtered': su_color,\n",
    "    'Operator Filtered': op_color,\n",
    "    'Missing data': missing_color,\n",
    "}\n",
    "\n",
    "legend_elements = [Patch(facecolor=v, edgecolor='black', label=k) for k, v in histogram_legend.items()]\n",
    "lgd = ax3.legend(title='Overpass Key', handles=legend_elements, bbox_to_anchor=(1.05, 1), loc='upper left')\n",
    "\n",
    "# Save figure\n",
    "now = datetime.datetime.now()\n",
    "save_time = now.strftime(\"%Y%m%d\")\n",
    "fig_name = f'histogram_chart_CM_testcode'\n",
    "fig_path = pathlib.PurePath('04_figures', fig_name)\n",
    "plt.savefig(fig_path, bbox_extra_artists=(lgd,), bbox_inches='tight')"
   ],
   "metadata": {
    "collapsed": false
   }
  },
  {
   "cell_type": "code",
   "execution_count": 19,
   "outputs": [],
   "source": [
    "# import numpy as np\n",
    "# # np.array(cm_count_tp.n_data_points,\n",
    "# #          cm_count_tn.n_data_points,\n",
    "# #          cm_count_fn.n_data_points,\n",
    "# #          cm_count_fp.n_data_points)\n",
    "# x = np.maximum(cm_count_tp.n_data_points, np.maximum(cm_count_tn.n_data_points, np.maximum(cm_count_fn.n_data_points, cm_count_fp.n_data_points)))\n",
    "# print(x)\n",
    "#\n",
    "# tp_max = cm_count_tp.n_data_points.max()\n",
    "# fn_max = cm_count_fn.n_data_points.max()\n",
    "# tn_max = cm_count_tn.n_data_points.max()\n",
    "# fp_max = cm_count_fp.n_data_points.max()\n",
    "# op_max = pd.Series([tp_max, fn_max, tn_max, fp_max])\n",
    "# y_max = op_max.max()"
   ],
   "metadata": {
    "collapsed": false
   }
  },
  {
   "cell_type": "code",
   "execution_count": 20,
   "outputs": [
    {
     "name": "stdout",
     "output_type": "stream",
     "text": [
      "     bin_median  true_positive  false_positive  true_negative  false_negative  \\\n",
      "0     74.166667             11               0              0               0   \n",
      "1    122.500000             10               0              0               0   \n",
      "2    170.833333              4               0              0               0   \n",
      "3    219.166667              3               0              0               0   \n",
      "4    267.500000              0               0              0               0   \n",
      "5    315.833333              4               0              0               0   \n",
      "6    364.166667              3               0              0               0   \n",
      "7    412.500000              4               0              0               0   \n",
      "8    460.833333              4               0              0               0   \n",
      "9    509.166667              0               0              0               0   \n",
      "10   557.500000              2               0              0               0   \n",
      "11   605.833333              1               0              0               0   \n",
      "12   654.166667              1               0              0               0   \n",
      "13   702.500000              1               0              0               0   \n",
      "14   750.833333              1               0              0               0   \n",
      "15   799.166667              2               0              0               0   \n",
      "16   847.500000              1               0              0               0   \n",
      "17   895.833333              0               0              0               0   \n",
      "18   944.166667              0               0              0               0   \n",
      "19   992.500000              0               0              0               0   \n",
      "20  1040.833333              0               0              0               0   \n",
      "21  1089.166667              0               0              0               0   \n",
      "22  1137.500000              0               0              0               0   \n",
      "23  1185.833333              0               0              0               0   \n",
      "24  1234.166667              0               0              0               0   \n",
      "25  1282.500000              0               0              0               0   \n",
      "26  1330.833333              0               0              0               0   \n",
      "27  1379.166667              0               0              0               0   \n",
      "28  1427.500000              0               0              0               0   \n",
      "29  1475.833333              0               0              0               0   \n",
      "\n",
      "    filter_stanford  filter_operator  missing_data  zero_filter_su  \\\n",
      "0                 2                4             0               0   \n",
      "1                 0                0             0               0   \n",
      "2                 0                4             0               0   \n",
      "3                 0                3             0               0   \n",
      "4                 0                1             0               0   \n",
      "5                 0                0             1               0   \n",
      "6                 0                0             0               0   \n",
      "7                 1                0             0               0   \n",
      "8                 0                0             0               0   \n",
      "9                 1                0             0               0   \n",
      "10                0                1             0               0   \n",
      "11                0                3             0               0   \n",
      "12                2                0             0               0   \n",
      "13                0                0             0               0   \n",
      "14                0                0             0               0   \n",
      "15                0                0             0               0   \n",
      "16                0                2             0               0   \n",
      "17                0                0             0               0   \n",
      "18                0                1             0               0   \n",
      "19                0                0             0               0   \n",
      "20                0                1             0               0   \n",
      "21                0                2             0               0   \n",
      "22                0                1             1               0   \n",
      "23                0                0             0               0   \n",
      "24                0                0             0               0   \n",
      "25                0                0             0               0   \n",
      "26                0                1             0               0   \n",
      "27                0                0             0               0   \n",
      "28                0                1             0               0   \n",
      "29                0                0             0               0   \n",
      "\n",
      "    zero_filter_op  zero_missing  bin_height  \n",
      "0                0             0          17  \n",
      "1                0             0          10  \n",
      "2                0             0           8  \n",
      "3                0             0           6  \n",
      "4                0             0           1  \n",
      "5                0             0           5  \n",
      "6                0             0           3  \n",
      "7                0             0           5  \n",
      "8                0             0           4  \n",
      "9                0             0           1  \n",
      "10               0             0           3  \n",
      "11               0             0           4  \n",
      "12               0             0           3  \n",
      "13               0             0           1  \n",
      "14               0             0           1  \n",
      "15               0             0           2  \n",
      "16               0             0           3  \n",
      "17               0             0           0  \n",
      "18               0             0           1  \n",
      "19               0             0           0  \n",
      "20               0             0           1  \n",
      "21               0             0           2  \n",
      "22               0             0           2  \n",
      "23               0             0           0  \n",
      "24               0             0           0  \n",
      "25               0             0           0  \n",
      "26               0             0           1  \n",
      "27               0             0           0  \n",
      "28               0             0           1  \n",
      "29               0             0           0  \n"
     ]
    }
   ],
   "source": [
    "print(cm_histogram_high)"
   ],
   "metadata": {
    "collapsed": false
   }
  },
  {
   "cell_type": "code",
   "execution_count": 20,
   "outputs": [],
   "source": [],
   "metadata": {
    "collapsed": false
   }
  }
 ],
 "metadata": {
  "kernelspec": {
   "display_name": "Python 3",
   "language": "python",
   "name": "python3"
  },
  "language_info": {
   "codemirror_mode": {
    "name": "ipython",
    "version": 2
   },
   "file_extension": ".py",
   "mimetype": "text/x-python",
   "name": "python",
   "nbconvert_exporter": "python",
   "pygments_lexer": "ipython2",
   "version": "2.7.6"
  }
 },
 "nbformat": 4,
 "nbformat_minor": 0
}
