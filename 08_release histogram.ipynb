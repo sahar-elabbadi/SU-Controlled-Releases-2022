{
 "cells": [
  {
   "cell_type": "markdown",
   "source": [
    "# Generate histogram of releases\n",
    "Code Author: Sahar El Abbadi\n",
    "Date started: 2023-03-14\n",
    "Date last edited: 2023-03-14\n",
    "\n",
    "Notebook objective: to generate a histogram of Stanford releases, categorizing release by type:\n",
    "- True Positive\n",
    "- True Negative\n",
    "- False Negative\n",
    "- False Positive\n",
    "- Missing data - overpass recorded in field but not as an overpass by the team\n",
    "- Stanford Filtered\n",
    "- Operator Filtered"
   ],
   "metadata": {
    "collapsed": false
   }
  },
  {
   "cell_type": "code",
   "execution_count": 9,
   "outputs": [],
   "source": [
    "# Setup\n",
    "# Imports\n",
    "from methods_source import load_overpass_summary, load_summary_files, clean_meter_column_names\n",
    "import numpy as np\n",
    "import pandas as pd\n",
    "\n"
   ],
   "metadata": {
    "collapsed": false
   }
  },
  {
   "cell_type": "markdown",
   "source": [
    "## Evaluate data that passes all QC filters\n",
    "\n",
    "Select overpasses that pass both Stanford and Operator QC criteria. Generate dataframes for true positive, false positive, true negative, and false negative"
   ],
   "metadata": {
    "collapsed": false
   }
  },
  {
   "cell_type": "code",
   "execution_count": 10,
   "outputs": [],
   "source": [
    "# Load operator overpass data\n",
    "cm_reported = load_overpass_summary(operator='Carbon Mapper', stage=1, strict_discard=False)\n",
    "\n",
    "# Pass all QC filter\n",
    "cm_qc_pass = cm_reported.query('qc_summary == \"pass_all\"')\n",
    "\n",
    "# Select non-zero releases detected by operator\n",
    "cm_tp, cm_fp, cm_tn, cm_fn = classify_confusion_categories(cm_qc_pass)\n"
   ],
   "metadata": {
    "collapsed": false
   }
  },
  {
   "cell_type": "code",
   "execution_count": 11,
   "outputs": [],
   "source": [
    "# Create bins for plot\n",
    "\n",
    "threshold = 50\n",
    "n_bins = 10\n",
    "\n",
    "cm_count_tp = make_histogram_bins(cm_tp, threshold, n_bins)\n",
    "cm_count_fp = make_histogram_bins(cm_fp, threshold, n_bins)\n",
    "cm_count_fn = make_histogram_bins(cm_tn, threshold, n_bins)\n",
    "cm_count_tn = make_histogram_bins(cm_fn, threshold, n_bins)"
   ],
   "metadata": {
    "collapsed": false
   }
  },
  {
   "cell_type": "code",
   "execution_count": 12,
   "outputs": [],
   "source": [
    "# Filtered by Stanford\n",
    "cm_su_qc_fail = cm_reported.query('stanford_kept == False')\n",
    "cm_count_su_fail = make_histogram_bins(cm_su_qc_fail, threshold, n_bins)"
   ],
   "metadata": {
    "collapsed": false
   }
  },
  {
   "cell_type": "code",
   "execution_count": 13,
   "outputs": [],
   "source": [
    "# Filtered by Carbon Mapper\n",
    "# if qc_summary is 'fail_operator', this means it passed Stanford QC but not operator QC\n",
    "cm_op_qc_fail = cm_reported.query('qc_summary == \"fail_operator\"')\n",
    "cm_count_op_fail = make_histogram_bins(cm_op_qc_fail, threshold, n_bins)"
   ],
   "metadata": {
    "collapsed": false
   }
  },
  {
   "cell_type": "code",
   "execution_count": 17,
   "outputs": [],
   "source": [
    "# Identify data points where Stanford conducted a release\n",
    "# Find data points where we have a flightradar overpass but we do not have an operator overpass\n",
    "\n",
    "cm_meter_raw, ghg_meter_raw, kairos_meter_raw, mair_meter_raw = load_summary_files()\n",
    "\n",
    "# cm_missing_raw = cm_meter_raw.query('PerformerOverpassID.isnull() == True & StanfordOverpassID.isnull() == False')\n",
    "# cm_missing = clean_meter_column_names(cm_missing_raw, 'FlightradarOverpassID', 'flightradar')\n",
    "cm_missing = find_missing_data(cm_meter_raw)\n",
    "cm_count_missing = make_histogram_bins(cm_missing, threshold, n_bins)\n",
    "\n",
    "\n",
    "\n",
    "# cm_count_missing = make_histogram_bins(cm_missing, threshold, n_bins)"
   ],
   "metadata": {
    "collapsed": false
   }
  },
  {
   "cell_type": "code",
   "execution_count": 19,
   "outputs": [
    {
     "name": "stdout",
     "output_type": "stream",
     "text": [
      "   bin_median  n_data_points\n",
      "0         2.5              1\n",
      "1         7.5              0\n",
      "2        12.5              0\n",
      "3        17.5              0\n",
      "4        22.5              0\n",
      "5        27.5              0\n",
      "6        32.5              0\n",
      "7        37.5              0\n",
      "8        42.5              0\n",
      "9        47.5              0\n",
      "     overpass_id  phase_iii   kgh_gas_30   kgh_gas_60   kgh_gas_90  \\\n",
      "70            71          0     0.000000     0.000000     0.000000   \n",
      "71            72          1   328.525200   328.525200   328.525200   \n",
      "112          113          1  1190.360903  1190.360903  1190.360903   \n",
      "\n",
      "      kgh_ch4_30  release_rate_kgh   kgh_ch4_90  methane_fraction meter  \\\n",
      "70      0.000000          0.000000     0.000000          0.929933  None   \n",
      "71    305.506534        305.506534   305.506534          0.929933    mc   \n",
      "112  1142.587752       1142.587752  1142.587752          0.959867    pc   \n",
      "\n",
      "     qc_su_discard  qc_su_discard_strict  altitude_meters      time  \\\n",
      "70               0                     0      11758.92361  18:52:00   \n",
      "71               0                     0      11705.00000  19:04:26   \n",
      "112              0                     1      11878.54167  19:10:42   \n",
      "\n",
      "           date  \n",
      "70   2022-10-28  \n",
      "71   2022-10-28  \n",
      "112  2022-10-31  \n"
     ]
    }
   ],
   "source": [
    "print(cm_count_missing)\n",
    "print(cm_missing)"
   ],
   "metadata": {
    "collapsed": false
   }
  },
  {
   "cell_type": "code",
   "execution_count": 16,
   "outputs": [
    {
     "name": "stdout",
     "output_type": "stream",
     "text": [
      "           Date Time (UTC) - from Flightradar Time (UTC) - from Stanford  \\\n",
      "70   2022-10-28                      18:52:00                   18:52:00   \n",
      "71   2022-10-28                      19:04:26                   19:04:26   \n",
      "112  2022-10-31                      19:10:42                   19:10:49   \n",
      "\n",
      "    Time (UTC) - from team  FlightradarOverpassID  StanfordOverpassID  \\\n",
      "70                     NaN                     71                  71   \n",
      "71                     NaN                     72                  72   \n",
      "112                    NaN                    113                 113   \n",
      "\n",
      "     PerformerOverpassID  PhaseIII  \\\n",
      "70                   NaN         0   \n",
      "71                   NaN         1   \n",
      "112                  NaN         1   \n",
      "\n",
      "     Last 30s (kg/h) - whole gas measurement - from Flightradar  \\\n",
      "70                                            0.000000            \n",
      "71                                          328.525200            \n",
      "112                                        1190.360903            \n",
      "\n",
      "     Last 60s (kg/h) - whole gas measurement - from Flightradar  ...  \\\n",
      "70                                            0.000000           ...   \n",
      "71                                          328.525200           ...   \n",
      "112                                        1190.360903           ...   \n",
      "\n",
      "     Last 90s (kg/h) - from team  Percent methane          Meter  \\\n",
      "70                           NaN         0.929933           None   \n",
      "71                           NaN         0.929933  Mama Coriolis   \n",
      "112                          NaN         0.959867  Papa Coriolis   \n",
      "\n",
      "     Discarded - using Flightradar  Discarded - using Stanford  \\\n",
      "70                               0                           0   \n",
      "71                               0                           0   \n",
      "112                              0                           0   \n",
      "\n",
      "     Discarded - using team  Discarded - 1% - using Flightradar  \\\n",
      "70                      NaN                                   0   \n",
      "71                      NaN                                   0   \n",
      "112                     NaN                                   1   \n",
      "\n",
      "     Discarded - 1% - using Stanford  Discarded - 1% - using team  \\\n",
      "70                                 0                          NaN   \n",
      "71                                 0                          NaN   \n",
      "112                                1                          NaN   \n",
      "\n",
      "     Average altitude last minute (m)  \n",
      "70                        11758.92361  \n",
      "71                        11705.00000  \n",
      "112                       11878.54167  \n",
      "\n",
      "[3 rows x 35 columns]\n"
     ]
    }
   ],
   "source": [
    "print(cm_missing_raw)"
   ],
   "metadata": {
    "collapsed": false
   }
  },
  {
   "cell_type": "code",
   "execution_count": 16,
   "outputs": [],
   "source": [],
   "metadata": {
    "collapsed": false
   }
  }
 ],
 "metadata": {
  "kernelspec": {
   "display_name": "Python 3",
   "language": "python",
   "name": "python3"
  },
  "language_info": {
   "codemirror_mode": {
    "name": "ipython",
    "version": 2
   },
   "file_extension": ".py",
   "mimetype": "text/x-python",
   "name": "python",
   "nbconvert_exporter": "python",
   "pygments_lexer": "ipython2",
   "version": "2.7.6"
  }
 },
 "nbformat": 4,
 "nbformat_minor": 0
}
