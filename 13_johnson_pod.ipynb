{
 "cells": [
  {
   "cell_type": "markdown",
   "source": [
    "# Conrad et al., 2023 POD Method\n",
    "\n",
    "Calculate probability of detection using the POD method outlined in Conrad et al., 2023\n"
   ],
   "metadata": {
    "collapsed": false
   }
  },
  {
   "cell_type": "code",
   "execution_count": 1,
   "outputs": [],
   "source": [
    "# First, code for generating wind data - example code\n",
    "from methods_source import summarize_wind_conditions, calc_avg_windspeed\n",
    "import datetime\n",
    "\n",
    "test_1 = datetime.datetime(2022, 10, 10, 18, 16, 10)\n",
    "test_2 = datetime.datetime(2022, 10, 10, 18, 17, 10)\n",
    "\n",
    "wind_test1 = summarize_wind_conditions(test_1, test_2)\n",
    "\n",
    "wind_test2 = calc_avg_windspeed(test_1, direction='forward')"
   ],
   "metadata": {
    "collapsed": false
   }
  },
  {
   "cell_type": "markdown",
   "source": [],
   "metadata": {
    "collapsed": false
   }
  },
  {
   "cell_type": "code",
   "execution_count": 2,
   "outputs": [],
   "source": [
    "from methods_source import load_overpass_summary, feet_per_meter, calc_avg_windspeed\n",
    "import pandas as pd\n",
    "kairos = load_overpass_summary('Kairos', 1, strict_discard=False)\n",
    "feet_per_meter = feet_per_meter()\n",
    "\n",
    "kairos_POD_variables = pd.DataFrame()\n",
    "kairos_POD_variables['overpass_id'] = kairos['overpass_id']\n",
    "kairos_POD_variables['overpass_datetime'] = kairos['overpass_datetime']\n",
    "kairos_POD_variables['h'] = kairos['altitude_feet'] / feet_per_meter # flight altitude in m\n",
    "kairos_POD_variables['u'] = kairos['overpass_datetime'].apply(calc_avg_windspeed) # windspeed in m/s\n",
    "kairos_POD_variables['Q'] = kairos['release_rate_kgh'] # release rate in kg / hr\n",
    "kairos_POD_variables['D'] = kairos['operator_detected'].apply(int) # operator detected as 0 or 1\n",
    "\n",
    "def make_predictor_function(h, u, Q):\n",
    "    def my_predictor(phi1, phi2, phi3, phi4, phi5, phi6):\n",
    "        return (phi1 * (Q - phi2) ** phi3) / (((h/1000)**phi4) * ((u - phi5) ** phi6))\n",
    "\n",
    "    return my_predictor\n",
    "# Next:\n",
    "# Generate \"my_predictor\" for each overpass\n",
    "# Generate Di ln(Fi) + (1 - Di) ln(1 - Fi) for each overpass\n",
    "# Sum the column with\n"
   ],
   "metadata": {
    "collapsed": false
   }
  },
  {
   "cell_type": "code",
   "execution_count": 3,
   "outputs": [
    {
     "name": "stdout",
     "output_type": "stream",
     "text": [
      "0      0\n",
      "1      0\n",
      "2      1\n",
      "3      1\n",
      "4      1\n",
      "      ..\n",
      "344    1\n",
      "345    1\n",
      "346    1\n",
      "347    1\n",
      "348    1\n",
      "Name: operator_detected, Length: 349, dtype: int64\n"
     ]
    }
   ],
   "source": [
    "print(kairos.operator_detected.apply(int))"
   ],
   "metadata": {
    "collapsed": false
   }
  },
  {
   "cell_type": "code",
   "execution_count": null,
   "outputs": [],
   "source": [],
   "metadata": {
    "collapsed": false
   }
  }
 ],
 "metadata": {
  "kernelspec": {
   "display_name": "Python 3",
   "language": "python",
   "name": "python3"
  },
  "language_info": {
   "codemirror_mode": {
    "name": "ipython",
    "version": 2
   },
   "file_extension": ".py",
   "mimetype": "text/x-python",
   "name": "python",
   "nbconvert_exporter": "python",
   "pygments_lexer": "ipython2",
   "version": "2.7.6"
  }
 },
 "nbformat": 4,
 "nbformat_minor": 0
}
