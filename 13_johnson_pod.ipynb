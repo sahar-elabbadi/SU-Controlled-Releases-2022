{
 "cells": [
  {
   "cell_type": "markdown",
   "source": [
    "# Conrad et al., 2023 POD Method\n",
    "\n",
    "Calculate probability of detection using the POD method outlined in Conrad et al., 2023\n"
   ],
   "metadata": {
    "collapsed": false
   }
  },
  {
   "cell_type": "code",
   "execution_count": 14,
   "outputs": [
    {
     "name": "stdout",
     "output_type": "stream",
     "text": [
      "{'average_windspeed': 1.0174869655737704, 'average_winddirection': 116.53198852459018, 'stdev_windspeed': 0.2118695722622119, 'stdev_winddirection': 30.928243664269548}\n"
     ]
    },
    {
     "data": {
      "text/plain": "1.0174869655737704"
     },
     "execution_count": 14,
     "metadata": {},
     "output_type": "execute_result"
    }
   ],
   "source": [
    "# First, code for generating wind data - example code\n",
    "from methods_source import summarize_wind_conditions, calc_1min_windspeed\n",
    "import datetime\n",
    "\n",
    "test_1 = datetime.datetime(2022, 10, 10, 18, 16, 10)\n",
    "test_2 = datetime.datetime(2022, 10, 10, 18, 17, 10)\n",
    "\n",
    "wind_test1 = summarize_wind_conditions(test_1, test_2)\n",
    "\n",
    "wind_test2 = calc_1min_windspeed(test_1, direction='forward')"
   ],
   "metadata": {
    "collapsed": false
   }
  },
  {
   "cell_type": "code",
   "execution_count": null,
   "outputs": [],
   "source": [],
   "metadata": {
    "collapsed": false
   }
  }
 ],
 "metadata": {
  "kernelspec": {
   "display_name": "Python 3",
   "language": "python",
   "name": "python3"
  },
  "language_info": {
   "codemirror_mode": {
    "name": "ipython",
    "version": 2
   },
   "file_extension": ".py",
   "mimetype": "text/x-python",
   "name": "python",
   "nbconvert_exporter": "python",
   "pygments_lexer": "ipython2",
   "version": "2.7.6"
  }
 },
 "nbformat": 4,
 "nbformat_minor": 0
}
