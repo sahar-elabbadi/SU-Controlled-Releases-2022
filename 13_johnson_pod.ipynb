{
 "cells": [
  {
   "cell_type": "markdown",
   "source": [
    "# Conrad et al., 2023 POD Method\n",
    "\n",
    "Calculate probability of detection using the POD method outlined in Conrad et al., 2023\n"
   ],
   "metadata": {
    "collapsed": false
   }
  },
  {
   "cell_type": "code",
   "execution_count": null,
   "outputs": [],
   "source": [
    "# First, code for generating wind data\n",
    "\n"
   ],
   "metadata": {
    "collapsed": false
   }
  }
 ],
 "metadata": {
  "kernelspec": {
   "display_name": "Python 3",
   "language": "python",
   "name": "python3"
  },
  "language_info": {
   "codemirror_mode": {
    "name": "ipython",
    "version": 2
   },
   "file_extension": ".py",
   "mimetype": "text/x-python",
   "name": "python",
   "nbconvert_exporter": "python",
   "pygments_lexer": "ipython2",
   "version": "2.7.6"
  }
 },
 "nbformat": 4,
 "nbformat_minor": 0
}
