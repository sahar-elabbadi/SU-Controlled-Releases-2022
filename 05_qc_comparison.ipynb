{
 "cells": [
  {
   "cell_type": "markdown",
   "source": [
    "# Compare Stanford and Operator QC Criteria\n",
    "Code author: Sahar H. El Abbadi\n",
    "Date started: 2022-03-02\n",
    "Date last edited: 2022-03-02"
   ],
   "metadata": {
    "collapsed": false
   }
  },
  {
   "cell_type": "code",
   "execution_count": 1,
   "outputs": [],
   "source": [
    "# Setup\n",
    "\n",
    "# Imports\n",
    "import pandas as pd\n",
    "from data_manipulation_methods import load_clean_data, load_meter_data\n",
    "\n",
    "# Load clean operator data\n",
    "cm_1, cm_2, cm_3, ghg_1, ghg_2, kairos_1_ls23, kairos_1_ls25, kairos_2_ls23, kairos_2_ls25, kairos_3_ls23, kairos_3_ls25 = load_clean_data()\n",
    "\n",
    "# Load meter data\n",
    "cm_meter, ghg_meter, kairos_meter = load_meter_data()"
   ],
   "metadata": {
    "collapsed": false
   }
  },
  {
   "cell_type": "code",
   "execution_count": 15,
   "outputs": [
    {
     "name": "stdout",
     "output_type": "stream",
     "text": [
      "     overpass_id  zero_release  non_zero_release  operator_kept  \\\n",
      "0            1.0         False              True              1   \n",
      "1            2.0         False              True              1   \n",
      "2            3.0         False              True              1   \n",
      "3            4.0         False              True              1   \n",
      "4            5.0          True             False              1   \n",
      "..           ...           ...               ...            ...   \n",
      "116        117.0         False              True              1   \n",
      "117        118.0          True             False              0   \n",
      "118        119.0         False              True              1   \n",
      "119        120.0         False              True              1   \n",
      "120        121.0         False              True              1   \n",
      "\n",
      "     stanford_kept  operator_detected  release_rate_kgh  \\\n",
      "0                1               True         10.968637   \n",
      "1                1              False          7.314810   \n",
      "2                1               True          8.666363   \n",
      "3                1              False          4.461038   \n",
      "4                1              False          0.000000   \n",
      "..             ...                ...               ...   \n",
      "116              1               True        322.945308   \n",
      "117              0              False          0.000000   \n",
      "118              1               True        476.519607   \n",
      "119              1               True         43.075833   \n",
      "120              1               True        532.386018   \n",
      "\n",
      "     operator_quantification  \n",
      "0                  87.193762  \n",
      "1                        NaN  \n",
      "2                        NaN  \n",
      "3                        NaN  \n",
      "4                        NaN  \n",
      "..                       ...  \n",
      "116               443.587403  \n",
      "117                      NaN  \n",
      "118               573.856701  \n",
      "119                76.023489  \n",
      "120               669.420449  \n",
      "\n",
      "[121 rows x 8 columns]\n"
     ]
    },
    {
     "name": "stderr",
     "output_type": "stream",
     "text": [
      "/var/folders/vp/7kbksk9n5bqdsc5w00b6k5zr0000gn/T/ipykernel_2822/1393490392.py:11: UserWarning: Pandas doesn't allow columns to be created via a new attribute name - see https://pandas.pydata.org/pandas-docs/stable/indexing.html#attribute-access\n",
      "  combined_df.release_rate_kgh = combined_df['Last 60s (kg/h) - from Stanford']\n"
     ]
    }
   ],
   "source": [
    "# Combine data\n",
    "\n",
    "# Method inputs\n",
    "operator_report = cm_1\n",
    "operator_meter = cm_meter\n",
    "\n",
    "# Will begin method here\n",
    "combined_df = operator_report.merge(operator_meter, on='PerformerExperimentID')\n",
    "\n",
    "# Make column with easier name for coding for now.\n",
    "combined_df.release_rate_kgh = combined_df['Last 60s (kg/h) - from Stanford']\n",
    "\n",
    "# Philippine reports if we discard or not (discard = 1, keep = 0). Change this to have 1 if we keep, 0 if we discard\n",
    "combined_df['stanford_kept'] =(1 - combined_df['QC: discard - from Stanford'])\n",
    "\n",
    "# Make dataframe with all relevant info\n",
    "operator_qc = pd.DataFrame()\n",
    "operator_qc['overpass_id'] = combined_df.PerformerExperimentID\n",
    "operator_qc['zero_release'] = combined_df.release_rate_kgh == 0\n",
    "operator_qc['non_zero_release'] = combined_df.release_rate_kgh != 0  # True if we conducted a release\n",
    "operator_qc['operator_kept'] = combined_df.stanford_kept\n",
    "operator_qc['stanford_kept'] = combined_df.stanford_kept\n",
    "operator_qc['operator_detected'] = combined_df.Detected\n",
    "operator_qc['release_rate_kgh'] = combined_df.release_rate_kgh\n",
    "operator_qc['operator_quantification'] = combined_df.FacilityEmissionRate\n",
    "\n",
    "print(operator_qc)"
   ],
   "metadata": {
    "collapsed": false
   }
  },
  {
   "cell_type": "code",
   "execution_count": null,
   "outputs": [],
   "source": [],
   "metadata": {
    "collapsed": false
   }
  }
 ],
 "metadata": {
  "kernelspec": {
   "display_name": "Python 3",
   "language": "python",
   "name": "python3"
  },
  "language_info": {
   "codemirror_mode": {
    "name": "ipython",
    "version": 2
   },
   "file_extension": ".py",
   "mimetype": "text/x-python",
   "name": "python",
   "nbconvert_exporter": "python",
   "pygments_lexer": "ipython2",
   "version": "2.7.6"
  }
 },
 "nbformat": 4,
 "nbformat_minor": 0
}
