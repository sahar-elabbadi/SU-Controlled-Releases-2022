{
 "cells": [
  {
   "cell_type": "markdown",
   "source": [
    "# Compare Stanford and Operator QC Criteria\n",
    "Code author: Sahar H. El Abbadi\n",
    "Date started: 2022-03-02\n",
    "Date last edited: 2022-03-02"
   ],
   "metadata": {
    "collapsed": false
   }
  },
  {
   "cell_type": "code",
   "execution_count": 1,
   "outputs": [],
   "source": [
    "# Setup\n",
    "\n",
    "# Imports\n",
    "from methods_data_cleaning import load_clean_data, load_meter_data\n",
    "from methods_analysis import evaluate_qc\n",
    "\n",
    "# Load clean operator data\n",
    "cm_1, cm_2, cm_3, ghg_1, ghg_2, kairos_1_ls23, kairos_1_ls25, kairos_2_ls23, kairos_2_ls25, kairos_3_ls23, kairos_3_ls25 = load_clean_data()\n",
    "\n",
    "# Load meter data\n",
    "cm_meter, ghg_meter, kairos_meter = load_meter_data()"
   ],
   "metadata": {
    "collapsed": false
   }
  },
  {
   "cell_type": "code",
   "execution_count": 3,
   "outputs": [],
   "source": [
    "# Carbon Mapper QC\n",
    "\n",
    "operator = \"Carbon Mapper\"\n",
    "operator_meter = cm_meter\n",
    "\n",
    "# Stage 1\n",
    "stage = 1\n",
    "operator_report = cm_1\n",
    "cm_1_qc = evaluate_qc(operator, stage, operator_report, operator_meter)\n",
    "\n",
    "# Stage 2\n",
    "stage = 2\n",
    "operator_report = cm_2\n",
    "cm_2_qc = evaluate_qc(operator, stage, operator_report, operator_meter)\n",
    "\n",
    "# Stage 3\n",
    "stage = 3\n",
    "operator_report = cm_3\n",
    "cm_3_qc = evaluate_qc(operator, stage, operator_report, operator_meter)\n",
    "\n"
   ],
   "metadata": {
    "collapsed": false
   }
  },
  {
   "cell_type": "code",
   "execution_count": 5,
   "outputs": [],
   "source": [
    "# GHGSat\n",
    "\n",
    "operator = \"GHGSat\"\n",
    "operator_meter = ghg_meter\n",
    "\n",
    "# Stage 1\n",
    "stage = 1\n",
    "operator_report = ghg_1\n",
    "ghg_1_qc = evaluate_qc(operator, stage, operator_report, operator_meter)\n",
    "\n",
    "# Stage 2\n",
    "stage = 2\n",
    "operator_report = ghg_2\n",
    "ghg_2_qc = evaluate_qc(operator, stage, operator_report, operator_meter)\n",
    "\n",
    "# Stage 3\n",
    "stage = 3\n",
    "operator_report = ghg_2\n",
    "ghg_3_qc = evaluate_qc(operator, stage, operator_report, operator_meter)\n"
   ],
   "metadata": {
    "collapsed": false
   }
  },
  {
   "cell_type": "code",
   "execution_count": 6,
   "outputs": [],
   "source": [
    "# Kairos\n",
    "\n",
    "operator = \"Kairos LS23\"\n",
    "operator_meter = kairos_meter\n",
    "\n",
    "# Stage 1\n",
    "stage = 1\n",
    "operator_report = kairos_1_ls23\n",
    "kairos_1_ls23_qc = evaluate_qc(operator, stage, operator_report, operator_meter)\n",
    "\n",
    "# Stage 2\n",
    "stage = 2\n",
    "operator_report = kairos_2_ls23\n",
    "kairos_2_ls23_qc = evaluate_qc(operator, stage, operator_report, operator_meter)\n",
    "\n",
    "# Stage 3\n",
    "stage = 3\n",
    "operator_report = kairos_3_ls23\n",
    "kairos_3_ls23_qc = evaluate_qc(operator, stage, operator_report, operator_meter)"
   ],
   "metadata": {
    "collapsed": false
   }
  },
  {
   "cell_type": "code",
   "execution_count": 7,
   "outputs": [],
   "source": [
    "# Kairos\n",
    "\n",
    "operator = \"Kairos LS25\"\n",
    "operator_meter = kairos_meter\n",
    "\n",
    "# Stage 1\n",
    "stage = 1\n",
    "operator_report = kairos_1_ls25\n",
    "kairos_1_ls25_qc = evaluate_qc(operator, stage, operator_report, operator_meter)\n",
    "\n",
    "# Stage 2\n",
    "stage = 2\n",
    "operator_report = kairos_2_ls25\n",
    "kairos_2_ls25_qc = evaluate_qc(operator, stage, operator_report, operator_meter)\n",
    "\n",
    "# Stage 3\n",
    "stage = 3\n",
    "operator_report = kairos_3_ls25\n",
    "kairos_3_ls25_qc = evaluate_qc(operator, stage, operator_report, operator_meter)"
   ],
   "metadata": {
    "collapsed": false
   }
  },
  {
   "cell_type": "code",
   "execution_count": null,
   "outputs": [],
   "source": [],
   "metadata": {
    "collapsed": false
   }
  }
 ],
 "metadata": {
  "kernelspec": {
   "display_name": "Python 3",
   "language": "python",
   "name": "python3"
  },
  "language_info": {
   "codemirror_mode": {
    "name": "ipython",
    "version": 2
   },
   "file_extension": ".py",
   "mimetype": "text/x-python",
   "name": "python",
   "nbconvert_exporter": "python",
   "pygments_lexer": "ipython2",
   "version": "2.7.6"
  }
 },
 "nbformat": 4,
 "nbformat_minor": 0
}
