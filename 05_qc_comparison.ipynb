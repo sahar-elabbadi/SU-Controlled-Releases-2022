{
 "cells": [
  {
   "cell_type": "markdown",
   "source": [
    "# Compare Stanford and Operator QC Criteria\n",
    "Code author: Sahar H. El Abbadi\n",
    "Date started: 2022-03-02\n",
    "Date last edited: 2022-03-02"
   ],
   "metadata": {
    "collapsed": false
   }
  },
  {
   "cell_type": "code",
   "execution_count": 1,
   "outputs": [],
   "source": [
    "import numpy as np\n",
    "import pandas as pd\n",
    "import pathlib\n",
    "\n",
    "# Setup\n",
    "\n",
    "# Imports\n",
    "from methods_data_cleaning import load_clean_data, load_meter_data\n",
    "from methods_analysis import evaluate_qc\n",
    "\n",
    "# Load clean operator data\n",
    "cm_1, cm_2, cm_3, ghg_1, ghg_2, kairos_1_ls23, kairos_1_ls25, kairos_2_ls23, kairos_2_ls25, kairos_3_ls23, kairos_3_ls25 = load_clean_data()\n",
    "\n",
    "# Load meter data\n",
    "cm_meter, ghg_meter, kairos_meter = load_meter_data()"
   ],
   "metadata": {
    "collapsed": false
   }
  },
  {
   "cell_type": "code",
   "execution_count": 2,
   "outputs": [],
   "source": [
    "# Carbon Mapper QC\n",
    "\n",
    "operator = \"Carbon Mapper\"\n",
    "operator_meter = cm_meter\n",
    "\n",
    "# Stage 1\n",
    "stage = 1\n",
    "operator_report = cm_1\n",
    "cm_1_qc = evaluate_qc(operator, stage, operator_report, operator_meter)\n",
    "\n",
    "# Stage 2\n",
    "stage = 2\n",
    "operator_report = cm_2\n",
    "cm_2_qc = evaluate_qc(operator, stage, operator_report, operator_meter)\n",
    "\n",
    "# Stage 3\n",
    "stage = 3\n",
    "operator_report = cm_3\n",
    "cm_3_qc = evaluate_qc(operator, stage, operator_report, operator_meter)\n",
    "\n"
   ],
   "metadata": {
    "collapsed": false
   }
  },
  {
   "cell_type": "code",
   "execution_count": 3,
   "outputs": [],
   "source": [
    "# GHGSat\n",
    "\n",
    "operator = \"GHGSat\"\n",
    "operator_meter = ghg_meter\n",
    "\n",
    "# Stage 1\n",
    "stage = 1\n",
    "operator_report = ghg_1\n",
    "ghg_1_qc = evaluate_qc(operator, stage, operator_report, operator_meter)\n",
    "\n",
    "# Stage 2\n",
    "stage = 2\n",
    "operator_report = ghg_2\n",
    "ghg_2_qc = evaluate_qc(operator, stage, operator_report, operator_meter)\n",
    "\n",
    "# Stage 3\n",
    "stage = 3\n",
    "operator_report = ghg_2\n",
    "ghg_3_qc = evaluate_qc(operator, stage, operator_report, operator_meter)\n"
   ],
   "metadata": {
    "collapsed": false
   }
  },
  {
   "cell_type": "code",
   "execution_count": 4,
   "outputs": [],
   "source": [
    "# Kairos\n",
    "\n",
    "operator = \"Kairos LS23\"\n",
    "operator_meter = kairos_meter\n",
    "\n",
    "# Stage 1\n",
    "stage = 1\n",
    "operator_report = kairos_1_ls23\n",
    "kairos_1_ls23_qc = evaluate_qc(operator, stage, operator_report, operator_meter)\n",
    "\n",
    "# Stage 2\n",
    "stage = 2\n",
    "operator_report = kairos_2_ls23\n",
    "kairos_2_ls23_qc = evaluate_qc(operator, stage, operator_report, operator_meter)\n",
    "\n",
    "# Stage 3\n",
    "stage = 3\n",
    "operator_report = kairos_3_ls23\n",
    "kairos_3_ls23_qc = evaluate_qc(operator, stage, operator_report, operator_meter)"
   ],
   "metadata": {
    "collapsed": false
   }
  },
  {
   "cell_type": "code",
   "execution_count": 5,
   "outputs": [],
   "source": [
    "# Kairos\n",
    "\n",
    "operator = \"Kairos LS25\"\n",
    "operator_meter = kairos_meter\n",
    "\n",
    "# Stage 1\n",
    "stage = 1\n",
    "operator_report = kairos_1_ls25\n",
    "kairos_1_ls25_qc = evaluate_qc(operator, stage, operator_report, operator_meter)\n",
    "\n",
    "# Stage 2\n",
    "stage = 2\n",
    "operator_report = kairos_2_ls25\n",
    "kairos_2_ls25_qc = evaluate_qc(operator, stage, operator_report, operator_meter)\n",
    "\n",
    "# Stage 3\n",
    "stage = 3\n",
    "operator_report = kairos_3_ls25\n",
    "kairos_3_ls25_qc = evaluate_qc(operator, stage, operator_report, operator_meter)"
   ],
   "metadata": {
    "collapsed": false
   }
  },
  {
   "cell_type": "code",
   "execution_count": 6,
   "outputs": [],
   "source": [
    "# Combine all individual QC dataframes\n",
    "\n",
    "all_qc = [cm_1_qc, cm_2_qc, cm_3_qc, ghg_1_qc, ghg_2_qc, ghg_3_qc, kairos_1_ls23_qc, kairos_2_ls23_qc, kairos_3_ls23_qc, kairos_1_ls25_qc, kairos_2_ls25_qc, kairos_3_ls25_qc]\n",
    "\n",
    "all_qc = pd.concat(all_qc)\n",
    "all_qc.to_csv(pathlib.PurePath('03_results', 'qc_comparison', 'all_qc.csv'))"
   ],
   "metadata": {
    "collapsed": false
   }
  },
  {
   "cell_type": "code",
   "execution_count": 28,
   "outputs": [
    {
     "data": {
      "text/plain": "Text(0.5, 0, 'Operator')"
     },
     "execution_count": 28,
     "metadata": {},
     "output_type": "execute_result"
    },
    {
     "data": {
      "text/plain": "<Figure size 640x480 with 1 Axes>",
      "image/png": "[encoded data removed]"
     },
     "metadata": {},
     "output_type": "display_data"
    }
   ],
   "source": [
    "from plot_methods import abbreviate_op_name\n",
    "import matplotlib.pyplot as plt\n",
    "\n",
    "all_qc = [cm_1_qc, cm_2_qc, cm_3_qc, ghg_1_qc, ghg_2_qc, ghg_3_qc, kairos_1_ls23_qc, kairos_2_ls23_qc, kairos_3_ls23_qc, kairos_1_ls25_qc, kairos_2_ls25_qc, kairos_3_ls25_qc]\n",
    "\n",
    "all_qc = pd.concat(all_qc)\n",
    "all_qc.to_csv(pathlib.PurePath('03_results', 'qc_comparison', 'all_qc.csv'))\n",
    "\n",
    "# Plot\n",
    "\n",
    "category = ['fail_stanford_only', 'fail_all_qc', 'fail_operator_only']\n",
    "stage = 1\n",
    "n_operators = 4 # number of operators\n",
    "operators = ['Carbon Mapper', 'GHGSat', 'Kairos LS23', 'Kairos LS25']\n",
    "# Determine values for each group, alphabetical order of operators: \"Carbon Mapper, GHGSat, Kairos\"\n",
    "\n",
    "fail_operator = np.zeros(n_operators)\n",
    "fail_stanford = np.zeros(n_operators)\n",
    "fail_all = np.zeros(n_operators)\n",
    "\n",
    "# Height of bars\n",
    "\n",
    "for i in range(len(operators)): # for go through fail stanford only\n",
    "    op_ab = abbreviate_op_name(operators[i])\n",
    "    operator_qc = all_qc.loc[all_qc.operator == op_ab]\n",
    "    operator_stage_qc = operator_qc.loc[operator_qc.stage == stage]\n",
    "    # operator_qc_stage = operator_qc.loc[all_qc.stage == stage]\n",
    "    fail_operator[i] = operator_stage_qc.fail_operator_only\n",
    "    fail_stanford[i] = operator_stage_qc.fail_stanford_only\n",
    "    fail_all[i] = operator_stage_qc.fail_all_qc\n",
    "\n",
    "barWidth = 1\n",
    "\n",
    "# height of fail_operator + fail_all\n",
    "bars = np.add(fail_operator, fail_all).tolist()\n",
    "\n",
    "# The position of the bars on the x-axis\n",
    "r = [0,1,2,3]\n",
    "\n",
    "# Create brown bars\n",
    "plt.bar(r, fail_operator, color='#7f6d5f', edgecolor='white', width=barWidth)\n",
    "# Create green bars (middle), on top of the first ones\n",
    "plt.bar(r, fail_all, bottom=fail_operator, color='#557f2d', edgecolor='white', width=barWidth)\n",
    "# Create green bars (top)\n",
    "plt.bar(r, fail_stanford, bottom=bars, color='#2d7f5e', edgecolor='white', width=barWidth)\n",
    "\n",
    "# Custom X axis\n",
    "plt.xticks(r, operators, fontweight='bold')\n",
    "plt.xlabel(\"Operator\")"
   ],
   "metadata": {
    "collapsed": false
   }
  },
  {
   "cell_type": "code",
   "execution_count": 9,
   "outputs": [],
   "source": [
    "from plot_methods import abbreviate_op_name\n",
    "stage = 1\n",
    "category = ['fail_stanford_only', 'fail_all_qc', 'fail_operator_only']\n",
    "op_ab = abbreviate_op_name('Carbon Mapper')\n",
    "\n",
    "for i in range(len(category)): # for go through fail stanford only\n",
    "    for operator in operators: # Carbon Mapper\n",
    "        op_ab = abbreviate_op_name(operator)\n",
    "        operator_qc = all_qc.loc[all_qc.operator == op_ab]"
   ],
   "metadata": {
    "collapsed": false
   }
  },
  {
   "cell_type": "code",
   "execution_count": null,
   "outputs": [],
   "source": [],
   "metadata": {
    "collapsed": false
   }
  }
 ],
 "metadata": {
  "kernelspec": {
   "display_name": "Python 3",
   "language": "python",
   "name": "python3"
  },
  "language_info": {
   "codemirror_mode": {
    "name": "ipython",
    "version": 2
   },
   "file_extension": ".py",
   "mimetype": "text/x-python",
   "name": "python",
   "nbconvert_exporter": "python",
   "pygments_lexer": "ipython2",
   "version": "2.7.6"
  }
 },
 "nbformat": 4,
 "nbformat_minor": 0
}
