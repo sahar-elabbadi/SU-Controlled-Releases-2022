{
 "cells": [
  {
   "cell_type": "markdown",
   "source": [
    "# Generate summary datasets for all operator results\n",
    "Code author: Sahar H. El Abbadi\n",
    "Date started: 2023-03-13\n",
    "Date last edited: 2023-03-13"
   ],
   "metadata": {
    "collapsed": false
   }
  },
  {
   "cell_type": "code",
   "execution_count": 1,
   "outputs": [],
   "source": [
    "# Setup\n",
    "\n",
    "# imports\n",
    "from methods_analysis import generate_overpass_summary\n",
    "from methods_data_cleaning import load_clean_operator_reports, abbreviate_op_name, load_meter_data\n"
   ],
   "metadata": {
    "collapsed": false
   }
  },
  {
   "cell_type": "code",
   "execution_count": 5,
   "outputs": [],
   "source": [
    "\n",
    "operators = ['Carbon Mapper', 'GHGSat', 'Kairos LS23', 'Kairos LS25', 'Methane Air']\n",
    "stages = [1, 2, 3]\n",
    "strict_discard = False\n",
    "\n",
    "# Load clean operator data\n",
    "# format for naming: [operator]_stage\n",
    "\n",
    "cm_1, cm_2, cm_3, ghg_1, ghg_2, kairos_ls23_1, kairos_ls25_1, kairos_ls23_2, kairos_ls25_2, kairos_ls23_3, kairos_ls25_3 = load_clean_operator_reports()\n",
    "\n",
    "report_dictionary = {\n",
    "    'cm_1': cm_1,\n",
    "    'cm_2': cm_2,\n",
    "    'cm_3': cm_3,\n",
    "    'ghg_1': ghg_1,\n",
    "    'ghg_2': ghg_2,\n",
    "    'ghg_3': ghg_2,\n",
    "    'kairos_ls23_1': kairos_ls23_1,\n",
    "    'kairos_ls25_1': kairos_ls25_1,\n",
    "    'kairos_ls23_2': kairos_ls23_2,\n",
    "    'kairos_ls25_2': kairos_ls25_2,\n",
    "    'kairos_ls23_3': kairos_ls23_3,\n",
    "    'kairos_ls25_3': kairos_ls25_3,\n",
    "}\n",
    "\n",
    "# Load meter data\n",
    "cm_meter, ghg_meter, kairos_meter, mair_meter = load_meter_data('flightradar')\n",
    "meter_dictionary = {\n",
    "    'cm_meter': cm_meter,\n",
    "    'ghg_meter': ghg_meter,\n",
    "    'kairos_meter': kairos_meter,\n",
    "    'mair_meter': mair_meter,\n",
    "}\n",
    "\n",
    "\n",
    "operator_meter = load_meter_data('flightradar')\n",
    "for operator in operators:\n",
    "    for stage in stages:\n",
    "        if (operator == 'GHGSat') and (stage == 3):\n",
    "            pass\n",
    "        elif operator == 'Methane Air':\n",
    "            pass\n",
    "        else:\n",
    "            op_ab = abbreviate_op_name(operator)\n",
    "            operator_report = report_dictionary[f'{op_ab}_{stage}']\n",
    "\n",
    "            if (operator == 'Kairos LS23') or (operator == 'Kairos LS25'):\n",
    "                operator_meter = meter_dictionary['kairos_meter']\n",
    "            else:\n",
    "                operator_meter = meter_dictionary[f'{op_ab}_meter']\n",
    "\n",
    "            generate_overpass_summary(operator, stage, operator_report, operator_meter, strict_discard)"
   ],
   "metadata": {
    "collapsed": false
   }
  },
  {
   "cell_type": "code",
   "execution_count": null,
   "outputs": [],
   "source": [],
   "metadata": {
    "collapsed": false
   }
  }
 ],
 "metadata": {
  "kernelspec": {
   "display_name": "Python 3",
   "language": "python",
   "name": "python3"
  },
  "language_info": {
   "codemirror_mode": {
    "name": "ipython",
    "version": 2
   },
   "file_extension": ".py",
   "mimetype": "text/x-python",
   "name": "python",
   "nbconvert_exporter": "python",
   "pygments_lexer": "ipython2",
   "version": "2.7.6"
  }
 },
 "nbformat": 4,
 "nbformat_minor": 0
}
