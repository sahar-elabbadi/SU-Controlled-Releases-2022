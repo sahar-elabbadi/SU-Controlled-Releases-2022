{
 "cells": [
  {
   "cell_type": "markdown",
   "source": [
    "# Summarize datasets for all operator results\n",
    "Code author: Sahar H. El Abbadi\n",
    "Date started: 2023-03-13\n",
    "Date last edited: 2023-03-17"
   ],
   "metadata": {
    "collapsed": false
   }
  },
  {
   "cell_type": "markdown",
   "source": [
    "## Generate summary tables\n",
    "\n",
    "Generate overpass summary tables for each operator. Overpass summary tables extract all relevant information from operator reports and metering data that is needed for downstream analysis. These tables are saved as CSV files in 03_results > overpass_summary, using the format operator_stage_overpasses.csv.\n",
    "\n",
    "Columns in the overpass summary tables are:\n",
    "- overpass_id: this is the ID for the specific aircraft overpass, and matches PerformerExperimentID overpass number in the raw operator data\n",
    "- overpass_datetime: date and time of overpass, in UTC time. This can be generated using the Flightradar GPS timestamp (timekeeper = 'flightradar'), Stanford's on the ground estimate of overhead time (timekeeper = 'stanford'), or using the timestamp according to the operator report (timekeeper = 'team'). Value used for all analysis is in paper is Flightradar\n",
    "- zero_release: True if the release by Stanford is 0 kgh, False if greater than 0 kgh\n",
    "- non_zero_release: True if release by Stanford is greater than 0 kgh, False if equal to 0 kgh\n",
    "- operator_kept: True if this overpass passed the operator QC criteria\n",
    "- stanford_kept: True if this overpass passed Stanford's QC criteria\n",
    "- phase_iii: True if we provided this overpass to the operator during Phase III of unblinding\n",
    "- pass_all_qc: True if passed both operator and Stanford QC\n",
    "- fail_all_qc: True if this overpass failed both operator and Stanford QC\n",
    "- operator_detected: True if operator detected a release. False if they did not\n",
    "- operator_quantification: operator's quantification estimate as reported in operator report\n",
    "- operator_lower: lower bound on operator's lower bound quantification estimate\n",
    "- operator_upper: upper bound on operator's quantification estimate\n",
    "- qc_summary: summarizes results of both operator and Stanford QC. Must be one of the following: 'pass_all', 'fail_stanford', 'fail_operator', 'fail_all'\n",
    "\n",
    "Note: due to the small number of data points for Scientific Aviation and the fact that they did not submit using a template, sciav_1_overpasses.csv was manually constructed by Sahar El Abbadi on 2023-03-16."
   ],
   "metadata": {
    "collapsed": false
   }
  },
  {
   "cell_type": "code",
   "execution_count": null,
   "outputs": [],
   "source": [
    "# Imports\n",
    "from methods_source import generate_all_overpass_reports"
   ],
   "metadata": {
    "collapsed": false
   }
  },
  {
   "cell_type": "code",
   "execution_count": null,
   "outputs": [],
   "source": [
    "# Generate all overpass reports\n",
    "generate_all_overpass_reports(strict_discard=False, timekeeper='flightradar', gas_comp_source='km', time_ave='60')\n",
    "generate_all_overpass_reports(strict_discard=True, timekeeper='flightradar', gas_comp_source='km', time_ave='60')"
   ],
   "metadata": {
    "collapsed": false
   }
  },
  {
   "cell_type": "code",
   "execution_count": null,
   "outputs": [],
   "source": [
    "# Generate MAIR mIME and DI reports\n",
    "from methods_source import generate_overpass_summary\n",
    "\n",
    "generate_overpass_summary(operator='MethaneAIR mIME', stage=1, timekeeper='flightradar', strict_discard=False, gas_comp_source='km', time_ave=60)\n",
    "generate_overpass_summary(operator='MethaneAIR DI', stage=1, timekeeper='flightradar', strict_discard=False, gas_comp_source='km', time_ave=60)"
   ],
   "metadata": {
    "collapsed": false
   }
  },
  {
   "cell_type": "markdown",
   "source": [
    "## Sanity checks on data\n",
    "\n",
    "Basic double checks on the data to make sure everything looks good"
   ],
   "metadata": {
    "collapsed": false
   }
  },
  {
   "cell_type": "markdown",
   "source": [
    "##### Number of overpasses\n",
    "\n",
    "Check that the length of the dataframe matches the highest overpass ID. This will flag the potential for missing or duplicate data in the summary file. Doing this check as we previously observed duplicate rows in the meter summary file."
   ],
   "metadata": {
    "collapsed": false
   }
  },
  {
   "cell_type": "code",
   "execution_count": null,
   "outputs": [],
   "source": [
    "# Check Carbon Mapper\n",
    "\n",
    "from methods_source import load_overpass_summary, check_overpass_number\n",
    "\n",
    "cm_overpasses = load_overpass_summary(operator='Carbon Mapper', stage=1, strict_discard=False, time_ave=60, gas_comp_source='km')\n",
    "cm_max_id = cm_overpasses.max()['overpass_id']\n",
    "cm_overpasses_length = len(cm_overpasses)\n",
    "check_overpass_number(operator='Carbon Mapper', max_overpass_id=cm_max_id, overpasses_length=cm_overpasses_length)"
   ],
   "metadata": {
    "collapsed": false
   }
  },
  {
   "cell_type": "code",
   "execution_count": null,
   "outputs": [],
   "source": [
    "# Check GHGSat data length\n",
    "\n",
    "from methods_source import load_overpass_summary, check_overpass_number\n",
    "\n",
    "ghg_overpasses = load_overpass_summary(operator='GHGSat', stage=1, strict_discard=False, time_ave=60, gas_comp_source='km')\n",
    "ghg_max_id = ghg_overpasses.max()['overpass_id']\n",
    "ghg_overpasses_length = len(ghg_overpasses)\n",
    "check_overpass_number(operator='GHGSat', max_overpass_id=ghg_max_id, overpasses_length=ghg_overpasses_length)"
   ],
   "metadata": {
    "collapsed": false
   }
  },
  {
   "cell_type": "code",
   "execution_count": null,
   "outputs": [],
   "source": [
    "# Check Kairos data length\n",
    "\n",
    "from methods_source import load_overpass_summary, check_overpass_number\n",
    "\n",
    "kairos_overpasses = load_overpass_summary(operator='Kairos', stage=1, strict_discard=False, time_ave=60, gas_comp_source='km')\n",
    "kairos_max_id = kairos_overpasses.max()['overpass_id']\n",
    "kairos_overpasses_length = len(kairos_overpasses)\n",
    "check_overpass_number(operator='Kairos', max_overpass_id=kairos_max_id, overpasses_length=kairos_overpasses_length)"
   ],
   "metadata": {
    "collapsed": false
   }
  },
  {
   "cell_type": "code",
   "execution_count": null,
   "outputs": [],
   "source": [
    "# Check Scientific Aviation data length\n",
    "\n",
    "from methods_source import load_overpass_summary, check_overpass_number\n",
    "\n",
    "sciav_overpasses = load_overpass_summary(operator='Scientific Aviation', stage=1, strict_discard=False,time_ave=60, gas_comp_source='km')\n",
    "sciav_max_id = sciav_overpasses.max()['overpass_id']\n",
    "sciav_overpasses_length = len(sciav_overpasses)\n",
    "check_overpass_number(operator='Scientific Aviation', max_overpass_id=sciav_max_id, overpasses_length=sciav_overpasses_length)"
   ],
   "metadata": {
    "collapsed": false
   }
  },
  {
   "cell_type": "code",
   "execution_count": null,
   "outputs": [],
   "source": [
    "# Check Methane Air\n",
    "\n",
    "from methods_source import load_overpass_summary, check_overpass_number\n",
    "\n",
    "mair_overpasses = load_overpass_summary(operator='Methane Air', stage=1, strict_discard=False, time_ave=60, gas_comp_source='km')\n",
    "mair_max_id = mair_overpasses.max()['overpass_id']\n",
    "mair_overpasses_length = len(mair_overpasses)\n",
    "check_overpass_number(operator='Methane Air', max_overpass_id=mair_max_id, overpasses_length=mair_overpasses_length)"
   ],
   "metadata": {
    "collapsed": false
   }
  },
  {
   "cell_type": "markdown",
   "source": [
    "##### Calculate average flight altitude across all reported overpasses\n",
    "\n",
    "Use \"altitude_feet\" column in overpass summary files"
   ],
   "metadata": {
    "collapsed": false
   }
  },
  {
   "cell_type": "code",
   "execution_count": null,
   "outputs": [],
   "source": [
    "from methods_source import load_overpass_summary\n",
    "\n",
    "cm_overpasses = load_overpass_summary(operator='Carbon Mapper', stage=1, strict_discard=False, time_ave=60, gas_comp_source='km')\n",
    "ghg_overpasses = load_overpass_summary(operator='GHGSat', stage=1, strict_discard=False, time_ave=60, gas_comp_source='km')\n",
    "kairos_overpasses = load_overpass_summary(operator='Kairos', stage=1, strict_discard=False, time_ave=60, gas_comp_source='km')\n",
    "mair_overpasses = load_overpass_summary(operator='Methane Air', stage=1, strict_discard=False, time_ave=60, gas_comp_source='km')\n",
    "cm_altitude = cm_overpasses.altitude_feet.mean()\n",
    "ghg_altitude = ghg_overpasses.altitude_feet.mean()\n",
    "kairos_altitude = kairos_overpasses.altitude_feet.mean()\n",
    "mair_altitude = mair_overpasses.altitude_feet.mean()\n",
    "print('Average overpass altitude (feet) across all reported overpasses:\\n')\n",
    "print(f'Carbon Mapper: {cm_altitude:,.1f} ft')\n",
    "print(f'GHGSat: {ghg_altitude:,.1f} ft')\n",
    "print(f'Kairos: {kairos_altitude:,.1f} ft')\n",
    "print(f'Methane Air: {mair_altitude:,.1f} ft')"
   ],
   "metadata": {
    "collapsed": false
   }
  },
  {
   "cell_type": "markdown",
   "source": [
    "##### Calculate average flight for each day of testing\n"
   ],
   "metadata": {
    "collapsed": false
   }
  },
  {
   "cell_type": "code",
   "execution_count": null,
   "outputs": [],
   "source": [
    "from methods_source import calc_daily_altitude\n",
    "operator = 'Carbon Mapper'\n",
    "cm_alt = calc_daily_altitude(operator)\n",
    "print(f'{operator} average daily altitude:\\n')\n",
    "print(cm_alt.to_string(formatters={'altitude_feet':'{:,.1f} feet'.format}))"
   ],
   "metadata": {
    "collapsed": false
   }
  },
  {
   "cell_type": "code",
   "execution_count": null,
   "outputs": [],
   "source": [
    "operator = 'GHGSat'\n",
    "ghg_alt = calc_daily_altitude(operator)\n",
    "print(f'{operator} average daily altitude:\\n')\n",
    "print(ghg_alt.to_string(formatters={'altitude_feet':'{:,.1f} feet'.format}))"
   ],
   "metadata": {
    "collapsed": false
   }
  },
  {
   "cell_type": "code",
   "execution_count": null,
   "outputs": [],
   "source": [
    "operator = 'Kairos'\n",
    "kairos_alt = calc_daily_altitude(operator)\n",
    "print(f'{operator} average daily altitude:\\n')\n",
    "print(kairos_alt.to_string(formatters={'altitude_feet':'{:,.1f} feet'.format}))"
   ],
   "metadata": {
    "collapsed": false
   }
  },
  {
   "cell_type": "code",
   "execution_count": null,
   "outputs": [],
   "source": [
    "operator = 'Methane Air'\n",
    "mair_alt = calc_daily_altitude(operator)\n",
    "print(f'{operator} average daily altitude:\\n')\n",
    "print(mair_alt.to_string(formatters={'altitude_feet':'{:,.1f} feet'.format}))"
   ],
   "metadata": {
    "collapsed": false
   }
  },
  {
   "cell_type": "markdown",
   "source": [
    "##### Summarize distribution of overpasses\n",
    "\n",
    "Total number of overpasses, missing data, max and min given to each team, number that passed Stanford QC\n",
    "\n",
    "Missing overpasses: documented as an overpass by Stanford, but not included in Operator Report file"
   ],
   "metadata": {
    "collapsed": false
   }
  },
  {
   "cell_type": "code",
   "execution_count": 1,
   "outputs": [
    {
     "name": "stdout",
     "output_type": "stream",
     "text": [
      "Carbon Mapper: 121 flightlines reported to SU\n",
      "8 overpasses that fail SU QC\n",
      "113 overpasses that pass SU QC\n",
      "82 overpasses quantified by Carbon Mapper\n",
      "31 overpasses removed by Carbon Mapper\n",
      "\n",
      "3 overpasses documented by Stanford but not reported by Carbon Mapper\n",
      "\n",
      "Total releases conducted by Stanford (including missing overpasses not reported by Carbon Mapper: 124\n",
      "Number of zero releases to Carbon Mapper: 8\n",
      "\n",
      "Largest volume overpass for Carbon Mapper:\n",
      "Release Rate: 1443.09917328525 kg CH4 / hr\n",
      "[1366.7685660986533, 1519.4297804718465, 95% CI]\n",
      "(sigma from gas flow: 40.877526)\n",
      "(sigma from meter: 1.936967)\n",
      "(sigma from gas composition: 0.001362)\n",
      "(combined total sigma: 38.944187)\n",
      "\n",
      "Smallest non-zero volume overpass for Carbon Mapper:\n",
      "Release Rate: 4.4451804176775 kg CH4 / hr\n",
      "[4.301638947741193, 4.588721887613808, 95% CI]\n",
      "(sigma from gas flow: 0.067039)\n",
      "(sigma from meter: 0.039443)\n",
      "(sigma from gas composition: 0.001617)\n",
      "(combined total sigma: 0.073235)\n",
      "\n",
      "No false positives detected, all zero releases were correctly categorized\n",
      "\n",
      "Largest false negative for Carbon Mapper: \n",
      "Release Rate: 6.612948731013749 kg CH4 / hr\n",
      "[6.465319063755733, 6.7605783982717655, 95% CI]\n",
      "(sigma from gas flow: 0.068967)\n",
      "(sigma from meter: 0.039565)\n",
      "(sigma from gas composition: 0.001617)\n",
      "(combined total sigma: 0.075321)\n",
      "\n",
      "Smallest detected plume by Carbon Mapper:\n",
      "Release Rate: 8.638673389503753 kg CH4 / hr\n",
      "[8.477044323822133, 8.800302455185372, 95% CI]\n",
      "(sigma from gas flow: 0.077008)\n",
      "(sigma from meter: 0.039648)\n",
      "(sigma from gas composition: 0.001617)\n",
      "(combined total sigma: 0.082464)\n",
      "\n",
      "Smallest quantified plume by Carbon Mapper:\n",
      "Release Rate: 10.92213624004875 kg CH4 / hr\n",
      "[10.782192540182976, 11.062079939914526, 95% CI]\n",
      "(sigma from gas flow: 0.061894)\n",
      "(sigma from meter: 0.039720)\n",
      "(sigma from gas composition: 0.001617)\n",
      "(combined total sigma: 0.071400)\n",
      "\n"
     ]
    }
   ],
   "source": [
    "from writing_analysis import operator_releases_summary_stats\n",
    "# Carbon Mapper\n",
    "operator = 'Carbon Mapper'\n",
    "operator_releases_summary_stats(operator)"
   ],
   "metadata": {
    "collapsed": false
   }
  },
  {
   "cell_type": "code",
   "execution_count": 1,
   "outputs": [
    {
     "name": "stdout",
     "output_type": "stream",
     "text": [
      "GHGSat: 192 flightlines reported to SU\n",
      "57 overpasses that fail SU QC\n",
      "135 overpasses that pass SU QC\n",
      "134 overpasses quantified by GHGSat\n",
      "1 overpasses removed by GHGSat\n",
      "\n",
      "2 overpasses documented by Stanford but not reported by GHGSat\n",
      "\n",
      "Total releases conducted by Stanford (including missing overpasses not reported by GHGSat: 194\n",
      "\n",
      "Largest volume overpass for GHGSat:\n",
      "Release Rate: 1144.809472515 kg CH4 / hr\n",
      "[1112.419998540914, 1177.1989464890858, 95% CI]\n",
      "(sigma from gas flow: 16.629319)\n",
      "(sigma from meter: 1.530164)\n",
      "(sigma from gas composition: 0.003645)\n",
      "(combined total sigma: 16.525242)\n",
      "\n",
      "Smallest non-zero volume overpass for GHGSat:\n",
      "Release Rate: 1.049607814791 kg CH4 / hr\n",
      "[1.0192273822188926, 1.0799882473631073, 95% CI]\n",
      "(sigma from gas flow: 0.014922)\n",
      "(sigma from meter: 0.005792)\n",
      "(sigma from gas composition: 0.002693)\n",
      "(combined total sigma: 0.015500)\n",
      "\n",
      "Number of zero releases to GHGSat: 4\n",
      "\n",
      "No false positives detected, all zero releases were correctly categorized\n",
      "\n",
      "False positives detected: 9\n",
      "\n",
      "Largest false negative for GHGSat: \n",
      "Release Rate: 29.17336281606 kg CH4 / hr\n",
      "[28.992668141880767, 29.35405749023923, 95% CI]\n",
      "(sigma from gas flow: 0.017611)\n",
      "(sigma from meter: 0.039155)\n",
      "(sigma from gas composition: 0.002693)\n",
      "(combined total sigma: 0.092191)\n",
      "\n",
      "Smallest detected plume by GHGSat:\n",
      "Release Rate: 2.9122165317825 kg CH4 / hr\n",
      "[2.861638197654512, 2.962794865910489, 95% CI]\n",
      "(sigma from gas flow: 0.023696)\n",
      "(sigma from meter: 0.005821)\n",
      "(sigma from gas composition: 0.003645)\n",
      "(combined total sigma: 0.025805)\n",
      "\n",
      "Smallest quantified plume by GHGSat:\n",
      "Release Rate: 2.9122165317825 kg CH4 / hr\n",
      "[2.861638197654512, 2.962794865910489, 95% CI]\n",
      "(sigma from gas flow: 0.023696)\n",
      "(sigma from meter: 0.005821)\n",
      "(sigma from gas composition: 0.003645)\n",
      "(combined total sigma: 0.025805)\n",
      "\n"
     ]
    }
   ],
   "source": [
    "from writing_analysis import operator_releases_summary_stats\n",
    "# GHGSat\n",
    "operator = 'GHGSat'\n",
    "operator_releases_summary_stats(operator)"
   ],
   "metadata": {
    "collapsed": false
   }
  },
  {
   "cell_type": "code",
   "execution_count": 14,
   "outputs": [
    {
     "name": "stdout",
     "output_type": "stream",
     "text": [
      "Number of overpasses that pass SU quality control but are flagged by GHGSat as sub-optimal conditions for quantification: 9\n"
     ]
    }
   ],
   "source": [
    "# Check GHGSat's internal QC for points they quantified but flagged as sub-optimal\n",
    "from methods_source import load_operator_report_dictionary, load_overpass_summary\n",
    "operator = 'GHGSat'\n",
    "ghg_report = load_operator_report_dictionary()['ghg_1']\n",
    "\n",
    "# QC flag of GH-2 means that emissions were quantified despite sub-optimal conditions.\n",
    "# QC flag of GH-4 means diffuse emissions visible over site\n",
    "\n",
    "ghg_report_quantified = ghg_report.loc[ghg_report.QuantifiedPlume == True]\n",
    "qc_mask = (ghg_report_quantified['QCFlag'] == 'GH-2') | (ghg_report_quantified['QCFlag'] == 'GH-4')\n",
    "ghg_report_poor_conditions = ghg_report_quantified.loc[qc_mask]\n",
    "# list of overpass ID's with poor conditions but quantified\n",
    "poor_condition_overpasses = ghg_report_poor_conditions['overpass_id']\n",
    "overpasses = load_overpass_summary(operator, stage=1)\n",
    "\n",
    "# Find the overpasses in the overpass summary, to see which ones of them pass Stanford QC\n",
    "poor_condition_overpass_summary = overpasses[overpasses['overpass_id'].isin(poor_condition_overpasses)]\n",
    "\n",
    "# Select overpasses that pass Stanford QC\n",
    "poor_condition_overpasses_pass_SU = poor_condition_overpass_summary.loc[poor_condition_overpass_summary.stanford_kept == True]\n",
    "\n",
    "print(f'Number of overpasses that pass SU quality control but are flagged by GHGSat as sub-optimal conditions for quantification: {len(poor_condition_overpasses_pass_SU)}')"
   ],
   "metadata": {
    "collapsed": false
   }
  },
  {
   "cell_type": "code",
   "execution_count": 2,
   "outputs": [],
   "source": [
    "# Further investigate GHGSat false negatives, as they detects small releases but also had some higher false negatives\n",
    "from methods_source import load_overpass_summary, classify_confusion_categories\n",
    "operator = 'GHGSat'\n",
    "overpasses = load_overpass_summary(operator, stage=1)\n",
    "pass_su_qc = overpasses.loc[overpasses.stanford_kept == True]\n",
    "true_positives, false_positives, true_negatives, false_negatives = classify_confusion_categories(pass_su_qc)\n",
    "\n",
    "# How many of these releases were less than 5 kgh?\n",
    "#"
   ],
   "metadata": {
    "collapsed": false
   }
  },
  {
   "cell_type": "markdown",
   "source": [
    "### Overpasses that fail operator QC\n",
    "\n",
    "Carbon Mapper and Scientific Aviation both provided quantification estimates in a column in their report. Kairos and GHGSat did not. Because points that were detected but not quantified may be included in the probability of detection assessment, I examine these points individually here. Specifically, I look at points that are lower than 30 kgh and pass Stanford QC but fail operator QC.\n",
    "\n",
    "Operator QC for Carbon Mapper and SciAv referred to quantification, and this is not specified for Kairos or GHGSat. MAIR QC only indicates confidence in detection, but not quantification."
   ],
   "metadata": {
    "collapsed": false
   }
  },
  {
   "cell_type": "code",
   "execution_count": null,
   "outputs": [],
   "source": [
    "# Carbon Mapper points that fail QC - points currently excluded from probability of detection\n",
    "from methods_source import load_overpass_summary\n",
    "operator = 'Carbon Mapper'\n",
    "overpasses = load_overpass_summary(operator, stage=1)\n",
    "# Fail CM QC but pass stanford:\n",
    "# Which overpasses would be included in a probability of detection plot:\n",
    "columns = ['overpass_id','release_rate_kgh', 'operator_detected']\n",
    "detection_prob = (overpasses['qc_summary'] =='fail_operator') & (overpasses['release_rate_kgh'] <= 50)\n",
    "# detection_prob = (overpasses['qc_summary'] =='fail_operator')\n",
    "print(overpasses.loc[detection_prob][columns])\n",
    "\n"
   ],
   "metadata": {
    "collapsed": false
   }
  },
  {
   "cell_type": "markdown",
   "source": [
    "All four overpasses under 30 kgh were marked as detected by Carbon Mapper, but flagged as poor quality for quantification estimates. Exclude from analysis in the main text but include in SI. We were not aiming to flesh out a probability of detection for Carbon Mapper and thus are only including points that. ALl four of these points are also excluded in Stage 2 analysis, but overpasses 3 and 41 are re-added in Stage 3 (see below)."
   ],
   "metadata": {
    "collapsed": false
   }
  },
  {
   "cell_type": "code",
   "execution_count": null,
   "outputs": [],
   "source": [
    "# Compare with Stage 3\n",
    "operator = 'Carbon Mapper'\n",
    "overpasses = load_overpass_summary(operator, stage=3)\n",
    "# Fail CM QC but pass stanford:\n",
    "# Which overpasses would be included in a probability of detection plot:\n",
    "columns = ['overpass_id','release_rate_kgh', 'operator_detected']\n",
    "detection_prob = (overpasses['qc_summary'] =='fail_operator') & (overpasses['release_rate_kgh'] <= 30)\n",
    "# detection_prob = (overpasses['qc_summary'] =='fail_operator')\n",
    "print(overpasses.loc[detection_prob][columns])"
   ],
   "metadata": {
    "collapsed": false
   }
  },
  {
   "cell_type": "code",
   "execution_count": null,
   "outputs": [],
   "source": [
    "# GHGSat points that fail QC - points currently excluded from probability of detection\n",
    "from methods_source import load_overpass_summary\n",
    "operator = 'GHGSat'\n",
    "overpasses = load_overpass_summary(operator, stage=1)\n",
    "# Fail CM QC but pass stanford:\n",
    "# Which overpasses would be included in a probability of detection plot:\n",
    "columns = ['overpass_id','release_rate_kgh', 'operator_detected']\n",
    "detection_prob = (overpasses['qc_summary'] =='fail_operator') & (overpasses['release_rate_kgh'] <= 30)\n",
    "print(overpasses.loc[detection_prob][columns])"
   ],
   "metadata": {
    "collapsed": false
   }
  },
  {
   "cell_type": "markdown",
   "source": [
    "Overpass 83 was discarded by GHGSat due to bad weather. This indicates it should not be included in a probability of detection plot."
   ],
   "metadata": {
    "collapsed": false
   }
  },
  {
   "cell_type": "code",
   "execution_count": null,
   "outputs": [],
   "source": [
    "# Kairos points that fail QC - points currently excluded from probability of detection\n",
    "from methods_source import load_overpass_summary\n",
    "operator = 'Kairos'\n",
    "overpasses = load_overpass_summary(operator, stage=1)\n",
    "# Fail CM QC but pass stanford:\n",
    "# Which overpasses would be included in a probability of detectin plot:\n",
    "detection_prob = (overpasses['qc_summary'] =='fail_operator') & (overpasses['release_rate_kgh'] <= 30)\n",
    "columns = ['overpass_id','release_rate_kgh', 'operator_detected']\n",
    "print(overpasses.loc[detection_prob][columns])"
   ],
   "metadata": {
    "collapsed": false
   }
  },
  {
   "cell_type": "markdown",
   "source": [
    "Overpass ID:\n",
    "15 - flagged by Kairos as Partial Detection (KA-2)\n",
    "61 - flagged by Kairos as 'Excessive Methane Pooling Over Site' (KA-4)\n",
    "62 - flagged by Kairos as 'Excessive Methane Pooling Over Site' (KA-4)\n",
    "312 - flagged by Kairos as 'Excessive Methane Pooling Over Site' (KA-4)\n",
    "\n",
    "Based on this assessment, removing keeping all four overpasses from the probability of detection chart seems consistent with QC flags. Additionally, Kairos will indicate a non-detect by submitting 0 kgh as quantification estimate."
   ],
   "metadata": {
    "collapsed": false
   }
  },
  {
   "cell_type": "code",
   "execution_count": null,
   "outputs": [],
   "source": [
    "from methods_source import load_overpass_summary\n",
    "operator = 'Scientific Aviation'\n",
    "overpasses = load_overpass_summary(operator, stage=1)\n",
    "# detection_prob = (overpasses['qc_summary'] =='fail_operator') & (overpasses['release_rate_kgh'] <= 30)\n",
    "detection_prob = (overpasses['release_rate_kgh'] <= 30)\n",
    "columns = ['overpass_id','release_rate_kgh', 'operator_detected']\n",
    "print(overpasses.loc[detection_prob][columns])"
   ],
   "metadata": {
    "collapsed": false
   }
  },
  {
   "cell_type": "code",
   "execution_count": null,
   "outputs": [],
   "source": [],
   "metadata": {
    "collapsed": false
   }
  },
  {
   "cell_type": "code",
   "execution_count": null,
   "outputs": [],
   "source": [],
   "metadata": {
    "collapsed": false
   }
  }
 ],
 "metadata": {
  "kernelspec": {
   "display_name": "Python 3",
   "language": "python",
   "name": "python3"
  },
  "language_info": {
   "codemirror_mode": {
    "name": "ipython",
    "version": 2
   },
   "file_extension": ".py",
   "mimetype": "text/x-python",
   "name": "python",
   "nbconvert_exporter": "python",
   "pygments_lexer": "ipython2",
   "version": "2.7.6"
  }
 },
 "nbformat": 4,
 "nbformat_minor": 0
}
