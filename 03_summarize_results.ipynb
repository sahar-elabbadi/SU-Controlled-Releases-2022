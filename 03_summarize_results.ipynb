{
 "cells": [
  {
   "cell_type": "markdown",
   "source": [
    "# Summarize datasets for all operator results\n",
    "Code author: Sahar H. El Abbadi\n",
    "Date started: 2023-03-13\n",
    "Date last edited: 2023-03-17"
   ],
   "metadata": {
    "collapsed": false
   }
  },
  {
   "cell_type": "markdown",
   "source": [
    "## Generate summary tables\n",
    "\n",
    "Generate overpass summary tables for each operator. Overpass summary tables extract all relevant information from operator reports and metering data that is needed for downstream analysis. These tables are saved as CSV files in 03_results > overpass_summary, using the format operator_stage_overpasses.csv.\n",
    "\n",
    "Columns in the overpass summary tables are:\n",
    "- overpass_id: this is the ID for the specific aircraft overpass, and matches PerformerExperimentID overpass number in the raw operator data\n",
    "- overpass_datetime: date and time of overpass, in UTC time. This can be generated using the Flightradar GPS timestamp (timekeeper = 'flightradar'), Stanford's on the ground estimate of overhead time (timekeeper = 'stanford'), or using the timestamp according to the operator report (timekeeper = 'team'). Value used for all analysis is in paper is Flightradar\n",
    "- zero_release: True if the release by Stanford is 0 kgh, False if greater than 0 kgh\n",
    "- non_zero_release: True if release by Stanford is greater than 0 kgh, False if equal to 0 kgh\n",
    "- operator_kept: True if this overpass passed the operator QC criteria\n",
    "- stanford_kept: True if this overpass passed Stanford's QC criteria\n",
    "- phase_iii: True if we provided this overpass to the operator during Phase III of unblinding\n",
    "- pass_all_qc: True if passed both operator and Stanford QC\n",
    "- fail_all_qc: True if this overpass failed both operator and Stanford QC\n",
    "- operator_detected: True if operator detected a release. False if they did not\n",
    "- operator_quantification: operator's quantification estimate as reported in operator report\n",
    "- operator_lower: lower bound on operator's lower bound quantification estimate\n",
    "- operator_upper: upper bound on operator's quantification estimate\n",
    "- qc_summary: summarizes results of both operator and Stanford QC. Must be one of the following: 'pass_all', 'fail_stanford', 'fail_operator', 'fail_all'\n",
    "\n",
    "Note: due to the small number of data points for Scientific Aviation and the fact that they did not submit using a template, sciav_1_overpasses.csv was manually constructed by Sahar El Abbadi on 2023-03-16."
   ],
   "metadata": {
    "collapsed": false
   }
  },
  {
   "cell_type": "code",
   "execution_count": 2,
   "outputs": [],
   "source": [
    "# Imports\n",
    "from methods_source import generate_all_overpass_reports"
   ],
   "metadata": {
    "collapsed": false
   }
  },
  {
   "cell_type": "code",
   "execution_count": 3,
   "outputs": [
    {
     "name": "stdout",
     "output_type": "stream",
     "text": [
      "Generating operator summary file for Carbon Mapper Stage 1\n",
      "Generating operator summary file for Carbon Mapper Stage 2\n",
      "Generating operator summary file for Carbon Mapper Stage 3\n",
      "Generating operator summary file for GHGSat Stage 1\n",
      "Generating operator summary file for GHGSat Stage 2\n",
      "Generating operator summary file for GHGSat Stage 3\n",
      "Generating operator summary file for Kairos Stage 1\n",
      "Generating operator summary file for Kairos Stage 2\n",
      "Generating operator summary file for Kairos Stage 3\n",
      "Generating operator summary file for Kairos LS23 Stage 1\n",
      "Generating operator summary file for Kairos LS23 Stage 2\n",
      "Generating operator summary file for Kairos LS23 Stage 3\n",
      "Generating operator summary file for Kairos LS25 Stage 1\n",
      "Generating operator summary file for Kairos LS25 Stage 2\n",
      "Generating operator summary file for Kairos LS25 Stage 3\n",
      "Generating operator summary file for Methane Air Stage 1\n",
      "Generating operator summary file for Scientific Aviation Stage 1\n",
      "Generating operator summary file for Carbon Mapper Stage 1\n",
      "Generating operator summary file for Carbon Mapper Stage 2\n",
      "Generating operator summary file for Carbon Mapper Stage 3\n",
      "Generating operator summary file for GHGSat Stage 1\n",
      "Generating operator summary file for GHGSat Stage 2\n",
      "Generating operator summary file for GHGSat Stage 3\n",
      "Generating operator summary file for Kairos Stage 1\n",
      "Generating operator summary file for Kairos Stage 2\n",
      "Generating operator summary file for Kairos Stage 3\n",
      "Generating operator summary file for Kairos LS23 Stage 1\n",
      "Generating operator summary file for Kairos LS23 Stage 2\n",
      "Generating operator summary file for Kairos LS23 Stage 3\n",
      "Generating operator summary file for Kairos LS25 Stage 1\n",
      "Generating operator summary file for Kairos LS25 Stage 2\n",
      "Generating operator summary file for Kairos LS25 Stage 3\n",
      "Generating operator summary file for Methane Air Stage 1\n",
      "Generating operator summary file for Scientific Aviation Stage 1\n"
     ]
    }
   ],
   "source": [
    "\n",
    "generate_all_overpass_reports(strict_discard=False, timekeeper='flightradar', gas_comp_source='km', time_ave='60')\n",
    "generate_all_overpass_reports(strict_discard=True, timekeeper='flightradar', gas_comp_source='km', time_ave='60')"
   ],
   "metadata": {
    "collapsed": false
   }
  },
  {
   "cell_type": "markdown",
   "source": [
    "## Sanity checks on data\n",
    "\n",
    "Basic double checks on the data to make sure everything looks good"
   ],
   "metadata": {
    "collapsed": false
   }
  },
  {
   "cell_type": "markdown",
   "source": [
    "##### Number of overpasses\n",
    "\n",
    "Check that the length of the dataframe matches the highest overpass ID. This will flag the potential for missing or duplicate data in the summary file. Doing this check as we previously observed duplicate rows in the meter summary file."
   ],
   "metadata": {
    "collapsed": false
   }
  },
  {
   "cell_type": "code",
   "execution_count": 3,
   "outputs": [
    {
     "name": "stdout",
     "output_type": "stream",
     "text": [
      "The length of the Carbon Mapper overpasses dataframe (121) matches the highest value for overpass_id (121).\n"
     ]
    }
   ],
   "source": [
    "# Check Carbon Mapper\n",
    "\n",
    "from methods_source import load_overpass_summary, check_overpass_number\n",
    "\n",
    "cm_overpasses = load_overpass_summary(operator='Carbon Mapper', stage=1, strict_discard=False, time_ave=60, gas_comp_source='km')\n",
    "cm_max_id = cm_overpasses.max()['overpass_id']\n",
    "cm_overpasses_length = len(cm_overpasses)\n",
    "check_overpass_number(operator='Carbon Mapper', max_overpass_id=cm_max_id, overpasses_length=cm_overpasses_length)"
   ],
   "metadata": {
    "collapsed": false
   }
  },
  {
   "cell_type": "code",
   "execution_count": null,
   "outputs": [],
   "source": [
    "# Check GHGSat\n",
    "\n",
    "from methods_source import load_overpass_summary, check_overpass_number\n",
    "\n",
    "ghg_overpasses = load_overpass_summary(operator='GHGSat', stage=1, strict_discard=False, time_ave=60, gas_comp_source='km')\n",
    "ghg_max_id = ghg_overpasses.max()['overpass_id']\n",
    "ghg_overpasses_length = len(ghg_overpasses)\n",
    "check_overpass_number(operator='GHGSat', max_overpass_id=ghg_max_id, overpasses_length=ghg_overpasses_length)"
   ],
   "metadata": {
    "collapsed": false
   }
  },
  {
   "cell_type": "code",
   "execution_count": null,
   "outputs": [],
   "source": [
    "# Check Kairos\n",
    "\n",
    "from methods_source import load_overpass_summary, check_overpass_number\n",
    "\n",
    "kairos_overpasses = load_overpass_summary(operator='Kairos', stage=1, strict_discard=False, time_ave=60, gas_comp_source='km')\n",
    "kairos_max_id = kairos_overpasses.max()['overpass_id']\n",
    "kairos_overpasses_length = len(kairos_overpasses)\n",
    "check_overpass_number(operator='Kairos', max_overpass_id=kairos_max_id, overpasses_length=kairos_overpasses_length)"
   ],
   "metadata": {
    "collapsed": false
   }
  },
  {
   "cell_type": "code",
   "execution_count": null,
   "outputs": [],
   "source": [
    "# Check Scientific Aviation\n",
    "\n",
    "from methods_source import load_overpass_summary, check_overpass_number\n",
    "\n",
    "sciav_overpasses = load_overpass_summary(operator='Scientific Aviation', stage=1, strict_discard=False,time_ave=60, gas_comp_source='km')\n",
    "sciav_max_id = sciav_overpasses.max()['overpass_id']\n",
    "sciav_overpasses_length = len(sciav_overpasses)\n",
    "check_overpass_number(operator='Scientific Aviation', max_overpass_id=sciav_max_id, overpasses_length=sciav_overpasses_length)"
   ],
   "metadata": {
    "collapsed": false
   }
  },
  {
   "cell_type": "code",
   "execution_count": null,
   "outputs": [],
   "source": [
    "# Check Methane Air\n",
    "\n",
    "from methods_source import load_overpass_summary, check_overpass_number\n",
    "\n",
    "mair_overpasses = load_overpass_summary(operator='Methane Air', stage=1, strict_discard=False, time_ave=60, gas_comp_source='km')\n",
    "mair_max_id = mair_overpasses.max()['overpass_id']\n",
    "mair_overpasses_length = len(mair_overpasses)\n",
    "check_overpass_number(operator='Methane Air', max_overpass_id=mair_max_id, overpasses_length=mair_overpasses_length)"
   ],
   "metadata": {
    "collapsed": false
   }
  },
  {
   "cell_type": "markdown",
   "source": [
    "##### Calculate average flight altitude across all reported overpasses\n",
    "\n",
    "Use \"altitude_feet\" column in overpass summary files"
   ],
   "metadata": {
    "collapsed": false
   }
  },
  {
   "cell_type": "code",
   "execution_count": null,
   "outputs": [],
   "source": [
    "from methods_source import load_overpass_summary\n",
    "\n",
    "cm_overpasses = load_overpass_summary(operator='Carbon Mapper', stage=1, strict_discard=False, time_ave=60, gas_comp_source='km')\n",
    "ghg_overpasses = load_overpass_summary(operator='GHGSat', stage=1, strict_discard=False, time_ave=60, gas_comp_source='km')\n",
    "kairos_overpasses = load_overpass_summary(operator='Kairos', stage=1, strict_discard=False, time_ave=60, gas_comp_source='km')\n",
    "cm_altitude = cm_overpasses.altitude_feet.mean()\n",
    "ghg_altitude = ghg_overpasses.altitude_feet.mean()\n",
    "kairos_altitude = kairos_overpasses.altitude_feet.mean()\n",
    "mair_altitude = mair_overpasses.altitude_feet.mean()\n",
    "print('Average overpass altitude (feet) across all reported overpasses:\\n')\n",
    "print(f'Carbon Mapper: {cm_altitude:,.1f} ft')\n",
    "print(f'GHGSat: {ghg_altitude:,.1f} ft')\n",
    "print(f'Kairos: {kairos_altitude:,.1f} ft')\n",
    "print(f'Methane Air: {mair_altitude:,.1f} ft')"
   ],
   "metadata": {
    "collapsed": false
   }
  },
  {
   "cell_type": "markdown",
   "source": [
    "##### Calculate average flight for each day of testing\n"
   ],
   "metadata": {
    "collapsed": false
   }
  },
  {
   "cell_type": "code",
   "execution_count": null,
   "outputs": [],
   "source": [
    "from methods_source import calc_daily_altitude\n",
    "operator = 'Carbon Mapper'\n",
    "cm_alt = calc_daily_altitude(operator)\n",
    "print(f'{operator} average daily altitude:\\n')\n",
    "print(cm_alt.to_string(formatters={'altitude_feet':'{:,.1f} feet'.format}))"
   ],
   "metadata": {
    "collapsed": false
   }
  },
  {
   "cell_type": "code",
   "execution_count": null,
   "outputs": [],
   "source": [
    "operator = 'GHGSat'\n",
    "ghg_alt = calc_daily_altitude(operator)\n",
    "print(f'{operator} average daily altitude:\\n')\n",
    "print(ghg_alt.to_string(formatters={'altitude_feet':'{:,.1f} feet'.format}))"
   ],
   "metadata": {
    "collapsed": false
   }
  },
  {
   "cell_type": "code",
   "execution_count": null,
   "outputs": [],
   "source": [
    "operator = 'Kairos'\n",
    "kairos_alt = calc_daily_altitude(operator)\n",
    "print(f'{operator} average daily altitude:\\n')\n",
    "print(kairos_alt.to_string(formatters={'altitude_feet':'{:,.1f} feet'.format}))"
   ],
   "metadata": {
    "collapsed": false
   }
  },
  {
   "cell_type": "code",
   "execution_count": null,
   "outputs": [],
   "source": [
    "operator = 'Methane Air'\n",
    "mair_alt = calc_daily_altitude(operator)\n",
    "print(f'{operator} average daily altitude:\\n')\n",
    "print(mair_alt.to_string(formatters={'altitude_feet':'{:,.1f} feet'.format}))"
   ],
   "metadata": {
    "collapsed": false
   }
  },
  {
   "cell_type": "markdown",
   "source": [
    "##### Summarize distribution of overpasses\n",
    "\n",
    "Total number of overpasses, missing data, max and min given to each team, number that passed Stanford QC\n",
    "\n",
    "Missing overpasses: documented as an overpass by Stanford, but not included in Operator Report file"
   ],
   "metadata": {
    "collapsed": false
   }
  },
  {
   "cell_type": "code",
   "execution_count": 7,
   "outputs": [
    {
     "name": "stdout",
     "output_type": "stream",
     "text": [
      "Carbon Mapper missing overpasses: 3\n",
      "Largest volume overpass for Carbon Mapper:\n",
      "Release Rate: 1443.09917328525 kg CH4 / hr\n",
      "[1366.7685660986533, 1519.4297804718465, 95% CI]\n",
      "(sigma from gas flow: 40.87752593594759)\n",
      "(sigma from meter: 1.936966836734694)\n",
      "(sigma from gas composition: 0.0013617132208482)\n",
      "(combined total sigma: 38.94418734010025)\n"
     ]
    }
   ],
   "source": [
    "from methods_source import find_missing_data, load_overpass_summary\n",
    "# Carbon Mapper\n",
    "operator = 'Carbon Mapper'\n",
    "missing = find_missing_data(operator)\n",
    "print(f'{operator} missing overpasses: {len(missing)}')\n",
    "\n",
    "overpasses = load_overpass_summary(operator, stage=1)\n",
    "max_release_cols = ['release_rate_kgh', 'lower_95CI', 'upper_95CI', 'ch4_kgh_sigma', 'sigma_flow_variability', 'sigma_meter_reading', 'sigma_gas_composition']\n",
    "max_info = overpasses.loc[overpasses.release_rate_kgh.idxmax()][max_release_cols]\n",
    "print(f'Largest volume overpass for {operator}:')\n",
    "print(f'Release Rate: {max_info.release_rate_kgh} kg CH4 / hr')\n",
    "print(f'[{max_info.lower_95CI}, {max_info.upper_95CI}, 95% CI]')\n",
    "print(f'(sigma from gas flow: {max_info.sigma_flow_variability})')\n",
    "print(f'(sigma from meter: {max_info.sigma_meter_reading})')\n",
    "print(f'(sigma from gas composition: {max_info.sigma_gas_composition})')\n",
    "print(f'(combined total sigma: {max_info.ch4_kgh_sigma})')\n",
    "\n",
    "\n",
    "\n"
   ],
   "metadata": {
    "collapsed": false
   }
  },
  {
   "cell_type": "code",
   "execution_count": 2,
   "outputs": [
    {
     "name": "stdout",
     "output_type": "stream",
     "text": [
      "     overpass_id   overpass_datetime  zero_release  non_zero_release  \\\n",
      "0            1.0 2022-10-10 17:00:39         False              True   \n",
      "1            2.0 2022-10-10 17:14:15         False              True   \n",
      "2            3.0 2022-10-10 17:28:37         False              True   \n",
      "3            4.0 2022-10-10 17:43:05         False              True   \n",
      "4            5.0 2022-10-10 17:55:26          True             False   \n",
      "..           ...                 ...           ...               ...   \n",
      "116        117.0 2022-10-31 20:30:07         False              True   \n",
      "117        118.0 2022-10-31 20:41:33          True             False   \n",
      "118        119.0 2022-10-31 20:52:33         False              True   \n",
      "119        120.0 2022-10-31 21:03:38         False              True   \n",
      "120        121.0 2022-10-31 21:14:24         False              True   \n",
      "\n",
      "     operator_kept  stanford_kept  phase_iii  pass_all_qc  altitude_feet  \\\n",
      "0             True           True          1         True    10351.26648   \n",
      "1             True           True          1         True    10398.14464   \n",
      "2            False           True          1        False    10419.39464   \n",
      "3             True           True          1         True    10416.32015   \n",
      "4             True           True          0         True    10371.44592   \n",
      "..             ...            ...        ...          ...            ...   \n",
      "116           True           True          1         True    10530.22797   \n",
      "117           True           True          0         True    10538.14464   \n",
      "118           True           True          1         True    10505.70874   \n",
      "119           True           True          1         True    10504.81131   \n",
      "120           True           True          0         True    10502.86686   \n",
      "\n",
      "     fail_all_qc  ...  upper_95CI  lower_95CI  sigma_flow_variability  \\\n",
      "0          False  ...   11.062080   10.782193                0.061894   \n",
      "1          False  ...    6.760578    6.465319                0.068967   \n",
      "2          False  ...    8.800302    8.477044                0.077008   \n",
      "3          False  ...    4.588722    4.301639                0.067039   \n",
      "4          False  ...    0.000000    0.000000                0.000000   \n",
      "..           ...  ...         ...         ...                     ...   \n",
      "116        False  ...  323.671627  318.520994                0.244466   \n",
      "117        False  ...    0.000000    0.000000                0.000000   \n",
      "118        False  ...  478.167603  469.461642                1.190991   \n",
      "119        False  ...   43.164899   42.459768                0.053772   \n",
      "120        False  ...  535.366380  523.424954                2.280217   \n",
      "\n",
      "     sigma_meter_reading  sigma_gas_composition  operator_detected  \\\n",
      "0               0.039720               0.001617               True   \n",
      "1               0.039565               0.001617              False   \n",
      "2               0.039648               0.001617               True   \n",
      "3               0.039443               0.001617              False   \n",
      "4               0.000000               0.000000              False   \n",
      "..                   ...                    ...                ...   \n",
      "116             0.429181               0.003645               True   \n",
      "117             0.000000               0.000000              False   \n",
      "118             0.633305               0.003645               True   \n",
      "119             0.057223               0.003645               True   \n",
      "120             0.707596               0.003645               True   \n",
      "\n",
      "     operator_quantification  operator_lower  operator_upper     qc_summary  \n",
      "0                  87.193762       42.486457      131.901066       pass_all  \n",
      "1                        NaN             NaN             NaN       pass_all  \n",
      "2                        NaN             NaN             NaN  fail_operator  \n",
      "3                        NaN             NaN             NaN       pass_all  \n",
      "4                        NaN             NaN             NaN       pass_all  \n",
      "..                       ...             ...             ...            ...  \n",
      "116               443.587403      354.282872      532.891934       pass_all  \n",
      "117                      NaN             NaN             NaN       pass_all  \n",
      "118               573.856701      458.250900      689.462503       pass_all  \n",
      "119                76.023489       48.828854      103.218125       pass_all  \n",
      "120               669.420449      450.520398      888.320499       pass_all  \n",
      "\n",
      "[121 rows x 22 columns]\n"
     ]
    }
   ],
   "source": [
    "print(overpasses)"
   ],
   "metadata": {
    "collapsed": false
   }
  },
  {
   "cell_type": "code",
   "execution_count": null,
   "outputs": [],
   "source": [],
   "metadata": {
    "collapsed": false
   }
  }
 ],
 "metadata": {
  "kernelspec": {
   "display_name": "Python 3",
   "language": "python",
   "name": "python3"
  },
  "language_info": {
   "codemirror_mode": {
    "name": "ipython",
    "version": 2
   },
   "file_extension": ".py",
   "mimetype": "text/x-python",
   "name": "python",
   "nbconvert_exporter": "python",
   "pygments_lexer": "ipython2",
   "version": "2.7.6"
  }
 },
 "nbformat": 4,
 "nbformat_minor": 0
}
