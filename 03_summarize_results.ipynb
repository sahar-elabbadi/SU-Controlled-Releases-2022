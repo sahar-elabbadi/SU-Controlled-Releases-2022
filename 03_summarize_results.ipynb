{
 "cells": [
  {
   "cell_type": "markdown",
   "source": [
    "# Summarize datasets for all operator results\n",
    "Code author: Sahar H. El Abbadi\n",
    "Date started: 2023-03-13\n",
    "Date last edited: 2023-03-13"
   ],
   "metadata": {
    "collapsed": false
   }
  },
  {
   "cell_type": "code",
   "execution_count": 12,
   "outputs": [],
   "source": [
    "# Setup\n",
    "\n",
    "# imports\n",
    "from methods_source import generate_overpass_summary, load_clean_operator_reports, abbreviate_op_name, load_meter_data\n"
   ],
   "metadata": {
    "collapsed": false
   }
  },
  {
   "cell_type": "markdown",
   "source": [
    "## Generate summary tables\n",
    "\n",
    "Generate overpass summary tables for each operator. Overpass summary tables extract all relevant information from operator reports and metering data that is needed for downstream analysis. These tables are saved as CSV files in 03_results > overpass_summary, using the format operator_stage_overpasses.csv.\n",
    "\n",
    "Columns in the overpass summary tables are:\n",
    "- overpass_id: this is the ID for the specific aircraft overpass, and matches PerformerExperimentID overpass number in the raw operator data\n",
    "- overpass_datetime: date and time of overpass, in UTC time. This can be generated using the Flightradar GPS timestamp (timekeeper = 'flightradar'), Stanford's on the ground estimate of overhead time (timekeeper = 'stanford'), or using the timestamp according to the operator report (timekeeper = 'team'). Value used for all analysis is in paper is Flightradar\n",
    "- zero_release: True if the release by Stanford is 0 kgh, False if greater than 0 kgh\n",
    "- non_zero_release: True if release by Stanford is greater than 0 kgh, False if equal to 0 kgh\n",
    "- operator_kept: True if this overpass passed the operator QC criteria\n",
    "- stanford_kept: True if this overpass passed Stanford's QC criteria\n",
    "- phase_iii: True if we provided this overpass to the operator during Phase III of unblinding\n",
    "- pass_all_qc: True if passed both operator and Stanford QC\n",
    "- fail_all_qc: True if this overpass failed both operator and Stanford QC\n",
    "- operator_detected: True if operator detected a release. False if they did not\n",
    "- operator_quantification: operator's quantification estimate as reported in operator report\n",
    "- operator_lower: lower bound on operator's lower bound quantification estimate\n",
    "- operator_upper: upper bound on operator's quantification estimate\n",
    "- qc_summary: summarizes results of both operator and Stanford QC. Must be one of the following: 'pass_all', 'fail_stanford', 'fail_operator', 'fail_all'"
   ],
   "metadata": {
    "collapsed": false
   }
  },
  {
   "cell_type": "code",
   "execution_count": 13,
   "outputs": [],
   "source": [
    "# List all operators\n",
    "operators = ['Carbon Mapper', 'GHGSat', 'Kairos LS23', 'Kairos LS25', 'Methane Air']\n",
    "stages = [1, 2, 3]\n",
    "\n",
    "# Strict discard:\n",
    "strict_discard = False\n",
    "\n",
    "# Load clean operator data\n",
    "# format for naming: [operator]_stage\n",
    "\n",
    "cm_1, cm_2, cm_3, ghg_1, ghg_2, ghg_3, kairos_ls23_1, kairos_ls25_1, kairos_ls23_2, kairos_ls25_2, kairos_ls23_3, kairos_ls25_3 = load_clean_operator_reports()\n",
    "\n",
    "report_dictionary = {\n",
    "    'cm_1': cm_1,\n",
    "    'cm_2': cm_2,\n",
    "    'cm_3': cm_3,\n",
    "    'ghg_1': ghg_1,\n",
    "    'ghg_2': ghg_2,\n",
    "    'ghg_3': ghg_2,\n",
    "    'kairos_ls23_1': kairos_ls23_1,\n",
    "    'kairos_ls25_1': kairos_ls25_1,\n",
    "    'kairos_ls23_2': kairos_ls23_2,\n",
    "    'kairos_ls25_2': kairos_ls25_2,\n",
    "    'kairos_ls23_3': kairos_ls23_3,\n",
    "    'kairos_ls25_3': kairos_ls25_3,\n",
    "}\n",
    "\n",
    "# Load meter data\n",
    "cm_meter, ghg_meter, kairos_meter, mair_meter = load_meter_data('flightradar')\n",
    "meter_dictionary = {\n",
    "    'cm_meter': cm_meter,\n",
    "    'ghg_meter': ghg_meter,\n",
    "    'kairos_meter': kairos_meter,\n",
    "    'mair_meter': mair_meter,\n",
    "}\n",
    "\n",
    "\n",
    "operator_meter = load_meter_data('flightradar')\n",
    "for operator in operators:\n",
    "    for stage in stages:\n",
    "        if operator == 'Methane Air':\n",
    "            pass\n",
    "        else:\n",
    "            op_ab = abbreviate_op_name(operator)\n",
    "            operator_report = report_dictionary[f'{op_ab}_{stage}']\n",
    "\n",
    "            if (operator == 'Kairos LS23') or (operator == 'Kairos LS25'):\n",
    "                operator_meter = meter_dictionary['kairos_meter']\n",
    "            else:\n",
    "                operator_meter = meter_dictionary[f'{op_ab}_meter']\n",
    "\n",
    "            generate_overpass_summary(operator, stage, operator_report, operator_meter, strict_discard)"
   ],
   "metadata": {
    "collapsed": false
   }
  },
  {
   "cell_type": "markdown",
   "source": [
    "## Valid quantification estimates\n",
    "\n",
    "Number of overpasses that pass both QC criteria and are quantified as \"detections\" by the operator."
   ],
   "metadata": {
    "collapsed": false
   }
  },
  {
   "cell_type": "code",
   "execution_count": 14,
   "outputs": [
    {
     "name": "stdout",
     "output_type": "stream",
     "text": [
      "Number of Carbon Mapper detects that pass QC with non-strict Stanford QC: 71\n"
     ]
    }
   ],
   "source": [
    "# Carbon Mapper Stage 1 data\n",
    "operator = 'Carbon Mapper'\n",
    "stage = 1\n",
    "operator_report = report_dictionary['cm_1']\n",
    "operator_meter = meter_dictionary['cm_meter']\n",
    "\n",
    "# Set discard criteria to loose\n",
    "# For this discard criteria, Stanford allows up to 10% of the\n",
    "strict_discard = False\n",
    "operator_summary = generate_overpass_summary(operator, stage, operator_report, operator_meter, strict_discard)\n",
    "\n",
    "valid_overpasses = operator_summary.loc[(operator_summary.qc_summary == 'pass_all') & (operator_summary.operator_detected == True)]\n",
    "length = len(valid_overpasses)\n",
    "print(f'Number of {operator} detects that pass QC with non-strict Stanford QC: {length}')\n"
   ],
   "metadata": {
    "collapsed": false
   }
  },
  {
   "cell_type": "code",
   "execution_count": 15,
   "outputs": [
    {
     "name": "stdout",
     "output_type": "stream",
     "text": [
      "Number of Carbon Mapper detects that pass QC with strict Stanford QC: 67\n"
     ]
    }
   ],
   "source": [
    "# Set discard criteria to strict\n",
    "# For this discard criteria, Stanford allows up to 10% of the\n",
    "strict_discard = True\n",
    "operator_summary = generate_overpass_summary(operator, stage, operator_report, operator_meter, strict_discard)\n",
    "\n",
    "valid_overpasses = operator_summary.loc[(operator_summary.qc_summary == 'pass_all') & (operator_summary.operator_detected == True)]\n",
    "length = len(valid_overpasses)\n",
    "print(f'Number of {operator} detects that pass QC with strict Stanford QC: {length}')"
   ],
   "metadata": {
    "collapsed": false
   }
  },
  {
   "cell_type": "code",
   "execution_count": 16,
   "outputs": [
    {
     "name": "stdout",
     "output_type": "stream",
     "text": [
      "Number of GHGSat detects that pass QC with non-strict Stanford QC: 115\n"
     ]
    }
   ],
   "source": [
    "# GHGSat Stage 1 data\n",
    "operator = 'GHGSat'\n",
    "stage = 1\n",
    "operator_report = report_dictionary['ghg_1']\n",
    "operator_meter = meter_dictionary['ghg_meter']\n",
    "\n",
    "# Set discard criteria to loose\n",
    "# For this discard criteria, Stanford allows up to 10% of the\n",
    "strict_discard = False\n",
    "operator_summary = generate_overpass_summary(operator, stage, operator_report, operator_meter, strict_discard)\n",
    "\n",
    "valid_overpasses = operator_summary.loc[(operator_summary.qc_summary == 'pass_all') & (operator_summary.operator_detected == True)]\n",
    "length = len(valid_overpasses)\n",
    "print(f'Number of {operator} detects that pass QC with non-strict Stanford QC: {length}')"
   ],
   "metadata": {
    "collapsed": false
   }
  },
  {
   "cell_type": "code",
   "execution_count": 17,
   "outputs": [
    {
     "name": "stdout",
     "output_type": "stream",
     "text": [
      "Number of GHGSat detects that pass QC with strict Stanford QC: 99\n"
     ]
    }
   ],
   "source": [
    "# Set discard criteria to strict\n",
    "# For this discard criteria, Stanford allows up to 10% of the\n",
    "strict_discard = True\n",
    "operator_summary = generate_overpass_summary(operator, stage, operator_report, operator_meter, strict_discard)\n",
    "\n",
    "valid_overpasses = operator_summary.loc[(operator_summary.qc_summary == 'pass_all') & (operator_summary.operator_detected == True)]\n",
    "length = len(valid_overpasses)\n",
    "print(f'Number of {operator} detects that pass QC with strict Stanford QC: {length}')"
   ],
   "metadata": {
    "collapsed": false
   }
  },
  {
   "cell_type": "code",
   "execution_count": 18,
   "outputs": [
    {
     "name": "stdout",
     "output_type": "stream",
     "text": [
      "Number of Kairos LS23 detects that pass QC with non-strict Stanford QC: 118\n"
     ]
    }
   ],
   "source": [
    "# Kairos LS 23 Stage 1 data\n",
    "operator = 'Kairos LS23'\n",
    "stage = 1\n",
    "operator_report = report_dictionary['kairos_ls23_1']\n",
    "operator_meter = meter_dictionary['kairos_meter']\n",
    "\n",
    "# Set discard criteria to loose\n",
    "# For this discard criteria, Stanford allows up to 10% of the\n",
    "strict_discard = False\n",
    "operator_summary = generate_overpass_summary(operator, stage, operator_report, operator_meter, strict_discard)\n",
    "\n",
    "valid_overpasses = operator_summary.loc[(operator_summary.qc_summary == 'pass_all') & (operator_summary.operator_detected == True)]\n",
    "length = len(valid_overpasses)\n",
    "print(f'Number of {operator} detects that pass QC with non-strict Stanford QC: {length}')"
   ],
   "metadata": {
    "collapsed": false
   }
  },
  {
   "cell_type": "code",
   "execution_count": 19,
   "outputs": [
    {
     "name": "stdout",
     "output_type": "stream",
     "text": [
      "Number of Kairos LS23 detects that pass QC with strict Stanford QC: 103\n"
     ]
    }
   ],
   "source": [
    "# Set discard criteria to strict\n",
    "# For this discard criteria, Stanford allows up to 10% of the\n",
    "strict_discard = True\n",
    "operator_summary = generate_overpass_summary(operator, stage, operator_report, operator_meter, strict_discard)\n",
    "\n",
    "valid_overpasses = operator_summary.loc[(operator_summary.qc_summary == 'pass_all') & (operator_summary.operator_detected == True)]\n",
    "length = len(valid_overpasses)\n",
    "print(f'Number of {operator} detects that pass QC with strict Stanford QC: {length}')"
   ],
   "metadata": {
    "collapsed": false
   }
  },
  {
   "cell_type": "code",
   "execution_count": 20,
   "outputs": [
    {
     "name": "stdout",
     "output_type": "stream",
     "text": [
      "     overpass_id    overpass_datetime  zero_release  non_zero_release  \\\n",
      "0            1.0  2022-10-24 16:46:15          True             False   \n",
      "1            2.0  2022-10-24 16:49:22          True             False   \n",
      "3            4.0  2022-10-24 16:55:42         False              True   \n",
      "4            5.0  2022-10-24 16:59:01         False              True   \n",
      "5            6.0  2022-10-24 17:02:04         False              True   \n",
      "..           ...                  ...           ...               ...   \n",
      "327        328.0  2022-10-28 19:31:54         False              True   \n",
      "333        334.0  2022-10-28 19:51:37         False              True   \n",
      "336        337.0  2022-10-28 20:01:31         False              True   \n",
      "343        344.0  2022-10-28 20:23:51         False              True   \n",
      "346        347.0  2022-10-28 20:33:34         False              True   \n",
      "\n",
      "     operator_kept  stanford_kept  phase_iii  pass_all_qc  fail_all_qc  \\\n",
      "0             True           True          0         True        False   \n",
      "1             True           True          0         True        False   \n",
      "3             True           True          1         True        False   \n",
      "4             True           True          1         True        False   \n",
      "5             True           True          0         True        False   \n",
      "..             ...            ...        ...          ...          ...   \n",
      "327           True           True          1         True        False   \n",
      "333           True           True          1         True        False   \n",
      "336           True           True          0         True        False   \n",
      "343           True           True          0         True        False   \n",
      "346           True           True          0         True        False   \n",
      "\n",
      "     operator_detected  release_rate_kgh  operator_quantification  \\\n",
      "0                False          0.000000                  0.00000   \n",
      "1                False          0.000000                  0.00000   \n",
      "3                 True         17.812255                 17.57448   \n",
      "4                 True         17.832835                 30.75680   \n",
      "5                 True        107.863153                119.00672   \n",
      "..                 ...               ...                      ...   \n",
      "327               True         57.335358                 83.40800   \n",
      "333               True         50.461866                 65.88672   \n",
      "336               True         48.176426                 70.11072   \n",
      "343               True          9.138694                  7.63560   \n",
      "346               True        373.114331                468.15424   \n",
      "\n",
      "     operator_lower  operator_upper qc_summary  \n",
      "0               NaN             NaN   pass_all  \n",
      "1               NaN             NaN   pass_all  \n",
      "3               NaN             NaN   pass_all  \n",
      "4               NaN             NaN   pass_all  \n",
      "5               NaN             NaN   pass_all  \n",
      "..              ...             ...        ...  \n",
      "327             NaN             NaN   pass_all  \n",
      "333             NaN             NaN   pass_all  \n",
      "336             NaN             NaN   pass_all  \n",
      "343             NaN             NaN   pass_all  \n",
      "346             NaN             NaN   pass_all  \n",
      "\n",
      "[167 rows x 15 columns]\n"
     ]
    }
   ],
   "source": [
    "valid_overpasses = operator_summary.loc[(operator_summary.qc_summary == 'pass_all') & (operator_summary.operator_quantification.notna())]\n",
    "print(valid_overpasses)"
   ],
   "metadata": {
    "collapsed": false
   }
  },
  {
   "cell_type": "code",
   "execution_count": 21,
   "outputs": [
    {
     "name": "stdout",
     "output_type": "stream",
     "text": [
      "     overpass_id    overpass_datetime  zero_release  non_zero_release  \\\n",
      "2            3.0  2022-10-24 16:52:32         False              True   \n",
      "3            4.0  2022-10-24 16:55:42         False              True   \n",
      "4            5.0  2022-10-24 16:59:01         False              True   \n",
      "5            6.0  2022-10-24 17:02:04         False              True   \n",
      "6            7.0  2022-10-24 17:05:20         False              True   \n",
      "..           ...                  ...           ...               ...   \n",
      "344        345.0  2022-10-28 20:27:06         False              True   \n",
      "345        346.0  2022-10-28 20:30:12         False              True   \n",
      "346        347.0  2022-10-28 20:33:34         False              True   \n",
      "347        348.0  2022-10-28 20:36:41         False              True   \n",
      "348        349.0  2022-10-28 20:39:57         False              True   \n",
      "\n",
      "     operator_kept  stanford_kept  phase_iii  pass_all_qc  fail_all_qc  \\\n",
      "2            False          False          1        False         True   \n",
      "3             True           True          1         True        False   \n",
      "4             True           True          1         True        False   \n",
      "5             True           True          0         True        False   \n",
      "6             True           True          0         True        False   \n",
      "..             ...            ...        ...          ...          ...   \n",
      "344           True          False          0        False        False   \n",
      "345           True          False          0        False        False   \n",
      "346           True           True          0         True        False   \n",
      "347           True          False          0        False        False   \n",
      "348           True          False          1        False        False   \n",
      "\n",
      "     operator_detected  release_rate_kgh  operator_quantification  \\\n",
      "2                False         17.846139                      NaN   \n",
      "3                 True         17.812255                 17.57448   \n",
      "4                 True         17.832835                 30.75680   \n",
      "5                 True        107.863153                119.00672   \n",
      "6                 True        107.738361                253.18240   \n",
      "..                 ...               ...                      ...   \n",
      "344               True        372.901587                475.20016   \n",
      "345               True        374.000948                556.92400   \n",
      "346               True        373.114331                468.15424   \n",
      "347               True         25.154313                 19.76352   \n",
      "348               True        111.165611                149.15712   \n",
      "\n",
      "     operator_lower  operator_upper     qc_summary  \n",
      "2               NaN             NaN       fail_all  \n",
      "3               NaN             NaN       pass_all  \n",
      "4               NaN             NaN       pass_all  \n",
      "5               NaN             NaN       pass_all  \n",
      "6               NaN             NaN       pass_all  \n",
      "..              ...             ...            ...  \n",
      "344             NaN             NaN  fail_stanford  \n",
      "345             NaN             NaN  fail_stanford  \n",
      "346             NaN             NaN       pass_all  \n",
      "347             NaN             NaN  fail_stanford  \n",
      "348             NaN             NaN  fail_stanford  \n",
      "\n",
      "[314 rows x 15 columns]\n"
     ]
    }
   ],
   "source": [
    "new_summary = operator_summary.loc[(operator_summary.non_zero_release == True)]\n",
    "print(new_summary)"
   ],
   "metadata": {
    "collapsed": false
   }
  },
  {
   "cell_type": "code",
   "execution_count": 22,
   "outputs": [
    {
     "name": "stdout",
     "output_type": "stream",
     "text": [
      "     overpass_id    overpass_datetime  zero_release  non_zero_release  \\\n",
      "0            1.0  2022-10-24 16:46:15          True             False   \n",
      "1            2.0  2022-10-24 16:49:22          True             False   \n",
      "3            4.0  2022-10-24 16:55:42         False              True   \n",
      "4            5.0  2022-10-24 16:59:01         False              True   \n",
      "5            6.0  2022-10-24 17:02:04         False              True   \n",
      "..           ...                  ...           ...               ...   \n",
      "327        328.0  2022-10-28 19:31:54         False              True   \n",
      "333        334.0  2022-10-28 19:51:37         False              True   \n",
      "336        337.0  2022-10-28 20:01:31         False              True   \n",
      "343        344.0  2022-10-28 20:23:51         False              True   \n",
      "346        347.0  2022-10-28 20:33:34         False              True   \n",
      "\n",
      "     operator_kept  stanford_kept  phase_iii  pass_all_qc  fail_all_qc  \\\n",
      "0             True           True          0         True        False   \n",
      "1             True           True          0         True        False   \n",
      "3             True           True          1         True        False   \n",
      "4             True           True          1         True        False   \n",
      "5             True           True          0         True        False   \n",
      "..             ...            ...        ...          ...          ...   \n",
      "327           True           True          1         True        False   \n",
      "333           True           True          1         True        False   \n",
      "336           True           True          0         True        False   \n",
      "343           True           True          0         True        False   \n",
      "346           True           True          0         True        False   \n",
      "\n",
      "     operator_detected  release_rate_kgh  operator_quantification  \\\n",
      "0                False          0.000000                  0.00000   \n",
      "1                False          0.000000                  0.00000   \n",
      "3                 True         17.812255                 17.57448   \n",
      "4                 True         17.832835                 30.75680   \n",
      "5                 True        107.863153                119.00672   \n",
      "..                 ...               ...                      ...   \n",
      "327               True         57.335358                 83.40800   \n",
      "333               True         50.461866                 65.88672   \n",
      "336               True         48.176426                 70.11072   \n",
      "343               True          9.138694                  7.63560   \n",
      "346               True        373.114331                468.15424   \n",
      "\n",
      "     operator_lower  operator_upper qc_summary  \n",
      "0               NaN             NaN   pass_all  \n",
      "1               NaN             NaN   pass_all  \n",
      "3               NaN             NaN   pass_all  \n",
      "4               NaN             NaN   pass_all  \n",
      "5               NaN             NaN   pass_all  \n",
      "..              ...             ...        ...  \n",
      "327             NaN             NaN   pass_all  \n",
      "333             NaN             NaN   pass_all  \n",
      "336             NaN             NaN   pass_all  \n",
      "343             NaN             NaN   pass_all  \n",
      "346             NaN             NaN   pass_all  \n",
      "\n",
      "[167 rows x 15 columns]\n"
     ]
    }
   ],
   "source": [
    "# test syntax\n",
    "\n",
    "new_summary = operator_summary.query('qc_summary == \"pass_all\"')\n",
    "print(new_summary)"
   ],
   "metadata": {
    "collapsed": false
   }
  },
  {
   "cell_type": "code",
   "execution_count": 22,
   "outputs": [],
   "source": [],
   "metadata": {
    "collapsed": false
   }
  }
 ],
 "metadata": {
  "kernelspec": {
   "display_name": "Python 3",
   "language": "python",
   "name": "python3"
  },
  "language_info": {
   "codemirror_mode": {
    "name": "ipython",
    "version": 2
   },
   "file_extension": ".py",
   "mimetype": "text/x-python",
   "name": "python",
   "nbconvert_exporter": "python",
   "pygments_lexer": "ipython2",
   "version": "2.7.6"
  }
 },
 "nbformat": 4,
 "nbformat_minor": 0
}
