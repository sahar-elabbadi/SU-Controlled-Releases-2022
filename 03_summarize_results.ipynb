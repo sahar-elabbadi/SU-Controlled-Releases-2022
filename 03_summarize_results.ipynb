{
 "cells": [
  {
   "cell_type": "markdown",
   "source": [
    "# Summarize datasets for all operator results\n",
    "Code author: Sahar H. El Abbadi\n",
    "Date started: 2023-03-13\n",
    "Date last edited: 2023-03-17"
   ],
   "metadata": {
    "collapsed": false
   }
  },
  {
   "cell_type": "markdown",
   "source": [
    "## Generate summary tables\n",
    "\n",
    "Generate overpass summary tables for each operator. Overpass summary tables extract all relevant information from operator reports and metering data that is needed for downstream analysis. These tables are saved as CSV files in 03_results > overpass_summary, using the format operator_stage_overpasses.csv.\n",
    "\n",
    "Columns in the overpass summary tables are:\n",
    "- overpass_id: this is the ID for the specific aircraft overpass, and matches PerformerExperimentID overpass number in the raw operator data\n",
    "- overpass_datetime: date and time of overpass, in UTC time. This can be generated using the Flightradar GPS timestamp (timekeeper = 'flightradar'), Stanford's on the ground estimate of overhead time (timekeeper = 'stanford'), or using the timestamp according to the operator report (timekeeper = 'team'). Value used for all analysis is in paper is Flightradar\n",
    "- zero_release: True if the release by Stanford is 0 kgh, False if greater than 0 kgh\n",
    "- non_zero_release: True if release by Stanford is greater than 0 kgh, False if equal to 0 kgh\n",
    "- operator_kept: True if this overpass passed the operator QC criteria\n",
    "- stanford_kept: True if this overpass passed Stanford's QC criteria\n",
    "- phase_iii: True if we provided this overpass to the operator during Phase III of unblinding\n",
    "- pass_all_qc: True if passed both operator and Stanford QC\n",
    "- fail_all_qc: True if this overpass failed both operator and Stanford QC\n",
    "- operator_detected: True if operator detected a release. False if they did not\n",
    "- operator_quantification: operator's quantification estimate as reported in operator report\n",
    "- operator_lower: lower bound on operator's lower bound quantification estimate\n",
    "- operator_upper: upper bound on operator's quantification estimate\n",
    "- qc_summary: summarizes results of both operator and Stanford QC. Must be one of the following: 'pass_all', 'fail_stanford', 'fail_operator', 'fail_all'\n",
    "\n",
    "Note: due to the small number of data points for Scientific Aviation and the fact that they did not submit using a template, sciav_1_overpasses.csv was manually constructed by Sahar El Abbadi on 2023-03-16."
   ],
   "metadata": {
    "collapsed": false
   }
  },
  {
   "cell_type": "code",
   "execution_count": 1,
   "outputs": [],
   "source": [
    "# Imports\n",
    "from methods_source import generate_all_overpass_reports"
   ],
   "metadata": {
    "collapsed": false
   }
  },
  {
   "cell_type": "code",
   "execution_count": 2,
   "outputs": [
    {
     "name": "stdout",
     "output_type": "stream",
     "text": [
      "Generating operator summary file for Carbon Mapper Stage 1\n",
      "Generating operator summary file for Carbon Mapper Stage 2\n",
      "Generating operator summary file for Carbon Mapper Stage 3\n",
      "Generating operator summary file for GHGSat Stage 1\n",
      "Generating operator summary file for GHGSat Stage 2\n",
      "Generating operator summary file for GHGSat Stage 3\n",
      "Generating operator summary file for Kairos Stage 1\n",
      "Generating operator summary file for Kairos Stage 2\n",
      "Generating operator summary file for Kairos Stage 3\n",
      "Generating operator summary file for Kairos LS23 Stage 1\n",
      "Generating operator summary file for Kairos LS23 Stage 2\n",
      "Generating operator summary file for Kairos LS23 Stage 3\n",
      "Generating operator summary file for Kairos LS25 Stage 1\n",
      "Generating operator summary file for Kairos LS25 Stage 2\n",
      "Generating operator summary file for Kairos LS25 Stage 3\n",
      "Generating operator summary file for MethaneAIR Stage 1\n",
      "Generating operator summary file for MethaneAIR mIME Stage 1\n",
      "Generating operator summary file for MethaneAIR DI Stage 1\n",
      "Generating operator summary file for Scientific Aviation Stage 1\n",
      "Generating operator summary file for Carbon Mapper Stage 1\n",
      "Generating operator summary file for Carbon Mapper Stage 2\n",
      "Generating operator summary file for Carbon Mapper Stage 3\n",
      "Generating operator summary file for GHGSat Stage 1\n",
      "Generating operator summary file for GHGSat Stage 2\n",
      "Generating operator summary file for GHGSat Stage 3\n",
      "Generating operator summary file for Kairos Stage 1\n",
      "Generating operator summary file for Kairos Stage 2\n",
      "Generating operator summary file for Kairos Stage 3\n",
      "Generating operator summary file for Kairos LS23 Stage 1\n",
      "Generating operator summary file for Kairos LS23 Stage 2\n",
      "Generating operator summary file for Kairos LS23 Stage 3\n",
      "Generating operator summary file for Kairos LS25 Stage 1\n",
      "Generating operator summary file for Kairos LS25 Stage 2\n",
      "Generating operator summary file for Kairos LS25 Stage 3\n",
      "Generating operator summary file for MethaneAIR Stage 1\n",
      "Generating operator summary file for MethaneAIR mIME Stage 1\n",
      "Generating operator summary file for MethaneAIR DI Stage 1\n",
      "Generating operator summary file for Scientific Aviation Stage 1\n"
     ]
    }
   ],
   "source": [
    "# Generate all overpass reports\n",
    "generate_all_overpass_reports(strict_discard=False, timekeeper='flightradar', gas_comp_source='km', time_ave='60')\n",
    "generate_all_overpass_reports(strict_discard=True, timekeeper='flightradar', gas_comp_source='km', time_ave='60')"
   ],
   "metadata": {
    "collapsed": false
   }
  },
  {
   "cell_type": "code",
   "execution_count": 3,
   "outputs": [
    {
     "data": {
      "text/plain": "    overpass_id   overpass_datetime  zero_release  non_zero_release  \\\n0           1.0 2022-10-25 17:15:08         False              True   \n1           2.0 2022-10-25 17:32:52         False              True   \n2           3.0 2022-10-25 17:50:42         False              True   \n3           4.0 2022-10-25 18:09:11         False              True   \n4           5.0 2022-10-25 18:27:57          True             False   \n5           6.0 2022-10-25 18:47:09         False              True   \n6           7.0 2022-10-25 19:07:10         False              True   \n7           8.0 2022-10-25 19:28:04         False              True   \n8           9.0 2022-10-25 20:10:31         False              True   \n9          10.0 2022-10-25 20:29:58         False              True   \n10         11.0 2022-10-25 20:46:41         False              True   \n11         12.0 2022-10-29 16:25:02          True             False   \n12         13.0 2022-10-29 16:50:52         False              True   \n13         14.0 2022-10-29 17:17:02         False              True   \n14         15.0 2022-10-29 17:42:47         False              True   \n15         16.0 2022-10-29 18:07:14         False              True   \n16         17.0 2022-10-29 18:31:01         False              True   \n17         18.0 2022-10-29 18:54:09         False              True   \n18         19.0 2022-10-29 19:16:43         False              True   \n19         20.0 2022-10-29 19:38:38         False              True   \n20         21.0 2022-10-29 19:59:57         False              True   \n21         22.0 2022-10-29 20:21:33         False              True   \n22         23.0 2022-10-29 20:42:37         False              True   \n23         24.0 2022-10-29 21:02:19         False              True   \n\n    operator_kept  stanford_kept  phase_iii  pass_all_qc  altitude_feet  \\\n0            True           True          0         True    41623.97797   \n1            True           True          0         True    41630.46886   \n2            True          False          0        False    42633.14464   \n3            True           True          0         True    42635.03948   \n4            True          False          0        False    43640.08684   \n5            True           True          0         True    43643.14464   \n6            True           True          0         True    43626.23549   \n7            True           True          0         True    43632.51964   \n8            True           True          0         True    44646.26964   \n9            True           True          0         True    44667.51964   \n10           True           True          0         True    44667.51964   \n11           True           True          0         True    42617.54368   \n12           True           True          0         True    42642.51964   \n13           True           True          0         True    42642.51964   \n14           True           True          0         True    43641.47456   \n15           True           True          0         True    43640.19821   \n16           True           True          0         True    43625.62149   \n17           True           True          0         True    43635.86990   \n18           True           True          0         True    43617.51964   \n19           True           True          0         True    44617.51964   \n20           True           True          0         True    44608.46226   \n21           True          False          0        False    44617.51964   \n22           True          False          0        False    44617.51964   \n23           True           True          0         True    44627.86910   \n\n    fail_all_qc  ...   upper_95CI   lower_95CI  sigma_flow_variability  \\\n0         False  ...   206.548104   203.919646                0.348049   \n1         False  ...    97.662102    96.418108                0.165219   \n2         False  ...  1038.134963   936.133216               27.299022   \n3         False  ...  1036.518753   928.474944               28.925115   \n4         False  ...     0.000000     0.000000                0.000000   \n5         False  ...   472.846408   463.821605                2.229167   \n6         False  ...    24.533066    24.307216                0.035178   \n7         False  ...   643.676728   625.459249                4.717392   \n8         False  ...   142.748400   141.521687                0.160786   \n9         False  ...    74.993598    74.315879                0.101548   \n10        False  ...    63.286212    62.777767                0.048879   \n11        False  ...     0.000000     0.000000                0.000000   \n12        False  ...   343.785454   336.526979                0.766762   \n13        False  ...   683.158942   660.329888                4.989852   \n14        False  ...   410.869554   400.306486                1.860635   \n15        False  ...    33.944965    33.268910                0.040516   \n16        False  ...   341.231215   333.888996                0.850826   \n17        False  ...   842.750009   793.855025               12.359554   \n18        False  ...  1118.907875  1002.635093               30.611946   \n19        False  ...  1357.154665  1221.546759               35.651584   \n20        False  ...   595.108548   575.532749                4.243882   \n21        False  ...   233.469114   165.055234               18.277149   \n22        False  ...   500.022048   487.020512                2.323892   \n23        False  ...   170.531038   167.194546                0.110913   \n\n    sigma_meter_reading  sigma_gas_composition  operator_detected  \\\n0              0.276716               0.002407               True   \n1              0.130839               0.002407               True   \n2              1.324470               0.001366               True   \n3              1.318248               0.001366               True   \n4              0.000000               0.000000              False   \n5              0.628379               0.001366               True   \n6              0.032765               0.001366              False   \n7              0.851421               0.001366               True   \n8              0.190707               0.001366               True   \n9              0.100167               0.001366              False   \n10             0.084572               0.001366               True   \n11             0.000000               0.000000               True   \n12             0.455116               0.004610               True   \n13             0.898768               0.004610               True   \n14             0.542661               0.004610               True   \n15             0.044965               0.004610              False   \n16             0.451642               0.004610               True   \n17             1.094857               0.004610               True   \n18             1.419271               0.004610               True   \n19             1.725101               0.004610               True   \n20             0.783136               0.004610               True   \n21             0.266605               0.004610               True   \n22             0.660312               0.004610               True   \n23             0.225932               0.004610               True   \n\n    operator_quantification  operator_lower  operator_upper     qc_summary  \n0                     196.1           141.2           251.0       pass_all  \n1                      56.6            13.4            99.8       pass_all  \n2                     957.4           681.8          1233.0  fail_stanford  \n3                     889.9           648.3          1131.5       pass_all  \n4                     -13.4           -34.8            40.0  fail_stanford  \n5                     769.4           510.9          1027.8       pass_all  \n6                     -74.0          -123.2           -24.8       pass_all  \n7                     530.7           364.1           697.3       pass_all  \n8                     350.3           231.0           469.7       pass_all  \n9                    -133.2          -183.1           -83.4       pass_all  \n10                    147.5            97.4           197.5       pass_all  \n11                     58.2           -24.0           113.1       pass_all  \n12                    308.5           210.1           406.9       pass_all  \n13                    946.7           450.5          1442.8       pass_all  \n14                    485.9           114.8           857.1       pass_all  \n15                     -2.2           -83.2            78.7       pass_all  \n16                    283.2           193.7           372.8       pass_all  \n17                    709.3           303.2          1115.4       pass_all  \n18                    888.3           579.1          1197.5       pass_all  \n19                   1308.5           829.1          1787.8       pass_all  \n20                    438.3           258.5           618.2       pass_all  \n21                    259.9           155.0           364.8  fail_stanford  \n22                    531.6           277.7           785.5  fail_stanford  \n23                     30.8          -100.9           162.4       pass_all  \n\n[24 rows x 22 columns]",
      "text/html": "<div>\n<style scoped>\n    .dataframe tbody tr th:only-of-type {\n        vertical-align: middle;\n    }\n\n    .dataframe tbody tr th {\n        vertical-align: top;\n    }\n\n    .dataframe thead th {\n        text-align: right;\n    }\n</style>\n<table border=\"1\" class=\"dataframe\">\n  <thead>\n    <tr style=\"text-align: right;\">\n      <th></th>\n      <th>overpass_id</th>\n      <th>overpass_datetime</th>\n      <th>zero_release</th>\n      <th>non_zero_release</th>\n      <th>operator_kept</th>\n      <th>stanford_kept</th>\n      <th>phase_iii</th>\n      <th>pass_all_qc</th>\n      <th>altitude_feet</th>\n      <th>fail_all_qc</th>\n      <th>...</th>\n      <th>upper_95CI</th>\n      <th>lower_95CI</th>\n      <th>sigma_flow_variability</th>\n      <th>sigma_meter_reading</th>\n      <th>sigma_gas_composition</th>\n      <th>operator_detected</th>\n      <th>operator_quantification</th>\n      <th>operator_lower</th>\n      <th>operator_upper</th>\n      <th>qc_summary</th>\n    </tr>\n  </thead>\n  <tbody>\n    <tr>\n      <th>0</th>\n      <td>1.0</td>\n      <td>2022-10-25 17:15:08</td>\n      <td>False</td>\n      <td>True</td>\n      <td>True</td>\n      <td>True</td>\n      <td>0</td>\n      <td>True</td>\n      <td>41623.97797</td>\n      <td>False</td>\n      <td>...</td>\n      <td>206.548104</td>\n      <td>203.919646</td>\n      <td>0.348049</td>\n      <td>0.276716</td>\n      <td>0.002407</td>\n      <td>True</td>\n      <td>196.1</td>\n      <td>141.2</td>\n      <td>251.0</td>\n      <td>pass_all</td>\n    </tr>\n    <tr>\n      <th>1</th>\n      <td>2.0</td>\n      <td>2022-10-25 17:32:52</td>\n      <td>False</td>\n      <td>True</td>\n      <td>True</td>\n      <td>True</td>\n      <td>0</td>\n      <td>True</td>\n      <td>41630.46886</td>\n      <td>False</td>\n      <td>...</td>\n      <td>97.662102</td>\n      <td>96.418108</td>\n      <td>0.165219</td>\n      <td>0.130839</td>\n      <td>0.002407</td>\n      <td>True</td>\n      <td>56.6</td>\n      <td>13.4</td>\n      <td>99.8</td>\n      <td>pass_all</td>\n    </tr>\n    <tr>\n      <th>2</th>\n      <td>3.0</td>\n      <td>2022-10-25 17:50:42</td>\n      <td>False</td>\n      <td>True</td>\n      <td>True</td>\n      <td>False</td>\n      <td>0</td>\n      <td>False</td>\n      <td>42633.14464</td>\n      <td>False</td>\n      <td>...</td>\n      <td>1038.134963</td>\n      <td>936.133216</td>\n      <td>27.299022</td>\n      <td>1.324470</td>\n      <td>0.001366</td>\n      <td>True</td>\n      <td>957.4</td>\n      <td>681.8</td>\n      <td>1233.0</td>\n      <td>fail_stanford</td>\n    </tr>\n    <tr>\n      <th>3</th>\n      <td>4.0</td>\n      <td>2022-10-25 18:09:11</td>\n      <td>False</td>\n      <td>True</td>\n      <td>True</td>\n      <td>True</td>\n      <td>0</td>\n      <td>True</td>\n      <td>42635.03948</td>\n      <td>False</td>\n      <td>...</td>\n      <td>1036.518753</td>\n      <td>928.474944</td>\n      <td>28.925115</td>\n      <td>1.318248</td>\n      <td>0.001366</td>\n      <td>True</td>\n      <td>889.9</td>\n      <td>648.3</td>\n      <td>1131.5</td>\n      <td>pass_all</td>\n    </tr>\n    <tr>\n      <th>4</th>\n      <td>5.0</td>\n      <td>2022-10-25 18:27:57</td>\n      <td>True</td>\n      <td>False</td>\n      <td>True</td>\n      <td>False</td>\n      <td>0</td>\n      <td>False</td>\n      <td>43640.08684</td>\n      <td>False</td>\n      <td>...</td>\n      <td>0.000000</td>\n      <td>0.000000</td>\n      <td>0.000000</td>\n      <td>0.000000</td>\n      <td>0.000000</td>\n      <td>False</td>\n      <td>-13.4</td>\n      <td>-34.8</td>\n      <td>40.0</td>\n      <td>fail_stanford</td>\n    </tr>\n    <tr>\n      <th>5</th>\n      <td>6.0</td>\n      <td>2022-10-25 18:47:09</td>\n      <td>False</td>\n      <td>True</td>\n      <td>True</td>\n      <td>True</td>\n      <td>0</td>\n      <td>True</td>\n      <td>43643.14464</td>\n      <td>False</td>\n      <td>...</td>\n      <td>472.846408</td>\n      <td>463.821605</td>\n      <td>2.229167</td>\n      <td>0.628379</td>\n      <td>0.001366</td>\n      <td>True</td>\n      <td>769.4</td>\n      <td>510.9</td>\n      <td>1027.8</td>\n      <td>pass_all</td>\n    </tr>\n    <tr>\n      <th>6</th>\n      <td>7.0</td>\n      <td>2022-10-25 19:07:10</td>\n      <td>False</td>\n      <td>True</td>\n      <td>True</td>\n      <td>True</td>\n      <td>0</td>\n      <td>True</td>\n      <td>43626.23549</td>\n      <td>False</td>\n      <td>...</td>\n      <td>24.533066</td>\n      <td>24.307216</td>\n      <td>0.035178</td>\n      <td>0.032765</td>\n      <td>0.001366</td>\n      <td>False</td>\n      <td>-74.0</td>\n      <td>-123.2</td>\n      <td>-24.8</td>\n      <td>pass_all</td>\n    </tr>\n    <tr>\n      <th>7</th>\n      <td>8.0</td>\n      <td>2022-10-25 19:28:04</td>\n      <td>False</td>\n      <td>True</td>\n      <td>True</td>\n      <td>True</td>\n      <td>0</td>\n      <td>True</td>\n      <td>43632.51964</td>\n      <td>False</td>\n      <td>...</td>\n      <td>643.676728</td>\n      <td>625.459249</td>\n      <td>4.717392</td>\n      <td>0.851421</td>\n      <td>0.001366</td>\n      <td>True</td>\n      <td>530.7</td>\n      <td>364.1</td>\n      <td>697.3</td>\n      <td>pass_all</td>\n    </tr>\n    <tr>\n      <th>8</th>\n      <td>9.0</td>\n      <td>2022-10-25 20:10:31</td>\n      <td>False</td>\n      <td>True</td>\n      <td>True</td>\n      <td>True</td>\n      <td>0</td>\n      <td>True</td>\n      <td>44646.26964</td>\n      <td>False</td>\n      <td>...</td>\n      <td>142.748400</td>\n      <td>141.521687</td>\n      <td>0.160786</td>\n      <td>0.190707</td>\n      <td>0.001366</td>\n      <td>True</td>\n      <td>350.3</td>\n      <td>231.0</td>\n      <td>469.7</td>\n      <td>pass_all</td>\n    </tr>\n    <tr>\n      <th>9</th>\n      <td>10.0</td>\n      <td>2022-10-25 20:29:58</td>\n      <td>False</td>\n      <td>True</td>\n      <td>True</td>\n      <td>True</td>\n      <td>0</td>\n      <td>True</td>\n      <td>44667.51964</td>\n      <td>False</td>\n      <td>...</td>\n      <td>74.993598</td>\n      <td>74.315879</td>\n      <td>0.101548</td>\n      <td>0.100167</td>\n      <td>0.001366</td>\n      <td>False</td>\n      <td>-133.2</td>\n      <td>-183.1</td>\n      <td>-83.4</td>\n      <td>pass_all</td>\n    </tr>\n    <tr>\n      <th>10</th>\n      <td>11.0</td>\n      <td>2022-10-25 20:46:41</td>\n      <td>False</td>\n      <td>True</td>\n      <td>True</td>\n      <td>True</td>\n      <td>0</td>\n      <td>True</td>\n      <td>44667.51964</td>\n      <td>False</td>\n      <td>...</td>\n      <td>63.286212</td>\n      <td>62.777767</td>\n      <td>0.048879</td>\n      <td>0.084572</td>\n      <td>0.001366</td>\n      <td>True</td>\n      <td>147.5</td>\n      <td>97.4</td>\n      <td>197.5</td>\n      <td>pass_all</td>\n    </tr>\n    <tr>\n      <th>11</th>\n      <td>12.0</td>\n      <td>2022-10-29 16:25:02</td>\n      <td>True</td>\n      <td>False</td>\n      <td>True</td>\n      <td>True</td>\n      <td>0</td>\n      <td>True</td>\n      <td>42617.54368</td>\n      <td>False</td>\n      <td>...</td>\n      <td>0.000000</td>\n      <td>0.000000</td>\n      <td>0.000000</td>\n      <td>0.000000</td>\n      <td>0.000000</td>\n      <td>True</td>\n      <td>58.2</td>\n      <td>-24.0</td>\n      <td>113.1</td>\n      <td>pass_all</td>\n    </tr>\n    <tr>\n      <th>12</th>\n      <td>13.0</td>\n      <td>2022-10-29 16:50:52</td>\n      <td>False</td>\n      <td>True</td>\n      <td>True</td>\n      <td>True</td>\n      <td>0</td>\n      <td>True</td>\n      <td>42642.51964</td>\n      <td>False</td>\n      <td>...</td>\n      <td>343.785454</td>\n      <td>336.526979</td>\n      <td>0.766762</td>\n      <td>0.455116</td>\n      <td>0.004610</td>\n      <td>True</td>\n      <td>308.5</td>\n      <td>210.1</td>\n      <td>406.9</td>\n      <td>pass_all</td>\n    </tr>\n    <tr>\n      <th>13</th>\n      <td>14.0</td>\n      <td>2022-10-29 17:17:02</td>\n      <td>False</td>\n      <td>True</td>\n      <td>True</td>\n      <td>True</td>\n      <td>0</td>\n      <td>True</td>\n      <td>42642.51964</td>\n      <td>False</td>\n      <td>...</td>\n      <td>683.158942</td>\n      <td>660.329888</td>\n      <td>4.989852</td>\n      <td>0.898768</td>\n      <td>0.004610</td>\n      <td>True</td>\n      <td>946.7</td>\n      <td>450.5</td>\n      <td>1442.8</td>\n      <td>pass_all</td>\n    </tr>\n    <tr>\n      <th>14</th>\n      <td>15.0</td>\n      <td>2022-10-29 17:42:47</td>\n      <td>False</td>\n      <td>True</td>\n      <td>True</td>\n      <td>True</td>\n      <td>0</td>\n      <td>True</td>\n      <td>43641.47456</td>\n      <td>False</td>\n      <td>...</td>\n      <td>410.869554</td>\n      <td>400.306486</td>\n      <td>1.860635</td>\n      <td>0.542661</td>\n      <td>0.004610</td>\n      <td>True</td>\n      <td>485.9</td>\n      <td>114.8</td>\n      <td>857.1</td>\n      <td>pass_all</td>\n    </tr>\n    <tr>\n      <th>15</th>\n      <td>16.0</td>\n      <td>2022-10-29 18:07:14</td>\n      <td>False</td>\n      <td>True</td>\n      <td>True</td>\n      <td>True</td>\n      <td>0</td>\n      <td>True</td>\n      <td>43640.19821</td>\n      <td>False</td>\n      <td>...</td>\n      <td>33.944965</td>\n      <td>33.268910</td>\n      <td>0.040516</td>\n      <td>0.044965</td>\n      <td>0.004610</td>\n      <td>False</td>\n      <td>-2.2</td>\n      <td>-83.2</td>\n      <td>78.7</td>\n      <td>pass_all</td>\n    </tr>\n    <tr>\n      <th>16</th>\n      <td>17.0</td>\n      <td>2022-10-29 18:31:01</td>\n      <td>False</td>\n      <td>True</td>\n      <td>True</td>\n      <td>True</td>\n      <td>0</td>\n      <td>True</td>\n      <td>43625.62149</td>\n      <td>False</td>\n      <td>...</td>\n      <td>341.231215</td>\n      <td>333.888996</td>\n      <td>0.850826</td>\n      <td>0.451642</td>\n      <td>0.004610</td>\n      <td>True</td>\n      <td>283.2</td>\n      <td>193.7</td>\n      <td>372.8</td>\n      <td>pass_all</td>\n    </tr>\n    <tr>\n      <th>17</th>\n      <td>18.0</td>\n      <td>2022-10-29 18:54:09</td>\n      <td>False</td>\n      <td>True</td>\n      <td>True</td>\n      <td>True</td>\n      <td>0</td>\n      <td>True</td>\n      <td>43635.86990</td>\n      <td>False</td>\n      <td>...</td>\n      <td>842.750009</td>\n      <td>793.855025</td>\n      <td>12.359554</td>\n      <td>1.094857</td>\n      <td>0.004610</td>\n      <td>True</td>\n      <td>709.3</td>\n      <td>303.2</td>\n      <td>1115.4</td>\n      <td>pass_all</td>\n    </tr>\n    <tr>\n      <th>18</th>\n      <td>19.0</td>\n      <td>2022-10-29 19:16:43</td>\n      <td>False</td>\n      <td>True</td>\n      <td>True</td>\n      <td>True</td>\n      <td>0</td>\n      <td>True</td>\n      <td>43617.51964</td>\n      <td>False</td>\n      <td>...</td>\n      <td>1118.907875</td>\n      <td>1002.635093</td>\n      <td>30.611946</td>\n      <td>1.419271</td>\n      <td>0.004610</td>\n      <td>True</td>\n      <td>888.3</td>\n      <td>579.1</td>\n      <td>1197.5</td>\n      <td>pass_all</td>\n    </tr>\n    <tr>\n      <th>19</th>\n      <td>20.0</td>\n      <td>2022-10-29 19:38:38</td>\n      <td>False</td>\n      <td>True</td>\n      <td>True</td>\n      <td>True</td>\n      <td>0</td>\n      <td>True</td>\n      <td>44617.51964</td>\n      <td>False</td>\n      <td>...</td>\n      <td>1357.154665</td>\n      <td>1221.546759</td>\n      <td>35.651584</td>\n      <td>1.725101</td>\n      <td>0.004610</td>\n      <td>True</td>\n      <td>1308.5</td>\n      <td>829.1</td>\n      <td>1787.8</td>\n      <td>pass_all</td>\n    </tr>\n    <tr>\n      <th>20</th>\n      <td>21.0</td>\n      <td>2022-10-29 19:59:57</td>\n      <td>False</td>\n      <td>True</td>\n      <td>True</td>\n      <td>True</td>\n      <td>0</td>\n      <td>True</td>\n      <td>44608.46226</td>\n      <td>False</td>\n      <td>...</td>\n      <td>595.108548</td>\n      <td>575.532749</td>\n      <td>4.243882</td>\n      <td>0.783136</td>\n      <td>0.004610</td>\n      <td>True</td>\n      <td>438.3</td>\n      <td>258.5</td>\n      <td>618.2</td>\n      <td>pass_all</td>\n    </tr>\n    <tr>\n      <th>21</th>\n      <td>22.0</td>\n      <td>2022-10-29 20:21:33</td>\n      <td>False</td>\n      <td>True</td>\n      <td>True</td>\n      <td>False</td>\n      <td>0</td>\n      <td>False</td>\n      <td>44617.51964</td>\n      <td>False</td>\n      <td>...</td>\n      <td>233.469114</td>\n      <td>165.055234</td>\n      <td>18.277149</td>\n      <td>0.266605</td>\n      <td>0.004610</td>\n      <td>True</td>\n      <td>259.9</td>\n      <td>155.0</td>\n      <td>364.8</td>\n      <td>fail_stanford</td>\n    </tr>\n    <tr>\n      <th>22</th>\n      <td>23.0</td>\n      <td>2022-10-29 20:42:37</td>\n      <td>False</td>\n      <td>True</td>\n      <td>True</td>\n      <td>False</td>\n      <td>0</td>\n      <td>False</td>\n      <td>44617.51964</td>\n      <td>False</td>\n      <td>...</td>\n      <td>500.022048</td>\n      <td>487.020512</td>\n      <td>2.323892</td>\n      <td>0.660312</td>\n      <td>0.004610</td>\n      <td>True</td>\n      <td>531.6</td>\n      <td>277.7</td>\n      <td>785.5</td>\n      <td>fail_stanford</td>\n    </tr>\n    <tr>\n      <th>23</th>\n      <td>24.0</td>\n      <td>2022-10-29 21:02:19</td>\n      <td>False</td>\n      <td>True</td>\n      <td>True</td>\n      <td>True</td>\n      <td>0</td>\n      <td>True</td>\n      <td>44627.86910</td>\n      <td>False</td>\n      <td>...</td>\n      <td>170.531038</td>\n      <td>167.194546</td>\n      <td>0.110913</td>\n      <td>0.225932</td>\n      <td>0.004610</td>\n      <td>True</td>\n      <td>30.8</td>\n      <td>-100.9</td>\n      <td>162.4</td>\n      <td>pass_all</td>\n    </tr>\n  </tbody>\n</table>\n<p>24 rows × 22 columns</p>\n</div>"
     },
     "execution_count": 3,
     "metadata": {},
     "output_type": "execute_result"
    }
   ],
   "source": [
    "# Generate MAIR mIME and DI reports\n",
    "from methods_source import generate_overpass_summary\n",
    "\n",
    "generate_overpass_summary(operator='MethaneAIR mIME', stage=1, timekeeper='flightradar', strict_discard=False, gas_comp_source='km', time_ave=60)\n",
    "generate_overpass_summary(operator='MethaneAIR DI', stage=1, timekeeper='flightradar', strict_discard=False, gas_comp_source='km', time_ave=60)"
   ],
   "metadata": {
    "collapsed": false
   }
  },
  {
   "cell_type": "markdown",
   "source": [
    "## Sanity checks on data\n",
    "\n",
    "Basic double checks on the data to make sure everything looks good"
   ],
   "metadata": {
    "collapsed": false
   }
  },
  {
   "cell_type": "markdown",
   "source": [
    "##### Number of overpasses\n",
    "\n",
    "Check that the length of the dataframe matches the highest overpass ID. This will flag the potential for missing or duplicate data in the summary file. Doing this check as we previously observed duplicate rows in the meter summary file."
   ],
   "metadata": {
    "collapsed": false
   }
  },
  {
   "cell_type": "code",
   "execution_count": 4,
   "outputs": [
    {
     "name": "stdout",
     "output_type": "stream",
     "text": [
      "The length of the Carbon Mapper overpasses dataframe (121) matches the highest value for overpass_id (121).\n"
     ]
    }
   ],
   "source": [
    "# Check Carbon Mapper\n",
    "\n",
    "from methods_source import load_overpass_summary, check_overpass_number\n",
    "\n",
    "cm_overpasses = load_overpass_summary(operator='Carbon Mapper', stage=1, strict_discard=False, time_ave=60, gas_comp_source='km')\n",
    "cm_max_id = cm_overpasses.max()['overpass_id']\n",
    "cm_overpasses_length = len(cm_overpasses)\n",
    "check_overpass_number(operator='Carbon Mapper', max_overpass_id=cm_max_id, overpasses_length=cm_overpasses_length)"
   ],
   "metadata": {
    "collapsed": false
   }
  },
  {
   "cell_type": "code",
   "execution_count": 5,
   "outputs": [
    {
     "name": "stdout",
     "output_type": "stream",
     "text": [
      "The length of the GHGSat overpasses dataframe (192) matches the highest value for overpass_id (192).\n"
     ]
    }
   ],
   "source": [
    "# Check GHGSat data length\n",
    "\n",
    "from methods_source import load_overpass_summary, check_overpass_number\n",
    "\n",
    "ghg_overpasses = load_overpass_summary(operator='GHGSat', stage=1, strict_discard=False, time_ave=60, gas_comp_source='km')\n",
    "ghg_max_id = ghg_overpasses.max()['overpass_id']\n",
    "ghg_overpasses_length = len(ghg_overpasses)\n",
    "check_overpass_number(operator='GHGSat', max_overpass_id=ghg_max_id, overpasses_length=ghg_overpasses_length)"
   ],
   "metadata": {
    "collapsed": false
   }
  },
  {
   "cell_type": "code",
   "execution_count": 6,
   "outputs": [
    {
     "name": "stdout",
     "output_type": "stream",
     "text": [
      "The length of the Kairos overpasses dataframe (349) matches the highest value for overpass_id (349).\n"
     ]
    }
   ],
   "source": [
    "# Check Kairos data length\n",
    "\n",
    "from methods_source import load_overpass_summary, check_overpass_number\n",
    "\n",
    "kairos_overpasses = load_overpass_summary(operator='Kairos', stage=1, strict_discard=False, time_ave=60, gas_comp_source='km')\n",
    "kairos_max_id = kairos_overpasses.max()['overpass_id']\n",
    "kairos_overpasses_length = len(kairos_overpasses)\n",
    "check_overpass_number(operator='Kairos', max_overpass_id=kairos_max_id, overpasses_length=kairos_overpasses_length)"
   ],
   "metadata": {
    "collapsed": false
   }
  },
  {
   "cell_type": "code",
   "execution_count": 7,
   "outputs": [
    {
     "name": "stdout",
     "output_type": "stream",
     "text": [
      "The length of the Scientific Aviation overpasses dataframe (18) matches the highest value for overpass_id (18).\n"
     ]
    }
   ],
   "source": [
    "# Check Scientific Aviation data length\n",
    "\n",
    "from methods_source import load_overpass_summary, check_overpass_number\n",
    "\n",
    "sciav_overpasses = load_overpass_summary(operator='Scientific Aviation', stage=1, strict_discard=False,time_ave=60, gas_comp_source='km')\n",
    "sciav_max_id = sciav_overpasses.max()['overpass_id']\n",
    "sciav_overpasses_length = len(sciav_overpasses)\n",
    "check_overpass_number(operator='Scientific Aviation', max_overpass_id=sciav_max_id, overpasses_length=sciav_overpasses_length)"
   ],
   "metadata": {
    "collapsed": false
   }
  },
  {
   "cell_type": "code",
   "execution_count": 8,
   "outputs": [
    {
     "name": "stdout",
     "output_type": "stream",
     "text": [
      "The length of the Methane Air overpasses dataframe (24) matches the highest value for overpass_id (24).\n"
     ]
    }
   ],
   "source": [
    "# Check Methane Air\n",
    "\n",
    "from methods_source import load_overpass_summary, check_overpass_number\n",
    "\n",
    "mair_overpasses = load_overpass_summary(operator='Methane Air', stage=1, strict_discard=False, time_ave=60, gas_comp_source='km')\n",
    "mair_max_id = mair_overpasses.max()['overpass_id']\n",
    "mair_overpasses_length = len(mair_overpasses)\n",
    "check_overpass_number(operator='Methane Air', max_overpass_id=mair_max_id, overpasses_length=mair_overpasses_length)"
   ],
   "metadata": {
    "collapsed": false
   }
  },
  {
   "cell_type": "markdown",
   "source": [
    "##### Calculate average flight altitude across all reported overpasses\n",
    "\n",
    "Use \"altitude_feet\" column in overpass summary files"
   ],
   "metadata": {
    "collapsed": false
   }
  },
  {
   "cell_type": "code",
   "execution_count": 1,
   "outputs": [
    {
     "name": "stdout",
     "output_type": "stream",
     "text": [
      "Average overpass altitude (feet) across all reported overpasses:\n",
      "\n",
      "Carbon Mapper: 10,341.6 ft\n",
      "GHGSat: 6,594.9 ft\n",
      "Kairos: 1,351.4 ft\n",
      "Methane Air: 43,591.6 ft\n",
      "\n",
      "Average overpass altitude (meters) across all reported overpasses:\n",
      "\n",
      "Carbon Mapper: 3,152.1 meters\n",
      "GHGSat: 2,010.1 meters\n",
      "Kairos: 411.9 meters\n",
      "MethaneAIR: 13,286.7 meters\n"
     ]
    }
   ],
   "source": [
    "from methods_source import load_overpass_summary, feet_per_meter\n",
    "\n",
    "cm_overpasses = load_overpass_summary(operator='Carbon Mapper', stage=1, strict_discard=False, time_ave=60, gas_comp_source='km')\n",
    "ghg_overpasses = load_overpass_summary(operator='GHGSat', stage=1, strict_discard=False, time_ave=60, gas_comp_source='km')\n",
    "kairos_overpasses = load_overpass_summary(operator='Kairos', stage=1, strict_discard=False, time_ave=60, gas_comp_source='km')\n",
    "mair_overpasses = load_overpass_summary(operator='Methane Air', stage=1, strict_discard=False, time_ave=60, gas_comp_source='km')\n",
    "cm_altitude = cm_overpasses.altitude_feet.mean()\n",
    "ghg_altitude = ghg_overpasses.altitude_feet.mean()\n",
    "kairos_altitude = kairos_overpasses.altitude_feet.mean()\n",
    "mair_altitude = mair_overpasses.altitude_feet.mean()\n",
    "print('Average overpass altitude (feet) across all reported overpasses:\\n')\n",
    "print(f'Carbon Mapper: {cm_altitude:,.1f} ft')\n",
    "print(f'GHGSat: {ghg_altitude:,.1f} ft')\n",
    "print(f'Kairos: {kairos_altitude:,.1f} ft')\n",
    "print(f'Methane Air: {mair_altitude:,.1f} ft')\n",
    "\n",
    "feet_per_meter = feet_per_meter()\n",
    "print('\\nAverage overpass altitude (meters) across all reported overpasses:\\n')\n",
    "op_alt = {\n",
    "    'Carbon Mapper': cm_altitude,\n",
    "    'GHGSat': ghg_altitude,\n",
    "    'Kairos': kairos_altitude,\n",
    "    'MethaneAIR': mair_altitude,\n",
    "}\n",
    "\n",
    "operators = ['Carbon Mapper', 'GHGSat', 'Kairos', 'MethaneAIR']\n",
    "\n",
    "for operator in operators:\n",
    "    alt_meters = op_alt[operator] / feet_per_meter\n",
    "    print(f'{operator}: {alt_meters:,.1f} meters')"
   ],
   "metadata": {
    "collapsed": false
   }
  },
  {
   "cell_type": "markdown",
   "source": [
    "##### Calculate average flight for each day of testing\n"
   ],
   "metadata": {
    "collapsed": false
   }
  },
  {
   "cell_type": "code",
   "execution_count": 10,
   "outputs": [
    {
     "name": "stdout",
     "output_type": "stream",
     "text": [
      "Carbon Mapper average daily altitude:\n",
      "\n",
      "           altitude_feet\n",
      "2022-10-10 10,372.2 feet\n",
      "2022-10-11 10,327.0 feet\n",
      "2022-10-12 10,218.8 feet\n",
      "2022-10-28 10,182.4 feet\n",
      "2022-10-29 10,373.5 feet\n",
      "2022-10-31 10,519.8 feet\n"
     ]
    }
   ],
   "source": [
    "from methods_source import calc_daily_altitude\n",
    "operator = 'Carbon Mapper'\n",
    "cm_alt = calc_daily_altitude(operator)\n",
    "print(f'{operator} average daily altitude:\\n')\n",
    "print(cm_alt.to_string(formatters={'altitude_feet':'{:,.1f} feet'.format}))"
   ],
   "metadata": {
    "collapsed": false
   }
  },
  {
   "cell_type": "code",
   "execution_count": 11,
   "outputs": [
    {
     "name": "stdout",
     "output_type": "stream",
     "text": [
      "GHGSat average daily altitude:\n",
      "\n",
      "           altitude_feet\n",
      "2022-10-31  6,565.1 feet\n",
      "2022-11-02  6,561.0 feet\n",
      "2022-11-04  6,575.5 feet\n",
      "2022-11-07  6,694.1 feet\n"
     ]
    }
   ],
   "source": [
    "operator = 'GHGSat'\n",
    "ghg_alt = calc_daily_altitude(operator)\n",
    "print(f'{operator} average daily altitude:\\n')\n",
    "print(ghg_alt.to_string(formatters={'altitude_feet':'{:,.1f} feet'.format}))"
   ],
   "metadata": {
    "collapsed": false
   }
  },
  {
   "cell_type": "code",
   "execution_count": 12,
   "outputs": [
    {
     "name": "stdout",
     "output_type": "stream",
     "text": [
      "Kairos average daily altitude:\n",
      "\n",
      "           altitude_feet\n",
      "2022-10-24  1,334.4 feet\n",
      "2022-10-25  1,317.9 feet\n",
      "2022-10-26  1,328.9 feet\n",
      "2022-10-27  1,389.3 feet\n",
      "2022-10-28  1,385.6 feet\n"
     ]
    }
   ],
   "source": [
    "operator = 'Kairos'\n",
    "kairos_alt = calc_daily_altitude(operator)\n",
    "print(f'{operator} average daily altitude:\\n')\n",
    "print(kairos_alt.to_string(formatters={'altitude_feet':'{:,.1f} feet'.format}))"
   ],
   "metadata": {
    "collapsed": false
   }
  },
  {
   "cell_type": "code",
   "execution_count": 13,
   "outputs": [
    {
     "name": "stdout",
     "output_type": "stream",
     "text": [
      "Methane Air average daily altitude:\n",
      "\n",
      "           altitude_feet\n",
      "2022-10-25 43,367.8 feet\n",
      "2022-10-29 43,780.9 feet\n"
     ]
    }
   ],
   "source": [
    "operator = 'Methane Air'\n",
    "mair_alt = calc_daily_altitude(operator)\n",
    "print(f'{operator} average daily altitude:\\n')\n",
    "print(mair_alt.to_string(formatters={'altitude_feet':'{:,.1f} feet'.format}))"
   ],
   "metadata": {
    "collapsed": false
   }
  },
  {
   "cell_type": "markdown",
   "source": [
    "### Overpasses that fail operator QC\n",
    "\n",
    "Carbon Mapper and Scientific Aviation both provided quantification estimates in a column in their report. Kairos and GHGSat did not. Because points that were detected but not quantified may be included in the probability of detection assessment, I examine these points individually here. Specifically, I look at points that are lower than 30 kgh and pass Stanford QC but fail operator QC.\n",
    "\n",
    "Operator QC for Carbon Mapper and SciAv referred to quantification, and this is not specified for Kairos or GHGSat. MAIR QC only indicates confidence in detection, but not quantification."
   ],
   "metadata": {
    "collapsed": false
   }
  },
  {
   "cell_type": "code",
   "execution_count": 14,
   "outputs": [
    {
     "name": "stdout",
     "output_type": "stream",
     "text": [
      "    overpass_id  release_rate_kgh  operator_detected\n",
      "2           3.0          8.638673               True\n",
      "7           8.0         35.006595               True\n",
      "22         23.0         26.001371               True\n",
      "36         37.0         42.147015               True\n",
      "40         41.0         29.358277               True\n",
      "46         47.0         14.418687               True\n"
     ]
    }
   ],
   "source": [
    "# Carbon Mapper points that fail QC - points currently excluded from probability of detection\n",
    "from methods_source import load_overpass_summary\n",
    "operator = 'Carbon Mapper'\n",
    "overpasses = load_overpass_summary(operator, stage=1)\n",
    "# Fail CM QC but pass stanford:\n",
    "# Which overpasses would be included in a probability of detection plot:\n",
    "columns = ['overpass_id','release_rate_kgh', 'operator_detected']\n",
    "detection_prob = (overpasses['qc_summary'] =='fail_operator') & (overpasses['release_rate_kgh'] <= 50)\n",
    "# detection_prob = (overpasses['qc_summary'] =='fail_operator')\n",
    "print(overpasses.loc[detection_prob][columns])\n",
    "\n"
   ],
   "metadata": {
    "collapsed": false
   }
  },
  {
   "cell_type": "markdown",
   "source": [
    "All four overpasses under 30 kgh were marked as detected by Carbon Mapper, but flagged as poor quality for quantification estimates. Exclude from analysis in the main text but include in SI. We were not aiming to flesh out a probability of detection for Carbon Mapper and thus are only including points that. ALl four of these points are also excluded in Stage 2 analysis, but overpasses 3 and 41 are re-added in Stage 3 (see below)."
   ],
   "metadata": {
    "collapsed": false
   }
  },
  {
   "cell_type": "code",
   "execution_count": 15,
   "outputs": [
    {
     "name": "stdout",
     "output_type": "stream",
     "text": [
      "    overpass_id  release_rate_kgh  operator_detected\n",
      "22         23.0         26.001371               True\n",
      "46         47.0         14.418687               True\n"
     ]
    }
   ],
   "source": [
    "# Compare with Stage 3\n",
    "operator = 'Carbon Mapper'\n",
    "overpasses = load_overpass_summary(operator, stage=3)\n",
    "# Fail CM QC but pass stanford:\n",
    "# Which overpasses would be included in a probability of detection plot:\n",
    "columns = ['overpass_id','release_rate_kgh', 'operator_detected']\n",
    "detection_prob = (overpasses['qc_summary'] =='fail_operator') & (overpasses['release_rate_kgh'] <= 30)\n",
    "# detection_prob = (overpasses['qc_summary'] =='fail_operator')\n",
    "print(overpasses.loc[detection_prob][columns])"
   ],
   "metadata": {
    "collapsed": false
   }
  },
  {
   "cell_type": "code",
   "execution_count": 16,
   "outputs": [
    {
     "name": "stdout",
     "output_type": "stream",
     "text": [
      "    overpass_id  release_rate_kgh  operator_detected\n",
      "82         83.0         25.209784              False\n"
     ]
    }
   ],
   "source": [
    "# GHGSat points that fail QC - points currently excluded from probability of detection\n",
    "from methods_source import load_overpass_summary\n",
    "operator = 'GHGSat'\n",
    "overpasses = load_overpass_summary(operator, stage=1)\n",
    "# Fail CM QC but pass stanford:\n",
    "# Which overpasses would be included in a probability of detection plot:\n",
    "columns = ['overpass_id','release_rate_kgh', 'operator_detected']\n",
    "detection_prob = (overpasses['qc_summary'] =='fail_operator') & (overpasses['release_rate_kgh'] <= 30)\n",
    "print(overpasses.loc[detection_prob][columns])"
   ],
   "metadata": {
    "collapsed": false
   }
  },
  {
   "cell_type": "markdown",
   "source": [
    "Overpass 83 was discarded by GHGSat due to bad weather. This indicates it should not be included in a probability of detection plot."
   ],
   "metadata": {
    "collapsed": false
   }
  },
  {
   "cell_type": "code",
   "execution_count": 17,
   "outputs": [
    {
     "name": "stdout",
     "output_type": "stream",
     "text": [
      "     overpass_id  release_rate_kgh  operator_detected\n",
      "14          15.0          3.414754              False\n",
      "60          61.0         14.098147              False\n",
      "61          62.0         14.046313              False\n",
      "312        313.0          5.507972              False\n"
     ]
    }
   ],
   "source": [
    "# Kairos points that fail QC - points currently excluded from probability of detection\n",
    "from methods_source import load_overpass_summary\n",
    "operator = 'Kairos'\n",
    "overpasses = load_overpass_summary(operator, stage=1)\n",
    "# Fail CM QC but pass stanford:\n",
    "# Which overpasses would be included in a probability of detectin plot:\n",
    "detection_prob = (overpasses['qc_summary'] =='fail_operator') & (overpasses['release_rate_kgh'] <= 30)\n",
    "columns = ['overpass_id','release_rate_kgh', 'operator_detected']\n",
    "print(overpasses.loc[detection_prob][columns])"
   ],
   "metadata": {
    "collapsed": false
   }
  },
  {
   "cell_type": "markdown",
   "source": [
    "Overpass ID:\n",
    "15 - flagged by Kairos as Partial Detection (KA-2)\n",
    "61 - flagged by Kairos as 'Excessive Methane Pooling Over Site' (KA-4)\n",
    "62 - flagged by Kairos as 'Excessive Methane Pooling Over Site' (KA-4)\n",
    "312 - flagged by Kairos as 'Excessive Methane Pooling Over Site' (KA-4)\n",
    "\n",
    "Based on this assessment, removing keeping all four overpasses from the probability of detection chart seems consistent with QC flags. Additionally, Kairos will indicate a non-detect by submitting 0 kgh as quantification estimate."
   ],
   "metadata": {
    "collapsed": false
   }
  },
  {
   "cell_type": "code",
   "execution_count": 18,
   "outputs": [
    {
     "name": "stdout",
     "output_type": "stream",
     "text": [
      "    overpass_id  release_rate_kgh  operator_detected\n",
      "2             3          7.095313               True\n",
      "7             8          0.000000              False\n",
      "10           11          4.062655               True\n",
      "12           13          3.773422               True\n",
      "13           14         12.467597              False\n",
      "14           15         27.088342               True\n",
      "15           16          0.000000              False\n"
     ]
    }
   ],
   "source": [
    "from methods_source import load_overpass_summary\n",
    "operator = 'Scientific Aviation'\n",
    "overpasses = load_overpass_summary(operator, stage=1)\n",
    "# detection_prob = (overpasses['qc_summary'] =='fail_operator') & (overpasses['release_rate_kgh'] <= 30)\n",
    "detection_prob = (overpasses['release_rate_kgh'] <= 30)\n",
    "columns = ['overpass_id','release_rate_kgh', 'operator_detected']\n",
    "print(overpasses.loc[detection_prob][columns])"
   ],
   "metadata": {
    "collapsed": false
   }
  },
  {
   "cell_type": "code",
   "execution_count": 18,
   "outputs": [],
   "source": [],
   "metadata": {
    "collapsed": false
   }
  },
  {
   "cell_type": "code",
   "execution_count": 18,
   "outputs": [],
   "source": [],
   "metadata": {
    "collapsed": false
   }
  }
 ],
 "metadata": {
  "kernelspec": {
   "display_name": "Python 3",
   "language": "python",
   "name": "python3"
  },
  "language_info": {
   "codemirror_mode": {
    "name": "ipython",
    "version": 2
   },
   "file_extension": ".py",
   "mimetype": "text/x-python",
   "name": "python",
   "nbconvert_exporter": "python",
   "pygments_lexer": "ipython2",
   "version": "2.7.6"
  }
 },
 "nbformat": 4,
 "nbformat_minor": 0
}