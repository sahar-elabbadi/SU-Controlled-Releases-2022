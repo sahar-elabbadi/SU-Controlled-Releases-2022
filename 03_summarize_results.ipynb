{
 "cells": [
  {
   "cell_type": "markdown",
   "source": [
    "# Summarize datasets for all operator results\n",
    "Code author: Sahar H. El Abbadi\n",
    "Date started: 2023-03-13\n",
    "Date last edited: 2023-03-17"
   ],
   "metadata": {
    "collapsed": false
   }
  },
  {
   "cell_type": "markdown",
   "source": [
    "## Generate summary tables\n",
    "\n",
    "Generate overpass summary tables for each operator. Overpass summary tables extract all relevant information from operator reports and metering data that is needed for downstream analysis. These tables are saved as CSV files in 03_results > overpass_summary, using the format operator_stage_overpasses.csv.\n",
    "\n",
    "Columns in the overpass summary tables are:\n",
    "- overpass_id: this is the ID for the specific aircraft overpass, and matches PerformerExperimentID overpass number in the raw operator data\n",
    "- overpass_datetime: date and time of overpass, in UTC time. This can be generated using the Flightradar GPS timestamp (timekeeper = 'flightradar'), Stanford's on the ground estimate of overhead time (timekeeper = 'stanford'), or using the timestamp according to the operator report (timekeeper = 'team'). Value used for all analysis is in paper is Flightradar\n",
    "- zero_release: True if the release by Stanford is 0 kgh, False if greater than 0 kgh\n",
    "- non_zero_release: True if release by Stanford is greater than 0 kgh, False if equal to 0 kgh\n",
    "- operator_kept: True if this overpass passed the operator QC criteria\n",
    "- stanford_kept: True if this overpass passed Stanford's QC criteria\n",
    "- phase_iii: True if we provided this overpass to the operator during Phase III of unblinding\n",
    "- pass_all_qc: True if passed both operator and Stanford QC\n",
    "- fail_all_qc: True if this overpass failed both operator and Stanford QC\n",
    "- operator_detected: True if operator detected a release. False if they did not\n",
    "- operator_quantification: operator's quantification estimate as reported in operator report\n",
    "- operator_lower: lower bound on operator's lower bound quantification estimate\n",
    "- operator_upper: upper bound on operator's quantification estimate\n",
    "- qc_summary: summarizes results of both operator and Stanford QC. Must be one of the following: 'pass_all', 'fail_stanford', 'fail_operator', 'fail_all'\n",
    "\n",
    "Note: due to the small number of data points for Scientific Aviation and the fact that they did not submit using a template, sciav_1_overpasses.csv was manually constructed by Sahar El Abbadi on 2023-03-16."
   ],
   "metadata": {
    "collapsed": false
   }
  },
  {
   "cell_type": "code",
   "execution_count": null,
   "outputs": [],
   "source": [
    "# Imports\n",
    "from methods_source import generate_all_overpass_reports"
   ],
   "metadata": {
    "collapsed": false
   }
  },
  {
   "cell_type": "code",
   "execution_count": null,
   "outputs": [],
   "source": [
    "\n",
    "generate_all_overpass_reports(strict_discard=False, timekeeper='flightradar', gas_comp_source='km', time_ave='60')\n",
    "generate_all_overpass_reports(strict_discard=True, timekeeper='flightradar', gas_comp_source='km', time_ave='60')"
   ],
   "metadata": {
    "collapsed": false,
    "pycharm": {
     "is_executing": true
    }
   }
  },
  {
   "cell_type": "markdown",
   "source": [
    "## Sanity checks on data\n",
    "\n",
    "Basic double checks on the data to make sure everything looks good"
   ],
   "metadata": {
    "collapsed": false
   }
  },
  {
   "cell_type": "markdown",
   "source": [
    "##### Number of overpasses\n",
    "\n",
    "Check that the length of the dataframe matches the highest overpass ID. This will flag the potential for missing or duplicate data in the summary file. Doing this check as we previously observed duplicate rows in the meter summary file."
   ],
   "metadata": {
    "collapsed": false
   }
  },
  {
   "cell_type": "code",
   "execution_count": null,
   "outputs": [],
   "source": [
    "# Check Carbon Mapper\n",
    "\n",
    "from methods_source import load_overpass_summary, check_overpass_number\n",
    "\n",
    "cm_overpasses = load_overpass_summary(operator='Carbon Mapper', stage=1, strict_discard=False, time_ave=60, gas_comp_source='km')\n",
    "cm_max_id = cm_overpasses.max()['overpass_id']\n",
    "cm_overpasses_length = len(cm_overpasses)\n",
    "check_overpass_number(operator='Carbon Mapper', max_overpass_id=cm_max_id, overpasses_length=cm_overpasses_length)"
   ],
   "metadata": {
    "collapsed": false,
    "pycharm": {
     "is_executing": true
    }
   }
  },
  {
   "cell_type": "code",
   "execution_count": null,
   "outputs": [],
   "source": [
    "# Check GHGSat data length\n",
    "\n",
    "from methods_source import load_overpass_summary, check_overpass_number\n",
    "\n",
    "ghg_overpasses = load_overpass_summary(operator='GHGSat', stage=1, strict_discard=False, time_ave=60, gas_comp_source='km')\n",
    "ghg_max_id = ghg_overpasses.max()['overpass_id']\n",
    "ghg_overpasses_length = len(ghg_overpasses)\n",
    "check_overpass_number(operator='GHGSat', max_overpass_id=ghg_max_id, overpasses_length=ghg_overpasses_length)"
   ],
   "metadata": {
    "collapsed": false,
    "pycharm": {
     "is_executing": true
    }
   }
  },
  {
   "cell_type": "code",
   "execution_count": null,
   "outputs": [],
   "source": [
    "# Check Kairos data length\n",
    "\n",
    "from methods_source import load_overpass_summary, check_overpass_number\n",
    "\n",
    "kairos_overpasses = load_overpass_summary(operator='Kairos', stage=1, strict_discard=False, time_ave=60, gas_comp_source='km')\n",
    "kairos_max_id = kairos_overpasses.max()['overpass_id']\n",
    "kairos_overpasses_length = len(kairos_overpasses)\n",
    "check_overpass_number(operator='Kairos', max_overpass_id=kairos_max_id, overpasses_length=kairos_overpasses_length)"
   ],
   "metadata": {
    "collapsed": false,
    "pycharm": {
     "is_executing": true
    }
   }
  },
  {
   "cell_type": "code",
   "execution_count": null,
   "outputs": [],
   "source": [
    "# Check Scientific Aviation data length\n",
    "\n",
    "from methods_source import load_overpass_summary, check_overpass_number\n",
    "\n",
    "sciav_overpasses = load_overpass_summary(operator='Scientific Aviation', stage=1, strict_discard=False,time_ave=60, gas_comp_source='km')\n",
    "sciav_max_id = sciav_overpasses.max()['overpass_id']\n",
    "sciav_overpasses_length = len(sciav_overpasses)\n",
    "check_overpass_number(operator='Scientific Aviation', max_overpass_id=sciav_max_id, overpasses_length=sciav_overpasses_length)"
   ],
   "metadata": {
    "collapsed": false,
    "pycharm": {
     "is_executing": true
    }
   }
  },
  {
   "cell_type": "code",
   "execution_count": null,
   "outputs": [],
   "source": [
    "# Check Methane Air\n",
    "\n",
    "from methods_source import load_overpass_summary, check_overpass_number\n",
    "\n",
    "mair_overpasses = load_overpass_summary(operator='Methane Air', stage=1, strict_discard=False, time_ave=60, gas_comp_source='km')\n",
    "mair_max_id = mair_overpasses.max()['overpass_id']\n",
    "mair_overpasses_length = len(mair_overpasses)\n",
    "check_overpass_number(operator='Methane Air', max_overpass_id=mair_max_id, overpasses_length=mair_overpasses_length)"
   ],
   "metadata": {
    "collapsed": false,
    "pycharm": {
     "is_executing": true
    }
   }
  },
  {
   "cell_type": "markdown",
   "source": [
    "##### Calculate average flight altitude across all reported overpasses\n",
    "\n",
    "Use \"altitude_feet\" column in overpass summary files"
   ],
   "metadata": {
    "collapsed": false
   }
  },
  {
   "cell_type": "code",
   "execution_count": null,
   "outputs": [],
   "source": [
    "from methods_source import load_overpass_summary\n",
    "\n",
    "cm_overpasses = load_overpass_summary(operator='Carbon Mapper', stage=1, strict_discard=False, time_ave=60, gas_comp_source='km')\n",
    "ghg_overpasses = load_overpass_summary(operator='GHGSat', stage=1, strict_discard=False, time_ave=60, gas_comp_source='km')\n",
    "kairos_overpasses = load_overpass_summary(operator='Kairos', stage=1, strict_discard=False, time_ave=60, gas_comp_source='km')\n",
    "mair_overpasses = load_overpass_summary(operator='Methane Air', stage=1, strict_discard=False, time_ave=60, gas_comp_source='km')\n",
    "cm_altitude = cm_overpasses.altitude_feet.mean()\n",
    "ghg_altitude = ghg_overpasses.altitude_feet.mean()\n",
    "kairos_altitude = kairos_overpasses.altitude_feet.mean()\n",
    "mair_altitude = mair_overpasses.altitude_feet.mean()\n",
    "print('Average overpass altitude (feet) across all reported overpasses:\\n')\n",
    "print(f'Carbon Mapper: {cm_altitude:,.1f} ft')\n",
    "print(f'GHGSat: {ghg_altitude:,.1f} ft')\n",
    "print(f'Kairos: {kairos_altitude:,.1f} ft')\n",
    "print(f'Methane Air: {mair_altitude:,.1f} ft')"
   ],
   "metadata": {
    "collapsed": false,
    "pycharm": {
     "is_executing": true
    }
   }
  },
  {
   "cell_type": "markdown",
   "source": [
    "##### Calculate average flight for each day of testing\n"
   ],
   "metadata": {
    "collapsed": false
   }
  },
  {
   "cell_type": "code",
   "execution_count": null,
   "outputs": [],
   "source": [
    "from methods_source import calc_daily_altitude\n",
    "operator = 'Carbon Mapper'\n",
    "cm_alt = calc_daily_altitude(operator)\n",
    "print(f'{operator} average daily altitude:\\n')\n",
    "print(cm_alt.to_string(formatters={'altitude_feet':'{:,.1f} feet'.format}))"
   ],
   "metadata": {
    "collapsed": false,
    "pycharm": {
     "is_executing": true
    }
   }
  },
  {
   "cell_type": "code",
   "execution_count": null,
   "outputs": [],
   "source": [
    "operator = 'GHGSat'\n",
    "ghg_alt = calc_daily_altitude(operator)\n",
    "print(f'{operator} average daily altitude:\\n')\n",
    "print(ghg_alt.to_string(formatters={'altitude_feet':'{:,.1f} feet'.format}))"
   ],
   "metadata": {
    "collapsed": false,
    "pycharm": {
     "is_executing": true
    }
   }
  },
  {
   "cell_type": "code",
   "execution_count": null,
   "outputs": [],
   "source": [
    "operator = 'Kairos'\n",
    "kairos_alt = calc_daily_altitude(operator)\n",
    "print(f'{operator} average daily altitude:\\n')\n",
    "print(kairos_alt.to_string(formatters={'altitude_feet':'{:,.1f} feet'.format}))"
   ],
   "metadata": {
    "collapsed": false,
    "pycharm": {
     "is_executing": true
    }
   }
  },
  {
   "cell_type": "code",
   "execution_count": null,
   "outputs": [],
   "source": [
    "operator = 'Methane Air'\n",
    "mair_alt = calc_daily_altitude(operator)\n",
    "print(f'{operator} average daily altitude:\\n')\n",
    "print(mair_alt.to_string(formatters={'altitude_feet':'{:,.1f} feet'.format}))"
   ],
   "metadata": {
    "collapsed": false,
    "pycharm": {
     "is_executing": true
    }
   }
  },
  {
   "cell_type": "markdown",
   "source": [
    "##### Summarize distribution of overpasses\n",
    "\n",
    "Total number of overpasses, missing data, max and min given to each team, number that passed Stanford QC\n",
    "\n",
    "Missing overpasses: documented as an overpass by Stanford, but not included in Operator Report file"
   ],
   "metadata": {
    "collapsed": false
   }
  },
  {
   "cell_type": "code",
   "execution_count": null,
   "outputs": [],
   "source": [
    "from methods_source import find_missing_data, load_overpass_summary\n",
    "# Carbon Mapper\n",
    "operator = 'Carbon Mapper'\n",
    "missing = find_missing_data(operator)\n",
    "print(f'{operator} missing overpasses: {len(missing)}')\n",
    "\n",
    "overpasses = load_overpass_summary(operator, stage=1)\n",
    "max_release_cols = ['release_rate_kgh', 'lower_95CI', 'upper_95CI', 'ch4_kgh_sigma', 'sigma_flow_variability', 'sigma_meter_reading', 'sigma_gas_composition']\n",
    "max_info = overpasses.loc[overpasses.release_rate_kgh.idxmax()][max_release_cols]\n",
    "print(f'Largest volume overpass for {operator}:')\n",
    "print(f'Release Rate: {max_info.release_rate_kgh:} kg CH4 / hr')\n",
    "print(f'[{max_info.lower_95CI}, {max_info.upper_95CI}, 95% CI]')\n",
    "print(f'(sigma from gas flow: {max_info.sigma_flow_variability:1f})')\n",
    "print(f'(sigma from meter: {max_info.sigma_meter_reading:1f})')\n",
    "print(f'(sigma from gas composition: {max_info.sigma_gas_composition:1f})')\n",
    "print(f'(combined total sigma: {max_info.ch4_kgh_sigma:1f})')\n",
    "\n",
    "\n",
    "\n"
   ],
   "metadata": {
    "collapsed": false,
    "pycharm": {
     "is_executing": true
    }
   }
  },
  {
   "cell_type": "code",
   "execution_count": null,
   "outputs": [],
   "source": [
    "print(overpasses)"
   ],
   "metadata": {
    "collapsed": false,
    "pycharm": {
     "is_executing": true
    }
   }
  },
  {
   "cell_type": "code",
   "execution_count": null,
   "outputs": [],
   "source": [],
   "metadata": {
    "collapsed": false,
    "pycharm": {
     "is_executing": true
    }
   }
  }
 ],
 "metadata": {
  "kernelspec": {
   "display_name": "Python 3",
   "language": "python",
   "name": "python3"
  },
  "language_info": {
   "codemirror_mode": {
    "name": "ipython",
    "version": 2
   },
   "file_extension": ".py",
   "mimetype": "text/x-python",
   "name": "python",
   "nbconvert_exporter": "python",
   "pygments_lexer": "ipython2",
   "version": "2.7.6"
  }
 },
 "nbformat": 4,
 "nbformat_minor": 0
}
