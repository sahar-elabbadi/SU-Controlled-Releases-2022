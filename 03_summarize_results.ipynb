{
 "cells": [
  {
   "cell_type": "markdown",
   "source": [
    "# Summarize datasets for all operator results\n",
    "Code author: Sahar H. El Abbadi\n",
    "Date started: 2023-03-13\n",
    "Date last edited: 2023-03-17"
   ],
   "metadata": {
    "collapsed": false
   }
  },
  {
   "cell_type": "markdown",
   "source": [
    "## Generate summary tables\n",
    "\n",
    "Generate overpass summary tables for each operator. Overpass summary tables extract all relevant information from operator reports and metering data that is needed for downstream analysis. These tables are saved as CSV files in 03_results > overpass_summary, using the format operator_stage_overpasses.csv.\n",
    "\n",
    "Columns in the overpass summary tables are:\n",
    "- overpass_id: this is the ID for the specific aircraft overpass, and matches PerformerExperimentID overpass number in the raw operator data\n",
    "- overpass_datetime: date and time of overpass, in UTC time. This can be generated using the Flightradar GPS timestamp (timekeeper = 'flightradar'), Stanford's on the ground estimate of overhead time (timekeeper = 'stanford'), or using the timestamp according to the operator report (timekeeper = 'team'). Value used for all analysis is in paper is Flightradar\n",
    "- zero_release: True if the release by Stanford is 0 kgh, False if greater than 0 kgh\n",
    "- non_zero_release: True if release by Stanford is greater than 0 kgh, False if equal to 0 kgh\n",
    "- operator_kept: True if this overpass passed the operator QC criteria\n",
    "- stanford_kept: True if this overpass passed Stanford's QC criteria\n",
    "- phase_iii: True if we provided this overpass to the operator during Phase III of unblinding\n",
    "- pass_all_qc: True if passed both operator and Stanford QC\n",
    "- fail_all_qc: True if this overpass failed both operator and Stanford QC\n",
    "- operator_detected: True if operator detected a release. False if they did not\n",
    "- operator_quantification: operator's quantification estimate as reported in operator report\n",
    "- operator_lower: lower bound on operator's lower bound quantification estimate\n",
    "- operator_upper: upper bound on operator's quantification estimate\n",
    "- qc_summary: summarizes results of both operator and Stanford QC. Must be one of the following: 'pass_all', 'fail_stanford', 'fail_operator', 'fail_all'\n",
    "\n",
    "Note: due to the small number of data points for Scientific Aviation and the fact that they did not submit using a template, sciav_1_overpasses.csv was manually constructed by Sahar El Abbadi on 2023-03-16."
   ],
   "metadata": {
    "collapsed": false
   }
  },
  {
   "cell_type": "code",
   "execution_count": 1,
   "outputs": [],
   "source": [
    "# Imports\n",
    "from methods_source import generate_all_overpass_reports"
   ],
   "metadata": {
    "collapsed": false
   }
  },
  {
   "cell_type": "code",
   "execution_count": 2,
   "outputs": [
    {
     "name": "stdout",
     "output_type": "stream",
     "text": [
      "Generating operator summary file for Carbon Mapper Stage 1\n",
      "Generating operator summary file for Carbon Mapper Stage 2\n",
      "Generating operator summary file for Carbon Mapper Stage 3\n",
      "Generating operator summary file for GHGSat Stage 1\n",
      "Generating operator summary file for GHGSat Stage 2\n",
      "Generating operator summary file for GHGSat Stage 3\n",
      "Generating operator summary file for Kairos Stage 1\n",
      "Generating operator summary file for Kairos Stage 2\n",
      "Generating operator summary file for Kairos Stage 3\n",
      "Generating operator summary file for Kairos LS23 Stage 1\n",
      "Generating operator summary file for Kairos LS23 Stage 2\n",
      "Generating operator summary file for Kairos LS23 Stage 3\n",
      "Generating operator summary file for Kairos LS25 Stage 1\n",
      "Generating operator summary file for Kairos LS25 Stage 2\n",
      "Generating operator summary file for Kairos LS25 Stage 3\n",
      "Generating operator summary file for Methane Air Stage 1\n",
      "Generating operator summary file for Carbon Mapper Stage 1\n",
      "Generating operator summary file for Carbon Mapper Stage 2\n",
      "Generating operator summary file for Carbon Mapper Stage 3\n",
      "Generating operator summary file for GHGSat Stage 1\n",
      "Generating operator summary file for GHGSat Stage 2\n",
      "Generating operator summary file for GHGSat Stage 3\n",
      "Generating operator summary file for Kairos Stage 1\n",
      "Generating operator summary file for Kairos Stage 2\n",
      "Generating operator summary file for Kairos Stage 3\n",
      "Generating operator summary file for Kairos LS23 Stage 1\n",
      "Generating operator summary file for Kairos LS23 Stage 2\n",
      "Generating operator summary file for Kairos LS23 Stage 3\n",
      "Generating operator summary file for Kairos LS25 Stage 1\n",
      "Generating operator summary file for Kairos LS25 Stage 2\n",
      "Generating operator summary file for Kairos LS25 Stage 3\n",
      "Generating operator summary file for Methane Air Stage 1\n"
     ]
    }
   ],
   "source": [
    "\n",
    "generate_all_overpass_reports(strict_discard=False, timekeeper='flightradar', gas_comp_source='km', time_ave='60')\n",
    "generate_all_overpass_reports(strict_discard=True, timekeeper='flightradar', gas_comp_source='km', time_ave='60')\n",
    "\n",
    "#SciAv Overpass Summary was manually created"
   ],
   "metadata": {
    "collapsed": false
   }
  },
  {
   "cell_type": "markdown",
   "source": [
    "## Sanity checks on data\n",
    "\n",
    "Basic double checks on the data to make sure everything looks good"
   ],
   "metadata": {
    "collapsed": false
   }
  },
  {
   "cell_type": "markdown",
   "source": [
    "##### Number of overpasses\n",
    "\n",
    "Check that the length of the dataframe matches the highest overpass ID. This will flag the potential for missing or duplicate data in the summary file. Doing this check as we previously observed duplicate rows in the meter summary file."
   ],
   "metadata": {
    "collapsed": false
   }
  },
  {
   "cell_type": "code",
   "execution_count": 5,
   "outputs": [
    {
     "name": "stdout",
     "output_type": "stream",
     "text": [
      "The length of the Carbon Mapper overpasses dataframe (121) matches the highest value for overpass_id (121).\n"
     ]
    }
   ],
   "source": [
    "# Check Carbon Mapper\n",
    "\n",
    "from methods_source import load_overpass_summary, check_overpass_number\n",
    "\n",
    "cm_overpasses = load_overpass_summary(operator='Carbon Mapper', stage=1, strict_discard=False, time_ave=60, gas_comp_source='km')\n",
    "cm_max_id = cm_overpasses.max()['overpass_id']\n",
    "cm_overpasses_length = len(cm_overpasses)\n",
    "check_overpass_number(operator='Carbon Mapper', max_overpass_id=cm_max_id, overpasses_length=cm_overpasses_length)"
   ],
   "metadata": {
    "collapsed": false
   }
  },
  {
   "cell_type": "code",
   "execution_count": 6,
   "outputs": [
    {
     "name": "stdout",
     "output_type": "stream",
     "text": [
      "The length of the GHGSat overpasses dataframe (192) matches the highest value for overpass_id (192).\n"
     ]
    }
   ],
   "source": [
    "# Check GHGSat\n",
    "\n",
    "from methods_source import load_overpass_summary, check_overpass_number\n",
    "\n",
    "ghg_overpasses = load_overpass_summary(operator='GHGSat', stage=1, strict_discard=False, time_ave=60, gas_comp_source='km')\n",
    "ghg_max_id = ghg_overpasses.max()['overpass_id']\n",
    "ghg_overpasses_length = len(ghg_overpasses)\n",
    "check_overpass_number(operator='GHGSat', max_overpass_id=ghg_max_id, overpasses_length=ghg_overpasses_length)"
   ],
   "metadata": {
    "collapsed": false
   }
  },
  {
   "cell_type": "code",
   "execution_count": 7,
   "outputs": [
    {
     "name": "stdout",
     "output_type": "stream",
     "text": [
      "The length of the Kairos overpasses dataframe (349) matches the highest value for overpass_id (349).\n"
     ]
    }
   ],
   "source": [
    "# Check Kairos\n",
    "\n",
    "from methods_source import load_overpass_summary, check_overpass_number\n",
    "\n",
    "kairos_overpasses = load_overpass_summary(operator='Kairos', stage=1, strict_discard=False, time_ave=60, gas_comp_source='km')\n",
    "kairos_max_id = kairos_overpasses.max()['overpass_id']\n",
    "kairos_overpasses_length = len(kairos_overpasses)\n",
    "check_overpass_number(operator='Kairos', max_overpass_id=kairos_max_id, overpasses_length=kairos_overpasses_length)"
   ],
   "metadata": {
    "collapsed": false
   }
  },
  {
   "cell_type": "code",
   "execution_count": 3,
   "outputs": [
    {
     "name": "stdout",
     "output_type": "stream",
     "text": [
      "The length of the Scientific Aviation overpasses dataframe (18) matches the highest value for overpass_id (18).\n"
     ]
    }
   ],
   "source": [
    "# Check Scientific Aviation\n",
    "\n",
    "from methods_source import load_overpass_summary, check_overpass_number\n",
    "\n",
    "sciav_overpasses = load_overpass_summary(operator='Scientific Aviation', stage=1, strict_discard=False,time_ave=60, gas_comp_source='km')\n",
    "sciav_max_id = sciav_overpasses.max()['overpass_id']\n",
    "sciav_overpasses_length = len(sciav_overpasses)\n",
    "check_overpass_number(operator='Scientific Aviation', max_overpass_id=sciav_max_id, overpasses_length=sciav_overpasses_length)"
   ],
   "metadata": {
    "collapsed": false
   }
  },
  {
   "cell_type": "code",
   "execution_count": 9,
   "outputs": [
    {
     "name": "stdout",
     "output_type": "stream",
     "text": [
      "The length of the Methane Air overpasses dataframe (24) matches the highest value for overpass_id (24).\n"
     ]
    }
   ],
   "source": [
    "# Check Methane Air\n",
    "\n",
    "from methods_source import load_overpass_summary, check_overpass_number\n",
    "\n",
    "mair_overpasses = load_overpass_summary(operator='Methane Air', stage=1, strict_discard=False, time_ave=60, gas_comp_source='km')\n",
    "mair_max_id = mair_overpasses.max()['overpass_id']\n",
    "mair_overpasses_length = len(mair_overpasses)\n",
    "check_overpass_number(operator='Methane Air', max_overpass_id=mair_max_id, overpasses_length=mair_overpasses_length)"
   ],
   "metadata": {
    "collapsed": false
   }
  },
  {
   "cell_type": "markdown",
   "source": [
    "##### Calculate average flight altitude across all reported overpasses\n",
    "\n",
    "Use \"altitude_feet\" column in overpass summary files"
   ],
   "metadata": {
    "collapsed": false
   }
  },
  {
   "cell_type": "code",
   "execution_count": 10,
   "outputs": [
    {
     "name": "stdout",
     "output_type": "stream",
     "text": [
      "Average overpass altitude (feet) across all reported overpasses:\n",
      "\n",
      "Carbon Mapper: 10,341.6 ft\n",
      "GHGSat: 6,594.9 ft\n",
      "Kairos: 1,351.4 ft\n",
      "Methane Air: 43,591.6 ft\n"
     ]
    }
   ],
   "source": [
    "from methods_source import load_overpass_summary\n",
    "\n",
    "cm_overpasses = load_overpass_summary(operator='Carbon Mapper', stage=1, strict_discard=False, time_ave=60, gas_comp_source='km')\n",
    "ghg_overpasses = load_overpass_summary(operator='GHGSat', stage=1, strict_discard=False, time_ave=60, gas_comp_source='km')\n",
    "kairos_overpasses = load_overpass_summary(operator='Kairos', stage=1, strict_discard=False, time_ave=60, gas_comp_source='km')\n",
    "cm_altitude = cm_overpasses.altitude_feet.mean()\n",
    "ghg_altitude = ghg_overpasses.altitude_feet.mean()\n",
    "kairos_altitude = kairos_overpasses.altitude_feet.mean()\n",
    "mair_altitude = mair_overpasses.altitude_feet.mean()\n",
    "print('Average overpass altitude (feet) across all reported overpasses:\\n')\n",
    "print(f'Carbon Mapper: {cm_altitude:,.1f} ft')\n",
    "print(f'GHGSat: {ghg_altitude:,.1f} ft')\n",
    "print(f'Kairos: {kairos_altitude:,.1f} ft')\n",
    "print(f'Methane Air: {mair_altitude:,.1f} ft')"
   ],
   "metadata": {
    "collapsed": false
   }
  },
  {
   "cell_type": "markdown",
   "source": [
    "##### Calculate average flight for each day of testing\n"
   ],
   "metadata": {
    "collapsed": false
   }
  },
  {
   "cell_type": "code",
   "execution_count": 11,
   "outputs": [
    {
     "name": "stdout",
     "output_type": "stream",
     "text": [
      "Carbon Mapper average daily altitude:\n",
      "\n",
      "           altitude_feet\n",
      "2022-10-10 10,372.2 feet\n",
      "2022-10-11 10,327.0 feet\n",
      "2022-10-12 10,218.8 feet\n",
      "2022-10-28 10,182.4 feet\n",
      "2022-10-29 10,373.5 feet\n",
      "2022-10-31 10,519.8 feet\n"
     ]
    }
   ],
   "source": [
    "from methods_source import calc_daily_altitude\n",
    "operator = 'Carbon Mapper'\n",
    "cm_alt = calc_daily_altitude(operator)\n",
    "print(f'{operator} average daily altitude:\\n')\n",
    "print(cm_alt.to_string(formatters={'altitude_feet':'{:,.1f} feet'.format}))"
   ],
   "metadata": {
    "collapsed": false
   }
  },
  {
   "cell_type": "code",
   "execution_count": 12,
   "outputs": [
    {
     "name": "stdout",
     "output_type": "stream",
     "text": [
      "GHGSat average daily altitude:\n",
      "\n",
      "           altitude_feet\n",
      "2022-10-31  6,565.1 feet\n",
      "2022-11-02  6,561.0 feet\n",
      "2022-11-04  6,575.5 feet\n",
      "2022-11-07  6,694.1 feet\n"
     ]
    }
   ],
   "source": [
    "operator = 'GHGSat'\n",
    "ghg_alt = calc_daily_altitude(operator)\n",
    "print(f'{operator} average daily altitude:\\n')\n",
    "print(ghg_alt.to_string(formatters={'altitude_feet':'{:,.1f} feet'.format}))"
   ],
   "metadata": {
    "collapsed": false
   }
  },
  {
   "cell_type": "code",
   "execution_count": 13,
   "outputs": [
    {
     "name": "stdout",
     "output_type": "stream",
     "text": [
      "Kairos average daily altitude:\n",
      "\n",
      "           altitude_feet\n",
      "2022-10-24  1,334.4 feet\n",
      "2022-10-25  1,317.9 feet\n",
      "2022-10-26  1,328.9 feet\n",
      "2022-10-27  1,389.3 feet\n",
      "2022-10-28  1,385.6 feet\n"
     ]
    }
   ],
   "source": [
    "operator = 'Kairos'\n",
    "kairos_alt = calc_daily_altitude(operator)\n",
    "print(f'{operator} average daily altitude:\\n')\n",
    "print(kairos_alt.to_string(formatters={'altitude_feet':'{:,.1f} feet'.format}))"
   ],
   "metadata": {
    "collapsed": false
   }
  },
  {
   "cell_type": "code",
   "execution_count": 14,
   "outputs": [
    {
     "name": "stdout",
     "output_type": "stream",
     "text": [
      "Methane Air average daily altitude:\n",
      "\n",
      "           altitude_feet\n",
      "2022-10-25 43,367.8 feet\n",
      "2022-10-29 43,780.9 feet\n"
     ]
    }
   ],
   "source": [
    "operator = 'Methane Air'\n",
    "mair_alt = calc_daily_altitude(operator)\n",
    "print(f'{operator} average daily altitude:\\n')\n",
    "print(mair_alt.to_string(formatters={'altitude_feet':'{:,.1f} feet'.format}))"
   ],
   "metadata": {
    "collapsed": false
   }
  }
 ],
 "metadata": {
  "kernelspec": {
   "display_name": "Python 3",
   "language": "python",
   "name": "python3"
  },
  "language_info": {
   "codemirror_mode": {
    "name": "ipython",
    "version": 2
   },
   "file_extension": ".py",
   "mimetype": "text/x-python",
   "name": "python",
   "nbconvert_exporter": "python",
   "pygments_lexer": "ipython2",
   "version": "2.7.6"
  }
 },
 "nbformat": 4,
 "nbformat_minor": 0
}
